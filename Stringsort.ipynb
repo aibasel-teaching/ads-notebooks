{
 "cells": [
  {
   "cell_type": "markdown",
   "metadata": {},
   "source": [
    "# Strings"
   ]
  },
  {
   "cell_type": "markdown",
   "metadata": {},
   "source": [
    "## Die Hilfsklasse Alphabet"
   ]
  },
  {
   "cell_type": "markdown",
   "metadata": {},
   "source": [
    "In Python (und Java) sind Strings als Arrays Unicode Charactern implementiert. \n",
    "Das heisst, das Alphabet kann über 1'000'000 unterschiedliche Zeichen unterscheiden. \n",
    "Bei vielen Anwendungen nutzen wir aber nur einen kleinen Teil dieses Alphabets. Da auch die Speicherkomplexität vieler Algorithmen von der Grösse des Alphabets abhängt, macht es Sinn, dieses zu beschränken. Dazu definieren wir uns die Klasse Alphabet."
   ]
  },
  {
   "cell_type": "code",
   "execution_count": null,
   "metadata": {},
   "outputs": [],
   "source": [
    "class Alphabet:\n",
    "    \n",
    "    # Ein Objekt wird durch die im Alphabet zur Verfügung stehenden\n",
    "    # Zeichen definiert (welche in der Liste chars mitgegeben wird)\n",
    "    def __init__(self, chars):\n",
    "        \n",
    "        # In der Symboltabelle alphabet wird zu jedem Zeichen die \n",
    "        # Position im Alphabet gespeichert\n",
    "        self._alphabet=dict()\n",
    "        \n",
    "        # Im Array Inverse wird zu jeder gegebenen Position im Alphabet\n",
    "        # der entsprechende Buchstabe gespeichert\n",
    "        self._inverse = [None]*len(chars)        \n",
    "                \n",
    "        for (i, c) in enumerate(chars):\n",
    "            self._alphabet[c] = i\n",
    "            self._inverse[i] = c\n",
    "    \n",
    "    # Gibt den zum gegebenen Index gehörenden Buchstaben zurück\n",
    "    def toChar(self, index):\n",
    "        return self._inverse[index]\n",
    "        \n",
    "    # Gibt den Index (Position im Alphabet) des Buchstabens zurück\n",
    "    def toIndex(self, char):\n",
    "        return self._alphabet[char]\n",
    "    \n",
    "    # True, falls der Buchstabe char im Alphabet enthalten ist\n",
    "    def contains(self, char):\n",
    "        return self._alphabet.contains(char)\n",
    "\n",
    "    # Anzahl Zeichen im Alphabet\n",
    "    def radix(self):\n",
    "        return len(self._inverse)\n",
    "    \n",
    "    "
   ]
  },
  {
   "cell_type": "markdown",
   "metadata": {},
   "source": [
    "Mithilfe der Alphabet Abstraktion können wir uns nun die wichtigsten Alphabete, mit denen wir im folgenden Arbeiten werden, einfach definieren. "
   ]
  },
  {
   "cell_type": "code",
   "execution_count": null,
   "metadata": {},
   "outputs": [],
   "source": [
    "lowercase = Alphabet(\"abcdefghijklmnopqrstuvwxyz\")\n",
    "uppercase = Alphabet(\"ABCDEFGHIJKLMNOPQRSTUVWXYZ\")\n",
    "basicAscii = Alphabet([chr(i) for i in range(0, 128)])\n",
    "DNA = Alphabet(\"ACGT\")"
   ]
  },
  {
   "cell_type": "markdown",
   "metadata": {},
   "source": [
    "Für jedes Alphabet muss die Konsistenzbedingung gelten, dass die Methoden ```toChar``` die Inverse Methode von ```toIndex``` ist, im Sinne, dass ```toIndex(toChar(i))``` jeweils wieder den Index ```i``` ergibt.  "
   ]
  },
  {
   "cell_type": "code",
   "execution_count": null,
   "metadata": {},
   "outputs": [],
   "source": [
    "def conversionProperty(alphabet):\n",
    "    for i in range(0, alphabet.radix()):\n",
    "        assert(alphabet.toIndex(alphabet.toChar(i)) == i)\n",
    "\n",
    "conversionProperty(DNA)\n"
   ]
  },
  {
   "cell_type": "markdown",
   "metadata": {},
   "source": [
    "## LSD Sort"
   ]
  },
  {
   "cell_type": "markdown",
   "metadata": {},
   "source": [
    "Eine einfache Sortiermethode für Strings ist das LSD-Sortierverfahren (siehe Slides für detaillierte Erklärungen). \n",
    "Wir nutzen hier die oben eingeführte Alphabet Abstraktion. Die Implementation macht die Annahme, dass alle Strings dieselbe Länge haben. "
   ]
  },
  {
   "cell_type": "code",
   "execution_count": null,
   "metadata": {},
   "outputs": [],
   "source": [
    "def lsdSort(a, alphabet = basicAscii):\n",
    "    \n",
    "    # Annahme, alle Strings haben dieselbe Länge\n",
    "    for x in a:  \n",
    "        assert(len(x) == len(a[0]))\n",
    "\n",
    "    numDigits = len(a[0])\n",
    "        \n",
    "    N = len(a)\n",
    "    aux = [None] * N\n",
    "    \n",
    "    d = numDigits - 1\n",
    "    while d >= 0:\n",
    "        \n",
    "        count = [0] * (alphabet.radix() + 1)\n",
    "        \n",
    "        for i in range(0, N):\n",
    "            indexOfcharAtPosdInA = alphabet.toIndex(a[i][d])\n",
    "            count[indexOfcharAtPosdInA + 1] += 1\n",
    "        \n",
    "        for r in range(0, alphabet.radix()):\n",
    "            count[r+1] += count[r]\n",
    "        \n",
    "        for i in range(0, N):\n",
    "            indexOfCharAtPosdInA = alphabet.toIndex(a[i][d])\n",
    "            countForChar = count[indexOfCharAtPosdInA]\n",
    "            aux[countForChar] = a[i]\n",
    "            count[indexOfCharAtPosdInA] += 1\n",
    "        \n",
    "        # zurückkopieren\n",
    "        for i in range(0, N):\n",
    "            a[i] = aux[i]\n",
    "\n",
    "        d -= 1\n",
    "            "
   ]
  },
  {
   "cell_type": "markdown",
   "metadata": {},
   "source": [
    "Wir testen unsere Implementation mit einem einfachen Testfall:"
   ]
  },
  {
   "cell_type": "code",
   "execution_count": null,
   "metadata": {},
   "outputs": [],
   "source": [
    "xs = [\"th\", \"ar\", \"tw\", \"ty\", \"of\", \"mi\"]\n",
    "lsdSort(xs)\n",
    "print(xs)"
   ]
  },
  {
   "cell_type": "markdown",
   "metadata": {},
   "source": [
    "*Übung:*  Testen Sie weitere Testfälle. Funktioniert die Implementation auch mit allen Grenzfällen? (Leere Liste, bereits sortierte Sequenzen, ...)"
   ]
  },
  {
   "cell_type": "markdown",
   "metadata": {},
   "source": [
    "## 3-Weg Quicksort für Strings"
   ]
  },
  {
   "cell_type": "markdown",
   "metadata": {},
   "source": [
    "Im folgenden zeigen wir, wie wir den 3-Weg String Quicksort aus dem Standard Quicksort Algorithmus herleiten können. \n",
    "Da es hier nur darum geht das Prinzip zu illustrieren nutzen wir hier eine vereinfachte Version von Quicksort in der Herleitung. Diese Vereinfachte Version verfolgt dasselbe Prinzip wie der richtige Quicksort Algorithmus, ist aber sehr ineffizient und nicht inplace, wie das richtige Quicksort Verfahren. Sie sollten das Verfahren so also nie in der Praxis einsetzten. "
   ]
  },
  {
   "cell_type": "markdown",
   "metadata": {},
   "source": [
    "Zuerst zeigen wir hier wie der Quicksort Algorithmus in dieser vereinfachten Form implementiert werden kann."
   ]
  },
  {
   "cell_type": "markdown",
   "metadata": {},
   "source": [
    "Die Funktion ```partition``` partitioniert die Elemente in der Liste xs in zwei Teile, die die kleiner als das Pivotelement sind und die die Grösser oder gleich dem Pivotelement sind."
   ]
  },
  {
   "cell_type": "code",
   "execution_count": null,
   "metadata": {},
   "outputs": [],
   "source": [
    "def partition(a, pivot):\n",
    "    smaller = []\n",
    "    largerOrEqual = []\n",
    "    for x in a:\n",
    "        if x < pivot:\n",
    "            smaller.append(x)\n",
    "        else:\n",
    "            largerOrEqual.append(x)\n",
    "    return (smaller, largerOrEqual)"
   ]
  },
  {
   "cell_type": "markdown",
   "metadata": {},
   "source": [
    "Der eigentliche Algorithmus lässt sich dann in dieser sehr intuitiven Form hinschreiben:"
   ]
  },
  {
   "cell_type": "code",
   "execution_count": null,
   "metadata": {},
   "outputs": [],
   "source": [
    "def quicksortSimplified(a):\n",
    "    if len(a) <= 1:\n",
    "        return a\n",
    "    \n",
    "    pivot = a[0]\n",
    "    (smaller, larger) = partition(a[1:], pivot)     \n",
    "    return quicksortSimplified(smaller)  + [pivot] + quicksortSimplified(larger)"
   ]
  },
  {
   "cell_type": "code",
   "execution_count": null,
   "metadata": {},
   "outputs": [],
   "source": [
    "testdata = [\"zebra\", \"bison\", \"dachs\", \"kuh\", \"zebra\", \"kuh\"]\n",
    "quicksortSimplified(testdata)"
   ]
  },
  {
   "cell_type": "markdown",
   "metadata": {},
   "source": [
    "Als nächstes führen wir den 3-Weg Quicksort ein. Dabei wird das Array nicht nur in zwei Teile partitioniert, sondern in 3. Die Elemente die kleiner sind, die die grösser sind, sowie die, die gleich sind. "
   ]
  },
  {
   "cell_type": "code",
   "execution_count": null,
   "metadata": {},
   "outputs": [],
   "source": [
    "def partition3Ways(a, pivot):\n",
    "    smaller = []\n",
    "    equal = []\n",
    "    larger = []\n",
    "    for x in a:\n",
    "        if x < pivot:\n",
    "            smaller.append(x)\n",
    "        elif x == pivot:\n",
    "            equal.append(x)\n",
    "        else:\n",
    "            larger.append(x)\n",
    "    return (smaller, equal, larger)"
   ]
  },
  {
   "cell_type": "markdown",
   "metadata": {},
   "source": [
    "Die Strategie bleibt dieselbe: Wir sortieren einfach die einzelnen Teilarrays. Beachte aber, dass wir jetzt das Pivot Element nicht mehr separat hinzufügen, sondern dass dies im ```equal``` Teilarray enthalten ist. "
   ]
  },
  {
   "cell_type": "code",
   "execution_count": null,
   "metadata": {},
   "outputs": [],
   "source": [
    "def quicksort3WaySimplified(a):\n",
    "    if len(a) <= 1:\n",
    "        return a\n",
    "    \n",
    "    pivot = a[0]\n",
    "    (smaller, equal, larger) = partition3Ways(a, pivot)  \n",
    "    return quicksort3WaySimplified(smaller) \\\n",
    "            + equal   \\\n",
    "            + quicksort3WaySimplified(larger)"
   ]
  },
  {
   "cell_type": "markdown",
   "metadata": {},
   "source": [
    "Dieser Algorithmus hat klare Vorteile, wenn wir viele redundante Elemente in der Liste haben, da diese dann im nächsten rekursiven Aufruf nicht mehr mitgeführt werden."
   ]
  },
  {
   "cell_type": "code",
   "execution_count": null,
   "metadata": {},
   "outputs": [],
   "source": [
    "testdata = [\"zebra\", \"bison\", \"dachs\", \"kuh\", \"zebra\", \"kuh\"]\n",
    "quicksort3WaySimplified(testdata)"
   ]
  },
  {
   "cell_type": "markdown",
   "metadata": {},
   "source": [
    "Diese sehr einfache Idee können wir uns zunutze machen, wenn wir Strings sortieren. Die idee ist, dass wir am Anfang nur das erste Zeichen anschauen (d.h. das Pivot Element ist das erste Zeichen vom ersten String), und anhand dessen sortieren. Dabei wird es viele Strings geben, die mit demselben Buchstaben anfangen. Diese sortieren wir dann rekursiv nach dem zweiten Buchstaben, etc. Bei allen anderen weiss man bereits nach dem Vergleich ob diese kleiner oder grösser dem Pivot Element sind. "
   ]
  },
  {
   "cell_type": "markdown",
   "metadata": {},
   "source": [
    "Um diese Strategie umzusetzen, fügen wir als erstes eine Hilfsfunktion ein, die uns für einen gegebenen string ```s``` und eine Position ```d``` das Zeichen an dieser Position zurückgibt. Falls ```d``` über das Ende vom String zeigt, wird das kleinste Zeichen im Alphabet zurückgegeben. Dank dieser Funktion können wir Strings unterschiedlicher Länge alle gleich behandeln."
   ]
  },
  {
   "cell_type": "code",
   "execution_count": null,
   "metadata": {},
   "outputs": [],
   "source": [
    "def charAt(s, d):\n",
    "    if (d < len(s)):\n",
    "        return s[d]\n",
    "    else:\n",
    "        return chr(0)"
   ]
  },
  {
   "cell_type": "markdown",
   "metadata": {},
   "source": [
    "Die Partitionierungsfunktion nimmt jetzt zusätzlich als Argument die Position im String ```d```, die bestimmt, welches Zeichen verglichen wird"
   ]
  },
  {
   "cell_type": "code",
   "execution_count": null,
   "metadata": {},
   "outputs": [],
   "source": [
    "def partition3WaysString(a, pivot, d):\n",
    "    smaller = []\n",
    "    equal = []\n",
    "    larger = []\n",
    "    \n",
    "    charPivot = charAt(pivot, d)\n",
    "    for x in a:\n",
    "        charX = charAt(x, d)\n",
    "        if charX < charPivot:\n",
    "            smaller.append(x)\n",
    "        elif charX == charPivot:\n",
    "            equal.append(x)\n",
    "        else:\n",
    "            larger.append(x)\n",
    "    return (smaller, equal, larger)"
   ]
  },
  {
   "cell_type": "markdown",
   "metadata": {},
   "source": [
    "Im Gegensatz zum Standard 3-Weg Quicksort haben wir nun 3 rekursive Aufrufe. Nämlich müssen wir nun zusätzlich auch weitersortieren, wenn das Zeichen an Position ```d``` gleich wie das Zeichen im Pivotelement war. In diesem Fall müssen wir dann nach dem Zeichen an der Position ```d+1``` sortieren. "
   ]
  },
  {
   "cell_type": "code",
   "execution_count": null,
   "metadata": {},
   "outputs": [],
   "source": [
    "\n",
    "def quicksortStringSimplified(a, d):\n",
    "    \n",
    "    if len(a) <= 1 or d > len(a[0]):\n",
    "        return a\n",
    "    pivot = a[0]\n",
    "        \n",
    "    (smaller, equal, larger) = partition3WaysString(a, pivot, d)  \n",
    "    \n",
    "    return quicksortStringSimplified(smaller, d) \\\n",
    "            + quicksortStringSimplified(equal, d + 1) \\\n",
    "            + quicksortStringSimplified(larger, d)"
   ]
  },
  {
   "cell_type": "markdown",
   "metadata": {},
   "source": [
    "Im folgenden testen wir unsere Implementation mit einem einfachen Testfall:"
   ]
  },
  {
   "cell_type": "code",
   "execution_count": null,
   "metadata": {},
   "outputs": [],
   "source": [
    "xs = [\"th\",\"ti\", \"ha\", \"co\", \"fo\", \"al\", \"me\", \"to\", \"ri\", \"to\", \"th\", \"ch\", \"th\", \"is\", \"at\", \"ha\"]\n",
    "quicksortStringSimplified(xs, 0)"
   ]
  },
  {
   "cell_type": "markdown",
   "metadata": {},
   "source": [
    "Die richtige (also nicht vereinfachte) Version von Quicksort für Strings funktioniert nach genau demselben Prinzip. Die Teilarrays werden hier einfach durch geschicktes setzen der hi und lo pointer definiert, wie in der frühreren Vorlesung besprochen. "
   ]
  },
  {
   "cell_type": "code",
   "execution_count": null,
   "metadata": {},
   "outputs": [],
   "source": [
    "def quicksort3WayInplace(a):\n",
    "    return quicksort3WayInplace_aux(a, 0, len(a) -1, 0)\n",
    "\n",
    "def quicksort3WayInplace_aux(a, lo, hi, d):  \n",
    "    if hi <= lo:\n",
    "        return\n",
    "    \n",
    "    (lt, gt) = (lo, hi) \n",
    "    pivot = charAt(a[lo], d);\n",
    "    i = lo + 1;\n",
    "    \n",
    "    while i <= gt:\n",
    "        t = charAt(a[i], d);\n",
    "        if t < pivot:\n",
    "            a[lt], a[i] = a[i], a[lt] \n",
    "            lt += 1\n",
    "            i += 1 \n",
    "        elif t > pivot: \n",
    "            a[i], a[gt] = a[gt], a[i]\n",
    "            gt -= 1\n",
    "        else:\n",
    "            i += 1\n",
    "            \n",
    "    quicksort3WayInplace_aux(a, lo, lt-1, d);\n",
    "    if (pivot > chr(0)): quicksort3WayInplace_aux(a, lt, gt, d+1);\n",
    "    quicksort3WayInplace_aux(a, gt+1, hi, d);    "
   ]
  },
  {
   "cell_type": "markdown",
   "metadata": {},
   "source": [
    "Beim Aufruf müssen wir beachten, den Index für ```lo```, ```hi``` und ```d``` richtig zu setzen. (In der Praxis würden wir dem Benutzer natürlich eine zusätzliche Funktion zur Verfügung stellen, die dies automatisch macht). "
   ]
  },
  {
   "cell_type": "code",
   "execution_count": null,
   "metadata": {},
   "outputs": [],
   "source": [
    "xs = [\"th\",\"ti\", \"ha\", \"co\", \"fo\", \"al\", \"me\", \"to\", \"ri\", \"to\", \"th\", \"ch\", \"th\", \"is\", \"at\", \"ha\"]\n",
    "quicksort3WayInplace(xs)\n",
    "print(xs)"
   ]
  },
  {
   "cell_type": "markdown",
   "metadata": {},
   "source": [
    "## Experimente"
   ]
  },
  {
   "cell_type": "markdown",
   "metadata": {},
   "source": [
    "Wir können nun die Algorithmen vergleichen. Unter anderem sind folgende Experimente interessant:\n",
    "\n",
    "* Wie unterscheidet sich der Aufwand der Algorithmen auf zufälligen Strings\n",
    "* Was passiert wenn die Strings lange gemeinsame Präfixe haben\n",
    "* Wie beeinflusst die Grösse des Alphabets die Performance"
   ]
  },
  {
   "cell_type": "markdown",
   "metadata": {},
   "source": [
    "Dafür brauchen wir eine Hilfsfunktion ```randomString```, die uns erlaubt zufällige Testdaten mit den gewünschten Eigenschaften zu generieren. "
   ]
  },
  {
   "cell_type": "code",
   "execution_count": null,
   "metadata": {},
   "outputs": [],
   "source": [
    "import random\n",
    "\n",
    "def randomString(alphabet, n, commonPrefix=\"\"):  \n",
    "    s = commonPrefix\n",
    "    for i in range(0, n):\n",
    "        r = random.randint(0, alphabet.radix() -1)\n",
    "        s += alphabet.toChar(r)\n",
    "    return s\n",
    "    "
   ]
  },
  {
   "cell_type": "code",
   "execution_count": null,
   "metadata": {},
   "outputs": [],
   "source": [
    "aLongPrefix = randomString(basicAscii, 1)\n",
    "randomStrings = [randomString(basicAscii, 300) for i in range(0, 1000)]\n"
   ]
  },
  {
   "cell_type": "markdown",
   "metadata": {},
   "source": [
    "Nun können wir die Laufzeit beider Algorithmen vergleichen."
   ]
  },
  {
   "cell_type": "code",
   "execution_count": null,
   "metadata": {},
   "outputs": [],
   "source": [
    "from timeit import timeit\n",
    "print(\"quicksort: \", timeit(lambda : quicksort3WayInplace(randomStrings), number=100))\n",
    "print(\"lsd: \", timeit(lambda : lsdSort(randomStrings), number=100))\n",
    "\n"
   ]
  },
  {
   "cell_type": "markdown",
   "metadata": {},
   "source": [
    "##### Übung: \n",
    "\n",
    "* Experimentieren Sie mit Strings zufälliger Länge und vergleichen Sie die Laufzeit. Varieren Sie auch die Länge des gemeinsamen Präfix\n",
    "\n"
   ]
  },
  {
   "cell_type": "code",
   "execution_count": null,
   "metadata": {},
   "outputs": [],
   "source": []
  }
 ],
 "metadata": {
  "anaconda-cloud": {},
  "kernelspec": {
   "display_name": "Python 3",
   "language": "python",
   "name": "python3"
  },
  "language_info": {
   "codemirror_mode": {
    "name": "ipython",
    "version": 3
   },
   "file_extension": ".py",
   "mimetype": "text/x-python",
   "name": "python",
   "nbconvert_exporter": "python",
   "pygments_lexer": "ipython3",
   "version": "3.7.4"
  }
 },
 "nbformat": 4,
 "nbformat_minor": 1
}
