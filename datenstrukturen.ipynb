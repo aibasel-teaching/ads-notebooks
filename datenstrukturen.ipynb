{
 "cells": [
  {
   "cell_type": "markdown",
   "id": "cbc2e498",
   "metadata": {},
   "source": [
    "# Datenstrukturen - Motivationsbeispiel"
   ]
  },
  {
   "cell_type": "markdown",
   "id": "af27c3fe",
   "metadata": {},
   "source": [
    "In diesem Notebook zeigen wir, dass die Wahl der richtigen Datenstruktur die Laufzeit unserer Programme massgeblich beeinflussen kann. Die Details der verwendeten Datenstrukturen, und weshalb das Resultat zustande kommt, ist an dieser Stelle noch unwesentlich. Wir werden das später in der Vorlesung detailliert untersuchen. "
   ]
  },
  {
   "cell_type": "markdown",
   "id": "f8eaa0c1",
   "metadata": {},
   "source": [
    "### Beispiel: Implementation einer WorkQueue"
   ]
  },
  {
   "cell_type": "markdown",
   "id": "f0585abf",
   "metadata": {},
   "source": [
    "Ein typisches Muster in vielen Anwendungen ist, dass zwei oder mehrere Prozesse parallel arbeiten. Dabei erzeugt der eine Prozess Resultate, die dann von einem weiteren Prozess weiterverarbeitet werden. Die Arbeit zwischen den Prozessen wird dann mithilfe eines Zwischenspeichers, einer sogenannten *WorkQueue* synchronisiert. Wenn immer ein Resultat bereit ist, wird dies in die *WorkQueue* geschrieben. Der Prozess, der die Resultate verarbeitet, arbeitet dann einfach alle in dieser Queue vorhandenen Resultate ab. "
   ]
  },
  {
   "cell_type": "markdown",
   "id": "954a74b2",
   "metadata": {},
   "source": [
    "Wir zeigen zwei einfache Implementationen einer solchen WorkQueue. In der ersten verwenden wir Listen, in der zweiten eine spezielle Datenstruktur in Python, nämlich eine *DoubleEndedQueue (Deque)*."
   ]
  },
  {
   "cell_type": "code",
   "execution_count": 58,
   "id": "7d133fb8",
   "metadata": {},
   "outputs": [],
   "source": [
    "class WorkQueueWithList:\n",
    "    \n",
    "    def __init__(self):\n",
    "        self.items = []\n",
    "        \n",
    "    def add_work(self, work):\n",
    "        self.items.insert(0, work)\n",
    "        \n",
    "    def get_work(self):\n",
    "        return self.pop()\n",
    "    \n",
    "    def is_empty(self):\n",
    "        return "
   ]
  },
  {
   "cell_type": "code",
   "execution_count": 60,
   "id": "8cd39255",
   "metadata": {},
   "outputs": [],
   "source": [
    "from collections import deque  \n",
    "class WorkQueueWithDeque:\n",
    "    \n",
    "    def __init__(self):\n",
    "        self.items = deque()\n",
    "        \n",
    "    def add_work(self, work):\n",
    "        self.items.appendleft(work)\n",
    "        \n",
    "    def get_work(self):\n",
    "        return self.popRight()\n",
    "    \n",
    "    def is_empty(self):\n",
    "        return len(self.items) == 0"
   ]
  },
  {
   "cell_type": "markdown",
   "id": "38629a95",
   "metadata": {},
   "source": [
    "Wir sehen, dass die Implementation mit beiden Datenstrukturen gleich einfach ist. In der Tat ist die Implementation mit der Liste sogar etwas einfacher, da wir auf den Import verzichten können. \n",
    "Gibt es also einen Grund eine der Implementationen zu bevorzugen?\n",
    "\n",
    "Um diese Frage zu beantworten, schreiben wir ein Testprogramm, welche Resultate in diese Queue schreibt und dann wieder  konsumiert. "
   ]
  },
  {
   "cell_type": "code",
   "execution_count": 61,
   "id": "70d18f96",
   "metadata": {},
   "outputs": [],
   "source": [
    "def work(work_queue): \n",
    "    for i in range(0, 200000):\n",
    "        work_queue.add_work(i)\n",
    "    \n",
    "    while not work_queue.is_empty:\n",
    "        work_queue.get_work()\n",
    "        # do something\n"
   ]
  },
  {
   "cell_type": "markdown",
   "id": "66ffacf6",
   "metadata": {},
   "source": [
    "Wir können dieses Programm nun mit jeder der WorkQueues laufen lassen und die Zeit messen, die wir für die Ausführung brauchen. "
   ]
  },
  {
   "cell_type": "code",
   "execution_count": 62,
   "id": "27df304b",
   "metadata": {},
   "outputs": [
    {
     "name": "stdout",
     "output_type": "stream",
     "text": [
      "Time using WorkQueueWithDeque:  0.027806300000065676\n"
     ]
    }
   ],
   "source": [
    "import timeit\n",
    "\n",
    "start = timeit.default_timer()\n",
    "work(WorkQueueWithDeque())\n",
    "stop = timeit.default_timer()\n",
    "\n",
    "print(\"Time using WorkQueueWithDeque: \", stop - start)  "
   ]
  },
  {
   "cell_type": "code",
   "execution_count": 63,
   "id": "3ab451a4",
   "metadata": {},
   "outputs": [
    {
     "name": "stdout",
     "output_type": "stream",
     "text": [
      "Time using WorkQueueWithList:  9.55412780000006\n"
     ]
    }
   ],
   "source": [
    "import timeit\n",
    "\n",
    "start = timeit.default_timer()\n",
    "work(WorkQueueWithList())\n",
    "stop = timeit.default_timer()\n",
    "\n",
    "print(\"Time using WorkQueueWithList: \", stop - start)  "
   ]
  },
  {
   "cell_type": "markdown",
   "id": "0b5c5e90",
   "metadata": {},
   "source": [
    "Wie wir sehen, macht es einen gewaltigen Unterschied, welche Datenstruktur wir nutzen. Wenn wir uns einfach auf die in Python mitgelieferte Listen Datenstruktur verlassen, dann wird unser Programm sehr ineffizient. Wenn wir aber eine, für diese Aufgabe, geeignete Datensturkur, wie die *deque* verwenden, können wir diese Aufgabe sehr effizient lösen. "
   ]
  }
 ],
 "metadata": {
  "kernelspec": {
   "display_name": "Python 3 (ipykernel)",
   "language": "python",
   "name": "python3"
  },
  "language_info": {
   "codemirror_mode": {
    "name": "ipython",
    "version": 3
   },
   "file_extension": ".py",
   "mimetype": "text/x-python",
   "name": "python",
   "nbconvert_exporter": "python",
   "pygments_lexer": "ipython3",
   "version": "3.9.7"
  }
 },
 "nbformat": 4,
 "nbformat_minor": 5
}
