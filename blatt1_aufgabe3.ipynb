{
 "cells": [
  {
   "cell_type": "code",
   "execution_count": null,
   "id": "43e8da21",
   "metadata": {},
   "outputs": [],
   "source": [
    "def merge_sort(array, use_merge_improvement=False,\n",
    "               use_insertion_sort=False, use_role_swap=False):\n",
    "    \"\"\"Merge sort (with optimizations)\"\"\"\n",
    "    tmp_array = list(array)\n",
    "    \n",
    "    merge_sort_aux(array, tmp_array, 0, len(array) - 1, use_merge_improvement,\n",
    "                   use_insertion_sort, use_role_swap)\n",
    "    return array\n"
   ]
  },
  {
   "cell_type": "code",
   "execution_count": null,
   "id": "476583e0",
   "metadata": {},
   "outputs": [],
   "source": [
    "def merge_sort_aux(array_from, array_to, lo, hi,\n",
    "                   use_merge_improvement=False,\n",
    "                   use_insertion_sort=False,\n",
    "                   use_role_swap=False):\n",
    "    if hi <= lo:\n",
    "        return\n",
    "\n",
    "    mid = lo + (hi - lo) // 2\n",
    "    merge_sort_aux(array_from, array_to, lo, mid, use_merge_improvement, use_insertion_sort, use_role_swap)\n",
    "    merge_sort_aux(array_from, array_to, mid + 1, hi, use_merge_improvement, use_insertion_sort, use_role_swap)\n",
    "\n",
    "    merge(array_from, array_to, lo, mid, hi, use_merge_improvement, use_role_swap)\n"
   ]
  },
  {
   "cell_type": "code",
   "execution_count": null,
   "id": "eab1512d",
   "metadata": {},
   "outputs": [],
   "source": [
    "def merge(array_from, array_to, lo, mid, hi,\n",
    "          use_merge_improvement=False, use_role_swap=False):\n",
    "    \n",
    "    i = lo\n",
    "    j = mid + 1\n",
    "    for k in range(lo, hi + 1):  # k = lo,...,hi\n",
    "        if j > hi or (i <= mid and array_from[i] <= array_from[j]):\n",
    "            array_to[k] = array_from[i]\n",
    "            i += 1\n",
    "        else:\n",
    "            array_to[k] = array_from[j]\n",
    "            j += 1\n",
    "    for k in range(lo, hi + 1):  # k = lo,...,hi\n",
    "        array_from[k] = array_to[k]"
   ]
  },
  {
   "cell_type": "code",
   "execution_count": null,
   "id": "4d309368",
   "metadata": {},
   "outputs": [],
   "source": [
    "# Sortiere array im Bereich lo bis hi mit Insertionsort\n",
    "def insertion_sort(array, lo, hi):\n",
    "    for i in range(lo, hi+1):\n",
    "        val = array[i]\n",
    "        j = i\n",
    "        while j > lo and array[j - 1] > val:\n",
    "            array[j] = array[j - 1]\n",
    "            j -= 1\n",
    "        array[j] = val"
   ]
  },
  {
   "cell_type": "markdown",
   "id": "ccb656f5",
   "metadata": {},
   "source": [
    "Ein einfaches Beispiel, das Sie verwenden können, die Korrektheit ihrer Implementierung mit verschiedenen aktivierten Verbesserungen zu testen (versuchen Sie in jedem Fall use_swap in Kombination mit den anderen beiden Verbesserungen)."
   ]
  },
  {
   "cell_type": "code",
   "execution_count": null,
   "id": "e42cab77",
   "metadata": {},
   "outputs": [],
   "source": [
    "# hier ggf. ändern, um andere Konfigurationen zu testen\n",
    "use_merge_improvement = True\n",
    "use_insertion_sort = True\n",
    "use_role_swap = True\n",
    "\n",
    "test = [6, 2, 5, 8, 4, 5, 2, 4, 12, 3, 2, 5]\n",
    "merge_sort(test, use_merge_improvement, use_insertion_sort, use_role_swap)"
   ]
  },
  {
   "cell_type": "markdown",
   "id": "6bc3d744",
   "metadata": {},
   "source": [
    "# Aufgabenteil d"
   ]
  },
  {
   "cell_type": "markdown",
   "id": "dad7db90",
   "metadata": {},
   "source": [
    "Folgender Code enthält die Implementierung für die Experimente in Teil d. Sie können die Details ignorieren und einfach die Aufrufe weiter unten verwenden."
   ]
  },
  {
   "cell_type": "code",
   "execution_count": null,
   "id": "e0dcbb0d",
   "metadata": {},
   "outputs": [],
   "source": [
    "%matplotlib inline\n",
    "\n",
    "import matplotlib.pyplot as plt\n",
    "import random\n",
    "import timeit\n",
    "\n",
    "\n",
    "def sort_all_test_instances(test_instances, use_merge_improvement=False,\n",
    "        use_insertion_sort=False, use_role_swap=False):\n",
    "    \"\"\"Hilfsfunktion für die Experimente.\n",
    "\n",
    "    Sortiert alle test_instances mit merge_sort und den gegebenen Parametern\n",
    "    für die verschiedenen Verbesserungen.\n",
    "    \"\"\"\n",
    "    for array in test_instances:\n",
    "        a = list(array) # copy to not change the instance for the next run\n",
    "        merge_sort(a, use_merge_improvement, use_insertion_sort, use_role_swap)\n",
    "\n",
    "        \n",
    "def run_experiment(instance_creator):\n",
    "    \"\"\"Führe ein komplettes Experiment durch.\n",
    "\n",
    "    Die Testarrays werden von instance_creator erstellt.\n",
    "    \"\"\"\n",
    "\n",
    "    # Wir generieren zunächst Arrays verschiedener Grösse, und zwar von\n",
    "    # min_size bis max_size mit jeweils Abstand step. Für jede Grösse erstellen\n",
    "    # wir instances_per_size viele zufällige Arrays, mit der in\n",
    "    # instance_creator gegebenen Methode.\n",
    "    min_size = 10000\n",
    "    max_size = 20000\n",
    "    step = 2000\n",
    "    instances_per_size = 2\n",
    "\n",
    "    test_instances = dict()\n",
    "    for size in range(min_size, max_size + 1, step):\n",
    "        test_instances[size] = []\n",
    "        for num in range(instances_per_size):\n",
    "            array = instance_creator(size)\n",
    "            test_instances[size].append(array)\n",
    "\n",
    "    results = dict()\n",
    "\n",
    "    # Interne Hilfsfunktion, die eine Konfiguraiton auf allen Instanzen laufen\n",
    "    # lässt, die Zeiten misst und sammelt.\n",
    "    def collect_data(use_merge_improvement=False, use_insertion_sort=False,\n",
    "                     use_role_swap=False):\n",
    "        print(\"Collecting data for merge sort with parameters\",\n",
    "              \"use_merge_improvement =\", use_merge_improvement,\n",
    "              \"use_insertion_sort =\", use_insertion_sort,\n",
    "              \"use_role_swap =\", use_role_swap)\n",
    "\n",
    "        times = []\n",
    "        for n in range(min_size, max_size + 1, step):\n",
    "            cmd = (f\"sort_all_test_instances(test_instances[{n}],\" +\n",
    "                   f\"use_merge_improvement={use_merge_improvement},\" +\n",
    "                   f\"use_insertion_sort={use_insertion_sort},\"+\n",
    "                   f\"use_role_swap={use_role_swap})\")\n",
    "            # Wir lassen die Konfiguration dreimal laufen und verwenden die\n",
    "            # beste Zeit (um die Ergebnisse stabiler zu halten). Da\n",
    "            # sort_all_test_instances schon instances_per_size viele Durchläufe\n",
    "            # umfasst, machen wir darüber hinaus nur zehn Wiederholungen in\n",
    "            # timeit.\n",
    "            t = timeit.repeat(lambda:\n",
    "                              sort_all_test_instances(test_instances[n],\n",
    "                                  use_merge_improvement, use_insertion_sort,\n",
    "                                  use_role_swap),\n",
    "                              repeat=3, number=10, globals=globals())\n",
    "            times.append(min(t)/(10*instances_per_size))\n",
    "            print(\"size\", n, \"took\", min(t)/(10*instances_per_size),\n",
    "                  \"seconds on average\")\n",
    "        results[(use_merge_improvement, use_insertion_sort, use_role_swap)] = times\n",
    "\n",
    "\n",
    "    collect_data(use_merge_improvement=True)\n",
    "    collect_data(use_insertion_sort=True)\n",
    "    collect_data(use_role_swap=True)\n",
    "    collect_data(use_merge_improvement=True, use_insertion_sort=True,\n",
    "                 use_role_swap=True)\n",
    "    collect_data()\n",
    "\n",
    "\n",
    "    xdata =  list(range(min_size, max_size + 1, step))\n",
    "    plt.plot(xdata, results[(False, False, False)], marker=\"o\", ls=\"-\",\n",
    "            label=\"ohne Verbesserung\")\n",
    "    plt.plot(xdata, results[(True, False, False)], marker=\"o\", ls=\"-\",\n",
    "            label=\"merge improvement\")\n",
    "    plt.plot(xdata, results[(False, True, False)], marker=\"o\", ls=\"-\",\n",
    "            label=\"insertion sort\")\n",
    "    plt.plot(xdata, results[(False, False, True)], marker=\"o\", ls=\"-\",\n",
    "            label=\"role swap\")\n",
    "    plt.plot(xdata, results[(True, True, True)], marker=\"o\",\n",
    "            label=\"alle Verbesserungen\")\n",
    "    plt.legend(loc=\"upper left\")\n",
    "    plt.xlabel(\"Eingabegrösse\")\n",
    "    plt.ylabel(\"Sekunden\")\n",
    "    plt.show()\n"
   ]
  },
  {
   "cell_type": "markdown",
   "id": "c5b3add0",
   "metadata": {},
   "source": [
    "Die folgenden Methoden werden zum Estellen eines zufälligen Arrays der gegebenen Grösse mit bestimmten Eigenschaften verwendet."
   ]
  },
  {
   "cell_type": "code",
   "execution_count": null,
   "id": "5b305c50",
   "metadata": {},
   "outputs": [],
   "source": [
    "# lauter unterschiedliche Einträge in zufälliger Reihenfolge\n",
    "def random_unique(size):\n",
    "    array = list(range(size))\n",
    "    random.shuffle(array)\n",
    "    return array\n",
    "\n",
    "# zufällige Einträge aus 10 möglichen Werten\n",
    "def few_different_values(size):\n",
    "    return list(random.randrange(10) for i in range(size))\n",
    "\n",
    "# wir beginnen mit einem sortierten Array, wählen Länge/10 mal\n",
    "# zwei zufällige Positionen und tauschen ihren Inhalt.\n",
    "def almost_sorted(size):\n",
    "    array = list(range(size))\n",
    "    for iteration in range(size//10):\n",
    "        i = random.randrange(size)\n",
    "        j = random.randrange(size)\n",
    "        array[i], array[j] = array[j], array[i]\n",
    "    return array\n"
   ]
  },
  {
   "cell_type": "markdown",
   "id": "8309f4eb",
   "metadata": {},
   "source": [
    "Das erste Experiment führen wir mit den zufälligen Testarrays durch, die unterschiedliche Einträge enthalten (Achtung, das kann eine Weile dauern). Sie können hier erst sinnvolle Messungen durchführen, wenn Sie Aufgaben a-c bearbeitet haben."
   ]
  },
  {
   "cell_type": "code",
   "execution_count": null,
   "id": "b6280342",
   "metadata": {},
   "outputs": [],
   "source": [
    "run_experiment(random_unique)"
   ]
  },
  {
   "cell_type": "markdown",
   "id": "71194afc",
   "metadata": {},
   "source": [
    "Im nächsten Experiment betrachten wir Arrays mit vielen Duplikaten."
   ]
  },
  {
   "cell_type": "code",
   "execution_count": null,
   "id": "e3e540e4",
   "metadata": {},
   "outputs": [],
   "source": [
    "run_experiment(few_different_values)"
   ]
  },
  {
   "cell_type": "markdown",
   "id": "21e8005a",
   "metadata": {},
   "source": [
    "Und ein letztes Experiment mit vorsortierten Arrays..."
   ]
  },
  {
   "cell_type": "code",
   "execution_count": null,
   "id": "40eb0398",
   "metadata": {},
   "outputs": [],
   "source": [
    "run_experiment(almost_sorted)"
   ]
  }
 ],
 "metadata": {
  "kernelspec": {
   "display_name": "Python3.8-extras",
   "language": "python",
   "name": "python3.8_extras"
  },
  "language_info": {
   "codemirror_mode": {
    "name": "ipython",
    "version": 3
   },
   "file_extension": ".py",
   "mimetype": "text/x-python",
   "name": "python",
   "nbconvert_exporter": "python",
   "pygments_lexer": "ipython3",
   "version": "3.8.13"
  }
 },
 "nbformat": 4,
 "nbformat_minor": 5
}
