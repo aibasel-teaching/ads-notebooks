{
 "cells": [
  {
   "cell_type": "markdown",
   "metadata": {},
   "source": [
    "# Heaps, Heapsort and ADT Priority Queue"
   ]
  },
  {
   "cell_type": "markdown",
   "metadata": {},
   "source": [
    "### Helper function to display an array as a nearly complete binary tree"
   ]
  },
  {
   "cell_type": "markdown",
   "metadata": {},
   "source": [
    "Every 1-indexed array can be interpreted as a nearly complete binary tree and vice versa. Since python lists are 0-indexed arrays, we simply assume that position 0 is not used (ignore it).\n",
    "\n",
    "The following code introduces a helper function `show_array_as_tree(a, N)` that takes an array `a` as input and depicts the elements `a[1]`, ..., `a[N]` as a tree. It is not necessary that you understand the internals of this function."
   ]
  },
  {
   "cell_type": "code",
   "execution_count": null,
   "metadata": {},
   "outputs": [],
   "source": [
    "import networkx as nx\n",
    "import matplotlib\n",
    "import matplotlib.pyplot as plt\n",
    "import math\n",
    "\n",
    "def _build_graph(g, a, k, x_pos, N):\n",
    "    height = math.floor(math.log(N+1, 2)) # Height of the tree\n",
    "    depth = math.floor(math.log(k, 2)) # Depth of the current node k\n",
    "    if k > N:\n",
    "        return\n",
    "    else:\n",
    "        y = (height - depth)\n",
    "        g.add_node(k, pos=(x_pos, y), label=str(a[k]))\n",
    "        if k > 1: g.add_edge(k, k // 2)\n",
    "        _build_graph(g, a, k * 2 , x_pos - 2**(height - depth), N)\n",
    "        _build_graph(g, a, k * 2 + 1, x_pos + 2**(height - depth),  N)\n",
    "        \n",
    "    \n",
    "def show_array_as_tree(a, N=None):\n",
    "    if N is None:\n",
    "        N = len(a) - 1\n",
    "    g = nx.Graph()\n",
    "    _build_graph(g, a, 1, len(a) / 2 + 1, N)\n",
    "    pos=nx.get_node_attributes(g,'pos')\n",
    "    labels = nx.get_node_attributes(g, 'label')\n",
    "    \n",
    "    nx.draw_networkx_nodes(g, pos, node_size=1000, node_color='#00b4d9')\n",
    "    nx.draw_networkx_edges(g, pos)\n",
    "    nx.draw_networkx_labels(g, pos, labels)\n",
    "    plt.show()"
   ]
  },
  {
   "cell_type": "code",
   "execution_count": null,
   "metadata": {},
   "outputs": [],
   "source": [
    "show_array_as_tree([None, 1, 2, 3, 4, 5, 6, 7, 8, 9])"
   ]
  },
  {
   "cell_type": "markdown",
   "metadata": {},
   "source": [
    "## Heaps"
   ]
  },
  {
   "cell_type": "markdown",
   "metadata": {},
   "source": [
    "#### Helper functions sink and swim"
   ]
  },
  {
   "cell_type": "markdown",
   "metadata": {},
   "source": [
    "We first introduce a number of helper functions that we will later use when creating a heap, inserting an element and removing the largest element."
   ]
  },
  {
   "cell_type": "code",
   "execution_count": null,
   "metadata": {},
   "outputs": [],
   "source": [
    "def left(i):\n",
    "    return 2 * i\n",
    "    \n",
    "def right(i):\n",
    "    return 2 * i + 1\n",
    "    \n",
    "def parent(i):\n",
    "    return i // 2"
   ]
  },
  {
   "cell_type": "markdown",
   "metadata": {},
   "source": [
    "Function `sink` lets an entry with a too small key recursively \"float down\" into the subtree (which must be a heap) with the larger key at its root. Parameter `heap_size` allows us to indicate that the actual heap in `heap` only reaches to position `heap_size` and the other positions should be ignored."
   ]
  },
  {
   "cell_type": "code",
   "execution_count": null,
   "metadata": {},
   "outputs": [],
   "source": [
    "def sink(heap, i, heap_size=None):\n",
    "    if heap_size is None:\n",
    "        heap_size = len(heap) - 1\n",
    "\n",
    "    l = left(i)\n",
    "    r = right(i)\n",
    "\n",
    "    if l <= heap_size and heap[l] > heap[i]:\n",
    "        largest = l\n",
    "    else:\n",
    "        largest = i\n",
    "    if r <= heap_size and heap[r] > heap[largest]:\n",
    "        largest = r\n",
    "    if largest != i:\n",
    "        heap[i], heap[largest] = heap[largest], heap[i]\n",
    "        sink(heap, largest, heap_size)"
   ]
  },
  {
   "cell_type": "code",
   "execution_count": null,
   "metadata": {},
   "outputs": [],
   "source": [
    "almost_max_heap = [None, 9, 2, 8, 7, 6, 4, 3, 1, 5, 4] \n",
    "show_array_as_tree(almost_max_heap)\n",
    "# entry 2 at position 2 violates the heap property"
   ]
  },
  {
   "cell_type": "code",
   "execution_count": null,
   "metadata": {},
   "outputs": [],
   "source": [
    "sink(almost_max_heap, 2)\n",
    "show_array_as_tree(almost_max_heap)"
   ]
  },
  {
   "cell_type": "markdown",
   "metadata": {},
   "source": [
    "Function `swim` lets an entry with a too large key float up in a tree that is otherwise a heap."
   ]
  },
  {
   "cell_type": "code",
   "execution_count": null,
   "metadata": {},
   "outputs": [],
   "source": [
    "def swim(heap, i):\n",
    "    parent_index = parent(i)\n",
    "    # as long as i is not the root and the parent\n",
    "    # of i has a smaller key than i\n",
    "    while i > 1 and heap[parent_index] < heap[i]:\n",
    "        # swap the entries of nodes i and its parent\n",
    "        heap[parent_index], heap[i] = heap[i], heap[parent_index]\n",
    "        \n",
    "        # continue floating up the entry from the parent\n",
    "        i = parent_index\n",
    "        parent_index = parent(i)"
   ]
  },
  {
   "cell_type": "markdown",
   "metadata": {},
   "source": [
    "Let's try the function:"
   ]
  },
  {
   "cell_type": "code",
   "execution_count": null,
   "metadata": {},
   "outputs": [],
   "source": [
    "almost_max_heap = [None, 9, 7, 8, 5, 6, 4, 3, 1, 10, 4]\n",
    "show_array_as_tree(almost_max_heap)\n",
    "# entry 10 at position 9 violates the heap property"
   ]
  },
  {
   "cell_type": "code",
   "execution_count": null,
   "metadata": {},
   "outputs": [],
   "source": [
    "swim(almost_max_heap, 9)\n",
    "show_array_as_tree(almost_max_heap)"
   ]
  },
  {
   "cell_type": "markdown",
   "metadata": {},
   "source": [
    "#### Building a heap\n",
    "We can use `sink` to transform any array into a max-heap in a\n",
    "bottom-up fashion, processing all nodes from the second-lowest\n",
    "layer up to the root."
   ]
  },
  {
   "cell_type": "code",
   "execution_count": null,
   "metadata": {},
   "outputs": [],
   "source": [
    "def build_max_heap(array):\n",
    "    heap_size = len(array) - 1\n",
    "\n",
    "    # all elements from positions heap_size//2 + 1\n",
    "    # to heap_size are leaves of the tree.\n",
    "    for i in range(heap_size//2, 0, -1):\n",
    "        # print(i)\n",
    "        # show_array_as_tree(array)\n",
    "        sink(array, i, heap_size)\n"
   ]
  },
  {
   "cell_type": "code",
   "execution_count": null,
   "metadata": {},
   "outputs": [],
   "source": [
    "array = [None, 3, 5, 7, 12, 4, 0, 9, 14, 6]\n",
    "build_max_heap(array)\n",
    "show_array_as_tree(array)"
   ]
  },
  {
   "cell_type": "markdown",
   "metadata": {},
   "source": [
    "#### Retreiving and removing the largest element\n",
    "\n",
    "It is trivial to determine the largest element in a max-heap because it will always be found at the root:"
   ]
  },
  {
   "cell_type": "code",
   "execution_count": null,
   "metadata": {},
   "outputs": [],
   "source": [
    "def max_heap_maximum(heap, heap_size):\n",
    "    if heap_size < 1:\n",
    "        raise Exception(\"determining maximum element from empty heap\")\n",
    "    else:\n",
    "        return heap[1]"
   ]
  },
  {
   "cell_type": "code",
   "execution_count": null,
   "metadata": {},
   "outputs": [],
   "source": [
    "# Example\n",
    "array = [None, 3, 5, 7, 12, 4, 0, 9, 14, 6]\n",
    "build_max_heap(array)\n",
    "max_heap_maximum(array, len(array)-1)"
   ]
  },
  {
   "cell_type": "markdown",
   "metadata": {},
   "source": [
    "If we want to remove the maximum, we fill the position with the\n",
    "bottom-right element and restore the heap property with sink\n",
    "on position 1."
   ]
  },
  {
   "cell_type": "code",
   "execution_count": null,
   "metadata": {},
   "outputs": [],
   "source": [
    "def max_heap_extract_max(heap, heap_size):\n",
    "    if heap_size is None:\n",
    "        heap_size = len(heap) - 1\n",
    "    maximum = max_heap_maximum(heap, heap_size)\n",
    "    heap[1] = heap[heap_size]\n",
    "    sink(heap, 1, heap_size)\n",
    "    return maximum\n",
    "    # the externally handled heap_size\n",
    "    # needs to be decremented"
   ]
  },
  {
   "cell_type": "code",
   "execution_count": null,
   "metadata": {},
   "outputs": [],
   "source": [
    "array = [None, 3, 5, 7, 12, 4, 0, 9, 14, 6]\n",
    "build_max_heap(array)\n",
    "heap_size = len(array) - 1\n",
    "print(max_heap_extract_max(array, heap_size))\n",
    "heap_size -= 1\n",
    "show_array_as_tree(array, heap_size)"
   ]
  },
  {
   "cell_type": "markdown",
   "metadata": {},
   "source": [
    "#### Adding an entry\n",
    "To add an entry, we insert it as a new leaf and let it swim to re-establish the heap property."
   ]
  },
  {
   "cell_type": "code",
   "execution_count": null,
   "metadata": {},
   "outputs": [],
   "source": [
    "def max_heap_insert(heap, item, heap_size=None):\n",
    "    if heap_size is None:\n",
    "        heap_size = len(heap) - 1\n",
    "    if heap_size < len(heap) - 1:\n",
    "        # we still have space in the array\n",
    "        heap[heap_size + 1] = item\n",
    "    else:\n",
    "        assert heap_size == len(heap) - 1\n",
    "        heap.append(item)\n",
    "    swim(heap, heap_size + 1)"
   ]
  },
  {
   "cell_type": "code",
   "execution_count": null,
   "metadata": {},
   "outputs": [],
   "source": [
    "array = [None, 3, 5, 7, 12, 4, 0, 9, 14, 6]\n",
    "build_max_heap(array)\n",
    "heap_size = len(array) - 1\n",
    "show_array_as_tree(array, heap_size)\n",
    "max_heap_insert(array, 13, heap_size)\n",
    "heap_size = heap_size + 1\n",
    "show_array_as_tree(array, heap_size)"
   ]
  },
  {
   "cell_type": "markdown",
   "metadata": {},
   "source": [
    "## Heapsort"
   ]
  },
  {
   "cell_type": "markdown",
   "metadata": {},
   "source": [
    "Heapsort successively swaps the largest element to the end of the non-sorted range. To determine the largest element, we use a heap. \n",
    "\n",
    "*Observation*: We can represent the heap directly in the input sequence, so\n",
    "that heap sort only needs constant additional storage."
   ]
  },
  {
   "cell_type": "code",
   "execution_count": null,
   "metadata": {},
   "outputs": [],
   "source": [
    "# assumes that array[0] is not part of the input sequence\n",
    "def heapsort(array):\n",
    "    build_max_heap(array)\n",
    "    # i ranges from last position down to position 1\n",
    "    for i in range(len(array) - 1, 0, -1): \n",
    "        # swap largest element from heap to position i\n",
    "        array[i], array[1] = array[1], array[i]\n",
    "        # restore heap_property for heap (in range 1,...,i-1)\n",
    "        sink(array, 1, i-1)"
   ]
  },
  {
   "cell_type": "code",
   "execution_count": null,
   "metadata": {},
   "outputs": [],
   "source": [
    "array = [None, 3, 5, 6, 2, 7, 0]\n",
    "heapsort(array)\n",
    "print(array)"
   ]
  },
  {
   "cell_type": "markdown",
   "metadata": {},
   "source": [
    "## Priority queues"
   ]
  },
  {
   "cell_type": "markdown",
   "metadata": {},
   "source": [
    "#### Implementing a priority queue with a heap"
   ]
  },
  {
   "cell_type": "markdown",
   "metadata": {},
   "source": [
    "We implement a priority queue with a heap. \n",
    "As for sorting algorithms, we will assume in the example implementations that the items and the keys are identical."
   ]
  },
  {
   "cell_type": "markdown",
   "metadata": {},
   "source": [
    "##### Exercise\n",
    "Implement the abstract datatype priority queue by means of a heap."
   ]
  },
  {
   "cell_type": "code",
   "execution_count": null,
   "metadata": {},
   "outputs": [],
   "source": [
    "class PQ:\n",
    "    def __init__(self):\n",
    "        self.data = [None] # the heap data structure\n",
    "        self.heap_size = 0\n",
    "\n",
    "    def is_empty(self):\n",
    "        return self.heap_size == 0\n",
    "\n",
    "    def size(self):\n",
    "        return self.heap_size\n",
    "\n",
    "    def insert(self, item):\n",
    "        # assuming that the item and its key are identical\n",
    "        pass # TODO\n",
    "\n",
    "    def maximum(self):\n",
    "        if self.is_empty():\n",
    "            raise Exception(\"invalid operation on empty pq\")\n",
    "        pass # TODO\n",
    "\n",
    "    def extract_max(self):\n",
    "        if self.is_empty():\n",
    "            raise Exception(\"invalid operation on empty pq\")\n",
    "        pass # TODO"
   ]
  },
  {
   "cell_type": "code",
   "execution_count": null,
   "metadata": {},
   "outputs": [],
   "source": [
    "# try it:\n",
    "pq = PQ()\n",
    "pq.insert(4)\n",
    "pq.insert(2)\n",
    "pq.insert(5)\n",
    "pq.insert(3)\n",
    "maximum = pq.extract_max()\n",
    "print(\"Maximum:\", maximum)\n",
    "pq.insert(6)\n",
    "pq.insert(1)\n",
    "print(\"Extract all elements from largest to smallest:\")\n",
    "while not pq.is_empty():\n",
    "    print(pq.extract_max())"
   ]
  }
 ],
 "metadata": {
  "anaconda-cloud": {},
  "kernelspec": {
   "display_name": "Python 3 (ipykernel)",
   "language": "python",
   "name": "python3"
  },
  "language_info": {
   "codemirror_mode": {
    "name": "ipython",
    "version": 3
   },
   "file_extension": ".py",
   "mimetype": "text/x-python",
   "name": "python",
   "nbconvert_exporter": "python",
   "pygments_lexer": "ipython3",
   "version": "3.11.4"
  }
 },
 "nbformat": 4,
 "nbformat_minor": 4
}
