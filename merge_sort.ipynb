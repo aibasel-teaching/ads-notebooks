{
 "cells": [
  {
   "cell_type": "markdown",
   "metadata": {},
   "source": [
    "# Merge Sort"
   ]
  },
  {
   "cell_type": "markdown",
   "metadata": {},
   "source": [
    "The heart of the merge sort algorithm is the `merge` function, that combines to adjacent sorted ranges into one.\n",
    "\n",
    "The first range ranges from position `lo` to (inclusive) position `mid`, the second range from position `mid+1` to (inclusive) position `hi`. Array `tmp` serves as termporary storage and must have the same length as `array`."
   ]
  },
  {
   "cell_type": "code",
   "execution_count": null,
   "metadata": {},
   "outputs": [],
   "source": [
    "def merge(array, tmp, lo, mid, hi):\n",
    "    i = lo\n",
    "    j = mid + 1\n",
    "    for k in range(lo, hi + 1):  # k = lo,...,hi\n",
    "        if j > hi or (i <= mid and array[i] <= array[j]):\n",
    "            tmp[k] = array[i]\n",
    "            i += 1\n",
    "        else:\n",
    "            tmp[k] = array[j]\n",
    "            j += 1\n",
    "    for k in range(lo, hi + 1):  # k = lo,...,hi\n",
    "        array[k] = tmp[k]"
   ]
  },
  {
   "cell_type": "code",
   "execution_count": null,
   "metadata": {},
   "outputs": [],
   "source": [
    "array = [8, 7, 3, 5, 7, 2, 5, 6, 2, 8]\n",
    "tmp = [0] * len(array)\n",
    "merge(array, tmp, 2, 4, 7)\n",
    "print(array)"
   ]
  },
  {
   "cell_type": "markdown",
   "metadata": {},
   "source": [
    "The top-down variant of merge sort divides the range that should be sorted into two roughly equally-sized subranges, sorts each of them with a recursive call, and combines them with `merge`."
   ]
  },
  {
   "cell_type": "code",
   "execution_count": null,
   "metadata": {},
   "outputs": [],
   "source": [
    "def sort(array):\n",
    "    tmp = [0] * len(array)  # [0,...,0] with same size as array\n",
    "    sort_aux(array, tmp, 0, len(array) - 1)\n",
    "\n",
    "def sort_aux(array, tmp, lo, hi):\n",
    "    # print(\"start sorting positions\", lo, \"to\", hi)\n",
    "    if hi <= lo:\n",
    "        return\n",
    "    mid = lo + (hi - lo) // 2\n",
    "    # //: Division mit Abrunden\n",
    "    sort_aux(array, tmp, lo, mid)\n",
    "    sort_aux(array, tmp, mid + 1, hi)\n",
    "    merge(array, tmp, lo, mid, hi)\n",
    "    # print(\"merged\", lo, \"-\", mid, \"and\", mid+1, \"-\", hi)"
   ]
  },
  {
   "cell_type": "code",
   "execution_count": null,
   "metadata": {},
   "outputs": [],
   "source": [
    "array = [4, 2, 5, 7, 9, 6, 4, 1]\n",
    "sort(array)\n",
    "print(array)"
   ]
  },
  {
   "cell_type": "markdown",
   "metadata": {},
   "source": [
    "A course participant from an earlier year extended the algorithm with a visualization (for which ''graphviz'' needs to be installed):"
   ]
  },
  {
   "cell_type": "code",
   "execution_count": null,
   "metadata": {},
   "outputs": [],
   "source": [
    "from graphviz import Digraph\n",
    "from itertools import count\n",
    "node_counter = count() # used to track the number of nodes in the tree\n",
    "\n",
    "def sort_draw_tree(array):\n",
    "    graph = Digraph()\n",
    "    node_number = next(node_counter)\n",
    "    graph.node(str(node_number), f\"sort\\n{array}\")\n",
    "   \n",
    "    tmp = [0] * len(array) # [0,...,0] with same size as array\n",
    "    sort_aux_draw_tree(array, tmp, 0, len(array) - 1, graph, node_number)\n",
    "    return graph\n",
    "\n",
    "def sort_aux_draw_tree(array, tmp, lo, hi, graph, parent_node):\n",
    "    current_node = next(node_counter)\n",
    "    unsorted_list = array[lo:hi+1]\n",
    "   \n",
    "    if hi <= lo:\n",
    "        graph.node(str(current_node), f\"lo={lo} hi={hi}\\n{array[lo:hi+1]}\")\n",
    "        graph.edge(str(parent_node), str(current_node), str(current_node))\n",
    "        return\n",
    "    \n",
    "    mid = lo + (hi - lo) // 2\n",
    "    sort_aux_draw_tree(array, tmp, lo, mid, graph, current_node)\n",
    "    sort_aux_draw_tree(array, tmp, mid + 1, hi, graph, current_node)\n",
    "    merge(array, tmp, lo, mid, hi)\n",
    "   \n",
    "    graph.node(str(current_node), f\"lo={lo} hi={hi}\\n{unsorted_list}\\n{array[lo:hi+1]}\")\n",
    "    graph.edge(str(parent_node), str(current_node), str(current_node))"
   ]
  },
  {
   "cell_type": "code",
   "execution_count": null,
   "metadata": {},
   "outputs": [],
   "source": [
    "array = [4, 2, 5, 9, 4, 1]\n",
    "sort_draw_tree(array)"
   ]
  },
  {
   "cell_type": "markdown",
   "metadata": {},
   "source": [
    "The bottom-up variant of merge sort operates iteratively and sorts first all consecutive ranges of size 2, then size 4, then 8, ..."
   ]
  },
  {
   "cell_type": "code",
   "execution_count": null,
   "metadata": {},
   "outputs": [],
   "source": [
    "def bottom_up_mergesort(array):\n",
    "    n = len(array)\n",
    "    tmp = [0] * n\n",
    "    length = 1\n",
    "    while length < n:\n",
    "        lo = 0\n",
    "        while lo < n - length:\n",
    "            mid = lo + length - 1\n",
    "            hi = min(lo + 2 * length - 1, n - 1)\n",
    "            merge(array, tmp, lo, mid, hi)\n",
    "            # print(\"merged\", lo, \"-\", mid, \"and\", mid+1, \"-\", hi)\n",
    "            lo += 2 * length\n",
    "        length *= 2"
   ]
  },
  {
   "cell_type": "code",
   "execution_count": null,
   "metadata": {},
   "outputs": [],
   "source": [
    "array = [4, 2, 5, 7, 9, 6, 4, 1, 5]\n",
    "bottom_up_mergesort(array)\n",
    "print(array)"
   ]
  }
 ],
 "metadata": {
  "kernelspec": {
   "display_name": "Python 3 (ipykernel)",
   "language": "python",
   "name": "python3"
  },
  "language_info": {
   "codemirror_mode": {
    "name": "ipython",
    "version": 3
   },
   "file_extension": ".py",
   "mimetype": "text/x-python",
   "name": "python",
   "nbconvert_exporter": "python",
   "pygments_lexer": "ipython3",
   "version": "3.11.4"
  }
 },
 "nbformat": 4,
 "nbformat_minor": 4
}
