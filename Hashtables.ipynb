{
 "cells": [
  {
   "cell_type": "markdown",
   "metadata": {},
   "source": [
    "# Hashtabellen"
   ]
  },
  {
   "cell_type": "markdown",
   "metadata": {},
   "source": [
    "Die wichtigste Komponente, um einen Hashtabelle bauen zu können, ist die Hashfunktion, welche uns für jedes Objekt einen ganzzahligen Wert (den Hashwert) liefert. In Python berechnen wir dies mit der Funktion ```hash```. Für alle Standardtypen in Python ist die Hashfunktion bereits definiert."
   ]
  },
  {
   "cell_type": "code",
   "execution_count": 2,
   "metadata": {},
   "outputs": [
    {
     "name": "stdout",
     "output_type": "stream",
     "text": [
      "Hashwert für String abc -7130807936805802683\n",
      "Hashwert für Integer 7 7\n",
      "Hashwert für Tuple (\"abc\", 7) -7170963661005626837\n"
     ]
    }
   ],
   "source": [
    "print(\"Hashwert für String abc\", hash(\"abc\"))\n",
    "print(\"Hashwert für Integer 7\", hash(7))\n",
    "print(\"Hashwert für Tuple (\\\"abc\\\", 7)\", hash((\"abc\",7)))"
   ]
  },
  {
   "cell_type": "markdown",
   "metadata": {},
   "source": [
    "Wie wir Hashfunktionen für eigene Datentypen bauen können, und was wir dabei beachten müssen, wird in einem separaten Notebook behandelt. Für die nachfolgenden Implementationen gehen wir davon aus, dass die Hashfunktion für den Schlüssel bereits definiert ist. "
   ]
  },
  {
   "cell_type": "markdown",
   "metadata": {},
   "source": [
    "## Implementation von Hashtabellen"
   ]
  },
  {
   "cell_type": "markdown",
   "metadata": {},
   "source": [
    "### Verkettung"
   ]
  },
  {
   "cell_type": "markdown",
   "metadata": {},
   "source": [
    "Die erste Implementation von Hashtabellen die wir sehen, hebt Konflikte auf, indem für jedes Element im Array eine Verkettete Liste mit allen Schlüssel/Werte-paaren gespeichert wird. \n",
    "*Achtung: Wir nehmen hier eine fixe Grösse der Tabelle an. Sie können die resize Methoden als Übung hinzufügen.*"
   ]
  },
  {
   "cell_type": "code",
   "execution_count": 18,
   "metadata": {},
   "outputs": [],
   "source": [
    "import sys\n",
    "class SeparateChainingHashtable:\n",
    "    def __init__(self):\n",
    "        self._M = 31 # Number of chains\n",
    "        self._st = [None]*self._M # chains\n",
    "        self._N = 0\n",
    "    \n",
    "    class Node:\n",
    "        def __init__(self, key, value, next = None):\n",
    "            self.key = key\n",
    "            self.value = value\n",
    "            self.next = next\n",
    "      \n",
    "\n",
    "    def _hash(self, key):\n",
    "        positiveHash = hash(key) % ((sys.maxsize + 1) * 2) \n",
    "        return positiveHash % self._M\n",
    "        \n",
    "    def get(self, key):\n",
    "        i = self._hash(key);\n",
    "        x = self._st[i]\n",
    "        while x != None:\n",
    "            if key == x.key:\n",
    "                return x.value\n",
    "            x = x.next\n",
    "        return None\n",
    "    \n",
    "    def put(self, key, value):\n",
    "        if  self._N / self._M > 4:\n",
    "            self.resize(self._M * 2)\n",
    "        i = self._hash(key);\n",
    "        x = self._st[i]\n",
    "        while x != None:\n",
    "            if key == x.key:\n",
    "                x.value = value\n",
    "                return\n",
    "            x = x.next\n",
    "        self._st[i] = SeparateChainingHashtable.Node(key, value, next = self._st[i]);\n",
    "        self._N += 1\n",
    "    \n",
    "    def delete(self, key):\n",
    "        if  self._N / self._M < 1/4:\n",
    "            self.resize(self._M / 2)\n",
    "        i = self._hash(key);\n",
    "        \n",
    "        x  = self._st[i]\n",
    "        if x == None:\n",
    "            return\n",
    "        \n",
    "        if key == x.key:\n",
    "            self._st[i] = x.next   \n",
    "            self._N -= 1\n",
    "            return \n",
    "        \n",
    "        while x.next != None:\n",
    "            if key == x.next.key:\n",
    "                x.next = x.next.next\n",
    "                self._N -= 1\n",
    "                return\n",
    "        \n",
    "    def contains(self, key):\n",
    "        return get(key) != None\n",
    "    \n",
    "    def size(self):\n",
    "        return self._N\n",
    "    \n",
    "    def isEmpty(self):\n",
    "        return self.size() != None\n",
    "    \n",
    "    def keys(self):\n",
    "        for st in self._st:\n",
    "            x = st\n",
    "            while x != None:\n",
    "                yield x.key\n",
    "                x = x.next\n",
    "    \n",
    "    # helper function to diagnose implementation\n",
    "    def lengthOfInternalLists(self):\n",
    "        lengths = []\n",
    "        for st in self._st:\n",
    "            lengths.append(self._length(st))\n",
    "        return lengths\n",
    "    \n",
    "    def _length(self, st):\n",
    "        n = 0\n",
    "        x = st\n",
    "        while x != None:\n",
    "            n += 1\n",
    "            x = x.next\n",
    "        return n\n",
    "    \n",
    "    def resize(self, size):\n",
    "        # copy key value pairs into a new list\n",
    "        old = []\n",
    "        for key in self.keys():\n",
    "            old.append((key, self.get(key)))\n",
    "        # resize and empty current table\n",
    "        self._M = size\n",
    "        self._st = [None] * self._M\n",
    "        self._N = 0\n",
    "        # add old key value pairs into new table\n",
    "        for key, value in old:\n",
    "            self.put(key, value)\n"
   ]
  },
  {
   "cell_type": "code",
   "execution_count": 19,
   "metadata": {},
   "outputs": [],
   "source": [
    "ht = SeparateChainingHashtable()\n",
    "for (pos, c) in enumerate(\"SEARCHEXAMPLE\"):\n",
    "    ht.put(c, pos)"
   ]
  },
  {
   "cell_type": "code",
   "execution_count": 20,
   "metadata": {},
   "outputs": [
    {
     "name": "stdout",
     "output_type": "stream",
     "text": [
      "X 7\n",
      "A 8\n",
      "S 0\n",
      "H 5\n",
      "R 3\n",
      "M 9\n",
      "E 12\n",
      "P 10\n",
      "C 4\n",
      "L 11\n"
     ]
    }
   ],
   "source": [
    "for key in ht.keys():\n",
    "    print(key, ht.get(key))"
   ]
  },
  {
   "cell_type": "markdown",
   "metadata": {},
   "source": [
    "Wir sehen, dass im Gegensatz zu Binären Suchbäumen, die Schüssel hier nicht geordnet sind. "
   ]
  },
  {
   "cell_type": "markdown",
   "metadata": {},
   "source": [
    "Als nächstes fügen wir zufällige Elemente ein und schauen uns die Länge der internen Listen an."
   ]
  },
  {
   "cell_type": "code",
   "execution_count": 26,
   "metadata": {},
   "outputs": [
    {
     "name": "stdout",
     "output_type": "stream",
     "text": [
      "[5, 5, 4, 2, 2, 2, 4, 3, 5, 2, 1, 3, 3, 2, 3, 3, 6, 2, 1, 2, 1, 4, 3, 0, 2, 6, 2, 4, 3, 2, 3, 3, 1, 2, 2, 4, 4, 4, 1, 3, 2, 4, 2, 2, 3, 1, 1, 3, 0, 1, 5, 1, 3, 4, 1, 1, 3, 1, 0, 2, 1, 3, 2, 2, 2, 3, 4, 1, 4, 4, 4, 3, 2, 1, 2, 2, 1, 2, 4, 1, 3, 1, 2, 0, 0, 2, 5, 4, 2, 1, 1, 5, 1, 2, 4, 0, 3, 0, 3, 1, 1, 2, 1, 2, 4, 6, 2, 6, 4, 4, 1, 1, 3, 0, 3, 3, 3, 4, 0, 3, 2, 2, 0, 2, 3, 1, 5, 2, 2, 3, 2, 1, 2, 2, 0, 1, 4, 6, 3, 2, 3, 4, 3, 6, 1, 3, 1, 2, 4, 3, 1, 2, 0, 4, 5, 3, 3, 0, 2, 2, 3, 6, 5, 2, 1, 3, 2, 2, 2, 2, 1, 1, 2, 4, 3, 2, 2, 4, 0, 3, 0, 4, 3, 3, 3, 1, 3, 4, 3, 4, 3, 0, 3, 3, 1, 2, 2, 1, 3, 2, 3, 2, 1, 3, 1, 1, 2, 2, 2, 1, 5, 4, 0, 4, 1, 3, 3, 1, 4, 3, 1, 3, 3, 1, 3, 1, 2, 1, 1, 0, 1, 2, 6, 2, 2, 2, 2, 1, 3, 6, 2, 1, 0, 5, 1, 3, 2, 4, 3, 4, 1, 1, 2, 2, 1, 5, 2, 2, 1, 1, 1, 3, 2, 3, 0, 2, 1, 2, 2, 2, 2, 4, 4, 3, 2, 3, 2, 0, 0, 4, 2, 2, 4, 5, 3, 1, 2, 3, 0, 4, 5, 1, 4, 4, 1, 2, 1, 6, 2, 1, 6, 2, 3, 4, 1, 1, 4, 4, 3, 3, 1, 3, 3, 3, 0, 3, 4, 4, 2, 4, 3, 4, 3, 4, 2, 1, 3, 1, 1, 2, 2, 2, 1, 1, 2, 1, 2, 2, 2, 2, 3, 1, 3, 1, 2, 4, 4, 2, 2, 1, 3, 2, 2, 2, 4, 1, 2, 6, 5, 3, 5, 4, 3, 4, 1, 4, 2, 2, 1, 1, 2, 0, 2, 4, 2, 2, 7, 3, 1, 3, 1, 2, 1, 0, 0, 2, 3, 0, 7, 1, 2, 1, 1, 4, 3, 2, 4, 1, 2, 2, 5, 0, 1, 0, 2, 3, 3, 1, 2, 1, 3, 3, 4, 6, 3, 1, 2, 0, 2, 3, 2, 1, 5, 0, 1, 8, 3, 2, 0, 2, 3, 3, 4, 0, 2, 5, 0, 4, 2, 2, 1, 3, 4, 1, 3, 3, 1, 1, 2, 1, 1, 3, 3, 2, 4, 2, 4, 1, 6, 0, 4, 2, 2, 2, 2, 0, 3, 4, 6, 2, 2, 4, 3, 3, 4, 4, 5, 2, 1, 2, 1, 3, 1, 3, 4, 3, 4, 1, 1, 1, 2, 0, 5, 2, 3, 0, 1, 2, 4, 2, 1, 5, 4, 4, 3, 0, 5, 4, 4, 2, 4, 2, 2, 0, 1, 5, 3, 2, 3, 3, 3, 4, 6, 1, 3, 3, 4, 2, 1, 2, 1, 4, 1, 5, 1, 2, 4, 6, 0, 3, 0, 3, 3, 1, 3, 1, 3, 1, 0, 4, 1, 0, 1, 3, 1, 3, 6, 4, 4, 2, 3, 1, 1, 3, 3, 2, 0, 0, 3, 4, 1, 4, 4, 2, 2, 1, 0, 1, 2, 1, 3, 3, 3, 2, 3, 4, 2, 2, 4, 3, 2, 3, 3, 3, 1, 3, 3, 2, 1, 3, 3, 1, 2, 1, 4, 4, 5, 4, 3, 5, 0, 2, 1, 4, 3, 6, 3, 1, 2, 3, 1, 2, 1, 6, 2, 1, 1, 1, 0, 3, 2, 3, 4, 2, 5, 3, 3, 2, 3, 1, 3, 3, 3, 2, 0, 3, 3, 3, 4, 4, 4, 1, 5, 3, 7, 1, 2, 1, 5, 2, 3, 3, 1, 2, 1, 0, 1, 2, 2, 3, 3, 3, 1, 2, 0, 1, 0, 2, 0, 4, 1, 2, 6, 10, 1, 2, 3, 2, 4, 3, 2, 0, 3, 3, 5, 3, 1, 2, 4, 2, 0, 2, 2, 0, 2, 3, 4, 1, 2, 2, 6, 5, 3, 1, 5, 6, 4, 2, 3, 2, 2, 2, 1, 5, 3, 4, 3, 3, 3, 1, 5, 4, 0, 3, 3, 2, 2, 4, 5, 1, 2, 1, 2, 2, 1, 2, 1, 3, 4, 2, 2, 6, 3, 2, 3, 3, 5, 3, 2, 1, 3, 1, 5, 0, 0, 2, 4, 3, 2, 5, 4, 2, 2, 5, 4, 5, 2, 1, 2, 3, 4, 3, 3, 2, 3, 3, 1, 2, 4, 5, 4, 2, 6, 3, 4, 2, 1, 2, 1, 2, 3, 2, 0, 2, 4, 1, 2, 0, 6, 3, 4, 3, 2, 1, 0, 2, 4, 2, 2, 5, 2, 4, 2, 1, 2, 2, 1, 2, 5, 0, 7, 5, 3, 2, 1, 3, 1, 2, 1, 2, 1, 2, 2, 3, 3, 1, 2, 2, 0, 3, 1, 2, 2, 3, 2, 3, 1, 1, 4, 8, 0, 3, 2, 2, 2, 3, 2, 5, 3, 1, 5, 2, 4, 3, 3, 2, 1, 2, 4, 2, 3, 5, 5, 3, 3, 3, 1, 2, 1, 3, 3, 2, 2, 3, 1, 2, 3, 2, 4, 3, 0, 3, 2, 3, 2, 1, 1, 0, 2, 1, 2, 4, 5, 1, 1, 1, 1, 3, 3, 3, 6, 3, 2, 1, 1, 2, 2, 2, 3, 6, 4, 1, 4, 3, 2, 2, 3, 3, 2, 1, 2, 1, 1, 3, 4, 2, 4, 2, 1, 1, 2, 2, 2, 3, 1, 2, 2, 4, 2, 2, 3, 2, 1, 5, 1, 9, 2, 2, 2, 5, 2, 4, 1, 2, 0, 4, 1, 1, 4, 2, 3, 5, 4, 3, 3, 2, 1, 1, 2, 0, 0, 3, 3, 3, 3, 0, 0, 2, 1, 3, 2, 2, 3, 2, 1, 1, 1, 3, 2, 2, 4, 2, 3, 5, 2, 5, 2, 1, 1, 3, 2, 4, 1, 1, 1, 2, 1, 2, 4, 4, 2, 5, 2, 3, 2, 3, 1, 2, 3, 2, 5, 2, 1, 3, 0, 4, 2, 2, 5, 4, 4, 4, 2, 4, 3, 1, 1, 1, 1, 2, 3, 1, 4, 1, 5, 1, 4, 3, 5, 3, 3, 4, 2, 3, 3, 2, 4, 1, 2, 3, 3, 1, 1, 3, 5, 1, 3, 3, 2, 3, 2, 1, 0, 1, 2, 1, 4, 2, 4, 3, 2, 6, 2, 4, 1, 5, 5, 0, 4, 4, 2, 3, 3, 1, 3, 6, 0, 5, 5, 2, 3, 5, 2, 2, 6, 1, 1, 3, 2, 4, 2, 2, 2, 3, 0, 3, 1, 1, 4, 1, 5, 3, 4, 4, 4, 0, 2, 2, 3, 6, 4, 1, 1, 2, 1, 3, 1, 3, 2, 2, 2, 1, 3, 2, 1, 2, 5, 2, 2, 1, 2, 2, 4, 3, 1, 4, 1, 3, 5, 4, 2, 3, 1, 4, 4, 3, 0, 2, 1, 4, 4, 3, 3, 1, 2, 5, 2, 1, 3, 3, 4, 4, 2, 3, 4, 2, 4, 3, 3, 2, 3, 1, 1, 1, 3, 4, 3, 1, 1, 2, 2, 3, 4, 4, 3, 3, 2, 2, 2, 5, 5, 4, 3, 3, 1, 2, 1, 3, 2, 4, 1, 0, 0, 4, 0, 2, 3, 1, 3, 0, 4, 2, 4, 3, 2, 2, 3, 6, 1, 3, 3, 3, 2, 3, 2, 3, 2, 0, 2, 4, 0, 1, 2, 2, 1, 1, 3, 6, 2, 3, 0, 2, 6, 2, 3, 1, 2, 2, 2, 3, 4, 4, 1, 1, 3, 2, 2, 1, 1, 1, 0, 2, 3, 4, 2, 2, 3, 3, 2, 2, 1, 4, 2, 1, 2, 6, 1, 5, 2, 3, 4, 2, 2, 1, 7, 2, 0, 1, 3, 2, 1, 1, 3, 5, 2, 2, 2, 1, 1, 1, 0, 1, 2, 3, 6, 3, 3, 0, 2, 5, 1, 1, 5, 2, 3, 2, 1, 3, 1, 1, 2, 0, 4, 2, 4, 2, 2, 2, 3, 2, 1, 2, 2, 3, 2, 0, 4, 1, 2, 4, 3, 5, 3, 0, 1, 0, 1, 2, 3, 2, 3, 6, 3, 2, 2, 2, 0, 2, 3, 2, 5, 0, 2, 3, 1, 3, 3, 3, 1, 3, 0, 5, 4, 3, 2, 2, 1, 3, 0, 3, 4, 4, 2, 2, 4, 5, 4, 3, 2, 0, 1, 2, 1, 3, 2, 1, 3, 2, 3, 0, 3, 3, 3, 1, 1, 1, 1, 1, 3, 1, 0, 2, 2, 1, 0, 3, 2, 0, 1, 6, 0, 0, 1, 5, 1, 3, 1, 4, 5, 2, 2, 1, 2, 4, 3, 5, 2, 4, 1, 2, 1, 4, 1, 1, 1, 2, 1, 3, 2, 0, 3, 3, 3, 4, 2, 4, 0, 1, 3, 1, 2, 1, 3, 2, 3, 1, 4, 5, 3, 2, 6, 3, 1, 3, 2, 4, 2, 3, 4, 2, 1, 4, 5, 6, 3, 2, 1, 3, 1, 3, 6, 0, 3, 2, 1, 3, 2, 3, 0, 2, 3, 4, 2, 1, 1, 3, 2, 2, 4, 1, 1, 1, 2, 2, 3, 4, 5, 2, 4, 0, 1, 1, 4, 1, 0, 3, 2, 2, 2, 3, 1, 4, 4, 2, 1, 1, 2, 4, 3, 4, 4, 3, 3, 2, 2, 6, 5, 3, 1, 2, 1, 1, 3, 0, 3, 2, 3, 1, 2, 2, 3, 3, 3, 2, 0, 1, 1, 3, 2, 4, 2, 3, 4, 2, 1, 5, 2, 2, 4, 2, 0, 2, 2, 4, 2, 3, 4, 4, 3, 2, 6, 2, 1, 5, 2, 1, 2, 2, 1, 3, 1, 6, 2, 1, 1, 0, 1, 4, 3, 1, 3, 1, 2, 3, 1, 2, 3, 1, 1, 2, 3, 1, 1, 4, 2, 5, 1, 1, 2, 2, 2, 1, 0, 2, 4, 3, 2, 1, 1, 4, 2, 6, 3, 2, 1, 2, 1, 5, 2, 2, 2, 2, 7, 1, 1, 1, 2, 1, 2, 4, 3, 4, 5, 2, 3, 0, 4, 3, 2, 3, 2, 1, 3, 3, 0, 3, 3, 1, 0, 1, 3, 2, 0, 2, 5, 3, 1, 4, 2, 2, 5, 4, 3, 4, 3, 4, 5, 1, 2, 3, 3, 4, 3, 0, 2, 1, 2, 4, 1, 3, 1, 1, 0, 3, 7, 3, 0, 1, 2, 0, 5, 0, 1, 1, 5, 6, 1, 2, 1, 3, 1, 5, 1, 3, 3, 2, 7, 2, 0, 3, 3, 4, 5, 1, 2, 5, 1, 2, 2, 4, 3, 3, 3, 5, 0, 2, 2, 3, 3, 1, 2, 2, 3, 2, 2, 3, 3, 4, 0, 3, 2, 3, 2, 2, 4, 3, 3, 4, 2, 2, 0, 1, 0, 2, 1, 3, 0, 4, 0, 3, 2, 3, 4, 1, 1, 4, 3, 4, 1, 1, 3, 1, 2, 2, 3, 1, 3, 3, 3, 0, 5, 2, 3, 3, 2, 2, 3, 0, 4, 3, 1, 2, 3, 2, 2, 1, 4, 1, 3, 3, 5, 7, 0, 3, 4, 1, 3, 2, 5, 3, 2, 1, 3, 3, 1, 0, 1, 1, 1, 1, 4, 4, 1, 2, 2, 2, 2, 1, 1, 2, 3, 3, 5, 1, 1, 0, 1, 4, 3, 5, 2, 3, 3, 1, 1, 1, 0, 3, 5, 2, 1, 1, 3, 2, 2, 1, 2, 2, 3, 0, 2, 2, 0, 3, 0, 2, 4, 1, 3, 2, 4, 3, 1, 2, 1, 2, 3, 4, 4, 2, 2, 2, 0, 2, 1, 1, 1, 2, 5, 1, 2, 0, 1, 3, 1, 3, 1, 1, 3, 1, 0, 2, 1, 6, 5, 2, 3, 3, 2, 1, 0, 2, 3, 1, 2, 4, 2, 3, 2, 1, 4, 5, 1, 2, 2, 3, 2, 2, 7, 1, 3, 2, 4, 1, 3, 4, 2, 2, 6, 1, 2, 3, 1, 1, 1, 4, 3, 1, 5, 0, 5, 1, 3, 2, 0, 1, 2, 5, 2, 3, 0, 1, 4, 3, 2, 2, 0, 2, 3, 1, 2, 1, 3, 3, 1, 1, 7, 1, 2, 1, 0, 2, 2, 0, 3, 4, 2, 0, 4, 3, 0, 2, 2, 3, 3, 0, 4, 4, 2, 2, 5, 3, 1, 4, 2, 4, 2, 3, 1, 3, 2, 2, 3, 1, 2, 1, 2, 1, 1, 1, 2, 3, 2, 4, 2, 1, 5, 3, 3, 4, 2, 1, 3, 3, 2, 2, 0, 4, 1, 4, 3, 1, 2, 3, 0, 1, 3, 3, 5, 4, 2, 4, 2, 2, 1, 2, 3, 4, 3, 0, 2, 1, 2, 3, 3, 1, 1, 4, 2, 5, 5, 2, 6, 3, 2, 5, 2, 2, 1, 3, 1, 3, 1, 1, 3, 4, 2, 1, 3, 4, 2, 2, 0, 3, 2, 1, 4, 2, 2, 2, 1, 1, 2, 4, 2, 3, 4, 3, 2, 1, 4, 2, 5, 7, 1, 4, 1, 2, 0, 6, 2, 3, 3, 2, 2, 6, 3, 6, 3, 1, 1, 1, 3, 1, 4, 1, 3, 4, 2, 1, 5, 3, 1, 6, 1, 2, 2, 6, 2, 3, 1, 4, 3, 0, 5, 3, 3, 5, 2, 2, 3, 4, 3, 4, 2, 0, 5, 3, 2, 4, 4, 2, 2, 2, 4, 0, 3, 1, 2, 1, 3, 2, 0, 3, 5, 1, 3, 3, 1, 3, 0, 5, 1, 3, 4, 1, 3, 4, 4, 3, 1, 4, 3, 8, 1, 4, 4, 3, 0, 0, 2, 3, 3, 2, 1, 1, 1, 1, 2, 1, 4, 3, 2, 4, 4, 1, 1, 0, 3, 3, 3, 4, 1, 3, 3, 2, 3, 0, 3, 1, 2, 2, 4, 0, 7, 1, 1, 2, 0, 3, 3, 4, 1, 3, 5, 3, 5, 4, 2, 2, 1, 1, 3, 3, 3, 4, 4, 2, 1, 3, 3, 3, 4, 4, 1, 3, 1, 0, 1, 3, 1, 0, 3, 4, 3, 1, 3, 3, 5, 3, 1, 3, 0, 3, 3, 3, 1, 1, 3, 2, 1, 1, 5, 2, 3, 5, 0, 1, 2, 1, 3, 3, 4, 1, 4, 1, 2, 3, 4, 1, 5, 2, 4, 1, 3, 3, 6, 2, 2, 2, 4, 2, 4, 1, 4, 2, 2, 3, 4, 2, 1, 6, 2, 2, 2, 2, 2, 2, 1, 1, 4, 2, 2, 1, 1, 3, 6, 3, 5, 3, 2, 5, 1, 4, 2, 3, 0, 1, 3, 0, 1, 2, 1, 0, 2, 2, 2, 0, 3, 2, 3, 2, 2, 3, 2, 1, 2, 3, 1, 6, 4, 1, 1, 4, 3, 2, 3, 1, 1, 2, 1, 3, 4, 0, 5, 2, 2, 1, 2, 4, 5, 0, 3, 2, 1, 1, 3, 0, 0, 1, 2, 1, 4, 1, 3, 1, 2, 0, 2, 2, 3, 1, 4, 2, 4, 1, 3, 1, 5, 2, 1, 5, 1, 2, 4, 1, 3, 0, 2, 1, 2, 2, 1, 3, 1, 6, 3, 3, 4, 2, 3, 2, 3, 5, 4, 1, 3, 4, 3, 2, 0, 2, 2, 2, 3, 1, 0, 2, 2, 1, 1, 3, 2, 1, 1, 6, 6, 1, 4, 1, 1, 4, 1, 3, 3, 2, 2, 3, 4, 2, 3, 2, 3, 2, 2, 2, 5, 1, 2, 3, 2, 3, 6, 0, 2, 2, 3, 3, 2, 2, 4, 2, 1, 3, 1, 6, 1, 3, 0, 2, 3, 4, 1, 1, 3, 5, 2, 2, 2, 1, 3, 3, 1, 4, 3, 3, 0, 1, 4, 1, 3, 3, 4, 3, 2, 1, 1, 2, 1, 0, 1, 6, 0, 0, 1, 4, 2, 4, 1, 3, 4, 2, 3, 4, 5, 1, 3, 0, 4, 4, 1, 2, 5, 2, 6, 0, 2, 3, 5, 1, 1, 5, 2, 1, 3, 3, 2, 3, 5, 3, 2, 2, 1, 4, 2, 1, 4, 4, 1, 6, 2, 2, 3, 3, 0, 1, 4, 3, 3, 5, 3, 0, 1, 1, 3, 3, 2, 2, 2, 3, 1, 1, 3, 1, 1, 2, 4, 1, 4, 0, 1, 3, 5, 3, 3, 3, 3, 4, 5, 1, 3, 1, 3, 3, 2, 2, 2, 4, 4, 0, 3, 3, 1, 3, 1, 1, 1, 4, 1, 4, 3, 4, 4, 3, 1, 1, 3, 1, 1, 3, 1, 2, 3, 3, 4, 3, 3, 2, 1, 3, 1, 1, 3, 2, 1, 3, 5, 4, 2, 4, 0, 1, 1, 0, 2, 2, 2, 6, 4, 2, 4, 4, 2, 2, 1, 0, 3, 2, 0, 1, 1, 2, 2, 2, 3, 3, 4, 2, 2, 1, 5, 2, 1, 4, 1, 2, 2, 2, 3, 4, 2, 4, 2, 4, 1, 2, 3, 0, 1, 4, 5, 4, 3, 0, 3, 2, 0, 2, 3, 0, 3, 3, 4, 3, 3, 1, 2, 2, 5, 5, 2, 4, 4, 3, 6, 3, 4, 1, 2, 4, 1, 2, 4, 3, 2, 3, 3, 2, 3, 1, 2, 1, 3, 2, 2, 5, 2, 3, 2, 1, 3, 3, 3, 2, 2, 2, 1, 2, 1, 6, 1, 5, 1, 1, 1, 2, 4, 4, 5, 3, 1, 2, 5, 1, 5, 1, 2, 2, 0, 2, 0, 2, 3, 2, 3, 4, 2, 2, 1, 4, 5, 3, 5, 0, 0, 3, 4, 1, 4, 1, 2, 2, 1, 2, 1, 1, 1, 6, 1, 2, 2, 2, 3, 1, 2, 1, 2, 3, 3, 2, 5, 5, 2, 2, 3, 3, 1, 3, 3, 3, 1, 0, 0, 3, 5, 3, 4, 7, 4, 0, 5, 1, 1, 5, 1, 2, 0, 1, 2, 2, 0, 1, 4, 2, 1, 1, 2, 5, 2, 3, 3, 2, 3, 0, 2, 4, 0, 1, 0, 0, 0, 2, 2, 2, 4, 1, 2, 4, 4, 1, 3, 2, 3, 2, 6, 1, 2, 0, 2, 4, 2, 2, 2, 2, 3, 5, 4, 3, 4, 3, 0, 1, 5, 2, 0, 4, 3, 3, 3, 1, 1, 6, 2, 4, 1, 2, 3, 2, 4, 3, 2, 5, 3, 3, 2, 3, 3, 3, 3, 1, 2, 3, 2, 2, 2, 2, 0, 4, 0, 2, 4, 2, 2, 0, 1, 4, 2, 3, 4, 1, 1, 1, 1, 0, 3, 5, 2, 0, 3, 3, 2, 2, 4, 3, 3, 2, 4, 1, 4, 3, 1, 0, 0, 2, 2, 6, 2, 1, 3, 2, 1, 2, 2, 3, 3, 1, 3, 3, 2, 2, 0, 6, 3, 3, 4, 4, 4, 4, 4, 0, 3, 2, 2, 3, 1, 1, 3, 2, 1, 2, 1, 2, 2, 2, 3, 0, 4, 4, 1, 2, 1, 3, 1, 3, 4, 2, 3, 2, 6, 0, 1, 2, 3, 3, 1, 5, 2, 0, 2, 0, 3, 1, 6, 3, 1, 2, 1, 2, 2, 1, 1, 3, 0, 3, 0, 3, 3, 1, 1, 1, 3, 4, 2, 1, 3, 3, 1, 3, 2, 2, 2, 0, 3, 2, 2, 4, 4, 1, 1, 1, 1, 1, 3, 1, 3, 3, 2, 3, 3, 2, 2, 5, 2, 2, 0, 2, 1, 4, 2, 3, 1, 3, 1, 5, 1, 6, 3, 3, 5, 1, 1, 2, 1, 0, 0, 1, 2, 4, 3, 4, 3, 1, 2, 2, 2, 1, 3, 5, 3, 3, 1, 1, 2, 1, 4, 1, 2, 2, 0, 4, 3, 1, 1, 0, 3, 2, 0, 3, 3, 4, 3, 1, 2, 3, 0, 5, 2, 0, 3, 4, 3, 3, 5, 1, 2, 1, 2, 1, 1, 3, 3, 3, 3, 3, 3, 1, 5, 4, 3, 0, 0, 4, 3, 3, 1, 3, 4, 1, 3, 0, 1, 5, 3, 2, 0, 3, 2, 2, 3, 5, 4, 1, 6, 2, 1, 2, 5, 4, 4, 0, 2, 4, 1, 6, 6, 3, 0, 1, 1, 2, 1, 1, 2, 5, 3, 1, 1, 1, 2, 1, 2, 1, 2, 1, 3, 3, 2, 5, 2, 1, 5, 1, 2, 2, 3, 2, 0, 4, 0, 2, 2, 1, 2, 2, 3, 1, 3, 1, 2, 3, 3, 1, 2, 3, 1, 6, 3, 2, 2, 2, 1, 3, 3, 1, 4, 1, 1, 3, 3, 1, 1, 0, 2, 2, 4, 4, 2, 2, 0, 1, 1, 3, 4, 4, 3, 3, 4, 5, 1, 3, 1, 0, 2, 2, 4, 5, 0, 4, 3, 2, 4, 4, 2, 1, 3, 5, 2, 0, 3, 6, 3, 0, 3, 1, 2, 0, 3, 3, 3, 3, 5, 3, 1, 2, 3, 3, 0, 1, 3, 2, 2, 3, 4, 0, 0, 4, 1, 3, 2, 3, 5, 3, 1, 1, 1, 2, 2, 3, 3, 3, 2, 3, 2, 4, 2, 3, 3, 2, 2, 0, 2, 4, 3, 3, 1, 4, 2, 1, 2, 1, 3, 3, 3, 1, 3, 5, 3, 2, 4, 2, 5, 2, 3, 1, 5, 2, 3, 4, 1, 2, 1, 2, 2, 1, 0, 0, 3, 1, 3, 2, 4, 3, 4, 1, 4, 5, 3, 3, 4, 3, 5, 3, 1, 1, 2, 6, 2, 1, 1, 2, 1, 1, 3, 0, 2, 4, 3, 1, 1, 2, 1, 1, 0, 3, 6, 2, 4, 1, 2, 5, 1, 1, 2, 4, 2, 3, 3, 2, 2, 1, 2, 7, 2, 1, 1, 1, 5, 2, 5, 4, 7, 3, 0, 2, 3, 1, 4, 3, 3, 3, 1, 2, 2, 5, 2, 2, 2, 2, 3, 3, 2, 4, 4, 3, 3, 3, 2, 2, 4, 1, 2, 4, 1, 2, 2, 1, 2, 5, 3, 2, 3, 4, 1, 1, 2, 4, 3, 5, 1, 5, 0, 1, 2, 3, 3, 0, 5, 1, 1, 1, 2, 3, 1, 3, 1, 0, 3, 3, 1, 1, 3, 2, 3, 1, 1, 4, 3, 2, 1, 0, 2, 2, 4, 0, 3, 3, 4, 0, 3, 6, 1, 2, 2, 2, 1, 2, 5, 2, 1, 4, 2, 3, 2, 3, 1, 2, 0, 3, 2, 2, 5, 1, 4, 1, 1, 0, 2, 2, 3, 3, 3, 3, 4, 1, 1, 4, 3, 2, 1, 2, 1, 4, 0, 4, 2, 5, 2, 1, 9, 3, 2, 3, 1, 4, 2, 3, 2, 5, 4, 2, 2, 0, 3, 3, 2, 1, 2, 0, 1, 5, 3, 1, 3, 2, 3, 4, 3, 2, 4, 1, 2, 2, 3, 2, 2, 1, 2, 2, 2, 1, 1, 2, 1, 3, 0, 2, 3, 2, 3, 0, 3, 1, 4, 3, 1, 0, 2, 1, 7, 3, 2, 2, 1, 3, 2, 3, 3, 2, 5, 0, 4, 2, 1, 2, 3, 0, 1, 1, 1, 1, 2, 1, 1, 2, 1, 1, 5, 2, 1, 4, 1, 3, 1, 3, 2, 0, 3, 3, 1, 2, 6, 3, 1, 0, 4, 2, 2, 1, 2, 1, 4, 1, 1, 1, 5, 3, 3, 3, 4, 3, 4, 2, 2, 4, 3, 2, 0, 4, 3, 3, 3, 2, 3, 2, 1, 2, 2, 4, 3, 4, 2, 2, 2, 3, 2, 3, 3, 0, 2, 1, 3, 4, 4, 1, 1, 3, 3, 3, 1, 1, 3, 0, 1, 4, 1, 2, 5, 1, 3, 4, 4, 1, 3, 1, 1, 0, 1, 5, 6, 2, 5, 2, 3, 3, 2, 4, 3, 1, 6, 1, 4, 3, 2, 5, 2, 7, 4, 4, 2, 2, 4, 1, 0, 3, 5, 2, 4, 4, 2, 3, 3, 2, 2, 3, 3, 6, 0, 0, 2, 3, 5, 0, 2, 3, 2, 1, 1, 5, 1, 3, 3, 2, 2, 1, 1, 2, 2, 0]\n",
      "longest list: 10\n",
      "number of internal lists: 3968\n"
     ]
    }
   ],
   "source": [
    "import random\n",
    "\n",
    "ht = SeparateChainingHashtable()\n",
    "for i in range(0, 10000):\n",
    "    ht.put(random.randint(0, 100000), \"\")\n",
    "print(ht.lengthOfInternalLists())\n",
    "print('longest list:', max(ht.lengthOfInternalLists()))\n",
    "print(\"number of internal lists:\", ht._M)"
   ]
  },
  {
   "cell_type": "markdown",
   "metadata": {},
   "source": [
    "#### Übung: \n",
    "* Implementieren Sie die Methode ```resize```"
   ]
  },
  {
   "cell_type": "markdown",
   "metadata": {},
   "source": [
    "## Lineares sondieren"
   ]
  },
  {
   "cell_type": "markdown",
   "metadata": {},
   "source": [
    "In der zweiten Implementation verwenden wir *lineares Sondieren*. \n",
    "\n",
    "*Achtung, auch hier belassen wir die Grösse der Tabelle fix. Für eine praktikable Implementation müssten wir natürlich die Tabelle dynamisch vergrössern.*"
   ]
  },
  {
   "cell_type": "code",
   "execution_count": 28,
   "metadata": {},
   "outputs": [],
   "source": [
    "import copy\n",
    "\n",
    "class LinearProbingHashtable:\n",
    "    \n",
    "    def __init__(self, printKeysOnInsert=False):\n",
    "        self._M = 17 #7919\n",
    "        self._keys = [None] * self._M\n",
    "        self._values = [None] * self._M\n",
    "        self._N = 0\n",
    "        self._printKeys = printKeysOnInsert\n",
    "   \n",
    "    \n",
    "    def _hash(self, key):\n",
    "        positiveHash = hash(key) % ((sys.maxsize + 1) * 2) \n",
    "        return positiveHash % self._M\n",
    "\n",
    "    def get(self, key):\n",
    "        i = self._hash(key);\n",
    "        \n",
    "        while self._keys[i] != None:\n",
    "            if (self._keys[i] == key):\n",
    "                return self._values[i]\n",
    "            i = (i + 1) % len(self._keys)        \n",
    "    \n",
    "    def put(self, key, value):\n",
    "        if self._printKeys:\n",
    "            print(self._keys)\n",
    "            \n",
    "        i = self._hash(key)\n",
    "        while self._keys[i] != None:\n",
    "            if self._keys[i] == key:\n",
    "                break;\n",
    "            i = (i + 1) % len(self._keys)  \n",
    "        if self._keys[i] == None:\n",
    "            self._N += 1;\n",
    "\n",
    "        self._keys[i] = key;\n",
    "        self._values[i] = value\n",
    "            \n",
    "    def size(self):\n",
    "        return self._M\n",
    "\n",
    "    def isEmpty(self):\n",
    "        return self.size() != 0\n",
    "    \n",
    "    def contains(self, key):\n",
    "        return self.get(key) != None\n",
    "    \n",
    "    def keys(self):\n",
    "        for key in self._keys:\n",
    "            if (key != None):\n",
    "                yield key\n",
    "\n",
    "    def delete(self, key):\n",
    "        i = self._hash(key)\n",
    "        \n",
    "        # search for key to delete\n",
    "        while (self._keys[i] != None and self._keys[i] != key):\n",
    "            i = (i + 1) % len(self._keys)\n",
    "        \n",
    "        # return early if not found\n",
    "        if key == None or self._keys[i] != key:\n",
    "            return\n",
    "        \n",
    "        # delete key and value\n",
    "        self._keys[i] = None\n",
    "        self._values[i] = None\n",
    "        self._N -= 1;\n",
    "        \n",
    "        # rehash rest of cluster\n",
    "        i = (i + 1) % len(self._keys)\n",
    "        while self._keys[i] != None:\n",
    "            # copy/clone the key value pair\n",
    "            key2rehash = copy.copy(self._keys[i])\n",
    "            value2rehash = copy.copy(self._values[i])\n",
    "            \n",
    "            # delete and readd the key value pair\n",
    "            self._keys[i] = None\n",
    "            self._values[i] = None\n",
    "            self._N -= 1;\n",
    "            self.put(key2rehash, value2rehash)\n",
    "            \n",
    "            i = (i + 1) % len(self._keys)\n",
    "            "
   ]
  },
  {
   "cell_type": "markdown",
   "metadata": {},
   "source": [
    "Wenn wir in diese Tabelle einfügen und uns in jedem Schritt die Schlüssel ausgeben lassen, dann sehen wir das typische Clustering. "
   ]
  },
  {
   "cell_type": "code",
   "execution_count": 30,
   "metadata": {},
   "outputs": [
    {
     "name": "stdout",
     "output_type": "stream",
     "text": [
      "[None, None, None, None, None, None, None, None, None, None, None, None, None, None, None, None, None]\n",
      "[None, None, 'S', None, None, None, None, None, None, None, None, None, None, None, None, None, None]\n",
      "[None, 'E', 'S', None, None, None, None, None, None, None, None, None, None, None, None, None, None]\n",
      "[None, 'E', 'S', None, None, None, None, None, None, None, None, None, 'A', None, None, None, None]\n",
      "[None, 'E', 'S', None, None, None, None, None, None, 'R', None, None, 'A', None, None, None, None]\n",
      "[None, 'E', 'S', None, 'C', None, None, None, None, 'R', None, None, 'A', None, None, None, None]\n",
      "[None, 'E', 'S', None, 'C', 'H', None, None, None, 'R', None, None, 'A', None, None, None, None]\n",
      "[None, 'E', 'S', None, 'C', 'H', None, None, None, 'R', None, None, 'A', None, None, None, None]\n",
      "[None, 'E', 'S', None, 'C', 'H', None, None, 'X', 'R', None, None, 'A', None, None, None, None]\n",
      "[None, 'E', 'S', None, 'C', 'H', None, None, 'X', 'R', None, None, 'A', None, None, None, None]\n",
      "[None, 'E', 'S', None, 'C', 'H', None, None, 'X', 'R', None, None, 'A', None, None, None, 'M']\n",
      "[None, 'E', 'S', None, 'C', 'H', None, None, 'X', 'R', None, None, 'A', 'P', None, None, 'M']\n",
      "[None, 'E', 'S', None, 'C', 'H', None, 'L', 'X', 'R', None, None, 'A', 'P', None, None, 'M']\n"
     ]
    }
   ],
   "source": [
    "ht = LinearProbingHashtable(printKeysOnInsert=True)\n",
    "for (pos, c) in enumerate(\"SEARCHEXAMPLE\"):\n",
    "    ht.put(c, pos)\n",
    "\n",
    "for key in ht.keys():\n",
    "    print(\"Deleting\", key)\n",
    "    ht.delete(key)\n",
    "    print(ht._keys)"
   ]
  },
  {
   "cell_type": "markdown",
   "metadata": {},
   "source": [
    "#### Übung:\n",
    "* Implementieren Sie die ```delete``` Methode"
   ]
  },
  {
   "cell_type": "code",
   "execution_count": null,
   "metadata": {},
   "outputs": [],
   "source": []
  }
 ],
 "metadata": {
  "anaconda-cloud": {},
  "kernelspec": {
   "display_name": "Python 3",
   "language": "python",
   "name": "python3"
  },
  "language_info": {
   "codemirror_mode": {
    "name": "ipython",
    "version": 3
   },
   "file_extension": ".py",
   "mimetype": "text/x-python",
   "name": "python",
   "nbconvert_exporter": "python",
   "pygments_lexer": "ipython3",
   "version": "3.7.4"
  },
  "nbpresent": {
   "slides": {},
   "themes": {}
  }
 },
 "nbformat": 4,
 "nbformat_minor": 1
}
