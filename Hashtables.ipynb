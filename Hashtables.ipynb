{
 "cells": [
  {
   "cell_type": "markdown",
   "metadata": {},
   "source": [
    "# Hashtabellen"
   ]
  },
  {
   "cell_type": "markdown",
   "metadata": {},
   "source": [
    "Die wichtigste Komponente um einen Hashtabelle bauen zu können ist die Hashfunktion, welche uns für jedes Objekt einen Ganzzahligen Wert (den Hashwert) liefert. In Python berechnen wir dies mit der Funktion ```hash```. Für alle Standardtypen in Python ist die Hashfunktion bereits definiert."
   ]
  },
  {
   "cell_type": "code",
   "execution_count": 2,
   "metadata": {},
   "outputs": [
    {
     "name": "stdout",
     "output_type": "stream",
     "text": [
      "Hashwert für String abc -7130807936805802683\n",
      "Hashwert für Integer 7 7\n",
      "Hashwert für Tuple (\"abc\", 7) -7170963661005626837\n"
     ]
    }
   ],
   "source": [
    "print(\"Hashwert für String abc\", hash(\"abc\"))\n",
    "print(\"Hashwert für Integer 7\", hash(7))\n",
    "print(\"Hashwert für Tuple (\\\"abc\\\", 7)\", hash((\"abc\",7)))"
   ]
  },
  {
   "cell_type": "markdown",
   "metadata": {},
   "source": [
    "Wir wir Hashfunktionen für eigene Datentypen bauen können, und was wir dabei beachten müssen, wird in einem separaten Notebook behandelt. Für die Nachfolgenden Implementationen gehen wir davon aus, dass die Hashfunktion für den Schlüssel bereits definiert ist. "
   ]
  },
  {
   "cell_type": "markdown",
   "metadata": {},
   "source": [
    "## Implementation von Hashtabellen"
   ]
  },
  {
   "cell_type": "markdown",
   "metadata": {},
   "source": [
    "### Verkettung"
   ]
  },
  {
   "cell_type": "markdown",
   "metadata": {},
   "source": [
    "Die erste Implementation von Hashtabellen die wir sehen, löst Konflikte auf, indem für jedes Element im Array eine Verkettete Liste mit allen Schlüssel/Werte-paaren gespeichert wird. \n",
    "*Achtung: Wir nehmen hier eine fixe Grösse der Tabelle an. Sie können die resize Methoden als Übung hinzufügen.*"
   ]
  },
  {
   "cell_type": "code",
   "execution_count": 18,
   "metadata": {},
   "outputs": [],
   "source": [
    "import sys\n",
    "class SeparateChainingHashtable:\n",
    "    def __init__(self):\n",
    "        self._M = 31 # Number of chains\n",
    "        self._st = [None]*self._M # chains\n",
    "        self._N = 0\n",
    "    \n",
    "    class Node:\n",
    "        def __init__(self, key, value, next = None):\n",
    "            self.key = key\n",
    "            self.value = value\n",
    "            self.next = next\n",
    "      \n",
    "\n",
    "    def _hash(self, key):\n",
    "        positiveHash = hash(key) % ((sys.maxsize + 1) * 2) \n",
    "        return positiveHash % self._M\n",
    "        \n",
    "    def get(self, key):\n",
    "        i = self._hash(key);\n",
    "        x = self._st[i]\n",
    "        while x != None:\n",
    "            if key == x.key:\n",
    "                return x.value\n",
    "            x = x.next\n",
    "        return None\n",
    "    \n",
    "    def put(self, key, value):\n",
    "        i = self._hash(key);\n",
    "        x = self._st[i]\n",
    "        while x != None:\n",
    "            if key == x.key:\n",
    "                x.value = value\n",
    "                return\n",
    "            x = x.next\n",
    "        self._st[i] = SeparateChainingHashtable.Node(key, value, next = self._st[i]);\n",
    "        self._N += 1\n",
    "    \n",
    "    def delete(self, key):\n",
    "        i = self._hash(key);\n",
    "        \n",
    "        x  = self._st[i]\n",
    "        if x == None:\n",
    "            return\n",
    "        \n",
    "        if key == x.key:\n",
    "            self._st[i] = x.next   \n",
    "            self._N -= 1\n",
    "            return \n",
    "        \n",
    "        while x.next != None:\n",
    "            if key == x.next.key:\n",
    "                x.next = x.next.next\n",
    "                self._N -= 1\n",
    "                return\n",
    "        \n",
    "    def contains(self, key):\n",
    "        return get(key) != None\n",
    "    \n",
    "    def size(self):\n",
    "        return self._N\n",
    "    \n",
    "    def isEmpty(self):\n",
    "        return self.size() != None\n",
    "    \n",
    "    def keys(self):\n",
    "        for st in self._st:\n",
    "            x = st\n",
    "            while x != None:\n",
    "                yield x.key\n",
    "                x = x.next\n",
    "    \n",
    "    # helper function to diagnose implementation\n",
    "    def lengthOfInternalLists(self):\n",
    "        lengths = []\n",
    "        for st in self._st:\n",
    "            lengths.append(self._length(st))\n",
    "        return lengths\n",
    "    \n",
    "    def _length(self, st):\n",
    "        n = 0\n",
    "        x = st\n",
    "        while x != None:\n",
    "            n += 1\n",
    "            x = x.next\n",
    "        return n"
   ]
  },
  {
   "cell_type": "code",
   "execution_count": 19,
   "metadata": {},
   "outputs": [],
   "source": [
    "ht = SeparateChainingHashtable()\n",
    "for (pos, c) in enumerate(\"SEARCHEXAMPLE\"):\n",
    "    ht.put(c, pos)"
   ]
  },
  {
   "cell_type": "code",
   "execution_count": 20,
   "metadata": {},
   "outputs": [
    {
     "name": "stdout",
     "output_type": "stream",
     "text": [
      "X 7\n",
      "A 8\n",
      "S 0\n",
      "H 5\n",
      "R 3\n",
      "M 9\n",
      "E 12\n",
      "P 10\n",
      "C 4\n",
      "L 11\n"
     ]
    }
   ],
   "source": [
    "for key in ht.keys():\n",
    "    print(key, ht.get(key))"
   ]
  },
  {
   "cell_type": "markdown",
   "metadata": {},
   "source": [
    "Wir sehen, dass im Gegensatz zu Binären Suchbäumen, die Schüssel hier nicht geordnet sind. "
   ]
  },
  {
   "cell_type": "markdown",
   "metadata": {},
   "source": [
    "Als nächstes fügen wir zufällige Elemente ein und schauen uns die Länge der internen Listen an."
   ]
  },
  {
   "cell_type": "code",
   "execution_count": 26,
   "metadata": {},
   "outputs": [
    {
     "name": "stdout",
     "output_type": "stream",
     "text": [
      "[314, 325, 335, 317, 319, 290, 282, 322, 311, 296, 300, 302, 304, 311, 321, 302, 304, 302, 314, 287, 302, 340, 312, 318, 318, 288, 282, 290, 318, 281, 319]\n"
     ]
    }
   ],
   "source": [
    "import random\n",
    "\n",
    "ht = SeparateChainingHashtable()\n",
    "for i in range(0, 10000):\n",
    "    ht.put(random.randint(0, 100000), \"\")\n",
    "print(ht.lengthOfInternalLists())\n"
   ]
  },
  {
   "cell_type": "markdown",
   "metadata": {},
   "source": [
    "#### Übung: \n",
    "* Implementieren Sie die Methode ```resize```"
   ]
  },
  {
   "cell_type": "markdown",
   "metadata": {},
   "source": [
    "## Lineares sondieren"
   ]
  },
  {
   "cell_type": "markdown",
   "metadata": {},
   "source": [
    "In der zweiten Implementation verwenden wir *lineares Sondieren*. \n",
    "\n",
    "*Achtung, auch hier belassen wir die Grösse der Tabelle fix. Für eine praktikable Implementation müssten wir natürlich die Tabelle dynamisch vergrössern.*"
   ]
  },
  {
   "cell_type": "code",
   "execution_count": 28,
   "metadata": {},
   "outputs": [],
   "source": [
    "class LinearProbingHashtable:\n",
    "    \n",
    "    def __init__(self, printKeysOnInsert=False):\n",
    "        self._M = 17 #7919\n",
    "        self._keys = [None] * self._M\n",
    "        self._values = [None] * self._M\n",
    "        self._N = 0\n",
    "        self._printKeys = printKeysOnInsert\n",
    "   \n",
    "    \n",
    "    def _hash(self, key):\n",
    "        positiveHash = hash(key) % ((sys.maxsize + 1) * 2) \n",
    "        return positiveHash % self._M\n",
    "\n",
    "    def get(self, key):\n",
    "        i = self._hash(key);\n",
    "        \n",
    "        while self._keys[i] != None:\n",
    "            if (self._keys[i] == key):\n",
    "                return self._values[i]\n",
    "            i = (i + 1) % len(self._keys)        \n",
    "    \n",
    "    def put(self, key, value):\n",
    "        if self._printKeys:\n",
    "            print(self._keys)\n",
    "            \n",
    "        i = self._hash(key)\n",
    "        while self._keys[i] != None:\n",
    "            if self._keys[i] == key:\n",
    "                break;\n",
    "            i = (i + 1) % len(self._keys)  \n",
    "        if self._keys[i] == None:\n",
    "            self._N += 1;\n",
    "\n",
    "        self._keys[i] = key;\n",
    "        self._values[i] = value\n",
    "            \n",
    "    def size(self):\n",
    "        return self._M\n",
    "\n",
    "    def isEmpty(self):\n",
    "        return self.size() != 0\n",
    "    \n",
    "    def contains(self, key):\n",
    "        return self.get(key) != None\n",
    "    \n",
    "    def keys(self):\n",
    "        for key in self._keys:\n",
    "            if (key != None):\n",
    "                yield key\n"
   ]
  },
  {
   "cell_type": "markdown",
   "metadata": {},
   "source": [
    "Wenn wir in diese Tabelle einfügen und uns in jedem Schritt die Schlüssel ausgeben lassen, dann sehen wir das typische Clustering. "
   ]
  },
  {
   "cell_type": "code",
   "execution_count": 30,
   "metadata": {},
   "outputs": [
    {
     "name": "stdout",
     "output_type": "stream",
     "text": [
      "[None, None, None, None, None, None, None, None, None, None, None, None, None, None, None, None, None]\n",
      "[None, None, 'S', None, None, None, None, None, None, None, None, None, None, None, None, None, None]\n",
      "[None, 'E', 'S', None, None, None, None, None, None, None, None, None, None, None, None, None, None]\n",
      "[None, 'E', 'S', None, None, None, None, None, None, None, None, None, 'A', None, None, None, None]\n",
      "[None, 'E', 'S', None, None, None, None, None, None, 'R', None, None, 'A', None, None, None, None]\n",
      "[None, 'E', 'S', None, 'C', None, None, None, None, 'R', None, None, 'A', None, None, None, None]\n",
      "[None, 'E', 'S', None, 'C', 'H', None, None, None, 'R', None, None, 'A', None, None, None, None]\n",
      "[None, 'E', 'S', None, 'C', 'H', None, None, None, 'R', None, None, 'A', None, None, None, None]\n",
      "[None, 'E', 'S', None, 'C', 'H', None, None, 'X', 'R', None, None, 'A', None, None, None, None]\n",
      "[None, 'E', 'S', None, 'C', 'H', None, None, 'X', 'R', None, None, 'A', None, None, None, None]\n",
      "[None, 'E', 'S', None, 'C', 'H', None, None, 'X', 'R', None, None, 'A', None, None, None, 'M']\n",
      "[None, 'E', 'S', None, 'C', 'H', None, None, 'X', 'R', None, None, 'A', 'P', None, None, 'M']\n",
      "[None, 'E', 'S', None, 'C', 'H', None, 'L', 'X', 'R', None, None, 'A', 'P', None, None, 'M']\n"
     ]
    }
   ],
   "source": [
    "ht = LinearProbingHashtable(printKeysOnInsert=True)\n",
    "for (pos, c) in enumerate(\"SEARCHEXAMPLE\"):\n",
    "    ht.put(c, pos)"
   ]
  },
  {
   "cell_type": "markdown",
   "metadata": {},
   "source": [
    "#### Übung:\n",
    "* Implementieren Sie die ```delete``` Methode"
   ]
  },
  {
   "cell_type": "code",
   "execution_count": null,
   "metadata": {},
   "outputs": [],
   "source": []
  }
 ],
 "metadata": {
  "anaconda-cloud": {},
  "kernelspec": {
   "display_name": "Python 3",
   "language": "python",
   "name": "python3"
  },
  "language_info": {
   "codemirror_mode": {
    "name": "ipython",
    "version": 3
   },
   "file_extension": ".py",
   "mimetype": "text/x-python",
   "name": "python",
   "nbconvert_exporter": "python",
   "pygments_lexer": "ipython3",
   "version": "3.7.4"
  },
  "nbpresent": {
   "slides": {},
   "themes": {}
  }
 },
 "nbformat": 4,
 "nbformat_minor": 1
}
