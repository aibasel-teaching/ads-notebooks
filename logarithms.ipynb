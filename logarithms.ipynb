{
 "cells": [
  {
   "cell_type": "markdown",
   "metadata": {},
   "source": [
    "# Logarithms"
   ]
  },
  {
   "cell_type": "code",
   "execution_count": null,
   "metadata": {},
   "outputs": [],
   "source": [
    "%matplotlib inline\n",
    "\n",
    "import matplotlib\n",
    "import matplotlib.pyplot as plt\n",
    "import numpy as np"
   ]
  },
  {
   "cell_type": "markdown",
   "metadata": {},
   "source": [
    "The logarithm is the inverse function to exponentiation."
   ]
  },
  {
   "cell_type": "code",
   "execution_count": null,
   "metadata": {},
   "outputs": [],
   "source": [
    "x = np.linspace(0.01, 50, 500)\n",
    "#plt.plot(x, np.log2(2**x), label=r'$\\log_{2}(2^x)$')\n",
    "plt.plot(x, 2**(np.log2(x)), label=r'$2^{\\log_{2}(x)}$')\n",
    "plt.legend()"
   ]
  },
  {
   "cell_type": "markdown",
   "metadata": {},
   "source": [
    "The logarithm grows (from a certain value) very slowly."
   ]
  },
  {
   "cell_type": "code",
   "execution_count": null,
   "metadata": {},
   "outputs": [],
   "source": [
    "x = np.linspace(0.01, 100000, 1000)\n",
    "plt.plot(x, np.log2(x), ls=\"-\", label=r'$\\log_2x$')\n",
    "plt.plot(x, np.log(x), ls=\"-\", label=r'$\\log_ex$')\n",
    "plt.plot(x, np.log10(x), ls=\"-\", label=r'$\\log_{10}x$')\n",
    "plt.legend()"
   ]
  },
  {
   "cell_type": "markdown",
   "metadata": {},
   "source": [
    "We can use the equation $\\log_b x = \\log_a x/ \\log_a b$ to compute logarithms to arbitrary bases:"
   ]
  },
  {
   "cell_type": "code",
   "execution_count": null,
   "metadata": {},
   "outputs": [],
   "source": [
    "basis = 8\n",
    "plt.plot(x, np.log2(x)/np.log2(basis), ls=\"-\", label=r'$\\log_{%s}x$' % basis)\n",
    "plt.legend()"
   ]
  },
  {
   "cell_type": "markdown",
   "metadata": {},
   "source": [
    "Observation: If we replace base $a$ with base $b$, the value changes by a constant factor."
   ]
  }
 ],
 "metadata": {
  "kernelspec": {
   "display_name": "Python 3 (ipykernel)",
   "language": "python",
   "name": "python3"
  },
  "language_info": {
   "codemirror_mode": {
    "name": "ipython",
    "version": 3
   },
   "file_extension": ".py",
   "mimetype": "text/x-python",
   "name": "python",
   "nbconvert_exporter": "python",
   "pygments_lexer": "ipython3",
   "version": "3.11.4"
  }
 },
 "nbformat": 4,
 "nbformat_minor": 4
}
