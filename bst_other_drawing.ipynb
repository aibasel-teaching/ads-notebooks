{
 "cells": [
  {
   "cell_type": "code",
   "execution_count": 6,
   "id": "0ef72f0c-5dc7-4e64-a6e6-f4d8da6ac7af",
   "metadata": {},
   "outputs": [],
   "source": [
    "import networkx as nx\n",
    "import matplotlib.pyplot as plt"
   ]
  },
  {
   "cell_type": "code",
   "execution_count": 70,
   "id": "96d5c0b3-7b45-4a46-bb72-17a722734361",
   "metadata": {},
   "outputs": [],
   "source": [
    "# helper function for drawing trees\n",
    "\n",
    "def binary_tree_layout(graph, root, width=1., vert_gap = 0.2, vert_loc = 0, xcenter = 0.5, \n",
    "                  pos=dict(), parent = None):\n",
    "    '''If there is a cycle that is reachable from root, then this will see infinite recursion.\n",
    "       G: the graph\n",
    "       root: the root node of current branch\n",
    "       width: horizontal space allocated for this branch - avoids overlap with other branches\n",
    "       vert_gap: gap between levels of hierarchy\n",
    "       vert_loc: vertical location of root\n",
    "       xcenter: horizontal location of root\n",
    "       pos: a dict saying where all nodes go if they have been assigned\n",
    "       parent: parent of this branch.\n",
    "       each node has an attribute \"left: or \"right\"'''\n",
    "    pos[root] = (xcenter, vert_loc)\n",
    "    neighbors = list(graph.neighbors(root))\n",
    "    num_children = len(neighbors)\n",
    "    if parent is not None:\n",
    "        num_children -= 1\n",
    "    if len(neighbors)!=0:\n",
    "        dx = width/2.\n",
    "        leftx = xcenter - dx/2\n",
    "        rightx = xcenter + dx/2\n",
    "        for neighbor in neighbors:\n",
    "            if neighbor == parent:\n",
    "                continue\n",
    "            if graph.nodes[neighbor]['is_left']:\n",
    "                pos = binary_tree_layout(graph ,neighbor, width = dx, vert_gap = vert_gap, \n",
    "                                    vert_loc = vert_loc-vert_gap, xcenter=leftx, pos=pos, \n",
    "                                        parent = root)\n",
    "            else:\n",
    "                pos = binary_tree_layout(graph,neighbor, width = dx, vert_gap = vert_gap, \n",
    "                                    vert_loc = vert_loc-vert_gap, xcenter=rightx, pos=pos, \n",
    "                        parent = root)\n",
    "    return pos"
   ]
  },
  {
   "cell_type": "code",
   "execution_count": 81,
   "id": "f5b6d4c6-1ac7-4800-854e-51a06accf6a3",
   "metadata": {},
   "outputs": [],
   "source": [
    "class BST:\n",
    "    class Node:\n",
    "        def __init__(self, key, value):\n",
    "            self.key = key\n",
    "            self.value = value\n",
    "            self.left = None\n",
    "            self.right = None\n",
    "\n",
    "    def __init__(self):\n",
    "        self.root = None\n",
    "\n",
    "    def inorder_tree_walk(self):\n",
    "        self._my_inorder_tree_walk(self.root)\n",
    "    \n",
    "    def _inorder_tree_walk(self, node=None):\n",
    "        if node is not None:\n",
    "            self._inorder_tree_walk(node.left)\n",
    "            print(f\"{node.key}({node.value})\", end=\" \")\n",
    "            self._inorder_tree_walk(node.right)\n",
    "\n",
    "    def _my_inorder_tree_walk(self, node=None):\n",
    "        if node is not None:\n",
    "            print(\"[\",end=\"\")\n",
    "            self._my_inorder_tree_walk(node.left)\n",
    "            print(f\"{node.key}({node.value})\", end=\" \")\n",
    "            self._my_inorder_tree_walk(node.right)\n",
    "            print(\"]\",end=\" \")\n",
    "\n",
    "    def insert(self, key, value):\n",
    "        node = BST.Node(key, value)\n",
    "        current = self.root\n",
    "        prev = None\n",
    "        while current is not None:\n",
    "            prev = current\n",
    "            if key < prev.key:\n",
    "                current = current.left\n",
    "            else:\n",
    "                current = current.right\n",
    "        if prev is None: # tree was empty\n",
    "            self.root = node\n",
    "        elif key < prev.key:\n",
    "            prev.left = node\n",
    "        else:\n",
    "            prev.right = node\n",
    "            \n",
    "    def draw(self): # for drawing; you do not need to understand this code.\n",
    "        def visit2(node, depth=0):\n",
    "            if node is None:\n",
    "                return None\n",
    "            left = visit2(node.left, depth+1)\n",
    "            node_no = next(counter)\n",
    "            labels[node_no] = f\"{node.key}: {node.value}\"\n",
    "            graph.add_node(node_no, depth=depth)\n",
    "            right = visit2(node.right, depth+1)\n",
    "            if left is not None:\n",
    "                graph.add_edge(node_no, left)\n",
    "            if right is not None:\n",
    "                graph.add_edge(node_no, right)\n",
    "            return node_no\n",
    "            \n",
    "        \n",
    "        def visit(node, parent_no, is_left):\n",
    "            if node is None:\n",
    "                return\n",
    "            node_no = next(counter)\n",
    "            labels[node_no] = f\"{node.key}: {node.value}\"\n",
    "            graph.add_node(node_no, is_left=is_left)\n",
    "            if parent_no is not None:\n",
    "                graph.add_edge(parent_no, node_no)\n",
    "            visit(node.left, node_no, True)\n",
    "            visit(node.right, node_no, False)\n",
    "            \n",
    "        from itertools import count\n",
    "        counter = count() # for assigning numbers to nodes\n",
    "        labels = {}\n",
    "        \n",
    "        graph = nx.Graph()\n",
    "        #visit(self.root, None, True)\n",
    "        visit2(self.root)\n",
    "        # done creating the networkx graph\n",
    "\n",
    "        pos = {}\n",
    "        for node in graph.nodes:\n",
    "            pos[node] = (node, -graph.nodes[node][\"depth\"])\n",
    "        #pos = binary_tree_layout(graph, 0)\n",
    "        nx.draw(graph, pos=pos, labels=labels, with_labels = True)\n",
    "\n",
    "        "
   ]
  },
  {
   "cell_type": "code",
   "execution_count": 82,
   "id": "e472016e-f007-4978-81ba-cba901c78fe1",
   "metadata": {},
   "outputs": [],
   "source": [
    "bst = BST()\n",
    "bst.insert(3, \"La\")\n",
    "bst.insert(5, \"Le\")\n",
    "bst.insert(4, \"Lu\")\n",
    "bst.insert(9, \"Di\")\n",
    "bst.insert(6, \"Del\")\n",
    "bst.insert(2, \"Du\")"
   ]
  },
  {
   "cell_type": "code",
   "execution_count": 55,
   "id": "b1898a21-64ea-4af8-8bce-2f9121bb41b0",
   "metadata": {},
   "outputs": [
    {
     "name": "stdout",
     "output_type": "stream",
     "text": [
      "[[2(Du) ] 3(La) [[4(Lu) ] 5(Le) [[6(Del) ] 9(Di) ] ] ] "
     ]
    }
   ],
   "source": [
    "bst.inorder_tree_walk()"
   ]
  },
  {
   "cell_type": "code",
   "execution_count": 83,
   "id": "945fa296-f4b2-4c02-a2d6-5d22b17b0042",
   "metadata": {},
   "outputs": [
    {
     "data": {
      "image/png": "[encoded data removed]",
      "text/plain": [
       "<Figure size 640x480 with 1 Axes>"
      ]
     },
     "metadata": {},
     "output_type": "display_data"
    }
   ],
   "source": [
    "bst.draw()"
   ]
  },
  {
   "cell_type": "code",
   "execution_count": 79,
   "id": "a34920eb-fba6-4cf0-993d-60393234f27e",
   "metadata": {},
   "outputs": [
    {
     "data": {
      "image/png": "[encoded data removed]",
      "text/plain": [
       "<Figure size 640x480 with 1 Axes>"
      ]
     },
     "metadata": {},
     "output_type": "display_data"
    }
   ],
   "source": [
    "bst.draw()"
   ]
  }
 ],
 "metadata": {
  "kernelspec": {
   "display_name": "Python 3 (ipykernel)",
   "language": "python",
   "name": "python3"
  },
  "language_info": {
   "codemirror_mode": {
    "name": "ipython",
    "version": 3
   },
   "file_extension": ".py",
   "mimetype": "text/x-python",
   "name": "python",
   "nbconvert_exporter": "python",
   "pygments_lexer": "ipython3",
   "version": "3.11.4"
  }
 },
 "nbformat": 4,
 "nbformat_minor": 5
}
