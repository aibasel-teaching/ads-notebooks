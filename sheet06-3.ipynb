{
 "cells": [
  {
   "cell_type": "markdown",
   "id": "55d89045-24ac-4e4e-a3cb-91ad8b7256f7",
   "metadata": {},
   "source": [
    "# Exercise 6.3: Extract largest numbers from stream"
   ]
  },
  {
   "cell_type": "markdown",
   "id": "ce2f436b-af29-4036-b16f-7280ff08e5cb",
   "metadata": {},
   "source": [
    "In this exercise we will consider an application of priority queues. We want to implement a function that extracts from a long stream of numbers the $m$ largest numbers. The memory requirement of the implementation should be linear in $m$ and the running time for processing $n$ numbers from the stream and printing the $m$ largest numbers should be in $O(n\\log_2 m + m)$."
   ]
  },
  {
   "cell_type": "markdown",
   "id": "f38bf106-5a83-41c6-a5fd-0c7c085dcd4b",
   "metadata": {},
   "source": [
    "In you implementation you should build on a min priority queue. We will use an analogous interface as the (max) priority queue from notebook `heaps.ipynb` but for the internal implementation we use the Python module `heapq`. You do not need to understand (and should not access) this internal implementation but only use the following class `MinPQ` via the provided methods. Please note that we also added a method `print_all_elements` that prints the currently contained items as a list."
   ]
  },
  {
   "cell_type": "code",
   "execution_count": null,
   "id": "43e8da21",
   "metadata": {},
   "outputs": [],
   "source": [
    "import heapq\n",
    "\n",
    "class MinPQ:\n",
    "    def __init__(self):\n",
    "        self.heap = []\n",
    "\n",
    "    def is_empty(self):\n",
    "        return len(self.heap) == 0\n",
    "\n",
    "    def size(self):\n",
    "        return len(self.heap)\n",
    "\n",
    "    def insert(self, item):\n",
    "        heapq.heappush(self.heap, item)\n",
    "\n",
    "    def minimum(self):\n",
    "        if self.is_empty():\n",
    "            raise Exception(\"invalid operation on empty pq\")\n",
    "        return self.heap[0]\n",
    "\n",
    "    def extract_min(self):\n",
    "        if self.is_empty():\n",
    "            raise Exception(\"invalid operation on empty pq\")\n",
    "        return heapq.heappop(self.heap)\n",
    "\n",
    "    def print_all_elements(self):\n",
    "        print(self.heap)"
   ]
  },
  {
   "cell_type": "markdown",
   "id": "98aa9151-c6b2-4421-b837-c848e8993fd4",
   "metadata": {},
   "source": [
    "For testing our function (see below), we need a data stream of numbers. For this purpose, we use a generator that successively generates numbers randomly according to a normal distribution."
   ]
  },
  {
   "cell_type": "code",
   "execution_count": null,
   "id": "b1633019-4332-44d0-a505-72caf4baf2a3",
   "metadata": {},
   "outputs": [],
   "source": [
    "import random\n",
    "\n",
    "def numberGenerator():\n",
    "    while True:\n",
    "        yield random.gauss(0, 1)"
   ]
  },
  {
   "cell_type": "markdown",
   "id": "14e55c68-0c58-483a-9853-138e2533d2f7",
   "metadata": {},
   "source": [
    "The `numberGenerator` generates the numbers on demand, one after the other. We can use `next` to get the next number:"
   ]
  },
  {
   "cell_type": "code",
   "execution_count": null,
   "id": "4727e59d-5c78-40ae-88e1-31d15c9497bc",
   "metadata": {},
   "outputs": [],
   "source": [
    "g = numberGenerator()\n",
    "for i in range(20):\n",
    "    print(next(g))"
   ]
  },
  {
   "cell_type": "markdown",
   "id": "34be5f97-d31f-439d-9147-ca70be3360be",
   "metadata": {},
   "source": [
    "Your task is to implement the following function `largest_m_numbers` that should print the `m` largest seen numbers from a data stream after processing `n` numbers from the stream. Parameter `data_stream` is some number generator as the one above, providing the stream. If `m > n` the implementation should only print `n` numbers (which should be naturally the case)."
   ]
  },
  {
   "cell_type": "code",
   "execution_count": null,
   "id": "e08ca9bc-fb3c-4188-bc02-4e9866d249dc",
   "metadata": {},
   "outputs": [],
   "source": [
    "def largest_m_numbers(m, data_stream, n):\n",
    "    priority_queue = MinPQ()\n",
    "    for _ in range(n):\n",
    "        # the \"_\" in this for loop is just a variable name (we could as well have used \"i\").\n",
    "        # In Python, it indicates that the variable is not used (by convention).\n",
    "        next_number = next(data_stream)\n",
    "        ...\n",
    "        # TODO suitably process next_number\n",
    "\n",
    "    # TODO print the m largest numbers"
   ]
  },
  {
   "cell_type": "markdown",
   "id": "8c0573e2-c17e-4ccd-ace7-27ba8f78e96c",
   "metadata": {},
   "source": [
    "Once you have finished the implementation, you can use it as follows:"
   ]
  },
  {
   "cell_type": "code",
   "execution_count": null,
   "id": "9fc15d55-ebda-426b-84d9-91d719341403",
   "metadata": {},
   "outputs": [],
   "source": [
    "g = numberGenerator()\n",
    "largest_m_numbers(5, g, 1000000)"
   ]
  },
  {
   "cell_type": "markdown",
   "id": "fe3d52f4-93f0-409d-9941-609ba6ba8159",
   "metadata": {},
   "source": [
    "With the given normal distribution and extracting the 5 largest of 1000000 numbers, you can expect the output to consist of numbers that are all higher than 4."
   ]
  },
  {
   "cell_type": "markdown",
   "id": "d55c960c-c655-4a04-8faf-355d771e1124",
   "metadata": {},
   "source": [
    "Let's also add a more controlled example, where the data stream contains the numbers 1 to 1000 in some random order. If your implementation is correct, it should output a list containing numbers 996, 997, ... , 1000 (in some order)."
   ]
  },
  {
   "cell_type": "code",
   "execution_count": null,
   "id": "5a5325e3-e64f-4a1d-9073-7c1a5f48d576",
   "metadata": {},
   "outputs": [],
   "source": [
    "l = list(range(1, 1001))\n",
    "random.shuffle(l)\n",
    "g = iter(l)\n",
    "largest_m_numbers(5, g, 1000)"
   ]
  }
 ],
 "metadata": {
  "kernelspec": {
   "display_name": "Python 3 (ipykernel)",
   "language": "python",
   "name": "python3"
  },
  "language_info": {
   "codemirror_mode": {
    "name": "ipython",
    "version": 3
   },
   "file_extension": ".py",
   "mimetype": "text/x-python",
   "name": "python",
   "nbconvert_exporter": "python",
   "pygments_lexer": "ipython3",
   "version": "3.12.3"
  }
 },
 "nbformat": 4,
 "nbformat_minor": 5
}
