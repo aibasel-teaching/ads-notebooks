{
 "cells": [
  {
   "cell_type": "markdown",
   "metadata": {},
   "source": [
    "# Kurze Python-Einführung"
   ]
  },
  {
   "cell_type": "markdown",
   "metadata": {},
   "source": [
    "##  Grundlagen"
   ]
  },
  {
   "cell_type": "markdown",
   "metadata": {},
   "source": [
    "Variablen haben keinen Typ, sondern nur die Objekte, auf die sie referenzieren. Die Typprüfung passiert erst zur Laufzeit."
   ]
  },
  {
   "cell_type": "code",
   "execution_count": null,
   "metadata": {},
   "outputs": [],
   "source": [
    "a = 3\n",
    "a/2"
   ]
  },
  {
   "cell_type": "code",
   "execution_count": null,
   "metadata": {},
   "outputs": [],
   "source": [
    "a = \"jetzt referenziert die Variable einen String\"\n",
    "a/2"
   ]
  },
  {
   "cell_type": "markdown",
   "metadata": {},
   "source": [
    "Die Abgrenzung von Anweisungsblöcken geschieht durch Einrückung, statt z.B. geschweifte Klammern wie in Java.\n",
    "\n",
    "(`range(stop)` generiert Zahlen von 0 bis stop-1.)"
   ]
  },
  {
   "cell_type": "code",
   "execution_count": null,
   "metadata": {},
   "outputs": [],
   "source": [
    "def count(to):\n",
    "    for val in range(to):\n",
    "        print(val + 1)\n",
    "    print(\"fertig\")\n",
    "\n",
    "count(5)"
   ]
  },
  {
   "cell_type": "markdown",
   "metadata": {},
   "source": [
    "`range(start, stop[, step])` generiert Zahlen von start bis (exklusive) stop mit Schrittweite step."
   ]
  },
  {
   "cell_type": "code",
   "execution_count": null,
   "metadata": {},
   "outputs": [],
   "source": [
    "for x in range(4, 16, 2):\n",
    "    print(x)"
   ]
  },
  {
   "cell_type": "code",
   "execution_count": null,
   "metadata": {},
   "outputs": [],
   "source": [
    "for x in range(5, -5, -3):\n",
    "    print(x)"
   ]
  },
  {
   "cell_type": "markdown",
   "metadata": {},
   "source": [
    "Inline-Kommentare beginnen mit `#`.\n",
    "\n",
    "Mehrzeilige Kommentare werden auch als mehrzeilige Strings geschrieben, die mit drei Anführungsstrichen `\"\"\"` eingeleitet und beendet werden."
   ]
  },
  {
   "cell_type": "code",
   "execution_count": null,
   "metadata": {},
   "outputs": [],
   "source": [
    "# Dies ist ein Kommentar.\n",
    "a = 3 # das geht auch am Ende einer Zeile\n",
    "\n",
    "\"\"\"Mehrzeilige Kommentare kann man auch als\n",
    "mehrzeiligen String schreiben.\n",
    "\n",
    "Dabei sind auch Leerzeilen möglich. Das wird meistens\n",
    "zur Codedokumentation oder auch für doctests (siehe\n",
    "Beispiel ganz unten) verwendet\"\"\"\n",
    "\n",
    "# Man kann aber auch mehrzeilige Kommentare\n",
    "# schreiben, indem man einfach mehrere einzeilige\n",
    "# hintereinanderschreibt."
   ]
  },
  {
   "cell_type": "markdown",
   "metadata": {},
   "source": [
    "## Listen und Tupel"
   ]
  },
  {
   "cell_type": "markdown",
   "metadata": {},
   "source": [
    "*Listen* und *Tupel* enthalten Sequenzen von Objekten.\n",
    "\n",
    "Listen werden in eckigen Klammern notiert, sie sind *veränderlich* (mutable), d.h., man kann zum Beispiel Elemente einfügen und entfernen.\n",
    "\n",
    "Tupel werden in runden Klammern notiert, sie sind *unveränderlich* (immutable), d.h. sie enthalten stets die gleichen Objekte in der gleichen Reihenfolge."
   ]
  },
  {
   "cell_type": "code",
   "execution_count": null,
   "metadata": {},
   "outputs": [],
   "source": [
    "l = [3, \"Hund\", \"Katze\"]\n",
    "t = (\"Superpapagei\", 31, [\"???\", \"Bob\"])"
   ]
  },
  {
   "cell_type": "markdown",
   "metadata": {},
   "source": [
    "Sequenzen können von vorne (nicht-negative Zahlen) oder hinten (negative Zahlen) indiziert werden.\n",
    "\n",
    "Das vorderste Element hat Index 0, das letze Index -1."
   ]
  },
  {
   "cell_type": "code",
   "execution_count": null,
   "metadata": {},
   "outputs": [],
   "source": [
    "(4, 5, 2, 9)[1]"
   ]
  },
  {
   "cell_type": "code",
   "execution_count": null,
   "metadata": {},
   "outputs": [],
   "source": [
    "(4, 5, 2, 9)[-2]"
   ]
  },
  {
   "cell_type": "markdown",
   "metadata": {},
   "source": [
    "Bei veränderlichen Sequenzen ist eine Zuweisung möglich."
   ]
  },
  {
   "cell_type": "code",
   "execution_count": null,
   "metadata": {},
   "outputs": [],
   "source": [
    "l = [\"Hund\", \"Katze\", 32]\n",
    "print(l)\n",
    "l[2] = \"Superpapagei\"\n",
    "print(l)"
   ]
  },
  {
   "cell_type": "markdown",
   "metadata": {},
   "source": [
    "Listen können mit `append` um ein Element erweitert werden."
   ]
  },
  {
   "cell_type": "code",
   "execution_count": null,
   "metadata": {},
   "outputs": [],
   "source": [
    "l = [\"Hund\", \"Katze\"]\n",
    "print(l)\n",
    "l.append(\"Superpapagei\")\n",
    "print(l)"
   ]
  },
  {
   "cell_type": "markdown",
   "metadata": {},
   "source": [
    "Die Länge einer Sequenz `seq` kann man mit `len(seq)` bestimmen."
   ]
  },
  {
   "cell_type": "code",
   "execution_count": null,
   "metadata": {},
   "outputs": [],
   "source": [
    "len([1,3,5,4])"
   ]
  },
  {
   "cell_type": "markdown",
   "metadata": {},
   "source": [
    "Hier noch ein paar Beispiele zu Tupeln und Listen:"
   ]
  },
  {
   "cell_type": "code",
   "execution_count": null,
   "metadata": {},
   "outputs": [],
   "source": [
    "fibonacci = (1, 1, 2, 3, 5, 8)\n",
    "print(fibonacci[0], fibonacci[2], fibonacci[-1])"
   ]
  },
  {
   "cell_type": "code",
   "execution_count": null,
   "metadata": {},
   "outputs": [],
   "source": [
    "fibonacci[-1] = 3"
   ]
  },
  {
   "cell_type": "code",
   "execution_count": null,
   "metadata": {},
   "outputs": [],
   "source": [
    "fibonacci_list = list(fibonacci) # erstellt Liste mit Elementen aus Tupel\n",
    "print(fibonacci_list)"
   ]
  },
  {
   "cell_type": "code",
   "execution_count": null,
   "metadata": {},
   "outputs": [],
   "source": [
    "fibonacci_list.append(14)\n",
    "print(fibonacci_list)"
   ]
  },
  {
   "cell_type": "code",
   "execution_count": null,
   "metadata": {},
   "outputs": [],
   "source": [
    "fibonacci_list[-1] = 13\n",
    "print(fibonacci_list)"
   ]
  },
  {
   "cell_type": "markdown",
   "metadata": {},
   "source": [
    "Tupel sind zwar unveränderlich, die enthaltenen Objekte können aber veränderlich sein."
   ]
  },
  {
   "cell_type": "code",
   "execution_count": null,
   "metadata": {},
   "outputs": [],
   "source": [
    "l = (3, \"Hund\", [\"Maus\"])\n",
    "l[2].append(\"Haus\")\n",
    "print(l)"
   ]
  },
  {
   "cell_type": "markdown",
   "metadata": {},
   "source": [
    "*Tupel unpacking* \"entpackt\" Werte auf der rechten Seite, um sie Variablen in Tupel auf der linken Seite zuzuweisen."
   ]
  },
  {
   "cell_type": "code",
   "execution_count": null,
   "metadata": {},
   "outputs": [],
   "source": [
    "(number, name) = (3, \"Johann Gambolputty\")\n",
    "print(number)\n",
    "print(name)"
   ]
  },
  {
   "cell_type": "markdown",
   "metadata": {},
   "source": [
    "Wenn es keine Mehrdeutigkeit gibt, kann man die Klammern auch weglassen."
   ]
  },
  {
   "cell_type": "code",
   "execution_count": null,
   "metadata": {},
   "outputs": [],
   "source": [
    "number, name = 3, \"Johann Gambolputty\"\n",
    "print(number)\n",
    "print(name)"
   ]
  },
  {
   "cell_type": "markdown",
   "metadata": {},
   "source": [
    "Tupel unpacking wird oft verwendet, um die Werte zweier Variablen zu tauschen:\n",
    "```\n",
    "var1, var2 = var2, var1\n",
    "```\n",
    "\n",
    "Achtung: Einelementige Tupel schreibt man mit abschliessendem Komma: ```(2,)```"
   ]
  },
  {
   "cell_type": "markdown",
   "metadata": {},
   "source": [
    "## Kontrollstrukturen"
   ]
  },
  {
   "cell_type": "markdown",
   "metadata": {},
   "source": [
    "### if/elif/else"
   ]
  },
  {
   "cell_type": "code",
   "execution_count": null,
   "metadata": {},
   "outputs": [],
   "source": [
    "x = 3\n",
    "\n",
    "if x > 0:\n",
    "    print(\"x ist positiv\")\n",
    "elif x == 0:\n",
    "    print(\"x ist Null\")\n",
    "else:\n",
    "    print(\"x ist negativ\")"
   ]
  },
  {
   "cell_type": "markdown",
   "metadata": {},
   "source": [
    "Logische Verknüpfung in Bedingungen erreicht man mit `and`, `or`, `not`:"
   ]
  },
  {
   "cell_type": "code",
   "execution_count": null,
   "metadata": {},
   "outputs": [],
   "source": [
    "x = 7\n",
    "y = 3\n",
    "\n",
    "print(x > 5 and y < 3)"
   ]
  },
  {
   "cell_type": "markdown",
   "metadata": {},
   "source": [
    "### while- und for-Schleife"
   ]
  },
  {
   "cell_type": "code",
   "execution_count": null,
   "metadata": {},
   "outputs": [],
   "source": [
    "x = 5\n",
    "while x > 0:\n",
    "    print(x)\n",
    "    x -= 1"
   ]
  },
  {
   "cell_type": "code",
   "execution_count": null,
   "metadata": {},
   "outputs": [],
   "source": [
    "for x in range(5, 0, -1):\n",
    "    print(x)"
   ]
  },
  {
   "cell_type": "markdown",
   "metadata": {},
   "source": [
    "Sprung aus der Schleife mit `break`, Sprung zur nächsten Schleifeniteration mit `continue`:"
   ]
  },
  {
   "cell_type": "code",
   "execution_count": null,
   "metadata": {},
   "outputs": [],
   "source": [
    "for x in [1, \"Hund\", 5, \"Katze\", \"stop\", 0, \"Superpapagei\"]:\n",
    "    if not isinstance(x,str):  # x ist kein String.\n",
    "        continue\n",
    "    if x == \"stop\":\n",
    "        break\n",
    "    print(x)\n"
   ]
  },
  {
   "cell_type": "markdown",
   "metadata": {},
   "source": [
    "## Funktionen"
   ]
  },
  {
   "cell_type": "code",
   "execution_count": null,
   "metadata": {},
   "outputs": [],
   "source": [
    "def power(base, exponent):\n",
    "    return base ** exponent   # base \"hoch\" exponent\n",
    "\n",
    "power(2,3)"
   ]
  },
  {
   "cell_type": "markdown",
   "metadata": {},
   "source": [
    "## Beispiel: SelectionSort"
   ]
  },
  {
   "cell_type": "code",
   "execution_count": null,
   "metadata": {},
   "outputs": [],
   "source": [
    "def selection_sort(a):\n",
    "    \"\"\"Selectionsort sorting algorithm\n",
    "\n",
    "    >>> selection_sort([3, 1, 6, 3, 2])\n",
    "    [1, 2, 3, 3, 6]\n",
    "    >>> selection_sort([])\n",
    "    []\n",
    "    \"\"\"\n",
    "    for i in range(len(a) - 1):\n",
    "        min_index = i\n",
    "        for j in range(i + 1, len(a)):\n",
    "            if a[j] < a[min_index]:\n",
    "                min_index = j\n",
    "        a[i], a[min_index] = a[min_index], a[i]\n",
    "    return a"
   ]
  },
  {
   "cell_type": "code",
   "execution_count": null,
   "metadata": {},
   "outputs": [],
   "source": [
    "a = [2, 9, 3, 5, 3, 4]\n",
    "selection_sort(a)"
   ]
  }
 ],
 "metadata": {
  "kernelspec": {
   "display_name": "Python 3",
   "language": "python",
   "name": "python3"
  },
  "language_info": {
   "codemirror_mode": {
    "name": "ipython",
    "version": 3
   },
   "file_extension": ".py",
   "mimetype": "text/x-python",
   "name": "python",
   "nbconvert_exporter": "python",
   "pygments_lexer": "ipython3",
   "version": "3.9.7"
  }
 },
 "nbformat": 4,
 "nbformat_minor": 2
}
