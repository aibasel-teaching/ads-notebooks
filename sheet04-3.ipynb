{
 "cells": [
  {
   "cell_type": "markdown",
   "id": "55d89045-24ac-4e4e-a3cb-91ad8b7256f7",
   "metadata": {},
   "source": [
    "# Exercise 4.3"
   ]
  },
  {
   "cell_type": "markdown",
   "id": "ce2f436b-af29-4036-b16f-7280ff08e5cb",
   "metadata": {},
   "source": [
    "You want to implement a class `OccurrenceCounter` with the following behaviour:\n",
    "- The initializer (like a constructor in Java) takes a list `array` of (non-negative) integers and may perform some precomputation in time O(len(array)+max_val), where max_val is the maximum value in the array.\n",
    "- The method `number_elements_in_range` takes two parameters `a` and `b` and returns the number of elements in `array` from the range [a,b]. Each such query should only take constant time O(1).\n",
    "\n",
    "*For example:* For array `[1,2,1,3]`, the call `number_elements_in_range(1,2)` should return 3 because there are 3 entries $x$ in `array` with $1\\leq x\\leq 2$ (two ones plus one 2)."
   ]
  },
  {
   "cell_type": "code",
   "execution_count": null,
   "id": "43e8da21",
   "metadata": {},
   "outputs": [],
   "source": [
    "class OccurrenceCounter:\n",
    "    def __init__(self, array):\n",
    "        # You may assume that array contains non-negative integers.\n",
    "        # \"self\" roughly corresponds to \"this\" in Java, so self.counts (below) is a member variable.\n",
    "        \n",
    "        max_val = max(array) # determine the maximum entry in the array; takes linear time in len(array)\n",
    "        self.counts = ...\n",
    "        \n",
    "        # TODO precompute the necessary data to enable constant-time queries by the method number_elements_in_range\n",
    "        \n",
    "\n",
    "    def number_elements_in_range(self, a, b):\n",
    "        # You may assume that a and b are non-negative integers with a <= b\n",
    "\n",
    "        # TODO use a constant time computation and return the number of elements\n",
    "        # x in array (from __init__) with a <= x <= b.\n",
    "        # You can access the member variable from the constructor by self.counts.\n",
    "\n",
    "        ...\n"
   ]
  },
  {
   "cell_type": "markdown",
   "id": "9c10b31d-db7d-4cc5-b69a-1376a12ede47",
   "metadata": {},
   "source": [
    "Here is an example that can help you test your implementation:"
   ]
  },
  {
   "cell_type": "code",
   "execution_count": null,
   "id": "476583e0",
   "metadata": {},
   "outputs": [],
   "source": [
    "array = [4, 1, 5, 6, 2, 5, 9, 3, 4, 2, 6, 7, 2, 4, 0, 8]\n",
    "r = OccurrenceCounter(array)\n",
    "print(r.number_elements_in_range(2, 5), \"(should be 9)\")\n",
    "print(r.number_elements_in_range(3, 8), \"(should be 10)\")\n",
    "print(r.number_elements_in_range(2, 3), \"(should be 4)\")"
   ]
  },
  {
   "cell_type": "markdown",
   "id": "7d22e592-35f8-4e7b-b1c8-0fc4c57926dc",
   "metadata": {},
   "source": [
    "Have you propely considered values of `a` and `b` that are 0 or larger than the maximum value in the `array`? In this case, also the following values should be computed correctly."
   ]
  },
  {
   "cell_type": "code",
   "execution_count": null,
   "id": "770a3eda-ebf0-4386-821d-804122faacc2",
   "metadata": {},
   "outputs": [],
   "source": [
    "print(r.number_elements_in_range(0, 3), \"(should be 6)\")\n",
    "print(r.number_elements_in_range(2, 12), \"(should be 14)\")"
   ]
  }
 ],
 "metadata": {
  "kernelspec": {
   "display_name": "Python 3 (ipykernel)",
   "language": "python",
   "name": "python3"
  },
  "language_info": {
   "codemirror_mode": {
    "name": "ipython",
    "version": 3
   },
   "file_extension": ".py",
   "mimetype": "text/x-python",
   "name": "python",
   "nbconvert_exporter": "python",
   "pygments_lexer": "ipython3",
   "version": "3.12.3"
  }
 },
 "nbformat": 4,
 "nbformat_minor": 5
}
