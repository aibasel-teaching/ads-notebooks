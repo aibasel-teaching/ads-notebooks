{
 "cells": [
  {
   "cell_type": "markdown",
   "metadata": {},
   "source": [
    "# Dynamische Arrays"
   ]
  },
  {
   "cell_type": "markdown",
   "metadata": {},
   "source": [
    "Wir haben gesehen, wie wir die Methoden ```append``` und ```pop```, die ein Element am Ende eines Arrays anfügen, respektive entfernen, effizient implementieren können. Hier nochmals die Implementation:"
   ]
  },
  {
   "cell_type": "code",
   "execution_count": 31,
   "metadata": {},
   "outputs": [],
   "source": [
    "class  Array:\n",
    "    \n",
    "    def __init__(self):\n",
    "        self.data = [None] # list  simulates  block  of  memory\n",
    "        self.idx = 0\n",
    "        \n",
    "    def append(self, elem):\n",
    "        if self.idx == len(self.data):    \n",
    "            self.resize(len(self.data) * 2)\n",
    "        self.data[self.idx] = elem\n",
    "        self.idx  += 1        \n",
    "    \n",
    "    def pop(self):\n",
    "        self.idx -= 1\n",
    "        item = self.data[self.idx]; \n",
    "        if self.idx > 0  and self.idx == len(self.data) / 4:\n",
    "            self.resize(int(len(self.data) / 2)) \n",
    "\n",
    "        return item; \n",
    "\n",
    "    def resize(self, numElements):\n",
    "        newArray = [None] * numElements\n",
    "\n",
    "        for i in  range(0, self.idx):            \n",
    "            newArray[i] = self.data[i]\n",
    "        self.data = newArray\n",
    "    \n",
    "    def __str__(self):\n",
    "        return str(self.data)\n",
    "    \n",
    "    def length(self):\n",
    "        return self.idx\n"
   ]
  },
  {
   "cell_type": "markdown",
   "metadata": {},
   "source": [
    "Die folgenden Tests zeigen, dass die Implementation wie erwartet funktioniert:"
   ]
  },
  {
   "cell_type": "code",
   "execution_count": 32,
   "metadata": {},
   "outputs": [
    {
     "name": "stdout",
     "output_type": "stream",
     "text": [
      "Array after append: [0, 1, 2, 3, 4, 5, 6, 7, 8, 9]\n",
      "length: 10\n",
      "idx before pop 10\n",
      "lastElement 9\n",
      "Array after pop: [0, 1, 2, 3, 4, 5, 6, 7, 8, 99]\n",
      "idx after pop 10\n",
      "length after pop: 10\n"
     ]
    }
   ],
   "source": [
    "a = Array()\n",
    "for i in range(0, 10):\n",
    "    a.append(i)\n",
    "print(\"Array after append: \" + str(a))\n",
    "print(\"length: \" +str(a.length()))\n",
    "\n",
    "print(\"idx before pop \" +str(a.idx))\n",
    "lastElement = a.pop()\n",
    "a.append(99)\n",
    "print(\"lastElement \" + str(lastElement))\n",
    "print(\"Array after pop: \" +str(a))\n",
    "print(\"idx after pop \" +str(a.idx))\n",
    "print(\"length after pop: \" +str(a.length()))"
   ]
  },
  {
   "cell_type": "markdown",
   "metadata": {},
   "source": [
    "#### Experimente\n",
    "\n",
    "Wir wollen nun testen, wie sich die Laufzeit der append Methode verhält. "
   ]
  },
  {
   "cell_type": "code",
   "execution_count": 33,
   "metadata": {},
   "outputs": [],
   "source": [
    "import timeit\n",
    "import random"
   ]
  },
  {
   "cell_type": "code",
   "execution_count": 34,
   "metadata": {},
   "outputs": [],
   "source": [
    "def createByAppend(n):\n",
    "    a = Array()\n",
    "    for i in range(0, n):\n",
    "        a.append(i)\n",
    "    return a;"
   ]
  },
  {
   "cell_type": "code",
   "execution_count": 35,
   "metadata": {
    "scrolled": true
   },
   "outputs": [
    {
     "name": "stdout",
     "output_type": "stream",
     "text": [
      "Durchschnittliche Zeit für eine append Operation bei 10 Elementen = 2.409999979136046e-06\n",
      "Durchschnittliche Zeit für eine append Operation bei 100 Elementen = 8.30800000585441e-06\n",
      "Durchschnittliche Zeit für eine append Operation bei 10000 Elementen = 0.0006734629800000221\n"
     ]
    }
   ],
   "source": [
    "for n in [10, 100, 10000]:\n",
    "    t = timeit.timeit(lambda: createByAppend(n), number=1)\n",
    "    print(\"Durchschnittliche Zeit für eine append Operation bei \" + str(n) + \" Elementen = \" + str(t / n))"
   ]
  },
  {
   "cell_type": "markdown",
   "metadata": {},
   "source": [
    "Wie wir sehen, ist die Durchschnittliche Zeit pro ```append```-Operation konstant, unabhängig davon, wieviele Elemente wir einfügen. "
   ]
  },
  {
   "cell_type": "markdown",
   "metadata": {},
   "source": [
    "#### Miniübung \n",
    "\n",
    "* Vergleichen Sie die Laufzeit mit einer naiven Implementation, bei der das Array bei jedem Aufruf vergrössert wird."
   ]
  },
  {
   "cell_type": "markdown",
   "metadata": {},
   "source": [
    "#### Lösung:\n",
    "* Um diesen Test durchzuführen, ersetzten Sie einfach in der Methode append den Aufruf\n",
    "```\n",
    "self.resize(len(self.data) *2 )\n",
    "```\n",
    "durch \n",
    "```\n",
    "self.resize(len(self.data) + 1)\n",
    "```\n",
    "und führen das Experiment nochmals durch."
   ]
  },
  {
   "cell_type": "markdown",
   "metadata": {},
   "source": [
    "### Ammortisierte Analyse: Array resizing"
   ]
  },
  {
   "cell_type": "markdown",
   "metadata": {},
   "source": [
    "Im Folgenden schauen wir uns die ```append``` Operation noch auf theoretischer Ebene an. Der folgende Code dient zum illustrieren der Idee der amortisierten Analyse. Die Idee ist einfach - wir führen Buchhalten. Bei jeder ```billigen``` Operation erhalten wir einen Betrag, mit dem wir später die teure Operation bezahlen. Unsere Währung ist dabei ein *Token*. Für jeden Arrayzugriff in der resize Methode bezahlen wir mit einem Token. Wenn wir es schaffen, dass wir bei jeder ```append```-Operation immer dieselbe konstante Anzahl Tokens auf die Seite legen können, und damit genügend Tokens zur Verfügung haben um damit die Anzahl Array-Zugriffe in der ```resize``` Operation bezahlen können, haben wir eine amortisiert konstante Laufzeit.\n",
    "\n",
    "Im folgenden Code ist diese Idee umgesetzt:"
   ]
  },
  {
   "cell_type": "code",
   "execution_count": 39,
   "metadata": {},
   "outputs": [],
   "source": [
    "class  ArrayWithAccounting:\n",
    "\n",
    "    PRICE_IN_TOKENS_PER_APPEND = 8\n",
    "    \n",
    "    def __init__(self):\n",
    "        self.data = [None] \n",
    "        self.idx = 0\n",
    "        self.tokens = 0 # Anzahl Tokens ist am Anfang 0\n",
    "        \n",
    "    def append(self, elem):\n",
    "        \n",
    "        if self.idx == len(self.data):            \n",
    "            newCapacity = len(self.data) * 2\n",
    "            self.resize(newCapacity)\n",
    "            print(\"number of tokens after resize to size \" +str(newCapacity) +\" = \"+str(self.tokens))\n",
    "        \n",
    "        # Wir bezahlen eine Anzahl Tokens für jede Append Operation\n",
    "        self.tokens += self.PRICE_IN_TOKENS_PER_APPEND\n",
    "        \n",
    "        self.data[self.idx] = elem\n",
    "        \n",
    "        print(\"number of tokens after append of element \" +str(self.idx) + \" = \" +str(self.tokens))\n",
    "              \n",
    "        self.idx  += 1        \n",
    "\n",
    "        \n",
    "\n",
    "    def resize(self, numElements ):\n",
    "        # Ein neues Array anzulegen braucht 1 Array Zugriffe pro Element\n",
    "        # Wir bezahlen also ein Token pro Element\n",
    "        newArray = [None] * numElements\n",
    "        self.tokens -= 1 * numElements \n",
    "        \n",
    "        for i in  range(0, self.idx):            \n",
    "            newArray[i] = self.data[i]\n",
    "            \n",
    "            # Für jedes kopierte Element brauchen wir 2 Array Zugriffe \n",
    "            # Wir bezahlen also 2 Token pro Element\n",
    "            self.tokens -= 2 \n",
    "            \n",
    "        self.data = newArray\n",
    "    \n",
    "    def __str__(self):\n",
    "        return str(self.data)\n"
   ]
  },
  {
   "cell_type": "markdown",
   "metadata": {},
   "source": [
    "Wenn wir diesen Code Ausführen, dann sehen wir, dass wir nach jeder Append Operation immer eine positive Anzahl Tokens haben. "
   ]
  },
  {
   "cell_type": "code",
   "execution_count": 40,
   "metadata": {},
   "outputs": [
    {
     "name": "stdout",
     "output_type": "stream",
     "text": [
      "number of tokens after append of element 0 = 8\n",
      "number of tokens after resize to size 2 = 4\n",
      "number of tokens after append of element 1 = 12\n",
      "number of tokens after resize to size 4 = 4\n",
      "number of tokens after append of element 2 = 12\n",
      "number of tokens after append of element 3 = 20\n",
      "number of tokens after resize to size 8 = 4\n",
      "number of tokens after append of element 4 = 12\n",
      "number of tokens after append of element 5 = 20\n",
      "number of tokens after append of element 6 = 28\n",
      "number of tokens after append of element 7 = 36\n",
      "number of tokens after resize to size 16 = 4\n",
      "number of tokens after append of element 8 = 12\n",
      "number of tokens after append of element 9 = 20\n",
      "number of tokens after append of element 10 = 28\n",
      "number of tokens after append of element 11 = 36\n",
      "number of tokens after append of element 12 = 44\n",
      "number of tokens after append of element 13 = 52\n",
      "number of tokens after append of element 14 = 60\n",
      "number of tokens after append of element 15 = 68\n",
      "number of tokens after resize to size 32 = 4\n",
      "number of tokens after append of element 16 = 12\n",
      "number of tokens after append of element 17 = 20\n",
      "number of tokens after append of element 18 = 28\n",
      "number of tokens after append of element 19 = 36\n",
      "number of tokens after append of element 20 = 44\n",
      "number of tokens after append of element 21 = 52\n",
      "number of tokens after append of element 22 = 60\n",
      "number of tokens after append of element 23 = 68\n",
      "number of tokens after append of element 24 = 76\n",
      "number of tokens after append of element 25 = 84\n",
      "number of tokens after append of element 26 = 92\n",
      "number of tokens after append of element 27 = 100\n",
      "number of tokens after append of element 28 = 108\n",
      "number of tokens after append of element 29 = 116\n",
      "number of tokens after append of element 30 = 124\n",
      "number of tokens after append of element 31 = 132\n"
     ]
    }
   ],
   "source": [
    "a = ArrayWithAccounting()\n",
    "for i in range(0, 32):\n",
    "    a.append(i)\n"
   ]
  },
  {
   "cell_type": "markdown",
   "metadata": {},
   "source": [
    "#### Miniübung: \n",
    "\n",
    "Wie viele Token brauchen Sie, damit Sie immer für die resize Operation bezahlen können?"
   ]
  },
  {
   "cell_type": "markdown",
   "metadata": {},
   "source": [
    "#### Lösung\n",
    "Wir benötigen 8 Tokens in jeder Iteration."
   ]
  },
  {
   "cell_type": "markdown",
   "metadata": {},
   "source": [
    "#### Satz: Dynamisches vergrössern, verkleinern eines Arrays"
   ]
  },
  {
   "cell_type": "markdown",
   "metadata": {},
   "source": [
    "Was wir nun experimentell herausgefunden haben lässt sich formal beweisen. Für eine Beweisskizze, siehe Sedgewick und Wayne, Algorithms, Satz E, Seite 221).\n",
    "\n",
    "> Satz: Bei einem Array mit variabler Grösse ist gemäss obigen Algorithmus die durchschnittliche Anzahl der Arrayzugriffe für jede beliebige Folge von $M$ ```append``` und ```pop``` Operationen, ausgehend von dem leeren Array, proportional zu $M$.\n"
   ]
  },
  {
   "cell_type": "markdown",
   "metadata": {},
   "source": [
    "### Dynamische Arrays in Python\n"
   ]
  },
  {
   "cell_type": "markdown",
   "metadata": {},
   "source": [
    "Wie bereits im vorigen Notebook besprochen, ist ein Array in Python durch den Datentyp ```List``` implementiert. \n",
    "Der Datenbyp ```List``` entspricht einem dynamischen Array und unterstützt bereits die ```append``` und ```pop``` Methoden. Auch hier wollen wir wieder experimentell überprüfen, ob die Laufzeit unseren Erwartungen entspricht. \n",
    "\n"
   ]
  },
  {
   "cell_type": "code",
   "execution_count": 21,
   "metadata": {},
   "outputs": [],
   "source": [
    "def createByAppendPython(n):\n",
    "    a = []\n",
    "    for i in range(0, n):\n",
    "        a.append(i)\n",
    "    return a;"
   ]
  },
  {
   "cell_type": "code",
   "execution_count": 22,
   "metadata": {},
   "outputs": [
    {
     "name": "stdout",
     "output_type": "stream",
     "text": [
      "Durchschnittliche Zeit für eine append Operation bei 10 Elementen = 1.7270000000735308e-05\n",
      "Durchschnittliche Zeit für eine append Operation bei 100 Elementen = 1.0089999999536304e-05\n",
      "Durchschnittliche Zeit für eine append Operation bei 1000 Elementen = 1.1598800000001575e-05\n",
      "Durchschnittliche Zeit für eine append Operation bei 10000 Elementen = 8.891680000004954e-06\n",
      "Durchschnittliche Zeit für eine append Operation bei 100000 Elementen = 9.749140999999782e-06\n"
     ]
    }
   ],
   "source": [
    "for i in range(1, 6):\n",
    "    n = 10**i\n",
    " \n",
    "    t = timeit.timeit(lambda: createByAppendPython(n), number=100)\n",
    "    print(\"Durchschnittliche Zeit für eine append Operation bei \" + str(n) + \" Elementen = \" + str(t / n))"
   ]
  },
  {
   "cell_type": "markdown",
   "metadata": {},
   "source": [
    "Python stellt auch eine Methode zur Verfügung, um an einer beliebigen Stelle im Array ein Element einzufügen. Es ist leicht zu sehen, dass wir beim Einfügen an einer beliebigen Stelle, alle Elemente hinter der Einfügestelle kopieren müssen. Diese Operation hat also im schlimmsten Fall lineare Laufzeit in der Arraygrösse. Auch dies können wir einfach experimentell bestätigen"
   ]
  },
  {
   "cell_type": "code",
   "execution_count": 23,
   "metadata": {},
   "outputs": [],
   "source": [
    "def insertFirstPython(n):\n",
    "    a = []\n",
    "    for i in range(0, n):\n",
    "        a.insert(0, i)\n",
    "    return a;"
   ]
  },
  {
   "cell_type": "code",
   "execution_count": 24,
   "metadata": {},
   "outputs": [
    {
     "name": "stdout",
     "output_type": "stream",
     "text": [
      "Durchschnittliche Zeit für eine insert Operation bei 10 Elementen = 4.999999987376214e-07\n",
      "Durchschnittliche Zeit für eine insert Operation bei 100 Elementen = 1.7700000000786532e-07\n",
      "Durchschnittliche Zeit für eine insert Operation bei 1000 Elementen = 3.515000000220425e-07\n",
      "Durchschnittliche Zeit für eine insert Operation bei 10000 Elementen = 2.8386500000010528e-06\n",
      "Durchschnittliche Zeit für eine insert Operation bei 100000 Elementen = 2.6262449000000175e-05\n"
     ]
    }
   ],
   "source": [
    "for i in range(1, 6):\n",
    "    n = 10**i\n",
    "    t = timeit.timeit(lambda: insertFirstPython(n), number=1)\n",
    "    print(\"Durchschnittliche Zeit für eine insert Operation bei \" + str(n) + \" Elementen = \" + str(t / n))"
   ]
  },
  {
   "cell_type": "code",
   "execution_count": null,
   "metadata": {},
   "outputs": [],
   "source": []
  }
 ],
 "metadata": {
  "anaconda-cloud": {},
  "kernelspec": {
   "display_name": "Python 3",
   "language": "python",
   "name": "python3"
  },
  "language_info": {
   "codemirror_mode": {
    "name": "ipython",
    "version": 3
   },
   "file_extension": ".py",
   "mimetype": "text/x-python",
   "name": "python",
   "nbconvert_exporter": "python",
   "pygments_lexer": "ipython3",
   "version": "3.8.5"
  },
  "toc": {
   "base_numbering": 1,
   "nav_menu": {},
   "number_sections": false,
   "sideBar": false,
   "skip_h1_title": false,
   "title_cell": "Table of Contents",
   "title_sidebar": "Contents",
   "toc_cell": false,
   "toc_position": {},
   "toc_section_display": false,
   "toc_window_display": false
  }
 },
 "nbformat": 4,
 "nbformat_minor": 1
}
