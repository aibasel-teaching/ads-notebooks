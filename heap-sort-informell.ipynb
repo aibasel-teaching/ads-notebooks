{
 "cells": [
  {
   "cell_type": "markdown",
   "metadata": {},
   "source": [
    "# Sortieren mit Heaps"
   ]
  },
  {
   "cell_type": "markdown",
   "metadata": {},
   "source": [
    "Python verfügt bereits standardmässig über eine Implementation von Heaps. Diese kann mittels ```import heapq``` importiert werden. "
   ]
  },
  {
   "cell_type": "code",
   "execution_count": 1,
   "metadata": {},
   "outputs": [],
   "source": [
    "import heapq"
   ]
  },
  {
   "cell_type": "markdown",
   "metadata": {},
   "source": [
    "In Python ist ein Heap einfach als normale Liste implementiert. Um ein neues Heap zu erstellen, erstellen wir einfach eine neue, leere Liste."
   ]
  },
  {
   "cell_type": "code",
   "execution_count": 2,
   "metadata": {},
   "outputs": [],
   "source": [
    "heap = []"
   ]
  },
  {
   "cell_type": "markdown",
   "metadata": {},
   "source": [
    "Mittels der Operation ```heappush``` können wir nun Elemente zum Heap hinzufügen. Die Operation stellt sicher, dass die Heapbedingung erfüllt ist.  Hier fügen wir das Element 7 zum Heap hinzu. "
   ]
  },
  {
   "cell_type": "code",
   "execution_count": 3,
   "metadata": {},
   "outputs": [
    {
     "name": "stdout",
     "output_type": "stream",
     "text": [
      "[7]\n"
     ]
    }
   ],
   "source": [
    "heapq.heappush(heap, 7)\n",
    "print(heap)"
   ]
  },
  {
   "cell_type": "markdown",
   "metadata": {},
   "source": [
    "Um das kleinste Element zu entfernen, steht die Operation ```heappop``` zur Verfügung. Auch diese garantiert, dass im heap die Heapbedinung erfüllt bleibt. "
   ]
  },
  {
   "cell_type": "code",
   "execution_count": 4,
   "metadata": {},
   "outputs": [
    {
     "name": "stdout",
     "output_type": "stream",
     "text": [
      "7\n"
     ]
    }
   ],
   "source": [
    "smallestElement = heapq.heappop(heap)\n",
    "print(smallestElement)"
   ]
  },
  {
   "cell_type": "markdown",
   "metadata": {},
   "source": [
    "## Übung"
   ]
  },
  {
   "cell_type": "markdown",
   "metadata": {},
   "source": [
    "Implementieren Sie einen Sortieralgorithmus basierend auf den Heapoperationen  ```heapq.heappush``` und ```heapq.heappop```."
   ]
  },
  {
   "cell_type": "code",
   "execution_count": 5,
   "metadata": {},
   "outputs": [],
   "source": [
    "def sortList(xs):\n",
    "    heap = []\n",
    "    sortedxs = []\n",
    "    for x in xs:\n",
    "        heapq.heappush(heap, x)\n",
    "    for i in range(len(xs)):\n",
    "        sortedxs.append(heapq.heappop(heap))\n",
    "    return sortedxs"
   ]
  },
  {
   "cell_type": "markdown",
   "metadata": {},
   "source": [
    "Testen Sie ihre Implementation: Folgendes sollte ```true``` ergeben"
   ]
  },
  {
   "cell_type": "code",
   "execution_count": 6,
   "metadata": {},
   "outputs": [
    {
     "data": {
      "text/plain": [
       "True"
      ]
     },
     "execution_count": 6,
     "metadata": {},
     "output_type": "execute_result"
    }
   ],
   "source": [
    "sortList([7, 3, 5, 12, 1]) == [1, 3, 5, 7, 12]"
   ]
  },
  {
   "cell_type": "markdown",
   "metadata": {},
   "source": [
    "## Laufzeit"
   ]
  },
  {
   "cell_type": "markdown",
   "metadata": {},
   "source": [
    "Im folgenden schauen wir uns die Laufzeit des Algorithmus an.  \n",
    "\n",
    "Als erstes schreiben wir uns eine Funktion, die uns zufällige Listen der Grösse $n$ erstellt"
   ]
  },
  {
   "cell_type": "code",
   "execution_count": 7,
   "metadata": {},
   "outputs": [],
   "source": [
    "import random\n",
    "\n",
    "random.seed(a=42)\n",
    "\n",
    "def generateData(n, min=0, max=int(10e8)):\n",
    "    return random.sample(range(min, max), n)"
   ]
  },
  {
   "cell_type": "markdown",
   "metadata": {},
   "source": [
    "Wie wir sehen, führt jeder Aufruf zu einer neuen, unsortierten  Liste:"
   ]
  },
  {
   "cell_type": "code",
   "execution_count": 8,
   "metadata": {},
   "outputs": [
    {
     "name": "stdout",
     "output_type": "stream",
     "text": [
      "[686579303, 119540831, 26855092, 796233790, 295310485]\n",
      "[262950628, 239670711, 149827706, 790779946, 110053353]\n"
     ]
    }
   ],
   "source": [
    "print(generateData(5))\n",
    "print(generateData(5))"
   ]
  },
  {
   "cell_type": "markdown",
   "metadata": {},
   "source": [
    "Um die Laufzeit zu messen, nutzen wir das timing Utility ```timeit``` von Python"
   ]
  },
  {
   "cell_type": "code",
   "execution_count": 9,
   "metadata": {},
   "outputs": [],
   "source": [
    "from timeit import timeit"
   ]
  },
  {
   "cell_type": "markdown",
   "metadata": {},
   "source": [
    "Wir erstellen zufällige Listen der grösse $10^3, 10^4, ..., 10^6$ und merken uns die Laufzeit"
   ]
  },
  {
   "cell_type": "code",
   "execution_count": 10,
   "metadata": {},
   "outputs": [],
   "source": [
    "runTime = []\n",
    "\n",
    "ns = [10**n for n in range(3, 7)]\n",
    "for n in ns:\n",
    "    xs  = generateData(n)\n",
    "    runTime.append(timeit(lambda: sortList(xs), number = 10))\n",
    "    "
   ]
  },
  {
   "cell_type": "markdown",
   "metadata": {},
   "source": [
    "Nun plotten wir die Laufzeit, und vergleichen diese jeweils mit einer Funktion der Ordnung $O(n)$ und einer mit Ordnung $O(n \\log_2 n)$."
   ]
  },
  {
   "cell_type": "code",
   "execution_count": 11,
   "metadata": {},
   "outputs": [],
   "source": [
    "import matplotlib\n",
    "import matplotlib.pyplot as plt\n",
    "import math"
   ]
  },
  {
   "cell_type": "code",
   "execution_count": 12,
   "metadata": {},
   "outputs": [
    {
     "data": {
      "text/plain": [
       "<matplotlib.legend.Legend at 0x1c432292e88>"
      ]
     },
     "execution_count": 12,
     "metadata": {},
     "output_type": "execute_result"
    },
    {
     "data": {
      "image/png": "[encoded data removed]",
      "text/plain": [
       "<Figure size 432x288 with 1 Axes>"
      ]
     },
     "metadata": {
      "needs_background": "light"
     },
     "output_type": "display_data"
    }
   ],
   "source": [
    "plt.plot(ns, runTime, label = 'our sort')\n",
    "logValues = [ 0.0000015 * n * math.log(n, 2)  for n in ns]\n",
    "plt.plot(ns, logValues, label = 'O(n log n)')\n",
    "linValues = [ 0.0000015 * n  for n in ns]\n",
    "plt.plot(ns, linValues, label = 'O(n)')\n",
    "plt.legend()"
   ]
  },
  {
   "cell_type": "markdown",
   "metadata": {},
   "source": [
    "Wir sehen empirisch, dass die Laufzeit unseres Algorithmus $O(n \\log_2 n)$ ist."
   ]
  }
 ],
 "metadata": {
  "kernelspec": {
   "display_name": "Python 3",
   "language": "python",
   "name": "python3"
  },
  "language_info": {
   "codemirror_mode": {
    "name": "ipython",
    "version": 3
   },
   "file_extension": ".py",
   "mimetype": "text/x-python",
   "name": "python",
   "nbconvert_exporter": "python",
   "pygments_lexer": "ipython3",
   "version": "3.7.6"
  }
 },
 "nbformat": 4,
 "nbformat_minor": 2
}
