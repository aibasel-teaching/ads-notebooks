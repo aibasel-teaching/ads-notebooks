{
 "cells": [
  {
   "cell_type": "markdown",
   "metadata": {},
   "source": [
    "# Anwendung: Dijkstra's Two Stack Algorithmus"
   ]
  },
  {
   "cell_type": "markdown",
   "metadata": {},
   "source": [
    "Der Two Stack Algorithmus ist eine elegante Anwendung von Stacks um Arithmetische Ausdrücke zu evaluieren. Bevor wir die Implementation zeigen, müssen wir nochmals die Klasse Stack definieren, damit diese im Jupyter-Notebook zur Verfügung steht. Die Implementation ist dieselbe wie auf dem vorigen Notebook."
   ]
  },
  {
   "cell_type": "code",
   "execution_count": null,
   "metadata": {},
   "outputs": [],
   "source": [
    "class Stack:\n",
    "        \n",
    "    class Node:\n",
    "        \n",
    "        def __init__(self, value, next = None):\n",
    "            self.value = value\n",
    "            self.next = next\n",
    "            \n",
    "    def __init__(self):\n",
    "        self.first = None\n",
    "        self.numElements = 0\n",
    "    \n",
    "    def push(self, item):\n",
    "        if self.first == None:\n",
    "            self.first = Stack.Node(item)\n",
    "        else:\n",
    "            self.first = Stack.Node(item, self.first)\n",
    "        self.numElements += 1\n",
    "        \n",
    "    def pop(self):                \n",
    "        if self.first == None:\n",
    "            raise Exception(\"popping from empty stack\")\n",
    "        else:\n",
    "            self.numElements -= 1\n",
    "            value = self.first.value\n",
    "            self.first = self.first.next\n",
    "            return value\n",
    "        \n",
    "    def size(self):\n",
    "        return self.numElements\n",
    "    \n",
    "    def isEmpty(self):\n",
    "        return self.size() == 0\n",
    "   \n",
    "\n",
    "    # Diese Methode wird verwendet, um den Inhalt der Liste in den \n",
    "    # Jupyter-notebooks anzeigen zu können. Gehört nicht zum eigentlichen \n",
    "    # Interface. Die Implementation entspricht einer einfachen traversierung \n",
    "    # der Liste\n",
    "    def __repr__(self):\n",
    "        outstr = \"[\" \n",
    "        currentNode = self.first\n",
    "        while currentNode != None:\n",
    "            outstr += str(currentNode.value) + \" \"\n",
    "            currentNode = currentNode.next\n",
    "        return outstr + \"]\""
   ]
  },
  {
   "cell_type": "markdown",
   "metadata": {},
   "source": [
    "Nun können wir den Two Stack Algorithmus implementieren. Als Trick in dieser Implementation nutzen wir eine Operatoren Tabelle, die für jeden Operator eine entsprechende Lambda-Funktion speichert, welche die Operation durchführen. Um die Implementation einfach zu halten, müssen in dieser Implementation all Zeichen durch Leerzeichen voneinander getrennt sein. "
   ]
  },
  {
   "cell_type": "code",
   "execution_count": null,
   "metadata": {},
   "outputs": [],
   "source": [
    "def twoStack(expr):\n",
    "    valueStack = Stack()\n",
    "    operatorStack = Stack()\n",
    "    \n",
    "    operatorTable = {\n",
    "        \"+\" : lambda a, b: a + b,\n",
    "        \"*\" : lambda a, b: a * b,\n",
    "        \"/\" : lambda a, b: a / b,\n",
    "        \"-\" : lambda a, b: a - b\n",
    "    }\n",
    "    \n",
    "    for token in expr.split(' '):\n",
    "        if token.isdigit():\n",
    "            valueStack.push(int(token))\n",
    "        elif token == \"(\":\n",
    "            pass\n",
    "        elif token in [\"+\", \"*\", \"/\", \"-\"]:\n",
    "            operatorStack.push(token)\n",
    "        elif token == \")\":\n",
    "            value2 = valueStack.pop()\n",
    "            value1 = valueStack.pop()\n",
    "            f = operatorTable[operatorStack.pop()]\n",
    "            valueStack.push(f(value1, value2))\n",
    "        else:\n",
    "            break\n",
    "    return valueStack.pop()"
   ]
  },
  {
   "cell_type": "markdown",
   "metadata": {},
   "source": [
    "Wir wenden unseren Algorithmus auf folgende Ausdruck an:"
   ]
  },
  {
   "cell_type": "code",
   "execution_count": null,
   "metadata": {
    "scrolled": true
   },
   "outputs": [],
   "source": [
    "twoStack(\"( 1 + ( ( 4 * 5 ) - ( 8 / 2 ) ) )\")"
   ]
  },
  {
   "cell_type": "markdown",
   "metadata": {},
   "source": [
    "### Übung: \n",
    "\n",
    "* Fügen Sie an den wichtigen Stellen ```print```-Statements ein, so dass Sie nachvollziehen können wie der Algorithmus funktioniert und Sie die einzelnen Zwischenresultate sowie den Inhalt des Stacks sehen. \n",
    "* Experimentieren Sie mit verschiedenen Ausdrücken."
   ]
  },
  {
   "cell_type": "code",
   "execution_count": null,
   "metadata": {},
   "outputs": [],
   "source": []
  }
 ],
 "metadata": {
  "kernelspec": {
   "display_name": "Python 3 (ipykernel)",
   "language": "python",
   "name": "python3"
  },
  "language_info": {
   "codemirror_mode": {
    "name": "ipython",
    "version": 3
   },
   "file_extension": ".py",
   "mimetype": "text/x-python",
   "name": "python",
   "nbconvert_exporter": "python",
   "pygments_lexer": "ipython3",
   "version": "3.9.7"
  },
  "toc": {
   "base_numbering": 1,
   "nav_menu": {},
   "number_sections": false,
   "sideBar": false,
   "skip_h1_title": false,
   "title_cell": "Table of Contents",
   "title_sidebar": "Contents",
   "toc_cell": false,
   "toc_position": {},
   "toc_section_display": false,
   "toc_window_display": false
  }
 },
 "nbformat": 4,
 "nbformat_minor": 2
}
