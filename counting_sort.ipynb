{
 "cells": [
  {
   "cell_type": "markdown",
   "metadata": {},
   "source": [
    "# Counting Sort"
   ]
  },
  {
   "cell_type": "markdown",
   "metadata": {},
   "source": [
    "Counting sort requires that the keys are natural numbers. It counts for each key the number of occurrences of elements with that key. Based on this information, it can for each key determine the positions of the corresponding elements in the output array.\n",
    "\n",
    "In the lecture slides, we assumed that an upper bound $k$ on the keys is part of the input and we required that the entries of the input array are natural numbers (using key(e) = e).\n",
    "\n",
    "In this notebook, we will see how we can overcome these restrictions.\n",
    "\n",
    "- We will determine the maximum key with an additional scan of the input.\n",
    "- We will be able to sort arbitrary input elements. For this purpose we require an additional argument `key`, which is a ***function that returns for a given element the non-negative integer key***."
   ]
  },
  {
   "cell_type": "code",
   "execution_count": null,
   "metadata": {},
   "outputs": [],
   "source": [
    "def sort(array, key):\n",
    "    if len(array) == 0:\n",
    "        return []\n",
    "\n",
    "    # determine maximal key k of all elements in the array\n",
    "    k = max(key(elem) for elem in array)\n",
    "    print(\"k:\", k)\n",
    "        \n",
    "    counts = [0] * (k + 1)  # list of k zeros\n",
    "    result = [0] * len(array) # list of same size as array\n",
    "    \n",
    "    for elem in array:\n",
    "        counts[key(elem)] += 1\n",
    "    # counts[j] now contains number of occurrences of\n",
    "    # elements with key j\n",
    "    print(\"counts:\", counts)\n",
    "\n",
    "    \n",
    "    for i in range(1,k+1): # i = 1,2, ... , k\n",
    "        counts[i] += counts[i-1]\n",
    "    # counts[j] now contains number of occurrences of \n",
    "    # elements with key <= j\n",
    "    print(\"counts (after cumulation):\", counts)\n",
    "    \n",
    "    # copy elements from array to result, starting from the end\n",
    "    for elem in reversed(array):\n",
    "        elem_key = key(elem)\n",
    "        result[counts[elem_key]-1] = elem\n",
    "        counts[elem_key] -= 1\n",
    "\n",
    "    return result"
   ]
  },
  {
   "cell_type": "markdown",
   "metadata": {},
   "source": [
    "We will use this more flexible implementation to sort a list of strings *by their length*."
   ]
  },
  {
   "cell_type": "code",
   "execution_count": null,
   "metadata": {},
   "outputs": [],
   "source": [
    "planets = [\"Mercury\", \"Venus\", \"Earth\", \"Mars\", \"Jupiter\", \"Saturn\", \"Uranus\", \"Neptune\"]\n",
    "sort(planets, len)"
   ]
  },
  {
   "cell_type": "markdown",
   "metadata": {},
   "source": [
    "***Question***: Is Counting Sort stable?"
   ]
  }
 ],
 "metadata": {
  "kernelspec": {
   "display_name": "Python 3 (ipykernel)",
   "language": "python",
   "name": "python3"
  },
  "language_info": {
   "codemirror_mode": {
    "name": "ipython",
    "version": 3
   },
   "file_extension": ".py",
   "mimetype": "text/x-python",
   "name": "python",
   "nbconvert_exporter": "python",
   "pygments_lexer": "ipython3",
   "version": "3.12.3"
  }
 },
 "nbformat": 4,
 "nbformat_minor": 4
}
