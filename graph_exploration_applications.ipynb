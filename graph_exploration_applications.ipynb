{
 "cells": [
  {
   "cell_type": "markdown",
   "metadata": {},
   "source": [
    "# Graph Exploration: Applications"
   ]
  },
  {
   "cell_type": "markdown",
   "metadata": {},
   "source": [
    "## Graphs"
   ]
  },
  {
   "cell_type": "markdown",
   "metadata": {},
   "source": [
    "We use again `networkx` to represent and draw graphs:"
   ]
  },
  {
   "cell_type": "code",
   "execution_count": null,
   "metadata": {},
   "outputs": [],
   "source": [
    "%matplotlib inline\n",
    "\n",
    "import matplotlib\n",
    "import matplotlib.pyplot as plt\n",
    "import networkx as nx\n",
    "import numpy as np\n",
    "\n",
    "edges = [(0,1), (0,3), (1,2), (1,3), (2,4), \n",
    "         (2,5), (3,2), (3,4), (4,1), (4,5)]\n",
    "\n",
    "directed_graph = nx.DiGraph()\n",
    "directed_graph.add_nodes_from([0,1,2,3,4,5])\n",
    "directed_graph.add_edges_from(edges)\n",
    "\n",
    "undirected_graph = nx.Graph()\n",
    "undirected_graph.add_nodes_from([0,1,2,3,4,5])\n",
    "undirected_graph.add_edges_from(edges)\n",
    "\n",
    "# g = nx.gnm_random_graph(8, 16, directed=True)"
   ]
  },
  {
   "cell_type": "code",
   "execution_count": null,
   "metadata": {},
   "outputs": [],
   "source": [
    "pos = nx.spring_layout(directed_graph)\n",
    "nx.draw(directed_graph, pos, with_labels=True, \n",
    "        node_size=1000, node_color='lightblue')"
   ]
  },
  {
   "cell_type": "markdown",
   "metadata": {},
   "source": [
    "## Depth-first and Breadth-first Search"
   ]
  },
  {
   "cell_type": "markdown",
   "metadata": {},
   "source": [
    "Since we need them for the different applications, we include again the implementation of DFS and BFS from the last lecture (since we will later need it, DFS stores the reverse postorder of the vertices)."
   ]
  },
  {
   "cell_type": "code",
   "execution_count": null,
   "metadata": {},
   "outputs": [],
   "source": [
    "from collections import deque\n",
    "\n",
    "def depth_first_exploration(graph, node, visited=None, \n",
    "                            reverse_postorder=None):\n",
    "    if visited is None:\n",
    "        visited = set()\n",
    "    if node in visited:\n",
    "        return\n",
    "    visited.add(node)\n",
    "    \n",
    "    for s in graph.successors(node):\n",
    "        depth_first_exploration(graph, s, visited, \n",
    "                                reverse_postorder)\n",
    "    if reverse_postorder is not None:\n",
    "        reverse_postorder.appendleft(node)\n",
    "\n",
    "order = deque()\n",
    "depth_first_exploration(directed_graph, 0, reverse_postorder=order)\n",
    "print(order)"
   ]
  },
  {
   "cell_type": "code",
   "execution_count": null,
   "metadata": {},
   "outputs": [],
   "source": [
    "def bfs_with_predecessors(graph, node):\n",
    "    predecessor = dict()\n",
    "    queue = deque()\n",
    "    # use self-loop for start node\n",
    "    predecessor[node] = node\n",
    "    queue.append(node)\n",
    "    while queue:\n",
    "        v = queue.popleft()\n",
    "    \n",
    "        for s in graph.successors(v):\n",
    "            if s not in predecessor:\n",
    "                predecessor[s] = v\n",
    "                queue.append(s)\n",
    "    return predecessor"
   ]
  },
  {
   "cell_type": "markdown",
   "metadata": {},
   "source": [
    "## Shortest Paths"
   ]
  },
  {
   "cell_type": "markdown",
   "metadata": {},
   "source": [
    "For unweighted graphs, we can determine shortest paths by means of a breadth-first search, storing the predecessors in the induced search tree. We extract the path backwards from the target to the start vertex.\n",
    "\n",
    "Since we also want to draw the path, we do not extract the sequence of vertices but the sequence of edges."
   ]
  },
  {
   "cell_type": "code",
   "execution_count": null,
   "metadata": {},
   "outputs": [],
   "source": [
    "def shortest_path(graph, from_node, to_node):\n",
    "    # more efficient: stop bfs as soon as to_node has been visited\n",
    "    predecessor = bfs_with_predecessors(directed_graph, from_node)\n",
    "    if to_node not in predecessor:\n",
    "        print(\"There is no path from\", from_node, \"to\", to_node)\n",
    "        return None\n",
    "    \n",
    "    path = deque()\n",
    "    current_node = to_node\n",
    "    pre = predecessor[current_node]\n",
    "    while pre is not current_node:\n",
    "        # pre is current_node only for from_node\n",
    "        path.appendleft((pre, current_node))\n",
    "        current_node = pre\n",
    "        pre = predecessor[current_node]\n",
    "    return path"
   ]
  },
  {
   "cell_type": "code",
   "execution_count": null,
   "metadata": {},
   "outputs": [],
   "source": [
    "path = shortest_path(directed_graph, 0, 5)\n",
    "print(path)\n",
    "if path is not None:\n",
    "    nx.draw(directed_graph, pos, with_labels=True, \n",
    "            node_size=1000, node_color='lightblue')\n",
    "    nx.draw_networkx_edges(directed_graph, pos, \n",
    "                           edgelist=path, width=8, alpha=0.5, \n",
    "                           edge_color=\"red\")\n"
   ]
  },
  {
   "cell_type": "markdown",
   "metadata": {},
   "source": [
    "## Cycles"
   ]
  },
  {
   "cell_type": "markdown",
   "metadata": {},
   "source": [
    "A directed acyclic graph (DAG) is a directed graph that does not contain a directed cycle. For instance:"
   ]
  },
  {
   "cell_type": "code",
   "execution_count": null,
   "metadata": {},
   "outputs": [],
   "source": [
    "dag = nx.DiGraph()\n",
    "dag.add_nodes_from([0,1,2,3,4,5,6])\n",
    "dag.add_edges_from([(0,5),(1,0),(1,5),(2,5),(3,2),(4,2),\n",
    "                    (4,3),(6,1),(6,3)])\n",
    "\n",
    "pos_dag = nx.spring_layout(dag)\n",
    "nx.draw(dag, pos_dag, with_labels=True, node_size=1000, \n",
    "        node_color='lightblue')"
   ]
  },
  {
   "cell_type": "markdown",
   "metadata": {},
   "source": [
    "The cycle detection consists of a number of breadth-first explorations, that test the induced search tree for back edges."
   ]
  },
  {
   "cell_type": "code",
   "execution_count": null,
   "metadata": {},
   "outputs": [],
   "source": [
    "class DirectedCycle:\n",
    "    def __init__(self, graph):\n",
    "        self.predecessor = dict()\n",
    "        self.on_current_path = set()\n",
    "        self.cycle = None\n",
    "        for node in graph.nodes:\n",
    "            if self.has_cycle():\n",
    "                break\n",
    "            if node not in self.predecessor:\n",
    "                self.predecessor[node] = node\n",
    "                self.dfs(graph, node)\n",
    "\n",
    "    def has_cycle(self):\n",
    "        return self.cycle is not None\n",
    "\n",
    "    def dfs(self, graph, node):\n",
    "        self.on_current_path.add(node)\n",
    "        for s in graph.successors(node):\n",
    "            if self.has_cycle():\n",
    "                return\n",
    "            if s in self.on_current_path:\n",
    "                self.predecessor[s] = node\n",
    "                self.extract_cycle(s)\n",
    "            if s not in self.predecessor:\n",
    "                self.predecessor[s] = node\n",
    "                self.dfs(graph, s)\n",
    "        self.on_current_path.remove(node)\n",
    "        \n",
    "    def extract_cycle(self, node):\n",
    "        self.cycle = deque()\n",
    "        current = node\n",
    "        self.cycle.appendleft(current)\n",
    "        while True:\n",
    "            current = self.predecessor[current]\n",
    "            self.cycle.appendleft(current)\n",
    "            if current == node:\n",
    "                return    "
   ]
  },
  {
   "cell_type": "code",
   "execution_count": null,
   "metadata": {},
   "outputs": [],
   "source": [
    "cycle_detector = DirectedCycle(dag)\n",
    "print(\"Does the DAG contain a cycle?\", cycle_detector.has_cycle())\n",
    "cycle_detector = DirectedCycle(directed_graph)\n",
    "print(\"Does the other graph contain a cycle?\", cycle_detector.has_cycle())\n",
    "cycle = cycle_detector.cycle\n",
    "print(cycle)\n",
    "\n",
    "path = [(cycle[i], cycle[i+1]) for i in range(len(cycle)-1)]\n",
    "nx.draw(directed_graph, pos, with_labels=True, node_size=1000, node_color='lightblue')\n",
    "_ = nx.draw_networkx_edges(directed_graph, pos, edgelist=path, width=8, alpha=0.5, edge_color=\"red\")\n"
   ]
  },
  {
   "cell_type": "markdown",
   "metadata": {},
   "source": [
    "## Topological Sort"
   ]
  },
  {
   "cell_type": "markdown",
   "metadata": {},
   "source": [
    "A topological sort of a directed, acyclic graph is a linear ordering of all its vertices such that if there is an edge from u to v, then u appears before v in the ordering."
   ]
  },
  {
   "cell_type": "markdown",
   "metadata": {},
   "source": [
    "To compute a topological sort, we use a sequence of DFS explorations and extract a *complete* reverse postorder."
   ]
  },
  {
   "cell_type": "code",
   "execution_count": null,
   "metadata": {},
   "outputs": [],
   "source": [
    "def topological_sort(acyclic_digraph):\n",
    "    visited = set()\n",
    "    reverse_postorder = deque()\n",
    "    for node in acyclic_digraph.nodes:\n",
    "        depth_first_exploration(acyclic_digraph, node, visited, \n",
    "                                reverse_postorder)\n",
    "    return reverse_postorder"
   ]
  },
  {
   "cell_type": "code",
   "execution_count": null,
   "metadata": {},
   "outputs": [],
   "source": [
    "top = topological_sort(dag)\n",
    "print(top)\n",
    "nx.draw(dag, pos_dag, with_labels=True, \n",
    "        node_size=1000, node_color='lightblue')"
   ]
  },
  {
   "cell_type": "markdown",
   "metadata": {},
   "source": [
    "## Connected Components of Undirected Graphs"
   ]
  },
  {
   "cell_type": "markdown",
   "metadata": {},
   "source": [
    "Two vertices $u$ and $v$ are in the same connected components, if there is a path between $u$ and $v$."
   ]
  },
  {
   "cell_type": "code",
   "execution_count": null,
   "metadata": {},
   "outputs": [],
   "source": [
    "class ConnectedComponents:\n",
    "    def __init__(self, graph):\n",
    "        self.id = [None] * graph.number_of_nodes()\n",
    "        self.curr_id = 0\n",
    "        for node in graph.nodes:\n",
    "            if self.id[node] is None:\n",
    "                self.dfs(graph, node)\n",
    "                self.curr_id += 1\n",
    "\n",
    "    def dfs(self, graph, node):\n",
    "        if self.id[node] is not None:\n",
    "            return\n",
    "        self.id[node] = self.curr_id\n",
    "        for n in graph.neighbors(node):\n",
    "            self.dfs(graph, n)\n",
    "            \n",
    "    def connected(self, node1, node2):\n",
    "        return ...\n",
    "\n",
    "    def count(self):\n",
    "        return ...\n"
   ]
  },
  {
   "cell_type": "markdown",
   "metadata": {},
   "source": [
    "<span style=\"color:red\">*Exercise*</span>: Complete the implementation of `connected` and `count`."
   ]
  },
  {
   "cell_type": "code",
   "execution_count": null,
   "metadata": {},
   "outputs": [],
   "source": [
    "cc_undirected = nx.Graph()\n",
    "cc_undirected.add_nodes_from([0,1,2,3,4,5,6,7,8,9])\n",
    "edges_cc_undirected = [(0,1), (0,2), (1,2), (1,3), (2,3), \n",
    "                       (2,4), (3,5), (6,7), (6,8), (7,8)]\n",
    "cc_undirected.add_edges_from(edges_cc_undirected)\n",
    "\n",
    "#pos = nx.planar_layout(cc_undirected)\n",
    "pos_planar = {\n",
    "    0: np.array([-0.2, 0.2]),\n",
    "    1: np.array([-0.2, 0.4]),\n",
    "    2: np.array([0.18, 0]),\n",
    "    3: np.array([-0.5, 0]),\n",
    "    4: np.array([0.2, 0.15]),\n",
    "    5: np.array([-0.7, 0.1]),\n",
    "    6: np.array([0.5, 0.1]),\n",
    "    7: np.array([0.3, -0.2]),\n",
    "    8: np.array([0.9, -0.3]),\n",
    "    9: np.array([0.9, 0])\n",
    "}\n",
    "\n",
    "nx.draw(cc_undirected, pos_planar, with_labels=True, node_size=1000,\n",
    "        node_color='lightblue')\n",
    "\n",
    "cc = ConnectedComponents(cc_undirected)\n",
    "print(\"The graph has\", cc.count(), \"connected components.\")\n",
    "print(\"Are vertices 0 and 4 connected?\", cc.connected(0,4))\n",
    "print(\"Are vertices 3 and 7 connected?\", cc.connected(3,7))"
   ]
  },
  {
   "cell_type": "markdown",
   "metadata": {},
   "source": [
    "## Strongly Connected Components of Directed Graphs"
   ]
  },
  {
   "cell_type": "markdown",
   "metadata": {},
   "source": [
    "We first create an example graph:"
   ]
  },
  {
   "cell_type": "code",
   "execution_count": null,
   "metadata": {},
   "outputs": [],
   "source": [
    "scc_example = nx.DiGraph()\n",
    "scc_example.add_nodes_from([0,1,2,3,4,5,6,7,8,9])\n",
    "edges_scc = [(0,1), (1,2), (1,3), (2,0), (2,3), (2,4), (3,5),\n",
    "             (4,2), (5,3), (6,7), (7,8), (8,6), (8,7), (8,9)]\n",
    "scc_example.add_edges_from(edges_scc)\n",
    "\n",
    "nx.draw(scc_example, pos_planar, with_labels=True, node_size=1000,\n",
    "        node_color='lightblue')"
   ]
  },
  {
   "cell_type": "markdown",
   "metadata": {},
   "source": [
    "We compute the strongly connected components with Kosaraju's algorithm:"
   ]
  },
  {
   "cell_type": "code",
   "execution_count": null,
   "metadata": {},
   "outputs": [],
   "source": [
    "def compute_strongly_connected_components(directed_graph):\n",
    "    reversed_graph = directed_graph.reverse(False)\n",
    "    \n",
    "    # compute complete reverse postorder for reversed graph\n",
    "    visited = set()\n",
    "    reverse_postorder = deque()\n",
    "    for node in reversed_graph.nodes:\n",
    "        depth_first_exploration(reversed_graph, node, visited,\n",
    "                                reverse_postorder)\n",
    "        \n",
    "    print(reverse_postorder)\n",
    "    sccs = [] # should contain one entry for each strongly connected component\n",
    "\n",
    "    # TODO determine the strongly connected components\n",
    "    # Hint: you can collect the vertices that are newly\n",
    "    # visited in an exploration from the corresponding reverse\n",
    "    # postorder.\n",
    "    \n",
    "        \n",
    "        \n",
    "    \n",
    "    return sccs"
   ]
  },
  {
   "cell_type": "markdown",
   "metadata": {},
   "source": [
    "<span style=\"color:red\">*Exercise*</span>: Complete the implementation of `compute_strongly_connected_components`."
   ]
  },
  {
   "cell_type": "markdown",
   "metadata": {},
   "source": [
    "For testing, we color the test graph with the computed strongly connected components:"
   ]
  },
  {
   "cell_type": "code",
   "execution_count": null,
   "metadata": {},
   "outputs": [],
   "source": [
    "sccs = compute_strongly_connected_components(scc_example)\n",
    "print(sccs)\n",
    "\n",
    "node_to_component_no = dict()\n",
    "for no, component in enumerate(sccs):\n",
    "    for node in component:\n",
    "        node_to_component_no[node] = no\n",
    "        \n",
    "print(node_to_component_no)\n",
    "        \n",
    "nodelist = list(scc_example.nodes)\n",
    "colors = [node_to_component_no[n] for n in nodelist]\n",
    "\n",
    "nx.draw(scc_example, pos_planar, nodelist=nodelist, node_size=1000, node_color=colors)\n",
    "# if drawing throws an error, try the following line that works with older versions of networkx\n",
    "# nx.draw(scc_example, pos_planar, node_list=nodelist, node_size=1000, node_color=colors)\n"
   ]
  }
 ],
 "metadata": {
  "kernelspec": {
   "display_name": "Python 3 (ipykernel)",
   "language": "python",
   "name": "python3"
  },
  "language_info": {
   "codemirror_mode": {
    "name": "ipython",
    "version": 3
   },
   "file_extension": ".py",
   "mimetype": "text/x-python",
   "name": "python",
   "nbconvert_exporter": "python",
   "pygments_lexer": "ipython3",
   "version": "3.11.4"
  }
 },
 "nbformat": 4,
 "nbformat_minor": 4
}
