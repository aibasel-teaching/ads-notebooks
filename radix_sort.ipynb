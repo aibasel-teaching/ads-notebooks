{
 "cells": [
  {
   "cell_type": "markdown",
   "metadata": {},
   "source": [
    "# Radix Sort"
   ]
  },
  {
   "cell_type": "markdown",
   "metadata": {},
   "source": [
    "Radix sort sorts sequences of natural numbers by successively separating them into buckets for the last, second last,... up to the first digit.\n",
    "\n",
    "A crucial point in the implementation is how we can determine the digit at a certain position.\n",
    "\n",
    "Let's first consider decimal numbers. If we divide a number by $10^i$, we move the decimal separator $i$ positions to the left:"
   ]
  },
  {
   "cell_type": "code",
   "execution_count": null,
   "metadata": {},
   "outputs": [],
   "source": [
    "z = 948\n",
    "\n",
    "for i in range(4):\n",
    "    print(i, \":\", z / 10**i)"
   ]
  },
  {
   "cell_type": "markdown",
   "metadata": {},
   "source": [
    "If we use floor division (`//`), we discard the fractional part of the number, so overall we cut off the last $i$ positions:"
   ]
  },
  {
   "cell_type": "code",
   "execution_count": null,
   "metadata": {},
   "outputs": [],
   "source": [
    "for i in range(4):\n",
    "    print(i, \":\", z // 10**i)"
   ]
  },
  {
   "cell_type": "markdown",
   "metadata": {},
   "source": [
    "We can use the modulo operation to get rid of all but the last $i$ positions:"
   ]
  },
  {
   "cell_type": "code",
   "execution_count": null,
   "metadata": {},
   "outputs": [],
   "source": [
    "for i in range(1,4):\n",
    "    print(i, \":\", z % (10**i))"
   ]
  },
  {
   "cell_type": "markdown",
   "metadata": {},
   "source": [
    "In combination, we can extract the digit at position $i$ from a natural number:"
   ]
  },
  {
   "cell_type": "code",
   "execution_count": null,
   "metadata": {},
   "outputs": [],
   "source": [
    "print(z)\n",
    "for i in range(4):\n",
    "    print(i, \":\", (z // 10**i) % 10)"
   ]
  },
  {
   "cell_type": "markdown",
   "metadata": {},
   "source": [
    "Using this technique, radix sort (for decimal numbers) works as follows.\n",
    "\n",
    "It is important, to always separate the numbers in their current order into the buckets and to collect them from bucket 0 to bucket 9 for the next iteration, preserving the order they have in the bucket."
   ]
  },
  {
   "cell_type": "code",
   "execution_count": null,
   "metadata": {},
   "outputs": [],
   "source": [
    "def sort(array):\n",
    "    print(\"Input:\", array, \"\\n\")\n",
    "    if not array:  # array is empty\n",
    "        return\n",
    "    iteration = 0\n",
    "    max_val = max(array) # identify largest element\n",
    "    while 10 ** iteration <= max_val:\n",
    "        buckets = [[] for _ in range(10)] \n",
    "        for elem in array:\n",
    "            digit = (elem // (10 ** iteration)) % 10\n",
    "            buckets[digit].append(elem)\n",
    "        pos = 0\n",
    "        print(buckets)\n",
    "        for bucket in buckets:\n",
    "            for elem in bucket:\n",
    "                array[pos] = elem\n",
    "                pos += 1\n",
    "        print(\"sequence after extraction from buckets:\")\n",
    "        print(array, \"\\n\")\n",
    "        iteration += 1\n",
    "        \n",
    "array = [234, 855, 849, 454]\n",
    "sort(array)"
   ]
  },
  {
   "cell_type": "markdown",
   "metadata": {},
   "source": [
    "If we don't want to sort decimal numbers but numbers in a different representation, we simply use the corresponding base (e.g. 2 for binary representation) instead of the 10. You find this more general variant on the lecture slides."
   ]
  }
 ],
 "metadata": {
  "kernelspec": {
   "display_name": "Python 3 (ipykernel)",
   "language": "python",
   "name": "python3"
  },
  "language_info": {
   "codemirror_mode": {
    "name": "ipython",
    "version": 3
   },
   "file_extension": ".py",
   "mimetype": "text/x-python",
   "name": "python",
   "nbconvert_exporter": "python",
   "pygments_lexer": "ipython3",
   "version": "3.11.4"
  }
 },
 "nbformat": 4,
 "nbformat_minor": 4
}
