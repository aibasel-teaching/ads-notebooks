{
 "cells": [
  {
   "cell_type": "markdown",
   "metadata": {},
   "source": [
    "# Tries"
   ]
  },
  {
   "cell_type": "markdown",
   "metadata": {},
   "source": [
    "### Die Hilfsklasse Alphabet"
   ]
  },
  {
   "cell_type": "markdown",
   "metadata": {},
   "source": [
    "Auch hier benötigen wir wieder die Hilfsklasse Alphabet, die wir schon im Notebook zum Thema Stringsortierung kennengelernt haben. "
   ]
  },
  {
   "cell_type": "code",
   "execution_count": 1,
   "metadata": {},
   "outputs": [],
   "source": [
    "class Alphabet:\n",
    "    \n",
    "    def __init__(self, chars):\n",
    "        self._inverse = [None]*len(chars)\n",
    "        \n",
    "        self._alphabet=dict()\n",
    "        for (i, c) in enumerate(chars):\n",
    "            self._alphabet[c] = i\n",
    "            self._inverse[i] = c\n",
    "    \n",
    "    def toChar(self, index):\n",
    "        return self._inverse[index]\n",
    "        \n",
    "    def toIndex(self, char):\n",
    "        return self._alphabet[char]\n",
    "    \n",
    "    def contains(self, char):\n",
    "        return self._alphabet.contains(char)\n",
    "        \n",
    "    def radix(self):\n",
    "        return len(self._inverse)\n",
    "    \n",
    "lowercase = Alphabet(\"abcdefghijklmnopqrstuvwxyz\")\n",
    "uppercase = Alphabet(\"ABCDEFGHIJKLMNOPQRSTUVWXYZ\")\n",
    "ascii = Alphabet([chr(i) for i in range(0, 128)])\n",
    "extendedAscii = Alphabet([chr(i) for i in range(0, 256)])\n",
    "DNA = Alphabet(\"ACGT\")    "
   ]
  },
  {
   "cell_type": "markdown",
   "metadata": {},
   "source": [
    "## Tries"
   ]
  },
  {
   "cell_type": "markdown",
   "metadata": {},
   "source": [
    "Die folgende Klasse implementiert die wichtigen Operationen zum Einfügen / Löschen und Suchen in einem Trie."
   ]
  },
  {
   "cell_type": "code",
   "execution_count": 99,
   "metadata": {},
   "outputs": [],
   "source": [
    "class Trie:\n",
    "    \n",
    "    class Node:\n",
    "        def __init__(self,rChildren):           \n",
    "            self.value = None\n",
    "            self.children = [None] * rChildren\n",
    "    \n",
    "    def __init__(self, alphabet):\n",
    "        self._alphabet = alphabet\n",
    "        self._root = Trie.Node(alphabet.radix())\n",
    "    \n",
    "    def get(self, key):\n",
    "        node = self._get(self._root, key, 0)\n",
    "        if (node == None):\n",
    "            return None\n",
    "        else:\n",
    "            return node.value\n",
    "    \n",
    "    def _get(self, node, key, d):\n",
    "        if node == None:\n",
    "            return None\n",
    "        if d == len(key):\n",
    "            return node\n",
    "        c = self._alphabet.toIndex(key[d])\n",
    "        return self._get(node.children[c], key, d + 1)\n",
    "            \n",
    "    def put(self, key, value):\n",
    "        self._root = self._put(self._root, key, value, 0)\n",
    "        \n",
    "    def _put(self, node, key, value, d):\n",
    "        \n",
    "        if node == None:\n",
    "            node = Trie.Node(self._alphabet.radix())\n",
    "     \n",
    "        if d == len(key):\n",
    "            node.value = value\n",
    "            return node\n",
    "        \n",
    "        c = self._alphabet.toIndex(key[d])\n",
    "        node.children[c] = self._put(node.children[c], key, value, d + 1)\n",
    "        \n",
    "        return node\n",
    "        \n",
    "    def delete(self, key):\n",
    "        self._root = self._delete(self._root, key, 0)\n",
    "    \n",
    "    def _delete(self, node, key, d):\n",
    "        if node == None:\n",
    "            return None\n",
    "        \n",
    "        if d == len(key):\n",
    "            node.value = None\n",
    "        else:\n",
    "            c = self._alphabet.toIndex(key[d])\n",
    "            node.children[c] = self._delete(node.children[c], key, d + 1)\n",
    "\n",
    "        if node.value != None:\n",
    "            return node\n",
    "        \n",
    "        nonNullChildren = [child for child in node.children \n",
    "                           if child != None]\n",
    "        if len(nonNullChildren) > 0:\n",
    "            return node\n",
    "        else:\n",
    "            return None"
   ]
  },
  {
   "cell_type": "markdown",
   "metadata": {},
   "source": [
    "### Visualisierung"
   ]
  },
  {
   "cell_type": "markdown",
   "metadata": {},
   "source": [
    "Der nachfolgende Code dient zur Visualisierung eines Tries. Die Details sind für das Verständnis nicht wichtig und können beim Lernen übersprungen werden. "
   ]
  },
  {
   "cell_type": "code",
   "execution_count": 100,
   "metadata": {},
   "outputs": [],
   "source": [
    "from pygraphviz import AGraph\n",
    "from IPython.display import Image\n",
    "\n",
    "def plotTrie(trie):\n",
    "    \n",
    "   \n",
    "    g = AGraph(comment='Tree')\n",
    "    _plotTrie(trie._root, None, ' ', trie._alphabet, g)\n",
    "    g.layout()\n",
    "    return Image(g.draw(format='png', prog='dot'))\n",
    "\n",
    "def _plotTrie(node, parent, char, alphabet, dot):                         \n",
    "    \n",
    "    if node == None:        \n",
    "        return \n",
    "\n",
    "    if node.value != None:\n",
    "        dot.add_node(str(node), label = str(char) +\":\" +str(node.value))\n",
    "    else:\n",
    "        dot.add_node(str(node),label =  str(char))\n",
    "    \n",
    "    if parent != None:\n",
    "        dot.add_edge(str(parent), str(node))    \n",
    "    \n",
    "    labeledChildren = [(alphabet.toChar(p), child) for (p, child) \n",
    "                       in enumerate(node.children) if child != None]        \n",
    "    for (n, (charChild, child)) in enumerate(labeledChildren):                  \n",
    "        _plotTrie(child, node, charChild, alphabet, dot)      \n"
   ]
  },
  {
   "cell_type": "markdown",
   "metadata": {},
   "source": [
    "### Experimente"
   ]
  },
  {
   "cell_type": "markdown",
   "metadata": {},
   "source": [
    "Ausgestattet mit einer Funktion um Tries zu visualisieren, können wir nun mit Tries experimentieren. "
   ]
  },
  {
   "cell_type": "markdown",
   "metadata": {},
   "source": [
    "Als erstes schauen wir uns die Sequenz von Tries an, die entsteht wenn wir die Schlüssel she, sells, sea, shells und by einfügen. "
   ]
  },
  {
   "cell_type": "code",
   "execution_count": 101,
   "metadata": {},
   "outputs": [
    {
     "data": {
      "image/png": "[encoded data removed]",
      "text/plain": [
       "<IPython.core.display.Image object>"
      ]
     },
     "execution_count": 101,
     "metadata": {},
     "output_type": "execute_result"
    }
   ],
   "source": [
    "t = Trie(lowercase)\n",
    "for (key, value) in [(\"she\",1), (\"sells\", 2), (\"sea\", 3), (\"shells\", 4), (\"by\", 5)]:\n",
    "    t.put(key, value)\n",
    "plotTrie(t)\n"
   ]
  },
  {
   "cell_type": "markdown",
   "metadata": {},
   "source": [
    "Als nächstes löschen wir wieder einige Schlüssel."
   ]
  },
  {
   "cell_type": "code",
   "execution_count": 102,
   "metadata": {},
   "outputs": [
    {
     "data": {
      "image/png": "[encoded data removed]",
      "text/plain": [
       "<IPython.core.display.Image object>"
      ]
     },
     "execution_count": 102,
     "metadata": {},
     "output_type": "execute_result"
    }
   ],
   "source": [
    "t.delete(\"she\")\n",
    "plotTrie(t)"
   ]
  },
  {
   "cell_type": "code",
   "execution_count": 103,
   "metadata": {},
   "outputs": [
    {
     "data": {
      "image/png": "[encoded data removed]",
      "text/plain": [
       "<IPython.core.display.Image object>"
      ]
     },
     "execution_count": 103,
     "metadata": {},
     "output_type": "execute_result"
    }
   ],
   "source": [
    "t.delete(\"shells\")\n",
    "plotTrie(t)"
   ]
  },
  {
   "cell_type": "markdown",
   "metadata": {},
   "source": [
    "## Zeichenbasierte Operationen"
   ]
  },
  {
   "cell_type": "markdown",
   "metadata": {},
   "source": [
    "Nun erweitern wir den Trie um zeichenbasierte Operationen."
   ]
  },
  {
   "cell_type": "markdown",
   "metadata": {},
   "source": [
    "*Folgende Methoden wurden in der Vorlesung nicht besprochen und sind nicht Teil vom Vorlesungs/Prüfungsstoff. Wenn Sie Lust haben, können Sie sich trotzdem anschauen, wie diese zeichenbasierten Operationen funktionieren. Alle Methoden nutzen die Baumstruktur vom Trie aus. Es ist deshalb auch eine gute Übung um Tries zu verstehen.*"
   ]
  },
  {
   "cell_type": "code",
   "execution_count": 104,
   "metadata": {},
   "outputs": [],
   "source": [
    "class TrieST(Trie):\n",
    "    \n",
    "    def __init__(self, alphabet):\n",
    "        super().__init__(alphabet)\n",
    "    \n",
    "    def keys(self):\n",
    "        return self.keysWithPrefix(\"\")\n",
    "    \n",
    "    def keysWithPrefix(self, prefix):\n",
    "        queue = []\n",
    "        self._collect(self._get(self._root, prefix, 0), prefix, queue)\n",
    "        return queue\n",
    "\n",
    "    def _collect(self, node, prefix, queue):\n",
    "        if node == None:\n",
    "            return\n",
    "        if node.value != None:\n",
    "            queue.append(prefix)\n",
    "        labeledChildren  = [(self._alphabet.toChar(p), child) \n",
    "                            for (p, child) in enumerate(node.children) if child != None]\n",
    "        for (char, child) in labeledChildren:\n",
    "            self._collect(child, prefix + char, queue)\n",
    "\n",
    "    \n",
    "    def longestPrefixOf(self, s):\n",
    "        l = self._search(self._root, s, 0, 0)\n",
    "        return s[0:l]\n",
    "    \n",
    "                \n",
    "    def _search(self, node, s, d, length):\n",
    "        if node == None: \n",
    "            return length\n",
    "        if node.value != None:\n",
    "            length = d\n",
    "        if d == len(s):\n",
    "            return length\n",
    "        c = self._alphabet.toIndex(s[d])\n",
    "        return self._search(node.children[c], s, d+1, length)\n",
    "    \n",
    "    def keysThatMatch(self, pattern):\n",
    "        queue = []\n",
    "        self._collectWithWildcard(self._root, \"\", pattern, queue)\n",
    "        return queue\n",
    "    \n",
    "    def _collectWithWildcard(self, node, prefix, pattern, queue):\n",
    "        \n",
    "        if node == None:\n",
    "            return\n",
    "       \n",
    "        d = len(prefix)\n",
    "\n",
    "        if d == len(pattern) and node.value != None:\n",
    "            queue.append(prefix)\n",
    "        \n",
    "        if d == len(pattern):\n",
    "            return \n",
    "        \n",
    "        next = pattern[d]; \n",
    "        \n",
    "        labeledChildren  = [(self._alphabet.toChar(p), child) \n",
    "                            for (p, child) in enumerate(node.children) \n",
    "                            if child != None and (self._alphabet.toChar(p) == next or next == '.')]\n",
    "        \n",
    "        for (char, child) in labeledChildren:\n",
    "            self._collectWithWildcard(child, prefix + char, pattern, queue)"
   ]
  },
  {
   "cell_type": "markdown",
   "metadata": {},
   "source": [
    "Wir bauen uns wieder einen Trie auf und testen unsere neu implementierten Methoden. "
   ]
  },
  {
   "cell_type": "code",
   "execution_count": 105,
   "metadata": {},
   "outputs": [],
   "source": [
    "t = TrieST(lowercase)\n",
    "t.put(\"she\", 77)\n",
    "t.put(\"sells\", 88)\n",
    "t.put(\"sea\", 88)\n",
    "t.put(\"shells\", 88)\n",
    "t.put(\"by\", 88)\n"
   ]
  },
  {
   "cell_type": "markdown",
   "metadata": {},
   "source": [
    "Als erstes geben wir alle Schlüssel aus:"
   ]
  },
  {
   "cell_type": "code",
   "execution_count": 106,
   "metadata": {},
   "outputs": [
    {
     "name": "stdout",
     "output_type": "stream",
     "text": [
      "by\n",
      "sea\n",
      "sells\n",
      "she\n",
      "shells\n"
     ]
    }
   ],
   "source": [
    "for k in t.keys():\n",
    "    print(k)"
   ]
  },
  {
   "cell_type": "markdown",
   "metadata": {},
   "source": [
    "Als nächstes suchen wir nach Schlüssel, die einem gewissen Muster entsprechen, also zum Beispiel mit s beginnen und 3 Zeichen lang sind."
   ]
  },
  {
   "cell_type": "code",
   "execution_count": 107,
   "metadata": {},
   "outputs": [
    {
     "name": "stdout",
     "output_type": "stream",
     "text": [
      "sea\n",
      "she\n"
     ]
    }
   ],
   "source": [
    "for k in t.keysThatMatch(\"s..\"):\n",
    "    print(k)"
   ]
  },
  {
   "cell_type": "markdown",
   "metadata": {
    "collapsed": true
   },
   "source": [
    "Wir können uns auch alle Schlüssel ausgeben lassen, die mit einem bestimmten Präfix anfangen."
   ]
  },
  {
   "cell_type": "code",
   "execution_count": 108,
   "metadata": {},
   "outputs": [
    {
     "name": "stdout",
     "output_type": "stream",
     "text": [
      "she\n",
      "shells\n"
     ]
    }
   ],
   "source": [
    "for k in t.keysWithPrefix(\"sh\"):\n",
    "    print(k)\n",
    "    "
   ]
  },
  {
   "cell_type": "markdown",
   "metadata": {},
   "source": [
    "Und zum Schluss experimentieren wir noch mit der Methode ```longestPrefixOf```."
   ]
  },
  {
   "cell_type": "code",
   "execution_count": 109,
   "metadata": {},
   "outputs": [
    {
     "name": "stdout",
     "output_type": "stream",
     "text": [
      "she\n",
      "shells\n",
      "sea\n"
     ]
    }
   ],
   "source": [
    "print(t.longestPrefixOf(\"shegoesforalongwalk\"))\n",
    "print(t.longestPrefixOf(\"shellsort\"))\n",
    "print(t.longestPrefixOf(\"seagull\"))"
   ]
  },
  {
   "cell_type": "code",
   "execution_count": null,
   "metadata": {},
   "outputs": [],
   "source": []
  }
 ],
 "metadata": {
  "anaconda-cloud": {},
  "kernelspec": {
   "display_name": "Python 3",
   "language": "python",
   "name": "python3"
  },
  "toc": {
   "base_numbering": 1,
   "nav_menu": {},
   "number_sections": false,
   "sideBar": false,
   "skip_h1_title": false,
   "title_cell": "Table of Contents",
   "title_sidebar": "Contents",
   "toc_cell": false,
   "toc_position": {},
   "toc_section_display": false,
   "toc_window_display": false
  }
 },
 "nbformat": 4,
 "nbformat_minor": 1
}
