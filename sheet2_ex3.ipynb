{
 "cells": [
  {
   "cell_type": "code",
   "execution_count": null,
   "id": "43e8da21",
   "metadata": {},
   "outputs": [],
   "source": [
    "def merge_sort(array, use_merge_improvement=False,\n",
    "               use_insertion_sort=False, use_role_swap=False):\n",
    "    \"\"\"Merge sort (with optimizations)\"\"\"\n",
    "    tmp_array = list(array)\n",
    "    \n",
    "    merge_sort_aux(array, tmp_array, 0, len(array) - 1, use_merge_improvement,\n",
    "                   use_insertion_sort, use_role_swap)\n",
    "    return array\n"
   ]
  },
  {
   "cell_type": "code",
   "execution_count": null,
   "id": "476583e0",
   "metadata": {},
   "outputs": [],
   "source": [
    "def merge_sort_aux(array_from, array_to, lo, hi,\n",
    "                   use_merge_improvement=False,\n",
    "                   use_insertion_sort=False,\n",
    "                   use_role_swap=False):\n",
    "    if hi <= lo:\n",
    "        return\n",
    "\n",
    "    mid = lo + (hi - lo) // 2\n",
    "    merge_sort_aux(array_from, array_to, lo, mid, use_merge_improvement, use_insertion_sort, use_role_swap)\n",
    "    merge_sort_aux(array_from, array_to, mid + 1, hi, use_merge_improvement, use_insertion_sort, use_role_swap)\n",
    "\n",
    "    merge(array_from, array_to, lo, mid, hi, use_merge_improvement, use_role_swap)\n"
   ]
  },
  {
   "cell_type": "code",
   "execution_count": null,
   "id": "eab1512d",
   "metadata": {},
   "outputs": [],
   "source": [
    "def merge(array_from, array_to, lo, mid, hi,\n",
    "          use_merge_improvement=False, use_role_swap=False):\n",
    "    \n",
    "    i = lo\n",
    "    j = mid + 1\n",
    "    for k in range(lo, hi + 1):  # k = lo,...,hi\n",
    "        if j > hi or (i <= mid and array_from[i] <= array_from[j]):\n",
    "            array_to[k] = array_from[i]\n",
    "            i += 1\n",
    "        else:\n",
    "            array_to[k] = array_from[j]\n",
    "            j += 1\n",
    "    for k in range(lo, hi + 1):  # k = lo,...,hi\n",
    "        array_from[k] = array_to[k]"
   ]
  },
  {
   "cell_type": "code",
   "execution_count": null,
   "id": "4d309368",
   "metadata": {},
   "outputs": [],
   "source": [
    "# Sort array in range lo to hi with insertion sort\n",
    "def insertion_sort(array, lo, hi):\n",
    "    for i in range(lo, hi+1):\n",
    "        val = array[i]\n",
    "        j = i\n",
    "        while j > lo and array[j - 1] > val:\n",
    "            array[j] = array[j - 1]\n",
    "            j -= 1\n",
    "        array[j] = val"
   ]
  },
  {
   "cell_type": "markdown",
   "id": "ccb656f5",
   "metadata": {},
   "source": [
    "A simple example that you can use to test the correctness of your implementation with different activated imprevements"
   ]
  },
  {
   "cell_type": "code",
   "execution_count": null,
   "id": "e42cab77",
   "metadata": {},
   "outputs": [],
   "source": [
    "# change here, what configuration you test\n",
    "use_merge_improvement = True\n",
    "use_insertion_sort = True\n",
    "use_role_swap = True\n",
    "\n",
    "test = [6, 2, 5, 8, 4, 5, 2, 4, 12, 3, 2, 5]\n",
    "merge_sort(test, use_merge_improvement, use_insertion_sort, use_role_swap)"
   ]
  },
  {
   "cell_type": "markdown",
   "id": "861010a5-f7c9-4d7e-9e98-59aa33663a03",
   "metadata": {},
   "source": [
    "Try in any case ``use_swap`` in combination with the other improvements."
   ]
  },
  {
   "cell_type": "markdown",
   "id": "6bc3d744",
   "metadata": {},
   "source": [
    "# Question 3d"
   ]
  },
  {
   "cell_type": "markdown",
   "id": "dad7db90",
   "metadata": {},
   "source": [
    "The following code contains the implementation for the experiments in part d. You can ignore the details and simply use the calls of the code (below)."
   ]
  },
  {
   "cell_type": "code",
   "execution_count": null,
   "id": "e0dcbb0d",
   "metadata": {},
   "outputs": [],
   "source": [
    "%matplotlib inline\n",
    "\n",
    "import matplotlib.pyplot as plt\n",
    "import random\n",
    "import timeit\n",
    "\n",
    "\n",
    "def sort_all_test_instances(test_instances, use_merge_improvement=False,\n",
    "        use_insertion_sort=False, use_role_swap=False):\n",
    "    \"\"\"Auxiliary function for the experiments.\n",
    "\n",
    "    Sorts all test_instances with merge_sort and the given parameters\n",
    "    for the different improvements.\n",
    "    \"\"\"\n",
    "    for array in test_instances:\n",
    "        a = list(array) # copy to not change the instance for the next run\n",
    "        merge_sort(a, use_merge_improvement, use_insertion_sort, use_role_swap)\n",
    "\n",
    "        \n",
    "def run_experiment(instance_creator):\n",
    "    \"\"\"Run a complete experiment.\n",
    "\n",
    "    The test arrays are created with instance_creator.\n",
    "    \"\"\"\n",
    "\n",
    "    # We first generate arrays of different sizes, namely from\n",
    "    # min_size to max_size with step width step. For each size,\n",
    "    # we create instances_per_size many random arrays, with the\n",
    "    # given by instance_creator.\n",
    "    min_size = 10000\n",
    "    max_size = 20000\n",
    "    step = 2000\n",
    "    instances_per_size = 2\n",
    "\n",
    "    test_instances = dict()\n",
    "    for size in range(min_size, max_size + 1, step):\n",
    "        test_instances[size] = []\n",
    "        for num in range(instances_per_size):\n",
    "            array = instance_creator(size)\n",
    "            test_instances[size].append(array)\n",
    "\n",
    "    results = dict()\n",
    "\n",
    "    # Internal auxiliary function, that runs a configuration on all instances and\n",
    "    # measures and collects the times.\n",
    "    def collect_data(use_merge_improvement=False, use_insertion_sort=False,\n",
    "                     use_role_swap=False):\n",
    "        print(\"Collecting data for merge sort with parameters\",\n",
    "              \"use_merge_improvement =\", use_merge_improvement,\n",
    "              \"use_insertion_sort =\", use_insertion_sort,\n",
    "              \"use_role_swap =\", use_role_swap)\n",
    "\n",
    "        times = []\n",
    "        for n in range(min_size, max_size + 1, step):\n",
    "            cmd = (f\"sort_all_test_instances(test_instances[{n}],\" +\n",
    "                   f\"use_merge_improvement={use_merge_improvement},\" +\n",
    "                   f\"use_insertion_sort={use_insertion_sort},\"+\n",
    "                   f\"use_role_swap={use_role_swap})\")\n",
    "            # We run the configuration three times and use the best time\n",
    "            # (to stabilize the results). Since sort_all_test_instances already\n",
    "            # has instances_per_size many iterations, we on top of that only run\n",
    "            # 10 repetitions in timeit.\n",
    "            t = timeit.repeat(lambda:\n",
    "                              sort_all_test_instances(test_instances[n],\n",
    "                                  use_merge_improvement, use_insertion_sort,\n",
    "                                  use_role_swap),\n",
    "                              repeat=3, number=10, globals=globals())\n",
    "            times.append(min(t)/(10*instances_per_size))\n",
    "            print(\"size\", n, \"took\", min(t)/(10*instances_per_size),\n",
    "                  \"seconds on average\")\n",
    "        results[(use_merge_improvement, use_insertion_sort, use_role_swap)] = times\n",
    "\n",
    "\n",
    "    collect_data(use_merge_improvement=True)\n",
    "    collect_data(use_insertion_sort=True)\n",
    "    collect_data(use_role_swap=True)\n",
    "    collect_data(use_merge_improvement=True, use_insertion_sort=True,\n",
    "                 use_role_swap=True)\n",
    "    collect_data()\n",
    "\n",
    "\n",
    "    xdata =  list(range(min_size, max_size + 1, step))\n",
    "    plt.plot(xdata, results[(False, False, False)], marker=\"o\", ls=\"-\",\n",
    "            label=\"without improvement\")\n",
    "    plt.plot(xdata, results[(True, False, False)], marker=\"o\", ls=\"-\",\n",
    "            label=\"merge improvement\")\n",
    "    plt.plot(xdata, results[(False, True, False)], marker=\"o\", ls=\"-\",\n",
    "            label=\"insertion sort\")\n",
    "    plt.plot(xdata, results[(False, False, True)], marker=\"o\", ls=\"-\",\n",
    "            label=\"role swap\")\n",
    "    plt.plot(xdata, results[(True, True, True)], marker=\"o\",\n",
    "            label=\"all improvements\")\n",
    "    plt.legend(loc=\"upper left\")\n",
    "    plt.xlabel(\"input size\")\n",
    "    plt.ylabel(\"seconds\")\n",
    "    plt.show()\n"
   ]
  },
  {
   "cell_type": "markdown",
   "id": "c5b3add0",
   "metadata": {},
   "source": [
    "The following functions create random arrays of the given size with certain properties."
   ]
  },
  {
   "cell_type": "code",
   "execution_count": null,
   "id": "5b305c50",
   "metadata": {},
   "outputs": [],
   "source": [
    "# unique entries in random order\n",
    "def random_unique(size):\n",
    "    array = list(range(size))\n",
    "    random.shuffle(array)\n",
    "    return array\n",
    "\n",
    "# random entries from 10 possible values\n",
    "def few_different_values(size):\n",
    "    return list(random.randrange(10) for i in range(size))\n",
    "\n",
    "# We begin with a sorted array, chose size/10 times two\n",
    "# random positions and swap their content:\n",
    "def almost_sorted(size):\n",
    "    array = list(range(size))\n",
    "    for iteration in range(size//10):\n",
    "        i = random.randrange(size)\n",
    "        j = random.randrange(size)\n",
    "        array[i], array[j] = array[j], array[i]\n",
    "    return array\n"
   ]
  },
  {
   "cell_type": "markdown",
   "id": "8309f4eb",
   "metadata": {},
   "source": [
    "We conduct the first experiment with the random array that contains unique entries (this can take some time). You can only make meaningful experiments once you solved questions 3a-c."
   ]
  },
  {
   "cell_type": "code",
   "execution_count": null,
   "id": "b6280342",
   "metadata": {},
   "outputs": [],
   "source": [
    "run_experiment(random_unique)"
   ]
  },
  {
   "cell_type": "markdown",
   "id": "71194afc",
   "metadata": {},
   "source": [
    "In the next experiment we consider arrays with many repeated entries."
   ]
  },
  {
   "cell_type": "code",
   "execution_count": null,
   "id": "e3e540e4",
   "metadata": {},
   "outputs": [],
   "source": [
    "run_experiment(few_different_values)"
   ]
  },
  {
   "cell_type": "markdown",
   "id": "21e8005a",
   "metadata": {},
   "source": [
    "The last experiment uses an input where many elements are already in the correct order."
   ]
  },
  {
   "cell_type": "code",
   "execution_count": null,
   "id": "40eb0398",
   "metadata": {},
   "outputs": [],
   "source": [
    "run_experiment(almost_sorted)"
   ]
  }
 ],
 "metadata": {
  "kernelspec": {
   "display_name": "Python 3 (ipykernel)",
   "language": "python",
   "name": "python3"
  },
  "language_info": {
   "codemirror_mode": {
    "name": "ipython",
    "version": 3
   },
   "file_extension": ".py",
   "mimetype": "text/x-python",
   "name": "python",
   "nbconvert_exporter": "python",
   "pygments_lexer": "ipython3",
   "version": "3.11.4"
  }
 },
 "nbformat": 4,
 "nbformat_minor": 5
}
