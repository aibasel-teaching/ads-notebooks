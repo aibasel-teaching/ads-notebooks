{
 "cells": [
  {
   "cell_type": "markdown",
   "metadata": {},
   "source": [
    "# Union-Find-Verfahren"
   ]
  },
  {
   "cell_type": "markdown",
   "metadata": {},
   "source": [
    "## Tools für Experimente und Darstellung"
   ]
  },
  {
   "cell_type": "markdown",
   "metadata": {},
   "source": [
    "Wir verwenden hier wieder `networkx` zur Repräsentation und zur Darstellung von Graphen/Bäumen. Zusätzlich verwenden wir `pygraphviz` zum besseren Ploten von Bäumen."
   ]
  },
  {
   "cell_type": "code",
   "execution_count": null,
   "metadata": {
    "scrolled": true
   },
   "outputs": [],
   "source": [
    "%matplotlib inline\n",
    "\n",
    "import matplotlib\n",
    "import matplotlib.pyplot as plt\n",
    "from networkx.drawing.nx_agraph import graphviz_layout\n",
    "import networkx as nx\n",
    "import pygraphviz"
   ]
  },
  {
   "cell_type": "markdown",
   "metadata": {},
   "source": [
    "Wir erstellen zufällig eine kleine Beispieleingabe:"
   ]
  },
  {
   "cell_type": "code",
   "execution_count": null,
   "metadata": {
    "scrolled": true
   },
   "outputs": [],
   "source": [
    "import itertools\n",
    "import random\n",
    "\n",
    "class Example:\n",
    "    def __init__(self, no_nodes, no_union_calls):\n",
    "        self.no_nodes = no_nodes\n",
    "        self.union_calls = []\n",
    "        \n",
    "        node_pairs = list(itertools.combinations(range(no_nodes), 2))\n",
    "        sampled_pairs = random.sample(node_pairs, no_union_calls)\n",
    "        \n",
    "        # In the sampled pairs, the node with the smaller number\n",
    "        # always is the first component. We thus swap the order\n",
    "        # for some of the pairs       \n",
    "        for node1, node2 in sampled_pairs:\n",
    "            if random.choice((True, False)):\n",
    "                node1, node2 = node2, node1\n",
    "            self.union_calls.append((node1, node2))\n",
    "\n",
    "small_example = Example(10, 8)\n",
    "print(small_example.union_calls)"
   ]
  },
  {
   "cell_type": "markdown",
   "metadata": {},
   "source": [
    "To be able to quickly verify the results of the algorithms below, we visualize the resulting graph."
   ]
  },
  {
   "cell_type": "code",
   "execution_count": null,
   "metadata": {},
   "outputs": [],
   "source": [
    "graph = nx.Graph()\n",
    "graph.add_nodes_from(range(small_example.no_nodes))\n",
    "graph.add_edges_from(small_example.union_calls)\n",
    "pos = nx.kamada_kawai_layout(graph)\n",
    "nx.draw(graph, pos, with_labels=True, \n",
    "        node_size=1000, node_color='lightblue')"
   ]
  },
  {
   "cell_type": "markdown",
   "metadata": {},
   "source": [
    " ## Quick-Find"
   ]
  },
  {
   "cell_type": "markdown",
   "metadata": {},
   "source": [
    "Quick-Find ist ein eher naives Verfahren, das sich für jeden Knoten eine id für die entsprechende Zusammenhangskomponente speichert. Werden zwei Zusammenhangskomponenten neu verschmolzen, muss man über alle Knoten gehen und für eine der beiden Komponenten alle id-Einträge auf den Wert der anderen Komponente setzen."
   ]
  },
  {
   "cell_type": "code",
   "execution_count": null,
   "metadata": {
    "scrolled": true
   },
   "outputs": [],
   "source": [
    "class QuickFind:\n",
    "    def __init__(self, no_nodes):\n",
    "        self.id = list(range(no_nodes))\n",
    "        self.components = no_nodes\n",
    "\n",
    "    def find(self, v):\n",
    "        return self.id[v]\n",
    "\n",
    "    def union(self, v, w):\n",
    "        id_v = self.find(v)\n",
    "        id_w = self.find(w)\n",
    "        if id_v == id_w:  # already in same component\n",
    "            return\n",
    "        # replace all occurrences of id_v in self.id with id_w\n",
    "        for i in range(len(self.id)):\n",
    "            if self.id[i] == id_v:\n",
    "                self.id[i] = id_w\n",
    "        self.components -= 1  # we merged two components\n",
    "        \n",
    "    def connected(self, v, w):\n",
    "        return self.find(v) == self.find(w)\n",
    "\n",
    "    def count(self):\n",
    "        return self.components"
   ]
  },
  {
   "cell_type": "code",
   "execution_count": null,
   "metadata": {
    "scrolled": false
   },
   "outputs": [],
   "source": [
    "qf = QuickFind(small_example.no_nodes)\n",
    "print(\"anfängliche Ids:\", qf.id)\n",
    "print()\n",
    "\n",
    "for x, y in small_example.union_calls:\n",
    "    qf.union(x, y)\n",
    "    print(\"nach union(%i, %i):\" % (x, y))\n",
    "    print(qf.id)\n",
    "    print()"
   ]
  },
  {
   "cell_type": "code",
   "execution_count": null,
   "metadata": {
    "scrolled": true
   },
   "outputs": [],
   "source": [
    "qf.connected(0, 6)"
   ]
  },
  {
   "cell_type": "markdown",
   "metadata": {},
   "source": [
    "## Quick-Union"
   ]
  },
  {
   "cell_type": "markdown",
   "metadata": {},
   "source": [
    "Quick-Union speichert alle Knoten einer Zusammenhangskomponente innerhalb eines Baums. Das erspart bei `union` das Traversieren aller Knoten, dafür kann man beim Aufruf von `find` nicht direkt eine id vergleichen, sondern vergleicht stattdessen die Wurzeln der entsprechenden Bäume."
   ]
  },
  {
   "cell_type": "code",
   "execution_count": null,
   "metadata": {
    "scrolled": true
   },
   "outputs": [],
   "source": [
    "class QuickUnion:\n",
    "    def __init__(self, no_nodes):\n",
    "        self.parent = list(range(no_nodes))\n",
    "        self.components = no_nodes\n",
    "\n",
    "    def find(self, v):\n",
    "        while self.parent[v] != v:\n",
    "            v = self.parent[v]\n",
    "        return v\n",
    "\n",
    "    def union(self, v, w):\n",
    "        id_v = self.find(v)\n",
    "        id_w = self.find(w)\n",
    "        if id_v == id_w:  # already in same component\n",
    "            print(\"Knoten\", v, \"und\", w, \"waren bereits in\",\n",
    "                  \"gleicher Zusammenhangskomponente.\")\n",
    "            return\n",
    "        self.parent[id_v] = id_w\n",
    "        print(\"Hänge Wurzel\", id_v, \"des Baumes von\", v, \n",
    "              \"an Wurzel\", id_w, \"des Baumes von\", w)\n",
    "        self.components -= 1\n",
    "        \n",
    "    def connected(self, v, w):\n",
    "        return self.find(v) == self.find(w)\n",
    "\n",
    "    def count(self):\n",
    "        return self.components"
   ]
  },
  {
   "cell_type": "markdown",
   "metadata": {},
   "source": [
    "Hier erstmal noch eine kleine Funktion zum Zeichnen des von `parent` repräsentierten Waldes:"
   ]
  },
  {
   "cell_type": "code",
   "execution_count": null,
   "metadata": {
    "scrolled": true
   },
   "outputs": [],
   "source": [
    "def draw_forest(parent_array):\n",
    "    graph = nx.DiGraph()\n",
    "    graph.add_nodes_from(range(len(parent_array)))\n",
    "    for child, parent in enumerate(parent_array):\n",
    "        if child != parent:\n",
    "            graph.add_edge(child, parent)\n",
    "        \n",
    "    pos = graphviz_layout(graph.reverse(), prog='dot')\n",
    "    nx.draw(graph, pos, with_labels=True, node_size=300, node_color='lightblue')"
   ]
  },
  {
   "cell_type": "markdown",
   "metadata": {},
   "source": [
    "Dann testen wir einmal Quick-Union:"
   ]
  },
  {
   "cell_type": "code",
   "execution_count": null,
   "metadata": {
    "scrolled": false
   },
   "outputs": [],
   "source": [
    "qu = QuickUnion(small_example.no_nodes)\n",
    "for x, y in small_example.union_calls:\n",
    "    print(\"union(%i, %i)\" % (x, y))\n",
    "    qu.union(x, y)\n",
    "    draw_forest(qu.parent)\n",
    "    plt.show()\n",
    "    print()"
   ]
  },
  {
   "cell_type": "markdown",
   "metadata": {},
   "source": [
    "## Ranked Quick-Union"
   ]
  },
  {
   "cell_type": "code",
   "execution_count": null,
   "metadata": {
    "scrolled": true
   },
   "outputs": [],
   "source": [
    "class RankedQuickUnion:\n",
    "    def __init__(self, no_nodes):\n",
    "        self.parent = list(range(no_nodes))\n",
    "        self.components = no_nodes\n",
    "        self.rank = [0] * no_nodes  # [0, ..., 0]\n",
    "\n",
    "    def find(self, v):\n",
    "        while self.parent[v] != v:\n",
    "            v = self.parent[v]\n",
    "        return v\n",
    "\n",
    "    def union(self, v, w):\n",
    "        id_v = self.find(v)\n",
    "        id_w = self.find(w)\n",
    "        if id_v == id_w:\n",
    "            print(\"Knoten\", v, \"und\", w, \"waren bereits in gleicher Zusammenhangskomponente.\")\n",
    "            return\n",
    "        if self.rank[id_w] < self.rank[id_v]:\n",
    "            self.parent[id_w] = id_v\n",
    "            print(\"Hänge Wurzel\", id_w, \"des Baumes von\", w, \"an Wurzel\", id_v, \"des Baumes von\", v)\n",
    "        else:\n",
    "            self.parent[id_v] = id_w\n",
    "            print(\"Hänge Wurzel\", id_v, \"des Baumes von\", v, \"an Wurzel\", id_w, \"des Baumes von\", w)\n",
    "\n",
    "            if self.rank[id_v] == self.rank[id_w]:\n",
    "                print(\"Update Höhe des entstandenen Baums\")\n",
    "                self.rank[id_w] += 1\n",
    "        self.components -= 1\n",
    "\n",
    "    def connected(self, v, w):\n",
    "        return self.find(v) == self.find(w)\n",
    "\n",
    "    def count(self):\n",
    "        return self.components"
   ]
  },
  {
   "cell_type": "code",
   "execution_count": null,
   "metadata": {
    "scrolled": false
   },
   "outputs": [],
   "source": [
    "rqu = RankedQuickUnion(small_example.no_nodes)\n",
    "for x, y in small_example.union_calls:\n",
    "    print(\"union(%i, %i)\" % (x, y))\n",
    "    rqu.union(x, y)\n",
    "    draw_forest(rqu.parent)\n",
    "    plt.show()\n",
    "    print()"
   ]
  },
  {
   "cell_type": "markdown",
   "metadata": {},
   "source": [
    "## Ranked Quick-Union mit Pfadkompression"
   ]
  },
  {
   "cell_type": "markdown",
   "metadata": {},
   "source": [
    "Pfadkompression ist eine Technik, die Bäume als Seiteneffekt eines `find`-Aufrufes flacher macht."
   ]
  },
  {
   "cell_type": "code",
   "execution_count": null,
   "metadata": {
    "scrolled": true
   },
   "outputs": [],
   "source": [
    "class RankedQuickUnionWithPathCompression:\n",
    "    def __init__(self, no_nodes):\n",
    "        self.parent = list(range(no_nodes))\n",
    "        self.components = no_nodes\n",
    "        self.rank = [0] * no_nodes  # [0, ..., 0]\n",
    "\n",
    "    def find(self, v):\n",
    "        if self.parent[v] == v:\n",
    "            return v\n",
    "        root = self.find(self.parent[v])\n",
    "        self.parent[v] = root\n",
    "        return root\n",
    "\n",
    "    def union(self, v, w):\n",
    "        id_v = self.find(v)\n",
    "        id_w = self.find(w)\n",
    "        if id_v == id_w:\n",
    "            return\n",
    "        if self.rank[id_w] < self.rank[id_v]:\n",
    "            self.parent[id_w] = id_v\n",
    "        else:\n",
    "            self.parent[id_v] = id_w\n",
    "            if self.rank[id_v] == self.rank[id_w]:\n",
    "                self.rank[id_w] += 1\n",
    "        self.components -= 1\n",
    "\n",
    "    def connected(self, v, w):\n",
    "        return self.find(v) == self.find(w)\n",
    "\n",
    "    def count(self):\n",
    "        return self.components"
   ]
  },
  {
   "cell_type": "markdown",
   "metadata": {},
   "source": [
    "Bezüglich `union` funktioniert alles fast genau wie ohne Pfadkompression. Allerdings ruft `union` intern `find` auf, wodurch als Seiteneffekt Knoten an die Wurzel umgehängt werden."
   ]
  },
  {
   "cell_type": "code",
   "execution_count": null,
   "metadata": {
    "scrolled": false
   },
   "outputs": [],
   "source": [
    "rqupc = RankedQuickUnionWithPathCompression(small_example.no_nodes)\n",
    "for x, y in small_example.union_calls:\n",
    "    rqupc.union(x, y)\n",
    "    \n",
    "draw_forest(rqupc.parent)"
   ]
  },
  {
   "cell_type": "markdown",
   "metadata": {},
   "source": [
    "Ohne Pfadkompression verändern `find`-Aufrufe die Datenstruktur nicht. Mit Pfadkompression werden die Bäume nach und nach flacher:"
   ]
  },
  {
   "cell_type": "code",
   "execution_count": null,
   "metadata": {},
   "outputs": [],
   "source": [
    "# TODO füge für das zufällig generierte Beispiel geeignete \n",
    "# find- oder connected-Aufrufe ein\n",
    "# rqupc.connected(6, 0)\n",
    "# rqupc.find(2)\n",
    "draw_forest(rqupc.parent)"
   ]
  }
 ],
 "metadata": {
  "kernelspec": {
   "display_name": "Python 3 (ipykernel)",
   "language": "python",
   "name": "python3"
  },
  "language_info": {
   "codemirror_mode": {
    "name": "ipython",
    "version": 3
   },
   "file_extension": ".py",
   "mimetype": "text/x-python",
   "name": "python",
   "nbconvert_exporter": "python",
   "pygments_lexer": "ipython3",
   "version": "3.10.6"
  }
 },
 "nbformat": 4,
 "nbformat_minor": 2
}
