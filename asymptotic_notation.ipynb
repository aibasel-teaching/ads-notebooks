{
 "cells": [
  {
   "cell_type": "markdown",
   "metadata": {},
   "source": [
    "# Asymptotic Notation"
   ]
  },
  {
   "cell_type": "markdown",
   "metadata": {},
   "source": [
    "$\\Theta(g)$ is the set of all functions that grow asymptotically as fast as $g$. Formally:\n",
    "\n",
    "$$\\Theta(g) = \\{f\\mid{} \\exists c>0,\\exists c'> 0,\\exists n_0> 0 \\text{ such that } \\forall\n",
    "       n \\geq n_0: c\\cdot g(n)\\leq f(n) \\leq c'\\cdot g(n)\\}$$"
   ]
  },
  {
   "cell_type": "markdown",
   "metadata": {},
   "source": [
    "In the analysis, only the term of highest order (= summand that grows the fastest) is interesting, because for large $n$ its growth dominates the other terms.\n",
    "\n",
    "Let's plot some important functions to get an impression how fast they grow (in particular compared to the other functions)."
   ]
  },
  {
   "cell_type": "code",
   "execution_count": null,
   "metadata": {},
   "outputs": [],
   "source": [
    "%matplotlib inline\n",
    "\n",
    "import matplotlib\n",
    "import matplotlib.pyplot as plt\n",
    "import numpy as np"
   ]
  },
  {
   "cell_type": "code",
   "execution_count": null,
   "metadata": {},
   "outputs": [],
   "source": [
    "x = np.linspace(0.01, 10, 500)\n",
    "\n",
    "plt.plot(x, np.log2(x), label=r'$\\log_2(x)$')\n",
    "plt.plot(x, x, label=r'$x$')\n",
    "plt.plot(x, x*np.log2(x), label=r'$x\\log_2(x)$')\n",
    "\n",
    "plt.plot(x, x**2, label=r'$x^2$')\n",
    "plt.plot(x, x**3, label=r'$x^3$')\n",
    "plt.plot(x, 2**x, label=r'$2^x$')\n",
    "# you can comment the last two plot calls out to better\n",
    "# see the differences between the other functions.\n",
    "\n",
    "legend = plt.legend()"
   ]
  },
  {
   "cell_type": "markdown",
   "metadata": {},
   "source": [
    "# Theta"
   ]
  },
  {
   "cell_type": "markdown",
   "metadata": {},
   "source": [
    "Consider $f(x) = 2x^3 - 3x^2 + 100x\\log_2(x) + 50000$ and $g(x) = x^3$. We want to show that $f \\in \\Theta(g)$  (also $f\\in\\Theta(x^3)$).\n",
    "\n",
    "<span style=\"color:red;font-size:1em;\">*Exercise:*</span> Identify values for `c1`, `c2` and `n0` such that for all $x\\geq{}$ `n0` it holds, that `c1`${}\\cdot x^3 \\leq f(x) \\leq{}$ `c2` ${}\\cdot x^3$."
   ]
  },
  {
   "cell_type": "code",
   "execution_count": null,
   "metadata": {},
   "outputs": [],
   "source": [
    "xrange = 50 # Here you can adjust how far the x-axis is shown.\n",
    "x = np.linspace(0.01, xrange, 500)\n",
    "plt.plot(x, 2*x**3 - 3*x**2 + 100*x*np.log2(x) + 50000, label=r'$2x^3 - 3x^2 + 100x\\log_2(x) + 50000$')\n",
    "#plt.plot(x, x**3, label=r'$x^3$')\n",
    "\n",
    "c1 = 0 # TODO\n",
    "c2 = 0 # TODO\n",
    "n0 = 0 # TODO\n",
    "plt.plot(x, c1*x**3, label=r'$%sx^3$' % c1)\n",
    "plt.plot(x, c2*x**3, label=r'$%sx^3$' % c2)\n",
    "plt.axvline(x=n0)\n",
    "legend = plt.legend()"
   ]
  },
  {
   "cell_type": "markdown",
   "metadata": {},
   "source": [
    "<span style=\"color:red;font-size:1em;\">*Exercise:*</span> Does it also hold that $f\\in \\Theta(x^2)$?\n",
    "\n",
    "Try again to identify suitable values for `c1`, `c2` and `n0`."
   ]
  },
  {
   "cell_type": "code",
   "execution_count": null,
   "metadata": {},
   "outputs": [],
   "source": [
    "xrange = 50  # Here you can adjust how far the x-axis is shown.\n",
    "x = np.linspace(0.01, xrange, 500)\n",
    "plt.plot(x, 2*x**3 - 3*x**2 + 100*x*np.log2(x) + 50000, label=r'$2x^3 - 3x^2 + 100x\\log_2(x) + 50000$')\n",
    "\n",
    "c1 = 0 # TODO\n",
    "c2 = 0 # TODO\n",
    "n0 = 0 # TODO\n",
    "plt.plot(x, c1*x**2, label=r'$%sx^2$' % c1)\n",
    "plt.plot(x, c2*x**2, label=r'$%sx^2$' % c2)\n",
    "plt.axvline(x=n0)\n",
    "legend = plt.legend()"
   ]
  }
 ],
 "metadata": {
  "kernelspec": {
   "display_name": "Python 3 (ipykernel)",
   "language": "python",
   "name": "python3"
  },
  "language_info": {
   "codemirror_mode": {
    "name": "ipython",
    "version": 3
   },
   "file_extension": ".py",
   "mimetype": "text/x-python",
   "name": "python",
   "nbconvert_exporter": "python",
   "pygments_lexer": "ipython3",
   "version": "3.11.4"
  }
 },
 "nbformat": 4,
 "nbformat_minor": 4
}
