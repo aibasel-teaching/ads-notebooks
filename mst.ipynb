{
 "cells": [
  {
   "cell_type": "markdown",
   "metadata": {},
   "source": [
    "# Minimale Spannbäume"
   ]
  },
  {
   "cell_type": "markdown",
   "metadata": {},
   "source": [
    "## Tools für Experimente und Darstellung"
   ]
  },
  {
   "cell_type": "markdown",
   "metadata": {},
   "source": [
    "Wir verwenden hier wieder `networkx` zur Repräsentation und zur Darstellung von Graphen."
   ]
  },
  {
   "cell_type": "code",
   "execution_count": null,
   "metadata": {
    "scrolled": true
   },
   "outputs": [],
   "source": [
    "%matplotlib inline\n",
    "\n",
    "import matplotlib\n",
    "import matplotlib.pyplot as plt\n",
    "from networkx.drawing.layout import spring_layout\n",
    "import networkx as nx"
   ]
  },
  {
   "cell_type": "markdown",
   "metadata": {},
   "source": [
    "Für den Algorithmus von Kruskal werden wir eine Union-Find-Struktur benötigen. Daher fügen wir hier eine Implementierung (vom letzten Mal) ein."
   ]
  },
  {
   "cell_type": "code",
   "execution_count": null,
   "metadata": {},
   "outputs": [],
   "source": [
    "class UnionFind: # Ranked quick-union with path compression\n",
    "    def __init__(self, no_nodes):\n",
    "        self.parent = list(range(no_nodes))\n",
    "        self.components = no_nodes\n",
    "        self.rank = [0] * no_nodes  # [0, ..., 0]\n",
    "\n",
    "    def find(self, v):\n",
    "        if self.parent[v] == v:\n",
    "            return v\n",
    "        root = self.find(self.parent[v])\n",
    "        self.parent[v] = root\n",
    "        return root\n",
    "\n",
    "    def union(self, v, w):\n",
    "        id_v = self.find(v)\n",
    "        id_w = self.find(w)\n",
    "        if id_v == id_w:\n",
    "            return\n",
    "        if self.rank[id_w] < self.rank[id_v]:\n",
    "            self.parent[id_w] = id_v\n",
    "        else:\n",
    "            self.parent[id_v] = id_w\n",
    "            if self.rank[id_v] == self.rank[id_w]:\n",
    "                self.rank[id_w] += 1\n",
    "        self.components -= 1\n",
    "\n",
    "    def connected(self, v, w):\n",
    "        return self.find(v) == self.find(w)\n",
    "\n",
    "    def count(self):\n",
    "        return self.components"
   ]
  },
  {
   "cell_type": "markdown",
   "metadata": {},
   "source": [
    "Wir erstellen zufällig einen Beispielgraphen. Wir verwenden im Notebook die normale API von networkx-Graphen. Mit der alternative Kantenrepräsentation von den Folien unterstützen die Algorithmen auch Multigraphen (mit parallelen Kanten). Auch networkx hat eine geeignete Klasse `MultiGraph`, allerdings ist das Zeichnen paralleler Kanten im Notebook etwas kompliziert."
   ]
  },
  {
   "cell_type": "code",
   "execution_count": null,
   "metadata": {
    "scrolled": true
   },
   "outputs": [],
   "source": [
    "import random\n",
    "from itertools import combinations\n",
    "\n",
    "def create_random_weighted_graph(no_nodes, no_edges, \n",
    "                                 min_edge_weight, max_edge_weight):\n",
    "    graph = nx.Graph()\n",
    "    node_numbers = list(range(no_nodes))\n",
    "    graph.add_nodes_from(node_numbers)\n",
    "    all_pairs = list(combinations(node_numbers, 2))\n",
    "    possible_weights = list(range(min_edge_weight, max_edge_weight + 1))\n",
    "    # print(all_pairs)\n",
    "    for n1, n2 in random.sample(all_pairs, no_edges):\n",
    "        weight = random.choice(possible_weights)\n",
    "        graph.add_edge(n1, n2, weight=weight)\n",
    "    return graph\n",
    "        \n",
    "graph = create_random_weighted_graph(10, 18, 1, 30)\n"
   ]
  },
  {
   "cell_type": "code",
   "execution_count": null,
   "metadata": {},
   "outputs": [],
   "source": [
    "pos = spring_layout(graph)\n",
    "nx.draw(graph, pos, with_labels=True, node_size=300, node_color='lightblue')\n",
    "edge_labels = dict([((u,v,),d['weight']) for u,v,d in graph.edges(data=True)])\n",
    "_ = nx.draw_networkx_edge_labels(graph, pos, edge_labels=edge_labels)"
   ]
  },
  {
   "cell_type": "markdown",
   "metadata": {},
   "source": [
    "## Algorithmus von Prim"
   ]
  },
  {
   "cell_type": "markdown",
   "metadata": {},
   "source": [
    "Der Algorithmus von Prim baut den Spannbaum ausgehend von einem bestimmten Knoten aus auf (wir wählen hier fest Knoten 0). Dabei betrachtet er jeweils eine Kante mit minimalem Gewicht unter allen am aktuellen Baum anliegenden Kanten. Verbindet sie einen neuen Knoten mit dem Baum, wird sie aufgenommen, sonst wird sie verworfen."
   ]
  },
  {
   "cell_type": "code",
   "execution_count": null,
   "metadata": {},
   "outputs": [],
   "source": [
    "class LazyPrim:\n",
    "    def __init__(self, graph):\n",
    "        self.included_edges = []\n",
    "        self.total_weight = 0\n",
    "\n",
    "        # node-indexed list: True if node already in tree\n",
    "        included_nodes = [False] * graph.number_of_nodes()\n",
    "        candidates = []\n",
    "\n",
    "        # include an arbitrary node (we use 0) in tree\n",
    "        included_nodes[0] = True\n",
    "        for node in graph.neighbors(0):\n",
    "            weight = graph.get_edge_data(0, node)[\"weight\"]\n",
    "            heapq.heappush(candidates, (weight, 0, node))\n",
    "\n",
    "        self.dump(candidates)\n",
    "\n",
    "        while (candidates and\n",
    "               len(self.included_edges) < graph.number_of_nodes() - 1):\n",
    "            weight, v, w = heapq.heappop(candidates)\n",
    "\n",
    "            if included_nodes[v] and included_nodes[w]:\n",
    "                print(\"skipped edge\", (v, w))\n",
    "                continue\n",
    "            if included_nodes[w]:\n",
    "                v, w = w, v\n",
    "            # v is in tree, w is not\n",
    "            included_nodes[w] = True\n",
    "            self.included_edges.append((v, w))\n",
    "            print(\"added edge\", (v, w), \"with weight\", weight)\n",
    "            self.total_weight += weight\n",
    "            for node in graph.neighbors(w):\n",
    "                if not included_nodes[node]:\n",
    "                    weight = graph.get_edge_data(w, node)[\"weight\"]\n",
    "                    heapq.heappush(candidates, (weight, w, node))\n",
    "            self.dump(candidates)\n",
    "\n",
    "                    \n",
    "    def edges(self):\n",
    "        for e in self.included_edges:\n",
    "            yield e\n",
    "\n",
    "    def weight(self):\n",
    "        return self.total_weight\n",
    "    \n",
    "    def dump(self, candidates=None):\n",
    "        nx.draw(graph, pos, with_labels=True, node_size=300, node_color='lightblue', edge_color=\"gray\")\n",
    "        edge_labels=dict([((u,v,),d['weight']) for u,v,d in graph.edges(data=True)])\n",
    "        nx.draw_networkx_edge_labels(graph, pos, edge_labels=edge_labels)\n",
    "        nx.draw_networkx_edges(graph, pos, edgelist=self.included_edges, edge_color=\"r\")\n",
    "        if candidates:\n",
    "            edges = [(u,v) for (w, u, v) in candidates]\n",
    "            nx.draw_networkx_edges(graph, pos, edgelist=edges, edge_color=\"b\")\n",
    "        plt.show()"
   ]
  },
  {
   "cell_type": "code",
   "execution_count": null,
   "metadata": {},
   "outputs": [],
   "source": [
    "mst = LazyPrim(graph)\n",
    "print(\"Der minimale Spannbaum hat Gewicht\", mst.weight())"
   ]
  }
 ],
 "metadata": {
  "kernelspec": {
   "display_name": "Python 3",
   "language": "python",
   "name": "python3"
  },
  "language_info": {
   "codemirror_mode": {
    "name": "ipython",
    "version": 3
   },
   "file_extension": ".py",
   "mimetype": "text/x-python",
   "name": "python",
   "nbconvert_exporter": "python",
   "pygments_lexer": "ipython3",
   "version": "3.7.4"
  }
 },
 "nbformat": 4,
 "nbformat_minor": 4
}
