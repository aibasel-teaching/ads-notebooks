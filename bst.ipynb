{
 "cells": [
  {
   "cell_type": "code",
   "execution_count": null,
   "id": "0ef72f0c-5dc7-4e64-a6e6-f4d8da6ac7af",
   "metadata": {},
   "outputs": [],
   "source": [
    "import networkx as nx\n",
    "import matplotlib.pyplot as plt"
   ]
  },
  {
   "cell_type": "code",
   "execution_count": null,
   "id": "f5b6d4c6-1ac7-4800-854e-51a06accf6a3",
   "metadata": {},
   "outputs": [],
   "source": [
    "class BST:\n",
    "    class Node:\n",
    "        def __init__(self, key, value):\n",
    "            self.key = key\n",
    "            self.value = value\n",
    "            self.parent = None\n",
    "            self.left = None\n",
    "            self.right = None\n",
    "\n",
    "    def __init__(self):\n",
    "        self.root = None\n",
    "\n",
    "    def inorder_tree_walk(self):\n",
    "        self._inorder_tree_walk(self.root)\n",
    "    \n",
    "    def _inorder_tree_walk(self, node=None):\n",
    "        if node is not None:\n",
    "            self._inorder_tree_walk(node.left)\n",
    "            print(f\"({node.key}:{node.value})\", end=\" \")\n",
    "            self._inorder_tree_walk(node.right)\n",
    "\n",
    "    def search(self, k):\n",
    "        node = self.root\n",
    "        while node is not None:\n",
    "            if node.key == k:\n",
    "                return node\n",
    "            elif node.key > k:\n",
    "                node = node.left\n",
    "            else:\n",
    "                node = node.right\n",
    "        return None # no node with key k in tree\n",
    "\n",
    "    def minimum(self):\n",
    "        return self._minimum(self.root)\n",
    "    \n",
    "    def _minimum(self, node):\n",
    "        while node.left is not None:\n",
    "            node = node.left\n",
    "        return node\n",
    "\n",
    "    def maximum(self):\n",
    "        ... # Exercise\n",
    "\n",
    "    def successor(self, node):\n",
    "        if node.right is not None:\n",
    "            # return left-most node in right subtree\n",
    "            return self._minimum(node.right)\n",
    "        # otherwise, we must go upwards in the tree\n",
    "        parent = node.parent\n",
    "        while parent is not None and node == parent.right:\n",
    "            node = parent\n",
    "            parent = node.parent\n",
    "        return parent\n",
    "\n",
    "    def predecessor(self, node):\n",
    "        ... # Exercise\n",
    "    \n",
    "    def insert(self, key, value):\n",
    "        current = self.root\n",
    "        parent = None\n",
    "        # search for the right position\n",
    "        while current is not None:\n",
    "            parent = current\n",
    "            if current.key > key:\n",
    "                current = current.left\n",
    "            else:\n",
    "                current = current.right\n",
    "        # insert the new node\n",
    "        node = BST.Node(key, value)\n",
    "        node.parent = parent\n",
    "        if parent is None: # tree was empty\n",
    "            self.root = node\n",
    "        elif key < parent.key:\n",
    "            parent.left = node\n",
    "        else:\n",
    "            parent.right = node\n",
    "\n",
    "    def _transplant(self, u, v):\n",
    "        # Replace subtree rooted at u with subtree rooted at v.\n",
    "        # Also works if v is None.\n",
    "        if u.parent is None:\n",
    "            self.root = v\n",
    "        elif u == u.parent.left:\n",
    "            u.parent.left = v\n",
    "        else:\n",
    "            u.parent.right = v\n",
    "        if v is not None:\n",
    "            v.parent = u.parent\n",
    "            \n",
    "    def delete(self, node):\n",
    "        if node.left is None:\n",
    "            # Case 1 and case 2, where single child is right child.\n",
    "            self._transplant(node, node.right)\n",
    "        elif node.right is None:\n",
    "            # Case 2, where single child is right child.\n",
    "            self._transplant(node, node.left)\n",
    "        else: # Case 3\n",
    "            minimum = self._minimum(node.right)\n",
    "            if node.right != minimum:\n",
    "                # remove minimum from right subtree\n",
    "                # (replacing it by its right child),\n",
    "                # make this subtree the right child\n",
    "                # of minimum.\n",
    "                self._transplant(minimum, minimum.right)\n",
    "                minimum.right = node.right\n",
    "                node.right.parent = minimum\n",
    "            # minimum takes over place of node with\n",
    "            # left subtree of node as left subtree\n",
    "            self._transplant(node, minimum)\n",
    "            minimum.left = node.left\n",
    "            minimum.left.parent = minimum\n",
    "    \n",
    "    def draw(self, only_keys=False): # for drawing; you do not need to understand this code.\n",
    "        def visit(node, depth=0):\n",
    "            if node is None:\n",
    "                return None\n",
    "            left = visit(node.left, depth+1)\n",
    "            node_no = next(counter)\n",
    "            if only_keys:\n",
    "                labels[node_no] = f\"{node.key}\"\n",
    "            else:\n",
    "                labels[node_no] = f\"{node.key}: {node.value}\"\n",
    "            graph.add_node(node_no, depth=depth)\n",
    "            right = visit(node.right, depth+1)\n",
    "            if left is not None:\n",
    "                graph.add_edge(node_no, left)\n",
    "            if right is not None:\n",
    "                graph.add_edge(node_no, right)\n",
    "            return node_no\n",
    "            \n",
    "        from itertools import count\n",
    "        counter = count() # for assigning numbers to nodes\n",
    "        labels = {}\n",
    "        graph = nx.Graph()\n",
    "        visit(self.root)\n",
    "        # done creating the networkx graph\n",
    "\n",
    "        pos = {node: (node, -graph.nodes[node][\"depth\"])\n",
    "              for node in graph.nodes}\n",
    "        nx.draw(graph, pos=pos, labels=labels, with_labels = True, node_size=1600, node_color='#ffffff')\n",
    "\n",
    "        "
   ]
  },
  {
   "cell_type": "markdown",
   "id": "78e5b3b0-ddd2-41e3-b6b3-71f3ac902d2c",
   "metadata": {},
   "source": [
    "Let us first create and draw an example binary search tree (discussing the details of insertion later):"
   ]
  },
  {
   "cell_type": "code",
   "execution_count": null,
   "id": "e472016e-f007-4978-81ba-cba901c78fe1",
   "metadata": {},
   "outputs": [],
   "source": [
    "bst = BST()\n",
    "bst.insert(3, \"La\")\n",
    "bst.insert(9, \"Le\")\n",
    "bst.insert(10, \"Lu\")\n",
    "bst.insert(6, \"Di\")\n",
    "bst.insert(2, \"Del\")\n",
    "bst.insert(4, \"Du\")\n",
    "bst.insert(8, \"Hu\")\n",
    "bst.draw()"
   ]
  },
  {
   "cell_type": "markdown",
   "id": "4abe35fc-a03e-445b-a011-bb135f898bc5",
   "metadata": {},
   "source": [
    "An inorder tree walk prints the keys (and their values) in sorted order:"
   ]
  },
  {
   "cell_type": "code",
   "execution_count": null,
   "id": "b8e6f06d-8684-4b57-8685-1ad06f6161d1",
   "metadata": {},
   "outputs": [],
   "source": [
    "bst.inorder_tree_walk()"
   ]
  },
  {
   "cell_type": "markdown",
   "id": "a3a4a2ef-caac-4705-a913-b7d6a7b93a52",
   "metadata": {},
   "source": [
    "#### Search \n",
    "Let's try the search:"
   ]
  },
  {
   "cell_type": "code",
   "execution_count": null,
   "id": "f554ecd4-5624-4441-9f04-ba1254ef0450",
   "metadata": {},
   "outputs": [],
   "source": [
    "node = bst.search(4) # successful search\n",
    "print(node.value)"
   ]
  },
  {
   "cell_type": "code",
   "execution_count": null,
   "id": "dd40e583-924d-4480-8e82-3c54ca89fae4",
   "metadata": {},
   "outputs": [],
   "source": [
    "node = bst.search(7) # unsuccessful search\n",
    "print(node)"
   ]
  },
  {
   "cell_type": "markdown",
   "id": "b362cc0e-9b5e-4017-b0e8-826f509db030",
   "metadata": {},
   "source": [
    "#### Minimum and maximum\n",
    "\n",
    "We can also query the minimum:"
   ]
  },
  {
   "cell_type": "code",
   "execution_count": null,
   "id": "c4ab7234-db57-4e44-84bb-16daac189222",
   "metadata": {},
   "outputs": [],
   "source": [
    "node = bst.minimum()\n",
    "if node is not None:\n",
    "    print(node.key, node.value)"
   ]
  },
  {
   "cell_type": "markdown",
   "id": "0ca03cb0-0e16-4efe-b997-ab4c275cab8c",
   "metadata": {},
   "source": [
    "**Exercise:** Implement `maximum`."
   ]
  },
  {
   "cell_type": "markdown",
   "id": "3e9073ab-4c67-4fa2-a7b4-c94c3be154b7",
   "metadata": {},
   "source": [
    "#### Successor and predecessor\n",
    "\n",
    "Let's identify successors:"
   ]
  },
  {
   "cell_type": "code",
   "execution_count": null,
   "id": "2c5ebd57-d45d-4111-be9e-752836666b08",
   "metadata": {},
   "outputs": [],
   "source": [
    "for key in (3,8):\n",
    "    start_node = bst.search(key)\n",
    "    node = bst.successor(start_node)\n",
    "    print(\"The successor (key) of\", key, \"is\", node.key)\n"
   ]
  },
  {
   "cell_type": "markdown",
   "id": "791a692a-d131-40fd-8039-be45734ab9de",
   "metadata": {},
   "source": [
    "**Exercise:** Implement `predecessor`."
   ]
  },
  {
   "cell_type": "markdown",
   "id": "af385aa5-4c28-4dd6-a844-3fe16ef9c67f",
   "metadata": {},
   "source": [
    "#### Insertion\n",
    "We already created a binary search tree by subsequently inserting nodes:"
   ]
  },
  {
   "cell_type": "code",
   "execution_count": null,
   "id": "61f96e56-d82d-4adb-9aec-47a4d95aa596",
   "metadata": {},
   "outputs": [],
   "source": [
    "bst = BST()\n",
    "bst.insert(3, \"La\")\n",
    "bst.insert(9, \"Le\")\n",
    "bst.insert(10, \"Lu\")\n",
    "bst.insert(6, \"Di\")\n",
    "bst.insert(2, \"Del\")\n",
    "bst.insert(4, \"Du\")\n",
    "bst.insert(8, \"Hu\")\n",
    "bst.draw()"
   ]
  },
  {
   "cell_type": "markdown",
   "id": "7ff700aa-8873-42d9-8707-f389a8d939de",
   "metadata": {},
   "source": [
    "It can happen, that the tree degenerates to a chain of nodes:"
   ]
  },
  {
   "cell_type": "code",
   "execution_count": null,
   "id": "058229cd-d77d-4499-9047-4db0c61ca834",
   "metadata": {},
   "outputs": [],
   "source": [
    "bst = BST()\n",
    "bst.insert(1, \"La\")\n",
    "bst.insert(2, \"Le\")\n",
    "bst.insert(3, \"Lu\")\n",
    "bst.insert(4, \"Di\")\n",
    "bst.insert(5, \"Del\")\n",
    "bst.insert(6, \"Du\")\n",
    "bst.insert(7, \"Hu\")\n",
    "bst.draw()"
   ]
  },
  {
   "cell_type": "markdown",
   "id": "f721ae93-dbec-4415-a9a7-2ac1975b3676",
   "metadata": {},
   "source": [
    "**Question:** Why is this a problem?"
   ]
  },
  {
   "cell_type": "markdown",
   "id": "3ccfbf6e-94e6-4a55-ad23-a0b4a555050c",
   "metadata": {},
   "source": [
    "#### Deletion\n",
    "Let's start again from a slightly more balanced binary search tree."
   ]
  },
  {
   "cell_type": "code",
   "execution_count": null,
   "id": "d55e795e-7dac-4350-96e7-f4ac5a625b71",
   "metadata": {},
   "outputs": [],
   "source": [
    "bst = BST()\n",
    "bst.insert(3, \"La\")\n",
    "bst.insert(9, \"Le\")\n",
    "bst.insert(12, \"Lu\")\n",
    "bst.insert(6, \"Di\")\n",
    "bst.insert(2, \"Del\")\n",
    "bst.insert(4, \"Du\")\n",
    "bst.insert(8, \"Ha\")\n",
    "bst.insert(15, \"He\")\n",
    "bst.insert(11, \"Hu\")\n",
    "bst.draw()"
   ]
  },
  {
   "cell_type": "markdown",
   "id": "b9e5cb60-9f3d-4a1f-b272-a6fc8eb42264",
   "metadata": {},
   "source": [
    "**Exercise:** In the following three cells, trigger each case of the deletion with a suitable key. Does the resulting tree look like you expected it?"
   ]
  },
  {
   "cell_type": "code",
   "execution_count": null,
   "id": "76a892e2-240d-4a2a-927d-4683a5bf1a59",
   "metadata": {},
   "outputs": [],
   "source": [
    "key = TODO # key that leads to case 3 of deletion\n",
    "node = bst.search(key)\n",
    "bst.delete(node)\n",
    "bst.draw()"
   ]
  },
  {
   "cell_type": "code",
   "execution_count": null,
   "id": "01661add-6e80-483f-b6fd-71f6ae827afa",
   "metadata": {},
   "outputs": [],
   "source": [
    "key = ... # key that leads to case 2 of deletion\n",
    "node = bst.search(key)\n",
    "bst.delete(node)\n",
    "bst.draw()"
   ]
  },
  {
   "cell_type": "code",
   "execution_count": null,
   "id": "5b527f80-5503-4cb1-88f5-b5c65db6cc8d",
   "metadata": {},
   "outputs": [],
   "source": [
    "key = ... # key that leads to case 1 of deletion\n",
    "node = bst.search(key)\n",
    "bst.delete(node)\n",
    "bst.draw()"
   ]
  }
 ],
 "metadata": {
  "kernelspec": {
   "display_name": "Python 3 (ipykernel)",
   "language": "python",
   "name": "python3"
  },
  "language_info": {
   "codemirror_mode": {
    "name": "ipython",
    "version": 3
   },
   "file_extension": ".py",
   "mimetype": "text/x-python",
   "name": "python",
   "nbconvert_exporter": "python",
   "pygments_lexer": "ipython3",
   "version": "3.11.4"
  }
 },
 "nbformat": 4,
 "nbformat_minor": 5
}
