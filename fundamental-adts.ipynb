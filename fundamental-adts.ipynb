{
 "cells": [
  {
   "cell_type": "markdown",
   "metadata": {},
   "source": [
    "# Fundamental Abstract Data Types"
   ]
  },
  {
   "cell_type": "markdown",
   "metadata": {},
   "source": [
    "In this notebook, we implement stacks and queues by means of doubly linked lists, so let's include their implementation:\n"
   ]
  },
  {
   "cell_type": "code",
   "execution_count": null,
   "metadata": {},
   "outputs": [],
   "source": [
    "class Node:\n",
    "    def __init__(self, item, next=None, prev=None):\n",
    "        self.item = item\n",
    "        self.next = next\n",
    "        self.prev = prev\n",
    "\n",
    "class DoublyLinkedList:\n",
    "    def __init__(self):\n",
    "        self.first = None\n",
    "        self.last = None\n",
    " \n",
    "    def is_empty(self):\n",
    "        return self.first is None\n",
    " \n",
    "    def prepend(self, item):\n",
    "        if self.is_empty():\n",
    "            self.first = Node(item)\n",
    "            self.last = self.first\n",
    "        else:\n",
    "            node = Node(item, self.first, None)\n",
    "            self.first.prev = node\n",
    "            self.first = node\n",
    " \n",
    "    def append(self, item):\n",
    "        if self.is_empty():\n",
    "            self.first = Node(item)\n",
    "            self.last = self.first\n",
    "        else:\n",
    "            node = Node(item, None, self.last)\n",
    "            self.last.next = node\n",
    "            self.last = node\n",
    " \n",
    "    def remove_first(self):\n",
    "        # may only be called on non-empty list\n",
    "        assert not self.is_empty()\n",
    "        item = self.first.item\n",
    "        self.first = self.first.next\n",
    "        if self.first is not None:\n",
    "            self.first.prev = None\n",
    "        else:\n",
    "            self.last = None\n",
    "        return item\n",
    " \n",
    "    def remove_last(self):\n",
    "        # may only be called on non-empty list\n",
    "        assert not self.is_empty()\n",
    "        item = self.last.item\n",
    "        self.last = self.last.prev\n",
    "        if self.last is not None:\n",
    "            self.last.next = None\n",
    "        else:\n",
    "            self.first = None\n",
    "        return item\n",
    "\n",
    "    def __str__(self):\n",
    "        # string representation for printing.\n",
    "        # We transform the list to a python list and\n",
    "        # return its string representation.\n",
    "        items = []\n",
    "        current_node = self.first\n",
    "        while (current_node != None):\n",
    "            items.append(current_node.item)\n",
    "            current_node = current_node.next\n",
    "        return str(items)"
   ]
  },
  {
   "cell_type": "markdown",
   "metadata": {},
   "source": [
    "## Stack"
   ]
  },
  {
   "cell_type": "markdown",
   "metadata": {},
   "source": [
    "We first implement stacks. The most important operations are `push` and `pop`. A simple strategy is that a `push` operation prepends to the list and the `pop` operation removes and returns the first element from the list. Both operations take only constant time."
   ]
  },
  {
   "cell_type": "code",
   "execution_count": null,
   "metadata": {},
   "outputs": [],
   "source": [
    "class Stack:\n",
    "    def __init__(self):\n",
    "        self.list = DoublyLinkedList()\n",
    "        self.num_elements = 0\n",
    "\n",
    "    def is_empty(self):\n",
    "        return self.list.is_empty()\n",
    "\n",
    "    def size(self):\n",
    "        return self.num_elements\n",
    "    \n",
    "    def push(self, item):\n",
    "        self.list.prepend(item)\n",
    "        self.num_elements += 1\n",
    "        \n",
    "    def pop(self):\n",
    "        if self.list.is_empty():\n",
    "            raise Exception(\"popping from empty stack\")\n",
    "        else:\n",
    "            self.num_elements -= 1\n",
    "            return self.list.remove_first()\n",
    "\n",
    "    def print(self):\n",
    "        print(self.list)\n"
   ]
  },
  {
   "cell_type": "markdown",
   "metadata": {},
   "source": [
    "The stack operations only operate \"on one side\" of the list but it is irrelevant whether we always push/pop at the left end or always on the right end (with `append` and `remove_last`). It just is important that we always use the same side for pushing and popping. In contrast to queues, we can alternatively also implement stacks by means of dynamic arrays."
   ]
  },
  {
   "cell_type": "markdown",
   "metadata": {},
   "source": [
    "### Using a Stack"
   ]
  },
  {
   "cell_type": "markdown",
   "metadata": {},
   "source": [
    "Stacks are useful whenever we need to process the lastly added element first. We can for example use them, to revert the order of the elements in a list:"
   ]
  },
  {
   "cell_type": "code",
   "execution_count": null,
   "metadata": {},
   "outputs": [],
   "source": [
    "l = [\"are\", \"you\", \"as\", \"happy\", \"as\", \"I\", \"am\"]"
   ]
  },
  {
   "cell_type": "markdown",
   "metadata": {},
   "source": [
    "We first push all elements onto a stack."
   ]
  },
  {
   "cell_type": "code",
   "execution_count": null,
   "metadata": {},
   "outputs": [],
   "source": [
    "stack = Stack()\n",
    "for item in l:\n",
    "    stack.push(item)  "
   ]
  },
  {
   "cell_type": "markdown",
   "metadata": {},
   "source": [
    "Afterwards, we can pop them in reverse order:"
   ]
  },
  {
   "cell_type": "code",
   "execution_count": null,
   "metadata": {},
   "outputs": [],
   "source": [
    "while not stack.is_empty():\n",
    "    print(stack.pop())"
   ]
  },
  {
   "cell_type": "markdown",
   "metadata": {},
   "source": [
    "To understand the internal representation of the stack, we can print the list after every push."
   ]
  },
  {
   "cell_type": "code",
   "execution_count": null,
   "metadata": {},
   "outputs": [],
   "source": [
    "stack = Stack()\n",
    "for item in l:\n",
    "    stack.push(item)  \n",
    "    stack.print()"
   ]
  },
  {
   "cell_type": "markdown",
   "metadata": {},
   "source": [
    "### Exercise\n",
    "\n",
    "Implement the abstract data type instead based on a dynamic array, using a Python `list`.\n",
    "\n",
    "You find the possible methods of `list` [in the Python documentation](https://docs.python.org/3/tutorial/datastructures.html#more-on-lists).\n",
    "\n",
    "Take care of an efficient implementation."
   ]
  },
  {
   "cell_type": "code",
   "execution_count": null,
   "metadata": {},
   "outputs": [],
   "source": [
    "class Stack:\n",
    "    def __init__(self):\n",
    "        self.list = []\n",
    "        self.num_elements = 0\n",
    "\n",
    "    def is_empty(self):\n",
    "        return self.num_elements == 0\n",
    "\n",
    "    def size(self):\n",
    "        return self.num_elements\n",
    "    \n",
    "    def push(self, item):\n",
    "        self.num_elements += 1\n",
    "        ... # TODO\n",
    "        \n",
    "    def pop(self):\n",
    "        if self.list.is_empty():\n",
    "            raise Exception(\"popping from empty stack\")\n",
    "        else:\n",
    "            self.num_elements -= 1\n",
    "            ... # TODO\n"
   ]
  },
  {
   "cell_type": "markdown",
   "metadata": {},
   "source": [
    "## Queue"
   ]
  },
  {
   "cell_type": "markdown",
   "metadata": {},
   "source": [
    "The implementation of a queue with doubly linked lists is very similar to the one of a stack. We only need to always `enqueue` at the tail of the list and `dequeue` at the head of the list (or vice versa)."
   ]
  },
  {
   "cell_type": "code",
   "execution_count": null,
   "metadata": {},
   "outputs": [],
   "source": [
    "class Queue:\n",
    "    def __init__(self):\n",
    "        self.list = DoublyLinkedList()\n",
    "        self.num_elements = 0\n",
    "\n",
    "    def is_empty(self):\n",
    "        return self.list.is_empty()\n",
    "\n",
    "    def size(self):\n",
    "        return self.num_elements\n",
    "    \n",
    "    def enqueue(self, item):\n",
    "        self.list.append(item)\n",
    "        self.num_elements += 1\n",
    "        \n",
    "    def dequeue(self):\n",
    "        if self.list.is_empty():\n",
    "            raise Exception(\"dequeuing from empty queue\")\n",
    "        else:\n",
    "            self.num_elements -= 1\n",
    "            return self.list.remove_first()\n",
    "\n",
    "    def print(self):\n",
    "        print(self.list)"
   ]
  },
  {
   "cell_type": "markdown",
   "metadata": {},
   "source": [
    "### Using a Queue"
   ]
  },
  {
   "cell_type": "markdown",
   "metadata": {},
   "source": [
    "*In the following, we will use the `networkx` package (together with `numpy` and `matplotlib`). If you run the notebook locally, you need to install these packages in your Python environment. On the Uni Basel jupyterhub, select the kernel `Python [conda env:python_algodat_env]`, that has these packages already installed (\"Kernel\"->\"Change Kernel...\" in the menu).*"
   ]
  },
  {
   "cell_type": "markdown",
   "metadata": {},
   "source": [
    "Queues are helpful if we want to store elements and want to process them in the same order. Here we use an illustrative example where we want to visit all reachable nodes in a graph, in the order of their distance from a given start node. Let's create an example graph.\n"
   ]
  },
  {
   "cell_type": "code",
   "execution_count": null,
   "metadata": {},
   "outputs": [],
   "source": [
    "import networkx as nx\n",
    "\n",
    "g = nx.Graph()\n",
    "g.add_nodes_from([0,1,2,3,4,5])\n",
    "g.add_edge(0,1)\n",
    "g.add_edge(0,3)\n",
    "g.add_edge(1,2)\n",
    "g.add_edge(1,3)\n",
    "g.add_edge(2,1)\n",
    "g.add_edge(2,4)\n",
    "g.add_edge(2,5)\n",
    "g.add_edge(3,2)\n",
    "g.add_edge(3,4)\n",
    "g.add_edge(4,1)\n",
    "g.add_edge(4,5)\n",
    "\n",
    "pos = nx.spring_layout(g)\n",
    "nx.draw(g, pos, with_labels=True, node_size=1000, node_color='lightblue')"
   ]
  },
  {
   "cell_type": "markdown",
   "metadata": {},
   "source": [
    "Using `g.neighbors(node)`, we can iterate over all neighbors of a `node` in the graph:"
   ]
  },
  {
   "cell_type": "code",
   "execution_count": null,
   "metadata": {},
   "outputs": [],
   "source": [
    "for n in g.neighbors(5):\n",
    "    print(n)"
   ]
  },
  {
   "cell_type": "markdown",
   "metadata": {},
   "source": [
    "We use a queue to visit all reachable nodes from the given start node. We maintain a set `seen` of the nodes that we have already visited to process every node only once."
   ]
  },
  {
   "cell_type": "code",
   "execution_count": null,
   "metadata": {},
   "outputs": [],
   "source": [
    "def visit_all(graph, start):\n",
    "    q = Queue()\n",
    "    q.enqueue(start)\n",
    "    seen = {start}\n",
    "    while not q.is_empty():\n",
    "        node = q.dequeue()\n",
    "        print(node)\n",
    "        for n in graph.neighbors(node):\n",
    "            if n not in seen:\n",
    "                seen.add(n)\n",
    "                q.enqueue(n)\n",
    "                "
   ]
  },
  {
   "cell_type": "code",
   "execution_count": null,
   "metadata": {},
   "outputs": [],
   "source": [
    "visit_all(g, 5)"
   ]
  },
  {
   "cell_type": "markdown",
   "metadata": {},
   "source": [
    "We will later in the course (Chapter C1) discuss the algorithm in detail when we talk about graph exploration."
   ]
  }
 ],
 "metadata": {
  "kernelspec": {
   "display_name": "Python 3 (ipykernel)",
   "language": "python",
   "name": "python3"
  },
  "language_info": {
   "codemirror_mode": {
    "name": "ipython",
    "version": 3
   },
   "file_extension": ".py",
   "mimetype": "text/x-python",
   "name": "python",
   "nbconvert_exporter": "python",
   "pygments_lexer": "ipython3",
   "version": "3.12.3"
  },
  "toc": {
   "base_numbering": 1,
   "nav_menu": {},
   "number_sections": false,
   "sideBar": false,
   "skip_h1_title": false,
   "title_cell": "Table of Contents",
   "title_sidebar": "Contents",
   "toc_cell": false,
   "toc_position": {},
   "toc_section_display": false,
   "toc_window_display": false
  }
 },
 "nbformat": 4,
 "nbformat_minor": 4
}
