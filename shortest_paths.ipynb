{
 "cells": [
  {
   "cell_type": "markdown",
   "metadata": {},
   "source": [
    "# Shortest Paths\n",
    "(single source: from a given vertex to all vertices)"
   ]
  },
  {
   "cell_type": "markdown",
   "metadata": {},
   "source": [
    "## Tools for Experiments and Drawing"
   ]
  },
  {
   "cell_type": "markdown",
   "metadata": {},
   "source": [
    "We use again `networkx` for representing and drawing graphs."
   ]
  },
  {
   "cell_type": "code",
   "execution_count": null,
   "metadata": {
    "scrolled": true
   },
   "outputs": [],
   "source": [
    "%matplotlib inline\n",
    "\n",
    "import matplotlib\n",
    "import matplotlib.pyplot as plt\n",
    "from networkx.drawing.layout import circular_layout\n",
    "import networkx as nx"
   ]
  },
  {
   "cell_type": "markdown",
   "metadata": {},
   "source": [
    "We randomly create a directed example graph. For a better presentability, we prevent the existence of two edges (u,v) and (v,u), which is not necessary for the correctness of the algorithms."
   ]
  },
  {
   "cell_type": "code",
   "execution_count": null,
   "metadata": {
    "scrolled": true
   },
   "outputs": [],
   "source": [
    "import random\n",
    "\n",
    "def create_random_weighted_digraph(no_nodes, no_edges, min_edge_weight, max_edge_weight):\n",
    "    graph = nx.DiGraph()\n",
    "    graph.add_nodes_from(range(no_nodes))\n",
    "    all_pairs = list((x,y) for x in range(no_nodes)\n",
    "                           for y in range(x + 1, no_nodes))\n",
    "    # print(all_pairs)\n",
    "    possible_weights = list(range(min_edge_weight, max_edge_weight + 1))\n",
    "    for n1, n2 in random.sample(all_pairs, no_edges):\n",
    "        weight = random.choice(possible_weights)\n",
    "        v, w = random.choice(((n1, n2), (n2, n1)))\n",
    "        graph.add_edge(v, w, weight=weight)\n",
    "    return graph\n",
    "        \n",
    "graph = create_random_weighted_digraph(8, 16, 0, 30)"
   ]
  },
  {
   "cell_type": "code",
   "execution_count": null,
   "metadata": {},
   "outputs": [],
   "source": [
    "pos = circular_layout(graph)\n",
    "edge_labels = dict([((u,v),d['weight']) for u,v,d in graph.edges(data=True)])\n",
    "nx.draw(graph, pos, with_labels=True, node_size=300, node_color='lightblue')\n",
    "_ = nx.draw_networkx_edge_labels(graph, pos, edge_labels=edge_labels)\n",
    "plt.show()"
   ]
  },
  {
   "cell_type": "markdown",
   "metadata": {},
   "source": [
    " ## Dijkstra's Algorithm"
   ]
  },
  {
   "cell_type": "markdown",
   "metadata": {},
   "source": [
    "For Dijkstra's algorithm, we require a indexed priority queue. For this purpose, we copy the implementation from [Mehrgan Khoshpasand](https://mkhoshpa.github.io/IndexedPQ/) and extend it with methods `contains` and `entries`.\n",
    "\n",
    "*The implementation details of the indexed priority queue are not a content of this course*."
   ]
  },
  {
   "cell_type": "code",
   "execution_count": null,
   "metadata": {},
   "outputs": [],
   "source": [
    "class IndexedMinPQ:\n",
    "    def __init__(self,N):\n",
    "        self.N = N\n",
    "        self.key = [None for i in range(self.N)]\n",
    "        self.pq = [None for i in range(self.N+1)]\n",
    "        self.qp =[None for i in range(self.N)]\n",
    "        self.total = 0\n",
    "\n",
    "    def insert(self,i,key):\n",
    "        assert type(i) is int\n",
    "        if i >= self.N:\n",
    "            raise IndexError('index is out of the range of IndexedMinPQ.')\n",
    "        if self.key[i] is not None:\n",
    "            raise IndexError('index is already in the IndexedMinPQ.')\n",
    "        self.total += 1\n",
    "        self.key[i] = key\n",
    "        self.pq[self.total] = i\n",
    "        self.qp[i] = self.total\n",
    "        self.__swim(self.total)\n",
    "\n",
    "    def __swim(self,i):\n",
    "        parent_i = i//2\n",
    "\n",
    "        while parent_i > 0 :\n",
    "            key = self.key[self.pq[i]]\n",
    "            parent_key = self.key[self.pq[parent_i]]\n",
    "            if parent_key < key:\n",
    "                break\n",
    "            self.pq[i], self.pq[parent_i] = self.pq[parent_i], self.pq[i]\n",
    "            self.qp[self.pq[i]] , self.qp[self.pq[parent_i]] = self.qp[self.pq[parent_i]],self.qp[self.pq[i]]\n",
    "            i = parent_i\n",
    "            parent_i = i // 2\n",
    "\n",
    "    def deleteMin(self):\n",
    "        if not self.isEmpty():\n",
    "            out = self.pq[1]\n",
    "            self.key[self.pq[1]] = None\n",
    "            self.qp[self.pq[1]] = None\n",
    "            self.pq[1] = self.pq[self.total]\n",
    "            self.qp[self.pq[1]] = 1\n",
    "            self.pq[self.total] = None\n",
    "            self.total -= 1\n",
    "            self.__sink(1)\n",
    "            return out\n",
    "        raise IndexError('IndexedMinPQ is Empty')\n",
    "\n",
    "    def __sink(self,i):\n",
    "        child_i = i * 2\n",
    "        if child_i <= self.total:\n",
    "            key = self.key[self.pq[i]]\n",
    "            child_key = self.key[self.pq[child_i]]\n",
    "            other_child = child_i + 1\n",
    "            if other_child <= self.total:\n",
    "                other_child_key =  self.key[self.pq[other_child]]\n",
    "                if other_child_key < child_key:\n",
    "                    child_i = other_child\n",
    "                    child_key = other_child_key\n",
    "            if child_key < key:\n",
    "                self.pq[i], self.pq[child_i] = self.pq[child_i], self.pq[i]\n",
    "                self.qp[self.pq[i]], self.qp[self.pq[child_i]] = self.qp[self.pq[child_i]], self.qp[self.pq[i]]\n",
    "                self.__sink(child_i)\n",
    "\n",
    "    def isEmpty(self):\n",
    "        return self.total == 0\n",
    "\n",
    "    def decreaseKey(self,i,key):\n",
    "        if i<0 or i> self.N:\n",
    "            raise IndexError('index i is not in the range')\n",
    "        if self.key[i] is None:\n",
    "            raise IndexError('index i is not in the IndexedMinPQ')\n",
    "        assert type(i) is int\n",
    "        assert key < self.key[i]\n",
    "        self.key[i] = key\n",
    "        self.__swim(self.qp[i])\n",
    "\n",
    "    def increaseKey(self,i,key):\n",
    "        if i<0 or i> self.N:\n",
    "            raise IndexError('index i is not in the range')\n",
    "        if self.key[i] is None:\n",
    "            raise IndexError('index i is not in the IndexedMinPQ')\n",
    "        assert type(i) is int\n",
    "        assert key > self.key[i]\n",
    "        self.key[i] = key\n",
    "        self.__sink(self.qp[i])\n",
    "        \n",
    "    def contains(self,i):\n",
    "        return self.key[i] is not None\n",
    "    \n",
    "    def entries(self):\n",
    "        for x in self.pq[1:]:\n",
    "            if x is None:\n",
    "                break\n",
    "            yield x"
   ]
  },
  {
   "cell_type": "markdown",
   "metadata": {},
   "source": [
    "As before, in the notebook we don't use a explicit representation of edges but the API of networkx.\n",
    "We thus also do not store an array `edge_to`, but instead store the predecessor vertex on the best known path to a vertex (as previously in an array `parent`). Since we do not consider multigraphs with parallel edges, there always is just a single edge from `parent[i]` to `i`and extracting the shortest paths does not become more complicated."
   ]
  },
  {
   "cell_type": "code",
   "execution_count": null,
   "metadata": {},
   "outputs": [],
   "source": [
    "class DijkstraSSSP:\n",
    "    def __init__(self, graph, start_node, node_positions):\n",
    "        self.parent = [None] * len(graph)\n",
    "        self.distance = [float('inf')] * len(graph)\n",
    "        pq = IndexedMinPQ(len(graph))\n",
    "\n",
    "        self.distance[start_node] = 0\n",
    "        pq.insert(start_node, 0)\n",
    "        while not pq.isEmpty():\n",
    "            self.relax(graph, pq.deleteMin(), pq)\n",
    "            self.dump(graph, node_positions, pq)\n",
    "\n",
    "    def relax(self, graph, v, pq):\n",
    "        print(\"After relaxing vertex %i:\" % v)\n",
    "        for w in graph.successors(v):\n",
    "            edge_weight = \\\n",
    "                graph.get_edge_data(v,w)[\"weight\"]\n",
    "            if self.distance[v] + edge_weight < \\\n",
    "               self.distance[w]:\n",
    "                self.parent[w] = v\n",
    "                self.distance[w] = self.distance[v] + edge_weight\n",
    "                if pq.contains(w):\n",
    "                    pq.decreaseKey(w, self.distance[w])\n",
    "                else:\n",
    "                    pq.insert(w, self.distance[w])\n",
    "\n",
    "    def path_to(self, node):\n",
    "        if self.distance[node] == float('inf'):\n",
    "            return None\n",
    "        elif self.parent[node] is None:\n",
    "            return [node]\n",
    "        else:\n",
    "            path = self.path_to(self.parent[node])\n",
    "            path.append(node)\n",
    "            return path\n",
    "            \n",
    "    def dump(self, graph, node_positions, queue):\n",
    "        print(\"distances:\", self.distance)\n",
    "        print(\"parents:  \", self.parent)\n",
    "        reached_nodes = set(x for x in range(len(graph)) if self.distance[x] != float('inf'))\n",
    "        open_nodes = set(x for x in queue.entries())\n",
    "        finished_nodes = reached_nodes - open_nodes\n",
    "        finished_tree = [(self.parent[i],i) for i in finished_nodes if self.parent[i] is not None]\n",
    "        open_edges = [(self.parent[i],i) for i in open_nodes if self.parent[i] is not None]\n",
    "\n",
    "        nx.draw(graph, pos, with_labels=True, node_size=300, node_color='lightblue', edge_color=\"gray\")\n",
    "        edge_labels=dict([((u,v,),d['weight']) for u,v,d in graph.edges(data=True)])\n",
    "        nx.draw_networkx_edge_labels(graph, pos, edge_labels=edge_labels)\n",
    "        nx.draw_networkx_nodes(graph, pos, nodelist=finished_nodes, node_color='r')\n",
    "        nx.draw_networkx_edges(graph, pos, edgelist=finished_tree, edge_color='r')\n",
    "\n",
    "        nx.draw_networkx_nodes(graph, pos, nodelist=open_nodes, node_color='b')\n",
    "        nx.draw_networkx_edges(graph, pos, edgelist=open_edges, edge_color='b')\n",
    "        plt.show()"
   ]
  },
  {
   "cell_type": "code",
   "execution_count": null,
   "metadata": {},
   "outputs": [],
   "source": [
    "d = DijkstraSSSP(graph, 0, pos)"
   ]
  },
  {
   "cell_type": "code",
   "execution_count": null,
   "metadata": {},
   "outputs": [],
   "source": [
    "print(d.path_to(2))"
   ]
  },
  {
   "cell_type": "markdown",
   "metadata": {},
   "source": [
    " ## Acyclic Graphs"
   ]
  },
  {
   "cell_type": "markdown",
   "metadata": {},
   "source": [
    "We first create a random weighted directed acyclic graph:"
   ]
  },
  {
   "cell_type": "code",
   "execution_count": null,
   "metadata": {},
   "outputs": [],
   "source": [
    "from networkx.generators.random_graphs import gnp_random_graph\n",
    "\n",
    "def random_dag(number_nodes, min_weight, max_weight):\n",
    "    random_graph = gnp_random_graph(number_nodes, 0.5, directed=True)\n",
    "    # filter edges to get acyclic graph\n",
    "    dag = nx.DiGraph((u,v,{'weight': random.randint(min_weight, max_weight)})\n",
    "                     for u,v in random_graph.edges()\n",
    "                     if u < v)\n",
    "    # re-insert lost nodes\n",
    "    for node in range(number_nodes):\n",
    "        if node not in dag:\n",
    "            dag.add_node(node)                           \n",
    "    return dag\n",
    "    \n",
    "dag = random_dag(7, 0, 10)"
   ]
  },
  {
   "cell_type": "code",
   "execution_count": null,
   "metadata": {},
   "outputs": [],
   "source": [
    "pos_dag = circular_layout(dag)\n",
    "nx.draw(dag, pos_dag, with_labels=True, node_size=300, node_color='lightblue')\n",
    "edge_labels_dag = dict([((u,v),d['weight']) for u,v,d in dag.edges(data=True)])\n",
    "_ = nx.draw_networkx_edge_labels(dag, pos_dag, edge_labels=edge_labels_dag)\n",
    "plt.show()"
   ]
  },
  {
   "cell_type": "markdown",
   "metadata": {},
   "source": [
    "For acyclic graphs, we do not need a priority queue, but can instead use a topological order as a suitable relaxation order of the vertices."
   ]
  },
  {
   "cell_type": "code",
   "execution_count": null,
   "metadata": {},
   "outputs": [],
   "source": [
    "from networkx.algorithms.dag import topological_sort\n",
    "\n",
    "class AcyclicSSSP:\n",
    "    def __init__(self, graph, start_node, drawing_pos):\n",
    "        self.parent = [None] * len(graph)\n",
    "        self.distance = [float('inf')] * len(graph)\n",
    "        \n",
    "        processed_nodes = [] # only for drawing\n",
    "\n",
    "        self.distance[start_node] = 0\n",
    "        top_order = list(topological_sort(graph))\n",
    "        print(\"Use topological order:\", top_order, \"\\n\")\n",
    "        \n",
    "        start_pos = top_order.index(start_node)\n",
    "        for node in top_order[start_pos:]:\n",
    "            self.relax(graph, node)\n",
    "            processed_nodes.append(node)\n",
    "            self.dump(graph, processed_nodes, drawing_pos)\n",
    "\n",
    "    def relax(self, graph, v):\n",
    "        print(\"After relaxing vertex %i:\" % v)\n",
    "        for w in graph.successors(v):\n",
    "            edge_weight = graph.get_edge_data(v,w)[\"weight\"]\n",
    "            if self.distance[v] + edge_weight < self.distance[w]:\n",
    "                self.parent[w] = v\n",
    "                self.distance[w] = self.distance[v] + edge_weight\n",
    "\n",
    "    def path_to(self, node):\n",
    "        if self.distance[node] == float('inf'):\n",
    "            return None\n",
    "        elif self.parent[node] == None:\n",
    "            return [node]\n",
    "        else:\n",
    "            path = self.path_to(self.parent[node])\n",
    "            path.append(node)\n",
    "            return path\n",
    "            \n",
    "    def dump(self, graph, processed_nodes, pos):\n",
    "        print(\"distances:\", self.distance)\n",
    "        print(\"parents:  \", self.parent)\n",
    "        \n",
    "        nx.draw(graph, pos, with_labels=True, node_size=300, node_color='lightblue', edge_color=\"gray\")\n",
    "        edge_labels=dict([((u,v,),d['weight']) for u,v,d in graph.edges(data=True)])\n",
    "        nx.draw_networkx_edge_labels(graph, pos, edge_labels=edge_labels)\n",
    "        \n",
    "        reached_nodes = set(x for x in range(len(graph))\n",
    "                            if self.distance[x] != float('inf') and x not in processed_nodes)\n",
    "        best_edges = [(self.parent[i],i) for i in reached_nodes\n",
    "                      if i not in processed_nodes and self.parent[i] is not None]\n",
    "        finished_edges = [(self.parent[i],i) for i in processed_nodes\n",
    "                          if self.parent[i] is not None]\n",
    "        \n",
    "        nx.draw_networkx_nodes(graph, pos, nodelist=processed_nodes, node_color='r')\n",
    "        nx.draw_networkx_edges(graph, pos, edgelist=finished_edges, edge_color='r')\n",
    "        nx.draw_networkx_nodes(graph, pos, nodelist=reached_nodes, node_color='b')\n",
    "        nx.draw_networkx_edges(graph, pos, edgelist=best_edges, edge_color='b')\n",
    "        plt.show()"
   ]
  },
  {
   "cell_type": "code",
   "execution_count": null,
   "metadata": {},
   "outputs": [],
   "source": [
    "assp = AcyclicSSSP(dag, 1, pos_dag)"
   ]
  },
  {
   "cell_type": "code",
   "execution_count": null,
   "metadata": {},
   "outputs": [],
   "source": [
    "print(assp.path_to(5))"
   ]
  }
 ],
 "metadata": {
  "kernelspec": {
   "display_name": "base",
   "language": "python",
   "name": "python3"
  },
  "language_info": {
   "codemirror_mode": {
    "name": "ipython",
    "version": 3
   },
   "file_extension": ".py",
   "mimetype": "text/x-python",
   "name": "python",
   "nbconvert_exporter": "python",
   "pygments_lexer": "ipython3",
   "version": "3.12.2"
  }
 },
 "nbformat": 4,
 "nbformat_minor": 4
}
