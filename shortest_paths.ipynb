{
 "cells": [
  {
   "cell_type": "markdown",
   "metadata": {},
   "source": [
    "# Kürzeste Pfade\n",
    "(von einem gegebenen Knoten zu allen anderen Knoten)"
   ]
  },
  {
   "cell_type": "markdown",
   "metadata": {},
   "source": [
    "## Tools für Experimente und Darstellung"
   ]
  },
  {
   "cell_type": "markdown",
   "metadata": {},
   "source": [
    "Wir verwenden hier wieder `networkx` zur Repräsentation und zur Darstellung von Graphen."
   ]
  },
  {
   "cell_type": "code",
   "execution_count": null,
   "metadata": {
    "scrolled": true
   },
   "outputs": [],
   "source": [
    "%matplotlib inline\n",
    "\n",
    "import matplotlib\n",
    "import matplotlib.pyplot as plt\n",
    "from networkx.drawing.layout import circular_layout\n",
    "import networkx as nx"
   ]
  },
  {
   "cell_type": "markdown",
   "metadata": {},
   "source": [
    "Wir erstellen zufällig einen gerichteten Beispielgraphen. Zur besseren Darstellbarkeit verhindern wir die gleichzeitige Existenz von Kanten (u,v) und (v,u), dies ist für die Korrektheit der Algorithmen jedoch nicht erforderlich."
   ]
  },
  {
   "cell_type": "code",
   "execution_count": null,
   "metadata": {
    "scrolled": true
   },
   "outputs": [],
   "source": [
    "import random\n",
    "\n",
    "def create_random_weighted_digraph(no_nodes, no_edges, min_edge_weight, max_edge_weight):\n",
    "    graph = nx.DiGraph()\n",
    "    graph.add_nodes_from(range(no_nodes))\n",
    "    all_pairs = list((x,y) for x in range(no_nodes)\n",
    "                           for y in range(x + 1, no_nodes))\n",
    "    # print(all_pairs)\n",
    "    possible_weights = list(range(min_edge_weight, max_edge_weight + 1))\n",
    "    for n1, n2 in random.sample(all_pairs, no_edges):\n",
    "        weight = random.choice(possible_weights)\n",
    "        v, w = random.choice(((n1, n2), (n2, n1)))\n",
    "        graph.add_edge(v, w, weight=weight)\n",
    "    return graph\n",
    "        \n",
    "graph = create_random_weighted_digraph(8, 16, 0, 30)"
   ]
  },
  {
   "cell_type": "code",
   "execution_count": null,
   "metadata": {},
   "outputs": [],
   "source": [
    "pos = circular_layout(graph)\n",
    "edge_labels = dict([((u,v),d['weight']) for u,v,d in graph.edges(data=True)])\n",
    "nx.draw(graph, pos, with_labels=True, node_size=300, node_color='lightblue')\n",
    "_ = nx.draw_networkx_edge_labels(graph, pos, edge_labels=edge_labels)"
   ]
  },
  {
   "cell_type": "markdown",
   "metadata": {},
   "source": [
    " ## Dijkstras Algorithmus"
   ]
  },
  {
   "cell_type": "markdown",
   "metadata": {},
   "source": [
    "Für Dijkstras Algorithmus benötigen wir eine indizierte Priority-Queue. Wir verwenden hierzu einen Wrapper um das Modul `pqdict`:"
   ]
  },
  {
   "cell_type": "code",
   "execution_count": null,
   "metadata": {},
   "outputs": [],
   "source": [
    "from pqdict import pqdict\n",
    "\n",
    "class IndexMinPQ:\n",
    "    def __init__(self):\n",
    "        self.pq = pqdict()\n",
    "\n",
    "    def del_min(self):\n",
    "        return self.pq.pop()\n",
    "\n",
    "    def insert(self, entry, value):\n",
    "        self.pq.additem(entry, value)\n",
    "\n",
    "    def contains(self, entry):\n",
    "        return entry in self.pq\n",
    "\n",
    "    def change(self, entry, priority):\n",
    "        self.pq.updateitem(entry, priority)\n",
    "\n",
    "    def empty(self):\n",
    "        return len(self.pq) == 0\n",
    "    \n",
    "    def entries(self):\n",
    "        for x in self.pq:\n",
    "            yield x"
   ]
  },
  {
   "cell_type": "markdown",
   "metadata": {},
   "source": [
    "Wie bereits in früheren Fällen, verwenden wir im Notebook keine explizite Repräsentation der Kanten, sondern die API von networkx. Daher speichern wir auch kein Array `edge_to`, sondern merken uns stattdessen nur den Vorgängerknoten auf dem besten bekannten Pfad zu einem Knoten (wir bereits früher in einem Array `parent`). Da wir keine Multigraphen mit parallelen Kanten betrachten, gibt es jeweils nur eine Kante von `parent[i]` zu `i`und die Extraktion der kürzesten Pfade wird dadurch nicht komplizierter."
   ]
  },
  {
   "cell_type": "code",
   "execution_count": null,
   "metadata": {},
   "outputs": [],
   "source": [
    "class DijkstraSSSP:\n",
    "    def __init__(self, graph, start_node, node_positions):\n",
    "        self.parent = [None] * len(graph)\n",
    "        self.distance = [float('inf')] * len(graph)\n",
    "        pq = IndexMinPQ()\n",
    "\n",
    "        self.distance[start_node] = 0\n",
    "        pq.insert(start_node, 0)\n",
    "        while not pq.empty():\n",
    "            self.relax(graph, pq.del_min(), pq)\n",
    "            self.dump(graph, node_positions, pq)\n",
    "\n",
    "    def relax(self, graph, v, pq):\n",
    "        print(\"Nach Relaxierung von Knoten %i:\" % v)\n",
    "        for w in graph.successors(v):\n",
    "            edge_weight = \\\n",
    "                graph.get_edge_data(v,w)[\"weight\"]\n",
    "            if self.distance[v] + edge_weight < \\\n",
    "               self.distance[w]:\n",
    "                self.parent[w] = v\n",
    "                self.distance[w] = self.distance[v] + edge_weight\n",
    "                if pq.contains(w):\n",
    "                    pq.change(w, self.distance[w])\n",
    "                else:\n",
    "                    pq.insert(w, self.distance[w])\n",
    "\n",
    "    def path_to(self, node):\n",
    "        if self.distance[node] == float('inf'):\n",
    "            return None\n",
    "        elif self.parent[node] == None:\n",
    "            return [node]\n",
    "        else:\n",
    "            path = self.path_to(self.parent[node])\n",
    "            path.append(node)\n",
    "            return path\n",
    "            \n",
    "    def dump(self, graph, node_positions, queue):\n",
    "        print(\"distances:\", self.distance)\n",
    "        print(\"parents:  \", self.parent)\n",
    "        reached_nodes = set(x for x in range(len(graph)) if self.distance[x] != float('inf'))\n",
    "        open_nodes = set(x for x in queue.entries())\n",
    "        finished_nodes = reached_nodes - open_nodes\n",
    "        finished_tree = [(self.parent[i],i) for i in finished_nodes if self.parent[i] is not None]\n",
    "        open_edges = [(self.parent[i],i) for i in open_nodes if self.parent[i] is not None]\n",
    "\n",
    "        nx.draw(graph, pos, with_labels=True, node_size=300, node_color='lightblue', edge_color=\"gray\")\n",
    "        edge_labels=dict([((u,v,),d['weight']) for u,v,d in graph.edges(data=True)])\n",
    "        nx.draw_networkx_edge_labels(graph, pos, edge_labels=edge_labels)\n",
    "        nx.draw_networkx_nodes(graph, pos, nodelist=finished_nodes, node_color='r')\n",
    "        nx.draw_networkx_edges(graph, pos, edgelist=finished_tree, edge_color='r')\n",
    "\n",
    "        nx.draw_networkx_nodes(graph, pos, nodelist=open_nodes, node_color='b')\n",
    "        nx.draw_networkx_edges(graph, pos, edgelist=open_edges, edge_color='b')\n",
    "        plt.show()"
   ]
  },
  {
   "cell_type": "code",
   "execution_count": null,
   "metadata": {
    "scrolled": false
   },
   "outputs": [],
   "source": [
    "d = DijkstraSSSP(graph, 0, pos)"
   ]
  },
  {
   "cell_type": "code",
   "execution_count": null,
   "metadata": {},
   "outputs": [],
   "source": [
    "print(d.path_to(2))"
   ]
  },
  {
   "cell_type": "markdown",
   "metadata": {},
   "source": [
    " ## Azyklische Graphen"
   ]
  },
  {
   "cell_type": "markdown",
   "metadata": {},
   "source": [
    "Wir erstellen zunächst einmal einen zufälligen azyklischen, gewichteten Graphen:"
   ]
  },
  {
   "cell_type": "code",
   "execution_count": null,
   "metadata": {},
   "outputs": [],
   "source": [
    "from networkx.generators.random_graphs import gnp_random_graph\n",
    "\n",
    "def random_dag(number_nodes, min_weight, max_weight):\n",
    "    random_graph = gnp_random_graph(number_nodes, 0.5, directed=True)\n",
    "    # filter edges to get acyclic graph\n",
    "    dag = nx.DiGraph((u,v,{'weight': random.randint(min_weight, max_weight)})\n",
    "                     for u,v in random_graph.edges()\n",
    "                     if u < v)\n",
    "    # re-insert lost nodes\n",
    "    for node in range(number_nodes):\n",
    "        if node not in dag:\n",
    "            dag.add_node(node)                           \n",
    "    return dag\n",
    "    \n",
    "dag = random_dag(7, 0, 10)"
   ]
  },
  {
   "cell_type": "code",
   "execution_count": null,
   "metadata": {},
   "outputs": [],
   "source": [
    "pos_dag = circular_layout(dag)\n",
    "nx.draw(dag, pos_dag, with_labels=True, node_size=300, node_color='lightblue')\n",
    "edge_labels_dag = dict([((u,v),d['weight']) for u,v,d in dag.edges(data=True)])\n",
    "_ = nx.draw_networkx_edge_labels(dag, pos_dag, edge_labels=edge_labels_dag)"
   ]
  },
  {
   "cell_type": "markdown",
   "metadata": {},
   "source": [
    "Für azyklische Graphen benötigen wir keine Priority-Queue, sondern können stattdessen eine topologische Sortierung als geeignete Relaxierungsreihenfolge der Knoten verwenden."
   ]
  },
  {
   "cell_type": "code",
   "execution_count": null,
   "metadata": {},
   "outputs": [],
   "source": [
    "from networkx.algorithms.dag import topological_sort\n",
    "\n",
    "class AcyclicSSSP:\n",
    "    def __init__(self, graph, start_node, drawing_pos):\n",
    "        self.parent = [None] * len(graph)\n",
    "        self.distance = [float('inf')] * len(graph)\n",
    "        \n",
    "        processed_nodes = [] # only for drawing\n",
    "\n",
    "        self.distance[start_node] = 0\n",
    "        top_order = list(topological_sort(dag))\n",
    "        print(\"Verwende folgende topologische Sortierung:\", top_order, \"\\n\")\n",
    "        \n",
    "        start_pos = top_order.index(start_node)\n",
    "        for node in top_order[start_pos:]:\n",
    "            self.relax(graph, node)\n",
    "            processed_nodes.append(node)\n",
    "            self.dump(graph, processed_nodes, drawing_pos)\n",
    "\n",
    "    def relax(self, graph, v):\n",
    "        print(\"Nach Relaxierung von Knoten %i:\" % v)\n",
    "        for w in graph.successors(v):\n",
    "            edge_weight = graph.get_edge_data(v,w)[\"weight\"]\n",
    "            if self.distance[v] + edge_weight < self.distance[w]:\n",
    "                self.parent[w] = v\n",
    "                self.distance[w] = self.distance[v] + edge_weight\n",
    "\n",
    "    def path_to(self, node):\n",
    "        if self.distance[node] == float('inf'):\n",
    "            return None\n",
    "        elif self.parent[node] == None:\n",
    "            return [node]\n",
    "        else:\n",
    "            path = self.path_to(self.parent[node])\n",
    "            path.append(node)\n",
    "            return path\n",
    "            \n",
    "    def dump(self, graph, processed_nodes, pos):\n",
    "        print(\"distances:\", self.distance)\n",
    "        print(\"parents:  \", self.parent)\n",
    "        \n",
    "        nx.draw(graph, pos, with_labels=True, node_size=300, node_color='lightblue', edge_color=\"gray\")\n",
    "        edge_labels=dict([((u,v,),d['weight']) for u,v,d in graph.edges(data=True)])\n",
    "        nx.draw_networkx_edge_labels(graph, pos, edge_labels=edge_labels)\n",
    "        \n",
    "        reached_nodes = set(x for x in range(len(graph))\n",
    "                            if self.distance[x] != float('inf') and x not in processed_nodes)\n",
    "        best_edges = [(self.parent[i],i) for i in reached_nodes\n",
    "                      if i not in processed_nodes and self.parent[i] is not None]\n",
    "        finished_edges = [(self.parent[i],i) for i in processed_nodes\n",
    "                          if self.parent[i] is not None]\n",
    "        \n",
    "        nx.draw_networkx_nodes(graph, pos, nodelist=processed_nodes, node_color='r')\n",
    "        nx.draw_networkx_edges(graph, pos, edgelist=finished_edges, edge_color='r')\n",
    "        nx.draw_networkx_nodes(graph, pos, nodelist=reached_nodes, node_color='b')\n",
    "        nx.draw_networkx_edges(graph, pos, edgelist=best_edges, edge_color='b')\n",
    "        plt.show()"
   ]
  },
  {
   "cell_type": "code",
   "execution_count": null,
   "metadata": {
    "scrolled": false
   },
   "outputs": [],
   "source": [
    "assp = AcyclicSSSP(dag, 4, pos_dag)"
   ]
  },
  {
   "cell_type": "code",
   "execution_count": null,
   "metadata": {},
   "outputs": [],
   "source": [
    "print(assp.path_to(3))"
   ]
  }
 ],
 "metadata": {
  "kernelspec": {
   "display_name": "Python 3",
   "language": "python",
   "name": "python3"
  },
  "language_info": {
   "codemirror_mode": {
    "name": "ipython",
    "version": 3
   },
   "file_extension": ".py",
   "mimetype": "text/x-python",
   "name": "python",
   "nbconvert_exporter": "python",
   "pygments_lexer": "ipython3",
   "version": "3.7.5"
  }
 },
 "nbformat": 4,
 "nbformat_minor": 2
}
