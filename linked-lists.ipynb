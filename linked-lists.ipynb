{
 "cells": [
  {
   "cell_type": "markdown",
   "metadata": {},
   "source": [
    "# Linked List"
   ]
  },
  {
   "cell_type": "markdown",
   "metadata": {},
   "source": [
    "### Internal implementation with class `Node`\n",
    "\n",
    "The basis of the implementation is a node. A node contains the stored data of the entry (the `item`) and a reference `next` to the successor node (or None if there is no successor).\n"
   ]
  },
  {
   "cell_type": "code",
   "execution_count": 5,
   "metadata": {},
   "outputs": [],
   "source": [
    "class Node:\n",
    "    def __init__(self, item, next=None):\n",
    "        self.item = item\n",
    "        self.next = next"
   ]
  },
  {
   "cell_type": "markdown",
   "metadata": {},
   "source": [
    "Let's create a helper function that moves from node to node and prints the items."
   ]
  },
  {
   "cell_type": "code",
   "execution_count": 26,
   "metadata": {},
   "outputs": [],
   "source": [
    "def print_node_sequence(n):\n",
    "    current_node = n\n",
    "    while current_node is not None:\n",
    "        end = \"\" if current_node.next is None else \", \"\n",
    "        print(current_node.item, end=end)\n",
    "        current_node = current_node.next"
   ]
  },
  {
   "cell_type": "markdown",
   "metadata": {},
   "source": [
    "Let's create three linked nodes."
   ]
  },
  {
   "cell_type": "code",
   "execution_count": 21,
   "metadata": {},
   "outputs": [],
   "source": [
    "n3 = Node(\"third\")\n",
    "n2 = Node(\"second\", n3)\n",
    "n1 = Node(\"first\", n2)"
   ]
  },
  {
   "cell_type": "code",
   "execution_count": 27,
   "metadata": {},
   "outputs": [
    {
     "name": "stdout",
     "output_type": "stream",
     "text": [
      "first, second, third"
     ]
    }
   ],
   "source": [
    "print_node_sequence(n1)"
   ]
  },
  {
   "cell_type": "markdown",
   "metadata": {},
   "source": [
    "Did you note that we \"created\" the list from the last element to the first one? Why?"
   ]
  },
  {
   "cell_type": "markdown",
   "metadata": {},
   "source": [
    "We can now write further functions to work with a list, for example for prepending an element at the front:"
   ]
  },
  {
   "cell_type": "code",
   "execution_count": 23,
   "metadata": {},
   "outputs": [],
   "source": [
    "def prepend(item, node):\n",
    "    newNode = Node(item)\n",
    "    newNode.next = node\n",
    "    \n",
    "    return newNode"
   ]
  },
  {
   "cell_type": "code",
   "execution_count": 28,
   "metadata": {},
   "outputs": [
    {
     "name": "stdout",
     "output_type": "stream",
     "text": [
      "before first, first, second, third"
     ]
    }
   ],
   "source": [
    "print_node_sequence(prepend(\"before first\", n1))"
   ]
  },
  {
   "cell_type": "markdown",
   "metadata": {},
   "source": [
    "## Implementing a class `LinkedList`\n",
    "\n",
    "Working directly with nodes is possible but not convenient. For the \"end user\", we create a class that provides common functionality."
   ]
  },
  {
   "cell_type": "code",
   "execution_count": 41,
   "metadata": {},
   "outputs": [],
   "source": [
    "class LinkedList:\n",
    "    \n",
    "    def __init__(self):\n",
    "        self.first = None\n",
    "  \n",
    "    def prepend(self, item):         \n",
    "        new_node = Node(item, self.first)        \n",
    "        self.first = new_node\n",
    "        \n",
    "    def append(self, item):            \n",
    "        pass # Implement this method\n",
    "            \n",
    "    def remove_first(self):\n",
    "        pass # Implement this method\n",
    "    \n",
    "    def remove_last(self):\n",
    "        pass # Implement this method\n",
    "    \n",
    "    def print(self):\n",
    "        print(\"[\", end=\"\")\n",
    "        current_node = self.first\n",
    "        while (current_node != None):\n",
    "            end = \"\" if current_node.next is None else \", \"\n",
    "            print(current_node.item, end=end)\n",
    "            current_node = current_node.next\n",
    "        print(\"]\")\n",
    "\n"
   ]
  },
  {
   "cell_type": "markdown",
   "metadata": {},
   "source": [
    "### Exercise:\n",
    "* Implement the missing methods!"
   ]
  },
  {
   "cell_type": "markdown",
   "metadata": {},
   "source": [
    "With this class, it is very simple to use the list."
   ]
  },
  {
   "cell_type": "code",
   "execution_count": 42,
   "metadata": {},
   "outputs": [
    {
     "name": "stdout",
     "output_type": "stream",
     "text": [
      "[first, second, last]\n"
     ]
    }
   ],
   "source": [
    "l = LinkedList()\n",
    "l.prepend(\"last\")\n",
    "l.prepend(\"second\")\n",
    "l.prepend(\"first\")\n",
    "l.print()"
   ]
  }
 ],
 "metadata": {
  "anaconda-cloud": {},
  "kernelspec": {
   "display_name": "Python 3 (ipykernel)",
   "language": "python",
   "name": "python3"
  },
  "language_info": {
   "codemirror_mode": {
    "name": "ipython",
    "version": 3
   },
   "file_extension": ".py",
   "mimetype": "text/x-python",
   "name": "python",
   "nbconvert_exporter": "python",
   "pygments_lexer": "ipython3",
   "version": "3.11.4"
  },
  "toc": {
   "base_numbering": 1,
   "nav_menu": {},
   "number_sections": false,
   "sideBar": false,
   "skip_h1_title": false,
   "title_cell": "Table of Contents",
   "title_sidebar": "Contents",
   "toc_cell": false,
   "toc_position": {},
   "toc_section_display": false,
   "toc_window_display": false
  }
 },
 "nbformat": 4,
 "nbformat_minor": 4
}
