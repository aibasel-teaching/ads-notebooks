{
 "cells": [
  {
   "cell_type": "markdown",
   "metadata": {},
   "source": [
    "# Doubly Linked Lists\n",
    "\n",
    "### Internal implementation with class `Node`\n",
    "\n",
    "The basis of the implementation is a node. A node contains the stored data of the entry (the `item`), a reference `next` to the successor node and a reference `prev` to the predecessor node (or None if there is no successor/predecessor).\n"
   ]
  },
  {
   "cell_type": "code",
   "execution_count": null,
   "metadata": {},
   "outputs": [],
   "source": [
    "class Node:\n",
    "    def __init__(self, item, next=None, prev=None):\n",
    "        self.item = item\n",
    "        self.next = next\n",
    "        self.prev = prev"
   ]
  },
  {
   "cell_type": "markdown",
   "metadata": {},
   "source": [
    "Let's create a helper function that moves from node to node and prints the items."
   ]
  },
  {
   "cell_type": "code",
   "execution_count": null,
   "metadata": {},
   "outputs": [],
   "source": [
    "def print_node_sequence(n):\n",
    "    current_node = n\n",
    "    while current_node is not None:\n",
    "        print(current_node.item, end=\" \")\n",
    "        current_node = current_node.next"
   ]
  },
  {
   "cell_type": "markdown",
   "metadata": {},
   "source": [
    "We now create three linked nodes to represent a sequence [\"first\", \"second\", \"third\"]. Since the predecessor/successor nodes do not always already exist when we create a node, we have to update a few references after their creation."
   ]
  },
  {
   "cell_type": "code",
   "execution_count": null,
   "metadata": {},
   "outputs": [],
   "source": [
    "n1 = Node(\"first\") # no predecessor, successor\n",
    "n3 = Node(\"third\") # no predecessor, successor\n",
    "n2 = Node(\"second\", n3, n1) # successor n3, predecessor n1\n",
    "n1.next = n2 # n2 is successor of n1...\n",
    "n3.prev = n2 # ... and predecessor of n3"
   ]
  },
  {
   "cell_type": "markdown",
   "metadata": {},
   "source": [
    "We can now print the list:"
   ]
  },
  {
   "cell_type": "code",
   "execution_count": null,
   "metadata": {},
   "outputs": [],
   "source": [
    "print_node_sequence(n1)"
   ]
  },
  {
   "cell_type": "markdown",
   "metadata": {},
   "source": [
    "Working directly with nodes is possible but error-prone not convenient. For the \"end user\", we create a class that provides common functionality."
   ]
  },
  {
   "cell_type": "markdown",
   "metadata": {},
   "source": [
    "## Implementing a class `DoublyLinkedList`\n"
   ]
  },
  {
   "cell_type": "markdown",
   "metadata": {},
   "source": [
    "The list maintains a reference to the `first` and `last` node (`None` if the list is empty). If we modify the list, we do not only need to update the `prev` and `next` references of the involved nodes but also keep these two references up-to-date."
   ]
  },
  {
   "cell_type": "code",
   "execution_count": null,
   "metadata": {},
   "outputs": [],
   "source": [
    "class DoublyLinkedList:\n",
    "    def __init__(self):\n",
    "        self.first = None\n",
    "        self.last = None\n",
    " \n",
    "    def is_empty(self):\n",
    "        return self.first is None  \n",
    "    \n",
    "    # add an item at the end of the list\n",
    "    def append(self, item):\n",
    "        if self.is_empty():\n",
    "            self.first = Node(item)\n",
    "            self.last = self.first\n",
    "        else:\n",
    "            node = Node(item, None, self.last)\n",
    "            self.last.next = node\n",
    "            self.last = node\n",
    "    \n",
    "    # add an item at the front of the list\n",
    "    def prepend(self, item):\n",
    "        if self.is_empty():\n",
    "            self.first = Node(item)\n",
    "            self.last = self.first\n",
    "        else:\n",
    "            node = Node(item, self.first, None)\n",
    "            self.first.prev = node\n",
    "            self.first = node\n",
    "\n",
    "    # remove the last item from the list\n",
    "    def remove_last(self):\n",
    "        if self.is_empty():\n",
    "            raise Exception(\"removing from empty list\")\n",
    "        item = self.last.item\n",
    "        self.last = self.last.prev\n",
    "        if self.last is not None:\n",
    "            self.last.next = None\n",
    "        else:\n",
    "            self.first = None\n",
    "        return item\n",
    "\n",
    "    # remove the first item from the list\n",
    "    def remove_first(self):\n",
    "        if self.is_empty():\n",
    "            raise Exception(\"removing from empty list\")\n",
    "        item = self.first.item\n",
    "        self.first = self.first.next\n",
    "        if self.first is not None:\n",
    "            self.first.prev = None\n",
    "        else:\n",
    "            self.last = None\n",
    "        return item\n",
    "\n",
    "    def find(self, item):\n",
    "        # return the first node holding the given item or None if there is no such node\n",
    "        ...  \n",
    "\n",
    "    def erase(self, item):\n",
    "        # BUGGY implementation, cf. homework exercise 5.2\n",
    "        current = self.first\n",
    "\n",
    "        while (current is not None and current.item != item):\n",
    "            current = current.next\n",
    "\n",
    "        if current is not None:\n",
    "            current.prev.next = current.next\n",
    "            current.next.prev = current.prev\n",
    "\n",
    "    def reverse(self):\n",
    "        # homework exercise 5.3\n",
    "        ... \n",
    "\n",
    "    \n",
    "    def __str__(self):\n",
    "        # string representation for printing.\n",
    "        # We transform the list to a python list and\n",
    "        # return its string representation.\n",
    "        items = []\n",
    "        current_node = self.first\n",
    "        while (current_node != None):\n",
    "            items.append(current_node.item)\n",
    "            current_node = current_node.next\n",
    "        return str(items)"
   ]
  },
  {
   "cell_type": "code",
   "execution_count": null,
   "metadata": {},
   "outputs": [],
   "source": [
    "l = DoublyLinkedList()\n",
    "for x in \"olleH\":\n",
    "    l.prepend(x)\n",
    "print(l)"
   ]
  },
  {
   "cell_type": "code",
   "execution_count": null,
   "metadata": {},
   "outputs": [],
   "source": [
    "for x in \"World\":\n",
    "    l.append(x)\n",
    "print(l)"
   ]
  },
  {
   "cell_type": "code",
   "execution_count": null,
   "metadata": {},
   "outputs": [],
   "source": [
    "for i in range(5):\n",
    "    item  = l.remove_first()\n",
    "    print(item, l)"
   ]
  },
  {
   "cell_type": "code",
   "execution_count": null,
   "metadata": {},
   "outputs": [],
   "source": [
    "while not l.is_empty():\n",
    "    item  = l.remove_last()\n",
    "    print(item, l)    "
   ]
  }
 ],
 "metadata": {
  "anaconda-cloud": {},
  "kernelspec": {
   "display_name": "Python 3 (ipykernel)",
   "language": "python",
   "name": "python3"
  },
  "language_info": {
   "codemirror_mode": {
    "name": "ipython",
    "version": 3
   },
   "file_extension": ".py",
   "mimetype": "text/x-python",
   "name": "python",
   "nbconvert_exporter": "python",
   "pygments_lexer": "ipython3",
   "version": "3.12.3"
  },
  "toc": {
   "base_numbering": 1,
   "nav_menu": {},
   "number_sections": false,
   "sideBar": false,
   "skip_h1_title": false,
   "title_cell": "Table of Contents",
   "title_sidebar": "Contents",
   "toc_cell": false,
   "toc_position": {},
   "toc_section_display": false,
   "toc_window_display": false
  }
 },
 "nbformat": 4,
 "nbformat_minor": 4
}
