{
 "cells": [
  {
   "cell_type": "markdown",
   "metadata": {},
   "source": [
    "# Doubly Linked Lists\n",
    "\n",
    "In contrast to a singly linked list, in a doubly linked list, each node also stores a link to its predecessor `prev`."
   ]
  },
  {
   "cell_type": "code",
   "execution_count": 1,
   "metadata": {},
   "outputs": [],
   "source": [
    "class Node:\n",
    "    def __init__(self, item, next=None, prev=None):\n",
    "        self.item = item\n",
    "        self.next = next\n",
    "        self.prev = prev"
   ]
  },
  {
   "cell_type": "markdown",
   "metadata": {},
   "source": [
    "Moreover, the list maintains a reference to the `last` node (`None` if the list is empty). We need to adapt the methods of the list to also update the additional links and reference. Some methods are now easier to implement."
   ]
  },
  {
   "cell_type": "code",
   "execution_count": 2,
   "metadata": {},
   "outputs": [],
   "source": [
    "class DoublyLinkedList:\n",
    "    def __init__(self):\n",
    "        self.first = None\n",
    "        self.last = None\n",
    " \n",
    "    def is_empty(self):\n",
    "        return self.first is None\n",
    " \n",
    "    def prepend(self, item):\n",
    "        if self.is_empty():\n",
    "            self.first = Node(item)\n",
    "            self.last = self.first\n",
    "        else:\n",
    "            node = Node(item, self.first, None)\n",
    "            self.first.prev = node\n",
    "            self.first = node\n",
    " \n",
    "    def append(self, item):\n",
    "        if self.is_empty():\n",
    "            self.first = Node(item)\n",
    "            self.last = self.first\n",
    "        else:\n",
    "            node = Node(item, None, self.last)\n",
    "            self.last.next = node\n",
    "            self.last = node\n",
    " \n",
    "    def remove_first(self):\n",
    "        # may only be called on non-empty list\n",
    "        assert not self.is_empty()\n",
    "        item = self.first.item\n",
    "        self.first = self.first.next\n",
    "        if self.first is not None:\n",
    "            self.first.prev = None\n",
    "        else:\n",
    "            self.last = None\n",
    "        return item\n",
    " \n",
    "    def remove_last(self):\n",
    "        # may only be called on non-empty list\n",
    "        assert not self.is_empty()\n",
    "        item = self.last.item\n",
    "        self.last = self.last.prev\n",
    "        if self.last is not None:\n",
    "            self.last.next = None\n",
    "        else:\n",
    "            self.first = None\n",
    "        return item\n",
    " \n",
    "    def print(self):\n",
    "        print(\"[\", end=\"\")\n",
    "        current_node = self.first\n",
    "        while (current_node != None):\n",
    "            end = \"\" if current_node.next is None else \", \"\n",
    "            print(current_node.item, end=end)\n",
    "            current_node = current_node.next\n",
    "        print(\"]\")\n"
   ]
  },
  {
   "cell_type": "code",
   "execution_count": 3,
   "metadata": {},
   "outputs": [
    {
     "name": "stdout",
     "output_type": "stream",
     "text": [
      "[H, e, l, l, o]\n"
     ]
    }
   ],
   "source": [
    "l = DoublyLinkedList()\n",
    "for x in \"olleH\":\n",
    "    l.prepend(x)\n",
    "l.print()"
   ]
  },
  {
   "cell_type": "code",
   "execution_count": 4,
   "metadata": {},
   "outputs": [
    {
     "name": "stdout",
     "output_type": "stream",
     "text": [
      "[H, e, l, l, o, W, o, r, l, d]\n"
     ]
    }
   ],
   "source": [
    "for x in \"World\":\n",
    "    l.append(x)\n",
    "l.print()"
   ]
  },
  {
   "cell_type": "code",
   "execution_count": 5,
   "metadata": {},
   "outputs": [
    {
     "name": "stdout",
     "output_type": "stream",
     "text": [
      "Hello"
     ]
    }
   ],
   "source": [
    "for i in range(5):\n",
    "    print(l.remove_first(), end=\"\")"
   ]
  },
  {
   "cell_type": "code",
   "execution_count": 6,
   "metadata": {},
   "outputs": [
    {
     "name": "stdout",
     "output_type": "stream",
     "text": [
      "d\n",
      "l\n",
      "r\n",
      "o\n",
      "W\n"
     ]
    }
   ],
   "source": [
    "while not l.is_empty():\n",
    "    print(l.remove_last())"
   ]
  },
  {
   "cell_type": "markdown",
   "metadata": {},
   "source": [
    "How does the running time of `append` and `remove_last` compare to the corresponding methods of `LinkedList` (in notebook `linked-lists-with-solutions`)?"
   ]
  }
 ],
 "metadata": {
  "anaconda-cloud": {},
  "kernelspec": {
   "display_name": "Python 3 (ipykernel)",
   "language": "python",
   "name": "python3"
  },
  "language_info": {
   "codemirror_mode": {
    "name": "ipython",
    "version": 3
   },
   "file_extension": ".py",
   "mimetype": "text/x-python",
   "name": "python",
   "nbconvert_exporter": "python",
   "pygments_lexer": "ipython3",
   "version": "3.11.4"
  },
  "toc": {
   "base_numbering": 1,
   "nav_menu": {},
   "number_sections": false,
   "sideBar": false,
   "skip_h1_title": false,
   "title_cell": "Table of Contents",
   "title_sidebar": "Contents",
   "toc_cell": false,
   "toc_position": {},
   "toc_section_display": false,
   "toc_window_display": false
  }
 },
 "nbformat": 4,
 "nbformat_minor": 4
}
