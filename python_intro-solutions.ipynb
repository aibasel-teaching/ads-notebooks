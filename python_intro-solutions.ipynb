{
 "cells": [
  {
   "cell_type": "markdown",
   "metadata": {
    "slideshow": {
     "slide_type": "slide"
    }
   },
   "source": [
    "# Kurze Python-Einführung"
   ]
  },
  {
   "cell_type": "markdown",
   "metadata": {
    "slideshow": {
     "slide_type": "slide"
    }
   },
   "source": [
    "### Kommentare\n",
    "\n",
    "* Inline-Kommentare beginnen mit `#`.\n",
    "    * Entspricht ``//`` in Java"
   ]
  },
  {
   "cell_type": "code",
   "execution_count": null,
   "metadata": {},
   "outputs": [],
   "source": [
    "# dies ist ein Kommentar"
   ]
  },
  {
   "cell_type": "markdown",
   "metadata": {
    "slideshow": {
     "slide_type": "slide"
    }
   },
   "source": [
    "### Variablen und Typen"
   ]
  },
  {
   "cell_type": "markdown",
   "metadata": {
    "slideshow": {
     "slide_type": "-"
    }
   },
   "source": [
    "* Variablen haben keinen Typ\n",
    "    * Variablen werden bei Initialisierung angelegt.\n",
    "    * Alle Variablen sind nur Referenzen auf Objekte"
   ]
  },
  {
   "cell_type": "code",
   "execution_count": null,
   "metadata": {},
   "outputs": [],
   "source": [
    "a = 3\n",
    "s = \"Ich bin ein String\""
   ]
  },
  {
   "cell_type": "markdown",
   "metadata": {
    "slideshow": {
     "slide_type": "slide"
    }
   },
   "source": [
    "### Typüberprüfung"
   ]
  },
  {
   "cell_type": "markdown",
   "metadata": {},
   "source": [
    "Objekte von jedem Typ können Variable zugewiesen werden\n",
    "* Typprüfung passiert zur Laufzeit"
   ]
  },
  {
   "cell_type": "code",
   "execution_count": null,
   "metadata": {},
   "outputs": [],
   "source": [
    "a = \"jetzt referenziert die Variable einen String\"\n",
    "a / 2"
   ]
  },
  {
   "cell_type": "markdown",
   "metadata": {
    "slideshow": {
     "slide_type": "slide"
    }
   },
   "source": [
    "### Verzweigungen\n",
    "\n",
    "Wie in Java aber:\n",
    "\n",
    "* Bedignung ist nicht in Klammern\n",
    "* Jeder Block wird durch ```:``` und Einrückung getrennt"
   ]
  },
  {
   "cell_type": "code",
   "execution_count": null,
   "metadata": {},
   "outputs": [],
   "source": [
    "x = 3\n",
    "\n",
    "if x > 0:\n",
    "    print(\"x ist positiv\")\n",
    "elif x == 0:\n",
    "    print(\"x ist Null\")\n",
    "else:\n",
    "    print(\"x ist negativ\")"
   ]
  },
  {
   "cell_type": "markdown",
   "metadata": {
    "slideshow": {
     "slide_type": "slide"
    }
   },
   "source": [
    "### Verknüpfungen"
   ]
  },
  {
   "cell_type": "markdown",
   "metadata": {
    "slideshow": {
     "slide_type": "-"
    }
   },
   "source": [
    "Logische Verknüpfung in Bedingungen erreicht man mit `and`, `or`, `not`:"
   ]
  },
  {
   "cell_type": "code",
   "execution_count": null,
   "metadata": {},
   "outputs": [],
   "source": [
    "x = 7\n",
    "y = 3\n",
    "\n",
    "print(x > 5 and y < 3)"
   ]
  },
  {
   "cell_type": "markdown",
   "metadata": {
    "slideshow": {
     "slide_type": "slide"
    }
   },
   "source": [
    "### While-Schleife"
   ]
  },
  {
   "cell_type": "code",
   "execution_count": null,
   "metadata": {},
   "outputs": [],
   "source": [
    "x = 5\n",
    "while x > 0:\n",
    "    print(x)\n",
    "    x -= 1"
   ]
  },
  {
   "cell_type": "markdown",
   "metadata": {
    "slideshow": {
     "slide_type": "slide"
    }
   },
   "source": [
    "### For-Schleife"
   ]
  },
  {
   "cell_type": "markdown",
   "metadata": {},
   "source": [
    "* Iteriert über alle Elemente in einem bestimmten Bereich.\n",
    "* Bereich wird mit ```range(lo, hi, step)``` definiert"
   ]
  },
  {
   "cell_type": "code",
   "execution_count": null,
   "metadata": {},
   "outputs": [],
   "source": [
    "for x in range(1, 9, 2):\n",
    "    print(x)"
   ]
  },
  {
   "cell_type": "markdown",
   "metadata": {
    "slideshow": {
     "slide_type": "slide"
    }
   },
   "source": [
    "## Funktionen"
   ]
  },
  {
   "cell_type": "markdown",
   "metadata": {},
   "source": [
    "Funktionen werden mit dem Schlüsselwort ```def``` definiert. \n",
    "\n",
    "* Funktionsblock wird durch ```:``` und Einrückung abgetrennt\n",
    "* Rückgabe durch ```return```"
   ]
  },
  {
   "cell_type": "code",
   "execution_count": null,
   "metadata": {},
   "outputs": [],
   "source": [
    "def gcd(a, b):\n",
    "    if b == 0:\n",
    "        return a\n",
    "    else:\n",
    "        return gcd(b, a % b)\n",
    "    \n",
    "gcd(48, 18)"
   ]
  },
  {
   "cell_type": "markdown",
   "metadata": {
    "slideshow": {
     "slide_type": "slide"
    }
   },
   "source": [
    "## Listen"
   ]
  },
  {
   "cell_type": "markdown",
   "metadata": {},
   "source": [
    "*Listen* enthalten Sequenzen von Objekten.\n",
    "* Entsprechen Arrays in anderen Sprachen \n",
    "     * Sind aber etwas flexibler"
   ]
  },
  {
   "cell_type": "code",
   "execution_count": null,
   "metadata": {},
   "outputs": [],
   "source": [
    "numbers = [1, 2, 3, 4, 5]\n",
    "names = [\"first\", \"middle\", \"last\"]"
   ]
  },
  {
   "cell_type": "markdown",
   "metadata": {
    "slideshow": {
     "slide_type": "slide"
    }
   },
   "source": [
    "### Zugriff auf Listenelemente\n",
    "Listen können von vorne (nicht-negative Zahlen) oder hinten (negative Zahlen) indiziert werden.\n",
    "\n",
    "Das vorderste Element hat Index 0, das letze Index -1."
   ]
  },
  {
   "cell_type": "code",
   "execution_count": null,
   "metadata": {},
   "outputs": [],
   "source": [
    "numbers[1]"
   ]
  },
  {
   "cell_type": "code",
   "execution_count": null,
   "metadata": {},
   "outputs": [],
   "source": [
    "names[-1]"
   ]
  },
  {
   "cell_type": "code",
   "execution_count": null,
   "metadata": {},
   "outputs": [],
   "source": [
    "names[2] = \"in between\""
   ]
  },
  {
   "cell_type": "markdown",
   "metadata": {
    "slideshow": {
     "slide_type": "slide"
    }
   },
   "source": [
    "### Länge einer Liste\n",
    "\n",
    "Die Länge einer Sequenz `seq` kann man mit `len(seq)` bestimmen."
   ]
  },
  {
   "cell_type": "code",
   "execution_count": null,
   "metadata": {},
   "outputs": [],
   "source": [
    "len([1,3,5,4])"
   ]
  },
  {
   "cell_type": "markdown",
   "metadata": {
    "slideshow": {
     "slide_type": "slide"
    }
   },
   "source": [
    "### Tupel\n",
    "\n",
    "Wie Listen, aber unveränderlich"
   ]
  },
  {
   "cell_type": "code",
   "execution_count": null,
   "metadata": {},
   "outputs": [],
   "source": [
    "l = (3, \"Hund\", 5.1)"
   ]
  },
  {
   "cell_type": "markdown",
   "metadata": {},
   "source": [
    "Zugriff"
   ]
  },
  {
   "cell_type": "code",
   "execution_count": null,
   "metadata": {},
   "outputs": [],
   "source": [
    "l[1]"
   ]
  },
  {
   "cell_type": "markdown",
   "metadata": {},
   "source": [
    "Mutation ist nicht möglich"
   ]
  },
  {
   "cell_type": "code",
   "execution_count": null,
   "metadata": {},
   "outputs": [],
   "source": [
    "l[1]=\"abc\""
   ]
  },
  {
   "cell_type": "markdown",
   "metadata": {
    "slideshow": {
     "slide_type": "slide"
    }
   },
   "source": [
    "### Tupel unpacking \n",
    "\n",
    "Entpackt um sie Variablen in Tupel auf der linken Seite zuzuweisen."
   ]
  },
  {
   "cell_type": "code",
   "execution_count": null,
   "metadata": {},
   "outputs": [],
   "source": [
    "(number, name) = (3, \"Johann Gambolputty\")\n",
    "print(number)\n",
    "print(name)"
   ]
  },
  {
   "cell_type": "markdown",
   "metadata": {
    "slideshow": {
     "slide_type": "slide"
    }
   },
   "source": [
    "### Vertauschen zweier Variablen"
   ]
  },
  {
   "cell_type": "markdown",
   "metadata": {},
   "source": [
    "* Spezialfall vom Tuple unpacking"
   ]
  },
  {
   "cell_type": "code",
   "execution_count": null,
   "metadata": {},
   "outputs": [],
   "source": [
    "a = 3\n",
    "b = 7\n",
    "(a, b) = (b, a)\n",
    "print((a, b))"
   ]
  },
  {
   "cell_type": "markdown",
   "metadata": {},
   "source": [
    "Funktioniert auch ohne Klammer:\n",
    "```a, b = b, a```"
   ]
  },
  {
   "cell_type": "markdown",
   "metadata": {
    "slideshow": {
     "slide_type": "slide"
    }
   },
   "source": [
    "### Klassen \n",
    "\n",
    "* Werden mit dem Schlüsselwort ```class``` deklariert\n",
    "* Methoden bekommen explizite Referenz auf ```self``` (```this```in Java)\n",
    "* Konstruktor ist spezielle Methode ```__init__```"
   ]
  },
  {
   "cell_type": "code",
   "execution_count": null,
   "metadata": {},
   "outputs": [],
   "source": [
    "class Fraction:\n",
    "    \n",
    "    numerator = 0\n",
    "    denominator = 0\n",
    "    \n",
    "    def __init__(self, numerator, denominator):\n",
    "        self.numerator = numerator\n",
    "        self.denominator = denominator\n",
    "            \n",
    "    def printFraction(self):\n",
    "        print(self.numerator, \"/\", self.denominator)"
   ]
  },
  {
   "cell_type": "markdown",
   "metadata": {
    "slideshow": {
     "slide_type": "slide"
    }
   },
   "source": [
    "### Objekte\n",
    "\n",
    "* Instanzen von Klassen werden durch Aufruf von Klassennamen und Konstruktorargumente (aber ohne ```new```) erzeugt"
   ]
  },
  {
   "cell_type": "code",
   "execution_count": null,
   "metadata": {},
   "outputs": [],
   "source": [
    "f = Fraction(3, 5)\n",
    "f.printFraction()"
   ]
  },
  {
   "cell_type": "markdown",
   "metadata": {
    "slideshow": {
     "slide_type": "slide"
    }
   },
   "source": [
    "# Übungen\n",
    "\n",
    "* Schreiben Sie ein Programm, welches das kleine 1 x 1 berechnet (also die 1-er bis 9-er Reihe ausgibt). Nutzen Sie dazu zwei ineinander verschachtelte ```for```-loops. \n",
    "    * Um etwas auszugeben nutzen Sie die ```print``` Funktion. \n",
    "    * Wenn Sie keinen Zeilenumbruch wollen, schreiben Sie ```print(\"mein test\", end='')``` \n",
    "* Definieren Sie eine Funktion ```bmi``` welche für ein gegebene Grösse und Gewicht den BMI berechnet\n",
    "* Experimentieren Sie mit der Sichtbarkeit von Variablen. Sind Variablen ausserhalb eines Blocks sichtbar? Und Ausserhalb einer Funktion?\n",
    "* Schreiben Sie eine Funktion, die eine Liste von Zahlen entgegennimmt und das Minimum und Maximum davon zurückgibt. \n",
    "* Ergänzen Sie die Klasse ```Fraction```, so dass Brüche multipliziert und addiert werden können. Schreiben Sie auch eien Methode ```reduce```, welche einen neuen, gekürzten Bruch zurückgibt. \n",
    "* Versuchen Sie selection sort zu implementieren."
   ]
  },
  {
   "cell_type": "markdown",
   "metadata": {},
   "source": [
    "#### Lösungen"
   ]
  },
  {
   "cell_type": "code",
   "execution_count": 1,
   "metadata": {},
   "outputs": [
    {
     "name": "stdout",
     "output_type": "stream",
     "text": [
      "1 2 3 4 5 6 7 8 9 \n",
      "2 4 6 8 10 12 14 16 18 \n",
      "3 6 9 12 15 18 21 24 27 \n",
      "4 8 12 16 20 24 28 32 36 \n",
      "5 10 15 20 25 30 35 40 45 \n",
      "6 12 18 24 30 36 42 48 54 \n",
      "7 14 21 28 35 42 49 56 63 \n",
      "8 16 24 32 40 48 56 64 72 \n",
      "9 18 27 36 45 54 63 72 81 \n"
     ]
    }
   ],
   "source": [
    "# 1 x 1\n",
    "for i in range(1, 10):\n",
    "    for j in range(1, 10):\n",
    "        print(i * j, end = ' ')\n",
    "    print()"
   ]
  },
  {
   "cell_type": "code",
   "execution_count": 4,
   "metadata": {},
   "outputs": [
    {
     "data": {
      "text/plain": [
       "29.411764705882355"
      ]
     },
     "execution_count": 4,
     "metadata": {},
     "output_type": "execute_result"
    }
   ],
   "source": [
    "def bmi(height, weight):\n",
    "    return weight / (height * height)\n",
    "bmi(1.70, 85)"
   ]
  },
  {
   "cell_type": "markdown",
   "metadata": {},
   "source": [
    "Sichtbarkeit: Sichtbar ausserhalb for, while if\n",
    "Neuer Scope wird nur in Klassen und Funktionen definiert, nicht aber in \"Blöcken\""
   ]
  },
  {
   "cell_type": "code",
   "execution_count": 7,
   "metadata": {},
   "outputs": [
    {
     "data": {
      "text/plain": [
       "(-3, 15)"
      ]
     },
     "execution_count": 7,
     "metadata": {},
     "output_type": "execute_result"
    }
   ],
   "source": [
    "def getminmax(list):\n",
    "    min = list[0]\n",
    "    max = list[0]\n",
    "    for element in list:\n",
    "        if element < min:\n",
    "            min = element\n",
    "        if element > max:\n",
    "            max = element\n",
    "    return (min, max)\n",
    "\n",
    "getminmax([3, 1, 7, 15, -3])"
   ]
  },
  {
   "cell_type": "code",
   "execution_count": 23,
   "metadata": {},
   "outputs": [],
   "source": [
    "class Fraction:\n",
    "    \n",
    "    numerator = 0\n",
    "    denominator = 0\n",
    "    \n",
    "    def __init__(self, numerator, denominator):\n",
    "        self.numerator = numerator\n",
    "        self.denominator = denominator\n",
    "            \n",
    "    def printFraction(self):\n",
    "        print(self.numerator, \"/\", self.denominator)\n",
    "        \n",
    "    def gcd(self, a, b):\n",
    "        if b == 0:\n",
    "            return a\n",
    "        else:\n",
    "            return self.gcd(b, a % b)\n",
    "    \n",
    "    def reduce(self):\n",
    "        g = self.gcd(self.numerator, self.denominator)\n",
    "        return Fraction(self.numerator / g, self.denominator / g)\n",
    "    \n",
    "    def __repr__(self):\n",
    "        return str(self.numerator) + \"/\" + str(self.denominator)"
   ]
  },
  {
   "cell_type": "code",
   "execution_count": 25,
   "metadata": {},
   "outputs": [
    {
     "data": {
      "text/plain": [
       "3.0/1.0"
      ]
     },
     "execution_count": 25,
     "metadata": {},
     "output_type": "execute_result"
    }
   ],
   "source": [
    "Fraction(24, 8).reduce()"
   ]
  },
  {
   "cell_type": "code",
   "execution_count": 26,
   "metadata": {},
   "outputs": [],
   "source": [
    "def selection_sort(array):\n",
    "    n = len(array)\n",
    "    for i in range(n - 1):\n",
    "        # print(array)\n",
    "        min_index = i\n",
    "        for j in range(i + 1, n):\n",
    "            if array[j] < array[min_index]:\n",
    "                min_index = j\n",
    "        # print(\"Kleinstes Element an Pos.\", i, \"-\", len(array) - 1,\n",
    "        #       \"ist\", array[min_index], \"an Position\", min_index)\n",
    "        # print(\"Tausche es mit\", array[i], \"an Pos.\", i)\n",
    "        array[i], array[min_index] = array[min_index], array[i]\n",
    "        # print(array)"
   ]
  },
  {
   "cell_type": "code",
   "execution_count": 28,
   "metadata": {},
   "outputs": [
    {
     "name": "stdout",
     "output_type": "stream",
     "text": [
      "[1, 3, 7, 10]\n"
     ]
    }
   ],
   "source": [
    "a = [3,1, 7, 10]\n",
    "selection_sort(a)\n",
    "print(a)"
   ]
  },
  {
   "cell_type": "code",
   "execution_count": null,
   "metadata": {},
   "outputs": [],
   "source": []
  }
 ],
 "metadata": {
  "celltoolbar": "Slideshow",
  "kernelspec": {
   "display_name": "Python 3",
   "language": "python",
   "name": "python3"
  },
  "language_info": {
   "codemirror_mode": {
    "name": "ipython",
    "version": 3
   },
   "file_extension": ".py",
   "mimetype": "text/x-python",
   "name": "python",
   "nbconvert_exporter": "python",
   "pygments_lexer": "ipython3",
   "version": "3.7.4"
  }
 },
 "nbformat": 4,
 "nbformat_minor": 2
}
