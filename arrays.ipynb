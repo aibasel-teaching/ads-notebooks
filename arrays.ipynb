{
 "cells": [
  {
   "cell_type": "markdown",
   "metadata": {},
   "source": [
    "# Dynamische Arrays"
   ]
  },
  {
   "cell_type": "markdown",
   "metadata": {},
   "source": [
    "Wir haben gesehen, wie wir die Methoden ```append``` und ```pop```, die ein Element am Ende eines Arrays anfügen, respektive entfernen, effizient implementieren können. Hier nochmals die Implementation:"
   ]
  },
  {
   "cell_type": "code",
   "execution_count": 1,
   "metadata": {},
   "outputs": [],
   "source": [
    "class  Array:\n",
    "    \n",
    "    def __init__(self):\n",
    "        self.data = [None] # list  simulates  block  of  memory\n",
    "        self.idx = 0  # index on next free element\n",
    "        \n",
    "    def append(self, elem):\n",
    "        if self.idx == len(self.data):    \n",
    "            self.resize(len(self.data) * 2)\n",
    "        self.data[self.idx] = elem\n",
    "        self.idx  += 1        \n",
    "    \n",
    "    def pop(self):\n",
    "        self.idx -= 1\n",
    "        item = self.data[self.idx]; \n",
    "        if self.idx > 0  and self.idx == len(self.data) / 4:\n",
    "            self.resize(int(len(self.data) / 2)) \n",
    "\n",
    "        return item; \n",
    "\n",
    "    def resize(self, numElements):\n",
    "        newArray = [None] * numElements\n",
    "\n",
    "        for i in  range(0, self.idx):            \n",
    "            newArray[i] = self.data[i]\n",
    "        self.data = newArray\n",
    "    \n",
    "    def __str__(self):\n",
    "        return str(self.data)\n",
    "    \n",
    "    def length(self):\n",
    "        return self.idx\n"
   ]
  },
  {
   "cell_type": "markdown",
   "metadata": {},
   "source": [
    "Die folgenden Tests zeigen, dass die Implementation wie erwartet funktioniert:"
   ]
  },
  {
   "cell_type": "code",
   "execution_count": 2,
   "metadata": {},
   "outputs": [
    {
     "name": "stdout",
     "output_type": "stream",
     "text": [
      "Array after append: [0, 1, 2, 3, 4, 5, 6, 7, 8, 9, None, None, None, None, None, None]\n",
      "length: 10\n",
      "idx before pop 10\n",
      "lastElement 9\n",
      "Array after pop: [0, 1, 2, 3, 4, 5, 6, 7, 8, 9, None, None, None, None, None, None]\n",
      "idx after pop 9\n",
      "length after pop: 9\n"
     ]
    }
   ],
   "source": [
    "a = Array()\n",
    "for i in range(0, 10):\n",
    "    a.append(i)\n",
    "print(\"Array after append: \" + str(a))\n",
    "print(\"length: \" +str(a.length()))\n",
    "\n",
    "print(\"idx before pop \" +str(a.idx))\n",
    "lastElement = a.pop()\n",
    "print(\"lastElement \" + str(lastElement))\n",
    "print(\"Array after pop: \" +str(a))\n",
    "print(\"idx after pop \" +str(a.idx))\n",
    "print(\"length after pop: \" +str(a.length()))"
   ]
  },
  {
   "cell_type": "markdown",
   "metadata": {},
   "source": [
    "#### Experimente\n",
    "\n",
    "Wir wollen nun testen, wie sich die Laufzeit der append Methode verhält. "
   ]
  },
  {
   "cell_type": "code",
   "execution_count": 86,
   "metadata": {},
   "outputs": [],
   "source": [
    "import timeit\n",
    "import random"
   ]
  },
  {
   "cell_type": "code",
   "execution_count": 87,
   "metadata": {},
   "outputs": [],
   "source": [
    "def createByAppend(n):\n",
    "    a = Array()\n",
    "    for i in range(0, n):\n",
    "        a.append(i)\n",
    "    return a;"
   ]
  },
  {
   "cell_type": "code",
   "execution_count": 89,
   "metadata": {
    "scrolled": true
   },
   "outputs": [
    {
     "name": "stdout",
     "output_type": "stream",
     "text": [
      "Durchschnittliche Zeit für eine append Operation bei 10 Elementen = 1.629999997021514e-06\n",
      "Durchschnittliche Zeit für eine append Operation bei 100 Elementen = 4.3399999867688164e-07\n",
      "Durchschnittliche Zeit für eine append Operation bei 10000 Elementen = 3.8104000000203084e-07\n",
      "Durchschnittliche Zeit für eine append Operation bei 100000 Elementen = 3.724529999999504e-07\n"
     ]
    }
   ],
   "source": [
    "for n in [10, 100, 10000, 100000]:\n",
    "    t = timeit.timeit(lambda: createByAppend(n), number=1)\n",
    "    print(\"Durchschnittliche Zeit für eine append Operation bei \" + str(n) + \" Elementen = \" + str(t / n))"
   ]
  },
  {
   "cell_type": "markdown",
   "metadata": {},
   "source": [
    "Wie wir sehen, ist die Durchschnittliche Zeit pro ```append```-Operation konstant, unabhängig davon, wieviele Elemente wir einfügen. "
   ]
  },
  {
   "cell_type": "markdown",
   "metadata": {},
   "source": [
    "#### Miniübung \n",
    "\n",
    "* Vergleichen Sie die Laufzeit mit einer naiven Implementation, bei der das Array bei jedem Aufruf vergrössert wird."
   ]
  },
  {
   "cell_type": "markdown",
   "metadata": {},
   "source": [
    "### Ammortisierte Analyse: Array resizing"
   ]
  },
  {
   "cell_type": "markdown",
   "metadata": {},
   "source": [
    "Im Folgenden schauen wir uns die ```append``` Operation noch auf theoretischer Ebene an. Der folgende Code dient zum illustrieren der Idee der amortisierten Analyse. Die Idee ist einfach - wir führen Buchhalten. Bei jeder ```billigen``` Operation erhalten wir einen Betrag, mit dem wir später die teure Operation bezahlen. Unsere Währung ist dabei ein *Token*. Für jeden Arrayzugriff in der resize Methode bezahlen wir mit einem Token. Wenn wir es schaffen, dass wir bei jeder ```append```-Operation immer dieselbe konstante Anzahl Tokens auf die Seite legen können, und damit genügend Tokens zur Verfügung haben um damit die Anzahl Array-Zugriffe in der ```resize``` Operation bezahlen können, haben wir eine amortisiert konstante Laufzeit.\n",
    "\n",
    "Im folgenden Code ist diese Idee umgesetzt:"
   ]
  },
  {
   "cell_type": "code",
   "execution_count": 83,
   "metadata": {},
   "outputs": [],
   "source": [
    "class  ArrayWithAccounting:\n",
    "\n",
    "    PRICE_IN_TOKENS_PER_APPEND = 5\n",
    "    \n",
    "    def __init__(self):\n",
    "        self.data = [None] \n",
    "        self.idx = 0\n",
    "        \n",
    "        self.tokensSaved = 0\n",
    "        self.tokensPaid = 0\n",
    "        \n",
    "    def append(self, elem):\n",
    "        \n",
    "        if self.idx == len(self.data):            \n",
    "            newCapacity = len(self.data) * 2\n",
    "            self.resize(newCapacity)        \n",
    "        \n",
    "        # Wir sparen eine Anzahl Tokens für jede Append Operation\n",
    "        self.tokensSaved += self.PRICE_IN_TOKENS_PER_APPEND\n",
    "        self.data[self.idx] = elem\n",
    "        \n",
    "        self.idx  += 1        \n",
    "\n",
    "        \n",
    "\n",
    "    def resize(self, numElements ):\n",
    "        # Ein neues Array anzulegen braucht 1 Array Zugriffe pro Element\n",
    "        # Wir bezahlen also ein Token pro Element\n",
    "        newArray = [None] * numElements\n",
    "        self.tokensPaid += 1 * numElements \n",
    "        \n",
    "        for i in  range(0, self.idx):            \n",
    "            newArray[i] = self.data[i]\n",
    "            \n",
    "            # Für jedes kopierte Element brauchen wir 2 Array Zugriffe \n",
    "            # Wir bezahlen also 2 Token pro Element\n",
    "            self.tokensPaid += 2 \n",
    "        self.data = newArray\n",
    "    \n",
    "    def __str__(self):\n",
    "        return str(self.data)\n"
   ]
  },
  {
   "cell_type": "markdown",
   "metadata": {},
   "source": [
    "Wenn wir diesen Code Ausführen, dann sehen wir, dass wir nach jeder Append Operation immer eine positive Anzahl Tokens haben. "
   ]
  },
  {
   "cell_type": "code",
   "execution_count": 85,
   "metadata": {},
   "outputs": [
    {
     "name": "stdout",
     "output_type": "stream",
     "text": [
      "paid  124 saved  160\n"
     ]
    }
   ],
   "source": [
    "a = ArrayWithAccounting()\n",
    "for i in range(0, 32):\n",
    "    a.append(i)\n",
    "print(\"paid \", a.tokensPaid, \"saved \", a.tokensSaved)"
   ]
  },
  {
   "cell_type": "markdown",
   "metadata": {},
   "source": [
    "#### Satz: Dynamisches vergrössern, verkleinern eines Arrays"
   ]
  },
  {
   "cell_type": "markdown",
   "metadata": {},
   "source": [
    "Was wir nun experimentell herausgefunden haben lässt sich formal beweisen. Für eine Beweisskizze, siehe Sedgewick und Wayne, Algorithms, Satz E, Seite 221).\n",
    "\n",
    "> Satz: Bei einem Array mit variabler Grösse ist gemäss obigen Algorithmus die durchschnittliche Anzahl der Arrayzugriffe für jede beliebige Folge von $M$ ```append``` und ```pop``` Operationen, ausgehend von dem leeren Array, proportional zu $M$.\n"
   ]
  }
 ],
 "metadata": {
  "anaconda-cloud": {},
  "kernelspec": {
   "display_name": "Python 3 (ipykernel)",
   "language": "python",
   "name": "python3"
  },
  "language_info": {
   "codemirror_mode": {
    "name": "ipython",
    "version": 3
   },
   "file_extension": ".py",
   "mimetype": "text/x-python",
   "name": "python",
   "nbconvert_exporter": "python",
   "pygments_lexer": "ipython3",
   "version": "3.9.7"
  },
  "toc": {
   "base_numbering": 1,
   "nav_menu": {},
   "number_sections": false,
   "sideBar": false,
   "skip_h1_title": false,
   "title_cell": "Table of Contents",
   "title_sidebar": "Contents",
   "toc_cell": false,
   "toc_position": {},
   "toc_section_display": false,
   "toc_window_display": false
  }
 },
 "nbformat": 4,
 "nbformat_minor": 1
}
