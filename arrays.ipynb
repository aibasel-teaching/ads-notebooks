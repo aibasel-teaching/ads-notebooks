{
 "cells": [
  {
   "cell_type": "markdown",
   "metadata": {},
   "source": [
    "# Dynamische Arrays"
   ]
  },
  {
   "cell_type": "markdown",
   "metadata": {},
   "source": [
    "Wir haben gesehen, wie wir die Methoden ```append``` und ```pop```, die ein Element am Ende eines Arrays anfügen, respektive entfernen, effizient implementieren können. Hier nochmals die Implementation:"
   ]
  },
  {
   "cell_type": "code",
   "execution_count": 2,
   "metadata": {},
   "outputs": [],
   "source": [
    "class  Array:\n",
    "    \n",
    "    def __init__(self):\n",
    "        self.data = [None] # list  simulates  block  of  memory\n",
    "        self.size = 0  # index on next free element\n",
    "        \n",
    "    def append(self, elem):\n",
    "        if self.size == len(self.data):    \n",
    "            self.resize(len(self.data) * 2)\n",
    "        self.data[self.size] = elem\n",
    "        self.size  += 1        \n",
    "    \n",
    "    def pop(self):\n",
    "        self.size -= 1\n",
    "        item = self.data[self.size]; \n",
    "        if self.size > 0  and self.size == len(self.data) / 4:\n",
    "            self.resize(int(len(self.data) / 2)) \n",
    "\n",
    "        return item; \n",
    "\n",
    "    def resize(self, numElements):\n",
    "        newArray = [None] * numElements\n",
    "\n",
    "        for i in  range(0, self.size):            \n",
    "            newArray[i] = self.data[i]\n",
    "        self.data = newArray\n",
    "    \n",
    "    def __str__(self):\n",
    "        return str(self.data)\n",
    "    \n",
    "    def length(self):\n",
    "        return self.size\n"
   ]
  },
  {
   "cell_type": "markdown",
   "metadata": {},
   "source": [
    "Die folgenden Tests zeigen, dass die Implementation wie erwartet funktioniert:"
   ]
  },
  {
   "cell_type": "code",
   "execution_count": 6,
   "metadata": {},
   "outputs": [
    {
     "name": "stdout",
     "output_type": "stream",
     "text": [
      "Array after append: [0, 1, 2, 3, 4, 5, 6, 7, 8, 9, None, None, None, None, None, None]\n",
      "length: 10\n",
      "lastElement 9\n",
      "Array after pop: [0, 1, 2, 3, 4, 5, 6, 7, 8, 9, None, None, None, None, None, None]\n",
      "size after pop 9\n"
     ]
    }
   ],
   "source": [
    "a = Array()\n",
    "for i in range(0, 10):\n",
    "    a.append(i)\n",
    "print(\"Array after append: \" + str(a))\n",
    "print(\"length: \" +str(a.length()))\n",
    "\n",
    "lastElement = a.pop()\n",
    "\n",
    "print(\"lastElement \" + str(lastElement))\n",
    "print(\"Array after pop: \" +str(a))\n",
    "print(\"size after pop \" +str(a.size))\n"
   ]
  },
  {
   "cell_type": "markdown",
   "metadata": {},
   "source": [
    "#### Experimente\n",
    "\n",
    "Wir wollen nun testen, wie sich die Laufzeit der append Methode verhält. "
   ]
  },
  {
   "cell_type": "code",
   "execution_count": 7,
   "metadata": {},
   "outputs": [],
   "source": [
    "import timeit\n",
    "import random"
   ]
  },
  {
   "cell_type": "code",
   "execution_count": 8,
   "metadata": {},
   "outputs": [],
   "source": [
    "def createByAppend(n):\n",
    "    a = Array()\n",
    "    for i in range(0, n):\n",
    "        a.append(i)\n",
    "    return a;"
   ]
  },
  {
   "cell_type": "code",
   "execution_count": 9,
   "metadata": {
    "scrolled": true
   },
   "outputs": [
    {
     "name": "stdout",
     "output_type": "stream",
     "text": [
      "Durchschnittliche Zeit für eine append Operation bei 10 Elementen = 1.3499999994337485e-06\n",
      "Durchschnittliche Zeit für eine append Operation bei 100 Elementen = 4.7100000017508136e-07\n",
      "Durchschnittliche Zeit für eine append Operation bei 10000 Elementen = 3.9443000000005666e-07\n",
      "Durchschnittliche Zeit für eine append Operation bei 100000 Elementen = 4.164560000000961e-07\n"
     ]
    }
   ],
   "source": [
    "for n in [10, 100, 10000, 100000]:\n",
    "    t = timeit.timeit(lambda: createByAppend(n), number=1)\n",
    "    print(\"Durchschnittliche Zeit für eine append Operation bei \" + str(n) + \" Elementen = \" + str(t / n))"
   ]
  },
  {
   "cell_type": "markdown",
   "metadata": {},
   "source": [
    "Wie wir sehen, ist die Durchschnittliche Zeit pro ```append```-Operation konstant, unabhängig davon, wieviele Elemente wir einfügen. "
   ]
  },
  {
   "cell_type": "markdown",
   "metadata": {},
   "source": [
    "#### Miniübung \n",
    "\n",
    "* Vergleichen Sie die Laufzeit mit einer naiven Implementation, bei der das Array bei jedem Aufruf vergrössert wird."
   ]
  },
  {
   "cell_type": "markdown",
   "metadata": {},
   "source": [
    "### Ammortisierte Analyse: Array resizing"
   ]
  },
  {
   "cell_type": "markdown",
   "metadata": {},
   "source": [
    "Im Folgenden schauen wir uns die ```append``` Operation noch auf theoretischer Ebene an. Der folgende Code dient zum illustrieren der Idee der amortisierten Analyse. Die Idee ist einfach: Wir schauen uns an, wieviele Arrayoperationen wir im Schnitt für eine Append Operation brauchen. Wenn diese Zahl mit einer Konstante nach oben abgeschätzt werden kann, ist die Laufzeit ammortisiert konstant:\n",
    "\n",
    "Im folgenden Code zählen wir einfach die Arrayzugriffe und die Anzahl Append Operationen und geben diese dann aus."
   ]
  },
  {
   "cell_type": "code",
   "execution_count": 157,
   "metadata": {},
   "outputs": [],
   "source": [
    "class  ArrayWithAccounting:\n",
    "   \n",
    "    def __init__(self):\n",
    "        self.data = [None] \n",
    "        self.size = 0\n",
    "                \n",
    "        self.numberOfArrayAccesses = 0\n",
    "        self.numberOfAppendOperations = 0\n",
    "        \n",
    "    def append(self, elem):\n",
    "        \n",
    "        self.numberOfAppendOperations += 1\n",
    "        \n",
    "        if self.size == len(self.data):            \n",
    "            newCapacity = len(self.data) * 2\n",
    "            self.resize(newCapacity)                        \n",
    "                            \n",
    "        self.data[self.size] = elem\n",
    "        self.numberOfArrayAccesses += 1\n",
    "        \n",
    "        self.size  += 1        \n",
    "\n",
    "  \n",
    "    def resize(self, numElements):\n",
    "        # Ein neues Array anzulegen braucht 1 Array Zugriffe pro Element\n",
    "        newArray = [None] * numElements\n",
    "        self.numberOfArrayAccesses += numElements\n",
    "        \n",
    "        for i in  range(0, self.size):\n",
    "            # das kopieren brauch 2 Array Zugriffe\n",
    "            newArray[i] = self.data[i]            \n",
    "            self.numberOfArrayAccesses += 2\n",
    "\n",
    "        self.data = newArray\n",
    "                \n",
    "    def ratioAppendArrayAccess(self):\n",
    "        return self.numberOfArrayAccesses / self.numberOfAppendOperations\n",
    "        \n",
    "    \n",
    "    def __str__(self):\n",
    "        return str(self.data)\n"
   ]
  },
  {
   "cell_type": "markdown",
   "metadata": {},
   "source": [
    "Wenn wir diesen Code Ausführen, dann sehen wir, dass wir nach jeder Append Operation immer eine positive Anzahl Tokens haben. "
   ]
  },
  {
   "cell_type": "code",
   "execution_count": 160,
   "metadata": {},
   "outputs": [
    {
     "name": "stdout",
     "output_type": "stream",
     "text": [
      "1.0\n",
      "3.0\n",
      "5.0\n",
      "4.0\n",
      "6.6\n",
      "5.666666666666667\n",
      "5.0\n",
      "4.5\n",
      "7.666666666666667\n",
      "7.0\n",
      "6.454545454545454\n",
      "6.0\n",
      "5.615384615384615\n",
      "5.285714285714286\n",
      "5.0\n",
      "4.75\n",
      "8.294117647058824\n",
      "7.888888888888889\n",
      "7.526315789473684\n",
      "7.2\n",
      "6.904761904761905\n",
      "6.636363636363637\n",
      "6.391304347826087\n",
      "6.166666666666667\n",
      "5.96\n",
      "5.769230769230769\n",
      "5.592592592592593\n",
      "5.428571428571429\n",
      "5.275862068965517\n",
      "5.133333333333334\n",
      "5.0\n",
      "4.875\n",
      "8.636363636363637\n",
      "8.411764705882353\n",
      "8.2\n",
      "8.0\n",
      "7.8108108108108105\n",
      "7.631578947368421\n",
      "7.461538461538462\n",
      "7.3\n",
      "7.146341463414634\n",
      "7.0\n",
      "6.8604651162790695\n",
      "6.7272727272727275\n",
      "6.6\n",
      "6.478260869565218\n",
      "6.361702127659575\n",
      "6.25\n",
      "6.142857142857143\n",
      "6.04\n",
      "5.9411764705882355\n",
      "5.846153846153846\n",
      "5.754716981132075\n",
      "5.666666666666667\n",
      "5.581818181818182\n",
      "5.5\n",
      "5.421052631578948\n",
      "5.344827586206897\n",
      "5.271186440677966\n",
      "5.2\n",
      "5.131147540983607\n",
      "5.064516129032258\n",
      "5.0\n",
      "4.9375\n",
      "8.815384615384616\n",
      "8.696969696969697\n",
      "8.582089552238806\n",
      "8.470588235294118\n",
      "8.36231884057971\n",
      "8.257142857142858\n",
      "8.154929577464788\n",
      "8.055555555555555\n",
      "7.958904109589041\n",
      "7.864864864864865\n",
      "7.773333333333333\n",
      "7.684210526315789\n",
      "7.597402597402597\n",
      "7.512820512820513\n",
      "7.430379746835443\n",
      "7.35\n",
      "7.271604938271605\n",
      "7.195121951219512\n",
      "7.120481927710843\n",
      "7.0476190476190474\n",
      "6.976470588235294\n",
      "6.906976744186046\n",
      "6.839080459770115\n",
      "6.7727272727272725\n",
      "6.707865168539326\n",
      "6.644444444444445\n",
      "6.582417582417582\n",
      "6.521739130434782\n",
      "6.462365591397849\n",
      "6.404255319148936\n",
      "6.347368421052631\n",
      "6.291666666666667\n",
      "6.237113402061856\n",
      "6.183673469387755\n",
      "6.1313131313131315\n"
     ]
    }
   ],
   "source": [
    "a = ArrayWithAccounting()\n",
    "for i in range(1, 100):\n",
    "    a.append(i)\n",
    "    print(a.ratioAppendArrayAccess())\n",
    "    "
   ]
  },
  {
   "cell_type": "markdown",
   "metadata": {},
   "source": [
    "#### Übung: \n",
    "\n",
    "* Was ist das grösste Verhältnis, welches Sie in einer langen Sequenz von Append Operationen sehen?\n",
    "* Wie ist das Verhältnis, wenn die Zahl eine Zweierpotenz ist? Warum?"
   ]
  },
  {
   "cell_type": "code",
   "execution_count": null,
   "metadata": {},
   "outputs": [],
   "source": []
  }
 ],
 "metadata": {
  "anaconda-cloud": {},
  "kernelspec": {
   "display_name": "Python 3 (ipykernel)",
   "language": "python",
   "name": "python3"
  },
  "language_info": {
   "codemirror_mode": {
    "name": "ipython",
    "version": 3
   },
   "file_extension": ".py",
   "mimetype": "text/x-python",
   "name": "python",
   "nbconvert_exporter": "python",
   "pygments_lexer": "ipython3",
   "version": "3.9.7"
  },
  "toc": {
   "base_numbering": 1,
   "nav_menu": {},
   "number_sections": false,
   "sideBar": false,
   "skip_h1_title": false,
   "title_cell": "Table of Contents",
   "title_sidebar": "Contents",
   "toc_cell": false,
   "toc_position": {},
   "toc_section_display": false,
   "toc_window_display": false
  }
 },
 "nbformat": 4,
 "nbformat_minor": 1
}
