{
 "cells": [
  {
   "cell_type": "markdown",
   "metadata": {},
   "source": [
    "# Arrays in Python"
   ]
  },
  {
   "cell_type": "markdown",
   "metadata": {},
   "source": [
    "Arrays in Python sind durch den Datentyp ```List``` implementiert. Dies ist für unsere Vorlesung etwas verwirrend, da wir meistens verkettete Listen meinen, wenn wir von Listen sprechen. Der Python Datentyp ```List``` ist aber ein Array im klassischen Sinn, welches Indexierung in konstanter Zeit erlaubt.  "
   ]
  },
  {
   "cell_type": "markdown",
   "metadata": {},
   "source": [
    "#### Erzeugen von Arrays"
   ]
  },
  {
   "cell_type": "markdown",
   "metadata": {},
   "source": [
    "Folgende Aufrufe illustrieren verschiedene Möglichkeiten ein Array in Python zu erzeugen."
   ]
  },
  {
   "cell_type": "markdown",
   "metadata": {},
   "source": [
    "Ein Array kann kreiert werden, indem die Elemente zwischen eckigen Klammern [] geschrieben werden. Hier wird ein leeres Array erstellt:"
   ]
  },
  {
   "cell_type": "code",
   "execution_count": 9,
   "metadata": {},
   "outputs": [
    {
     "data": {
      "text/plain": [
       "[]"
      ]
     },
     "execution_count": 9,
     "metadata": {},
     "output_type": "execute_result"
    }
   ],
   "source": [
    "[]"
   ]
  },
  {
   "cell_type": "markdown",
   "metadata": {},
   "source": [
    "Und hier ein Array mit 4 Elementen:"
   ]
  },
  {
   "cell_type": "code",
   "execution_count": 10,
   "metadata": {},
   "outputs": [
    {
     "data": {
      "text/plain": [
       "['a', 'list', 'of', 'strings']"
      ]
     },
     "execution_count": 10,
     "metadata": {},
     "output_type": "execute_result"
    }
   ],
   "source": [
    "[\"a\", \"list\", \"of\", \"strings\"]"
   ]
  },
  {
   "cell_type": "markdown",
   "metadata": {},
   "source": [
    "Wenn wir ein Array der Grösse 10, welches alle Werte auf den Wert 0 initialisiert erzeugen wollen, schreiben wir das wie folgt."
   ]
  },
  {
   "cell_type": "code",
   "execution_count": 11,
   "metadata": {},
   "outputs": [
    {
     "data": {
      "text/plain": [
       "[0, 0, 0, 0, 0, 0, 0, 0, 0, 0]"
      ]
     },
     "execution_count": 11,
     "metadata": {},
     "output_type": "execute_result"
    }
   ],
   "source": [
    "[0] * 10"
   ]
  },
  {
   "cell_type": "markdown",
   "metadata": {},
   "source": [
    "#### Miniübung: \n",
    "\n",
    "Erzeugen Sie ein Array der Grösse 5, dessen Elemente leere Strings (\"\") sind."
   ]
  },
  {
   "cell_type": "markdown",
   "metadata": {},
   "source": [
    "#### Lösung:"
   ]
  },
  {
   "cell_type": "code",
   "execution_count": 48,
   "metadata": {},
   "outputs": [
    {
     "data": {
      "text/plain": [
       "['', '', '', '', '']"
      ]
     },
     "execution_count": 48,
     "metadata": {},
     "output_type": "execute_result"
    }
   ],
   "source": [
    "[\"\"] * 5"
   ]
  },
  {
   "cell_type": "markdown",
   "metadata": {},
   "source": [
    "#### Elemente lesen und setzen"
   ]
  },
  {
   "cell_type": "markdown",
   "metadata": {},
   "source": [
    "Gegeben sei folgendes Testarray:"
   ]
  },
  {
   "cell_type": "code",
   "execution_count": 12,
   "metadata": {},
   "outputs": [],
   "source": [
    "xs = [\"a\", \"b\", \"c\", \"d\"]"
   ]
  },
  {
   "cell_type": "markdown",
   "metadata": {},
   "source": [
    "Lesen und setzen von Elementen machen wir mit dem [] Operator. Hier lesen wir das erste Element:"
   ]
  },
  {
   "cell_type": "code",
   "execution_count": 13,
   "metadata": {},
   "outputs": [
    {
     "name": "stdout",
     "output_type": "stream",
     "text": [
      "a\n"
     ]
    }
   ],
   "source": [
    "print(xs[0])"
   ]
  },
  {
   "cell_type": "markdown",
   "metadata": {},
   "source": [
    "Python erlaubt auch negative Indices. Wenn der Index negativ ist, wird vom Ende gezählt:"
   ]
  },
  {
   "cell_type": "code",
   "execution_count": 14,
   "metadata": {},
   "outputs": [
    {
     "name": "stdout",
     "output_type": "stream",
     "text": [
      "d\n"
     ]
    }
   ],
   "source": [
    "print(xs[-1])"
   ]
  },
  {
   "cell_type": "markdown",
   "metadata": {},
   "source": [
    "Für das Setzen eines Wertes weisen wir dem entsprechenden Arrayelement einfach einen Wert zu:"
   ]
  },
  {
   "cell_type": "code",
   "execution_count": 15,
   "metadata": {},
   "outputs": [],
   "source": [
    "xs[2]=\"c'\""
   ]
  },
  {
   "cell_type": "markdown",
   "metadata": {},
   "source": [
    "Wir sehen, dass hier wirklich der Wert verändert wurde. "
   ]
  },
  {
   "cell_type": "code",
   "execution_count": 16,
   "metadata": {},
   "outputs": [
    {
     "name": "stdout",
     "output_type": "stream",
     "text": [
      "['a', 'b', \"c'\", 'd']\n"
     ]
    }
   ],
   "source": [
    "print(xs)"
   ]
  },
  {
   "cell_type": "markdown",
   "metadata": {},
   "source": [
    "#### Länge eines Arrays"
   ]
  },
  {
   "cell_type": "markdown",
   "metadata": {},
   "source": [
    "Die Länge eines Arrays kann mittels der Python Funktion ```len``` bestimmt werden. "
   ]
  },
  {
   "cell_type": "code",
   "execution_count": 17,
   "metadata": {},
   "outputs": [
    {
     "data": {
      "text/plain": [
       "4"
      ]
     },
     "execution_count": 17,
     "metadata": {},
     "output_type": "execute_result"
    }
   ],
   "source": [
    "len(xs)"
   ]
  },
  {
   "cell_type": "code",
   "execution_count": 18,
   "metadata": {},
   "outputs": [
    {
     "data": {
      "text/plain": [
       "100"
      ]
     },
     "execution_count": 18,
     "metadata": {},
     "output_type": "execute_result"
    }
   ],
   "source": [
    "len([0]*100)"
   ]
  },
  {
   "cell_type": "markdown",
   "metadata": {},
   "source": [
    "#### Finden eines Elements"
   ]
  },
  {
   "cell_type": "markdown",
   "metadata": {},
   "source": [
    "Python erlaubt uns auch, nach Elementen in einem Array zu suchen. Die Syntax dafür ist jedoch etwas gewöhnungsbedürftig. Es wird der ```in``` Operator verwendet. "
   ]
  },
  {
   "cell_type": "markdown",
   "metadata": {},
   "source": [
    "Der Folgende Ausdruck ergibt ```true```, da das Element ```a``` in ```xs``` enthalten ist:"
   ]
  },
  {
   "cell_type": "code",
   "execution_count": 19,
   "metadata": {},
   "outputs": [
    {
     "data": {
      "text/plain": [
       "True"
      ]
     },
     "execution_count": 19,
     "metadata": {},
     "output_type": "execute_result"
    }
   ],
   "source": [
    "\"a\" in xs"
   ]
  },
  {
   "cell_type": "markdown",
   "metadata": {},
   "source": [
    "Der folgende Ausdruck ergibt jedoch ```false```."
   ]
  },
  {
   "cell_type": "code",
   "execution_count": 20,
   "metadata": {},
   "outputs": [
    {
     "data": {
      "text/plain": [
       "False"
      ]
     },
     "execution_count": 20,
     "metadata": {},
     "output_type": "execute_result"
    }
   ],
   "source": [
    "\"I cannot be found \" in xs"
   ]
  },
  {
   "cell_type": "markdown",
   "metadata": {},
   "source": [
    "Mit der Methode ```index``` können wir uns auch die Position eines Elements im Array angeben lassen:"
   ]
  },
  {
   "cell_type": "code",
   "execution_count": 23,
   "metadata": {},
   "outputs": [
    {
     "data": {
      "text/plain": [
       "1"
      ]
     },
     "execution_count": 23,
     "metadata": {},
     "output_type": "execute_result"
    }
   ],
   "source": [
    "xs.index(\"b\")"
   ]
  },
  {
   "cell_type": "markdown",
   "metadata": {},
   "source": [
    "#### Miniübung: \n",
    "Was passiert, wenn das Element nicht vorhanden ist?\n",
    "\n",
    "#### Lösung:\n",
    "Einfach ausprobieren!"
   ]
  },
  {
   "cell_type": "markdown",
   "metadata": {},
   "source": [
    "### Laufzeit "
   ]
  },
  {
   "cell_type": "markdown",
   "metadata": {},
   "source": [
    "Im Folgenden messen wir die Laufzeit der verschiedenen Operationen für Arrays von wachsender Grösse. Wir nutzen dazu die Funktion ```timeit``` aus dem gleichnamigen Modul ```timeit```, welche uns erlaubt eine Funktion ```n``` mal aufzurufen. Damit unser Experiment repräsentativ ist, wählen wir das Element zufällig aus. Dafür benötigen wir das Modul ```random```."
   ]
  },
  {
   "cell_type": "code",
   "execution_count": 24,
   "metadata": {},
   "outputs": [],
   "source": [
    "import timeit\n",
    "import random"
   ]
  },
  {
   "cell_type": "markdown",
   "metadata": {},
   "source": [
    "```timeit``` nimmt als erstes Argument eine Funktion ohne Argumente, welche von ```timeit``` ausgeführt wird, und ein Keyword-Argument ```number``` in dem die Anzahl Wiederholungen angegeben werden. \n",
    "\n",
    "Der folgende Aufruf führt also 10 Mal die Funktion aus, die \"hallo\" ausgibt und berechnet die Zeit, die dafür insgesamt benötigt wird. Dieses mehrmalige Durchführen eines Experiments ist wichtig, da die Laufzeit jedes einzelnen Aufrufs zufälligen Variationen, bedingt durch zum Beispiel die CPU Auslastung oder Betriebssysteminterne Funktionen, ausgesetzt ist. "
   ]
  },
  {
   "cell_type": "code",
   "execution_count": 25,
   "metadata": {},
   "outputs": [
    {
     "name": "stdout",
     "output_type": "stream",
     "text": [
      "hallo\n",
      "hallo\n",
      "hallo\n",
      "hallo\n",
      "hallo\n",
      "hallo\n",
      "hallo\n",
      "hallo\n",
      "hallo\n",
      "hallo\n"
     ]
    },
    {
     "data": {
      "text/plain": [
       "0.0005137999999931253"
      ]
     },
     "execution_count": 25,
     "metadata": {},
     "output_type": "execute_result"
    }
   ],
   "source": [
    "    \n",
    "timeit.timeit(lambda: print(\"hallo\"), number=10)"
   ]
  },
  {
   "cell_type": "markdown",
   "metadata": {},
   "source": [
    "Der Aufruf ```lambda: print(\"hello\")``` macht, dass ```print(hello)``` nicht direkt ausgeführt wird, sondern als Funktion an ```timeit``` übergeben wird, welche dann von ```timeit``` ausgeführt wird. Sie müssen die Details dieses Aufrufs nicht verstehen. "
   ]
  },
  {
   "cell_type": "markdown",
   "metadata": {},
   "source": [
    "Wir können ```timeit``` auch noch eine setup-Funktion übergeben, welche jeweils einmal am Anfang ausgeführt wird. "
   ]
  },
  {
   "cell_type": "code",
   "execution_count": 26,
   "metadata": {},
   "outputs": [
    {
     "name": "stdout",
     "output_type": "stream",
     "text": [
      "called at the beginning\n",
      "hallo\n",
      "hallo\n",
      "hallo\n",
      "hallo\n",
      "hallo\n",
      "hallo\n",
      "hallo\n",
      "hallo\n",
      "hallo\n",
      "hallo\n"
     ]
    },
    {
     "data": {
      "text/plain": [
       "0.0005426999999968984"
      ]
     },
     "execution_count": 26,
     "metadata": {},
     "output_type": "execute_result"
    }
   ],
   "source": [
    "timeit.timeit(lambda: print(\"hallo\"), number=10, setup= lambda: print(\"called at the beginning\"))"
   ]
  },
  {
   "cell_type": "markdown",
   "metadata": {},
   "source": [
    "Bei unserem ersten Test experimentieren wir mit der Laufzeit für den Arrayzugriff. Wir schreiben dafür die Funktion ```accessArray```, welches jeweils auf einen zufälligen Index im übergebenen Array ```a``` zugreift."
   ]
  },
  {
   "cell_type": "code",
   "execution_count": 46,
   "metadata": {},
   "outputs": [],
   "source": [
    "def accessArray(a):\n",
    "    r = random.randint(0, len(a)-1)\n",
    "    a[r] = 10\n",
    "    "
   ]
  },
  {
   "cell_type": "markdown",
   "metadata": {},
   "source": [
    "Nun können wir die Zugriffszeit für die Arrays der Grösse 10 bis $10^7$ testen:"
   ]
  },
  {
   "cell_type": "code",
   "execution_count": 47,
   "metadata": {},
   "outputs": [
    {
     "name": "stdout",
     "output_type": "stream",
     "text": [
      "Zeit für Array der Länge 10 = 0.18555560000004334\n",
      "Zeit für Array der Länge 100 = 0.15925909999987198\n",
      "Zeit für Array der Länge 1000 = 0.18292399999972986\n",
      "Zeit für Array der Länge 10000 = 0.18036510000001726\n",
      "Zeit für Array der Länge 100000 = 0.18666669999947771\n",
      "Zeit für Array der Länge 1000000 = 0.1888448999998218\n",
      "Zeit für Array der Länge 10000000 = 0.21542260000023816\n"
     ]
    }
   ],
   "source": [
    "for i in range(1, 8):\n",
    "    array = [0]*(10**i)\n",
    "    t = timeit.timeit(lambda: accessArray(array), number=100000)\n",
    "    print(\"Zeit für Array der Länge \" + str(len(array)) + \" = \" + str(t))"
   ]
  },
  {
   "cell_type": "markdown",
   "metadata": {},
   "source": [
    "Wir sehen, dass die Zugriffszeit immer etwa gleich bleibt, obwohl die Länge des Arrays jeweils um Faktor 10 zunimmt. Die Laufzeit, um ein Element an beliebiger Stelle zu lesen oder zu schreiben, ist also konstant."
   ]
  },
  {
   "cell_type": "markdown",
   "metadata": {},
   "source": [
    "Nun testen wir die Operation ```find```:"
   ]
  },
  {
   "cell_type": "code",
   "execution_count": 42,
   "metadata": {},
   "outputs": [],
   "source": [
    "def findInArray(a):\n",
    "    c = \"you wont find me\" in a"
   ]
  },
  {
   "cell_type": "code",
   "execution_count": 44,
   "metadata": {},
   "outputs": [
    {
     "name": "stdout",
     "output_type": "stream",
     "text": [
      "Zeit für Array der Länge 10 = 0.000468500000010863\n",
      "Zeit für Array der Länge 100 = 0.0019905999999991764\n",
      "Zeit für Array der Länge 1000 = 0.019256200000029366\n",
      "Zeit für Array der Länge 10000 = 0.18080630000002884\n",
      "Zeit für Array der Länge 100000 = 2.0138292999999976\n",
      "Zeit für Array der Länge 1000000 = 19.75726880000002\n"
     ]
    }
   ],
   "source": [
    "for i in range(1, 7):\n",
    "    array = [0]*(10**i)\n",
    "    t = timeit.timeit(lambda: findInArray(array), number=1000)\n",
    "    print(\"Zeit für Array der Länge \" + str(len(array)) + \" = \" + str(t))"
   ]
  },
  {
   "cell_type": "markdown",
   "metadata": {},
   "source": [
    "Wir sehen, dass hier die Laufzeit ungefähr linear zunimmt. Auch dies entspricht unseren Erwartungen. "
   ]
  },
  {
   "cell_type": "markdown",
   "metadata": {},
   "source": [
    "#### Miniübung \n",
    "\n",
    "In diesem Experiment wurde das Element nie gefunden. Würde sich etwas ändern, wenn das Element gefunden wird? Experimentieren Sie!"
   ]
  },
  {
   "cell_type": "markdown",
   "metadata": {},
   "source": [
    "#### Lösung:\n",
    "\n",
    "Grundsätzlich nicht. Die Laufzeit bleibt linear, wir brauchen aber im Durchschnitt nur halb so viele Operationen. Es geht deshalb in der praxis etwas schneller. "
   ]
  },
  {
   "cell_type": "markdown",
   "metadata": {},
   "source": [
    "Zum Schluss wollen wir noch die Laufzeit der Operation ```len``` testen. Unsere Hypothesis ist, dass diese in konstanter Laufzeit berechnet werden kann, da wir einfach für jedes Array die Länge speichern können. Dass dies wirklich der Fall ist, zeigt folgendes Experiment. "
   ]
  },
  {
   "cell_type": "code",
   "execution_count": 45,
   "metadata": {},
   "outputs": [
    {
     "name": "stdout",
     "output_type": "stream",
     "text": [
      "Zeit für Array der Länge 10 = 0.013351100000022598\n",
      "Zeit für Array der Länge 100 = 0.011748799999963921\n",
      "Zeit für Array der Länge 1000 = 0.016889200000036908\n",
      "Zeit für Array der Länge 10000 = 0.017001000000050226\n",
      "Zeit für Array der Länge 100000 = 0.01399050000003399\n",
      "Zeit für Array der Länge 1000000 = 0.016518499999961023\n",
      "Zeit für Array der Länge 10000000 = 0.01589539999997669\n"
     ]
    }
   ],
   "source": [
    "for i in range(1, 8):\n",
    "    array = [0]*(10**i)\n",
    "    t = timeit.timeit(lambda: len(array), number=100000)\n",
    "    print(\"Zeit für Array der Länge \" + str(len(array)) + \" = \" + str(t))"
   ]
  },
  {
   "cell_type": "code",
   "execution_count": null,
   "metadata": {},
   "outputs": [],
   "source": []
  }
 ],
 "metadata": {
  "anaconda-cloud": {},
  "kernelspec": {
   "display_name": "Python 3",
   "language": "python",
   "name": "python3"
  },
  "language_info": {
   "codemirror_mode": {
    "name": "ipython",
    "version": 3
   },
   "file_extension": ".py",
   "mimetype": "text/x-python",
   "name": "python",
   "nbconvert_exporter": "python",
   "pygments_lexer": "ipython3",
   "version": "3.8.5"
  }
 },
 "nbformat": 4,
 "nbformat_minor": 1
}
