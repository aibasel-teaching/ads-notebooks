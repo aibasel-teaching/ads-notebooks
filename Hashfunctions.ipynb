{
 "cells": [
  {
   "cell_type": "markdown",
   "metadata": {},
   "source": [
    "## Hashfunktionen"
   ]
  },
  {
   "cell_type": "markdown",
   "metadata": {},
   "source": [
    "Die wichtigste Komponente um einen Hashtabelle bauen zu können ist die Hashfunktion, welche uns für jedes Objekt einen Ganzzahligen Wert (den Hashwert) liefert. In Python berechnen wir dies mit der Funktion ```hash```. Für alle Standardtypen in Python ist die Hashfunktion bereits definiert."
   ]
  },
  {
   "cell_type": "code",
   "execution_count": 66,
   "metadata": {},
   "outputs": [
    {
     "name": "stdout",
     "output_type": "stream",
     "text": [
      "Hashwert für String abc 5098958930821522730\n",
      "Hashwert für Integer 7 7\n",
      "Hashwert für Tuple (\"abc\", 7) -2566239809947742136\n"
     ]
    }
   ],
   "source": [
    "print(\"Hashwert für String abc\", hash(\"abc\"))\n",
    "print(\"Hashwert für Integer 7\", hash(7))\n",
    "print(\"Hashwert für Tuple (\\\"abc\\\", 7)\", hash((\"abc\",7)))"
   ]
  },
  {
   "cell_type": "markdown",
   "metadata": {},
   "source": [
    "Sobald wir benutzerdefinierte Typen definieren, bei denen wir auch Gleichheit via der ```__eq__``` Methode definieren, müssen wir auch eine eigene Hashfunktion definieren."
   ]
  },
  {
   "cell_type": "code",
   "execution_count": 7,
   "metadata": {},
   "outputs": [],
   "source": [
    "class Date:\n",
    "    def __init__(self, day, month, year):\n",
    "        self.day = day\n",
    "        self.month = month\n",
    "        self.year = year\n",
    "    \n",
    "    def __eq__(self, that):\n",
    "        return self.year == that.year \\\n",
    "                and self.month == that.month \\\n",
    "                and self.day == that.day"
   ]
  },
  {
   "cell_type": "code",
   "execution_count": 68,
   "metadata": {},
   "outputs": [
    {
     "ename": "TypeError",
     "evalue": "unhashable type: 'Date'",
     "output_type": "error",
     "traceback": [
      "\u001b[0;31m---------------------------------------------------------------------------\u001b[0m",
      "\u001b[0;31mTypeError\u001b[0m                                 Traceback (most recent call last)",
      "\u001b[0;32m<ipython-input-68-a35ad1207381>\u001b[0m in \u001b[0;36m<module>\u001b[0;34m\u001b[0m\n\u001b[0;32m----> 1\u001b[0;31m \u001b[0mhash\u001b[0m\u001b[0;34m(\u001b[0m\u001b[0mDate\u001b[0m\u001b[0;34m(\u001b[0m\u001b[0;36m19\u001b[0m\u001b[0;34m,\u001b[0m \u001b[0;36m4\u001b[0m\u001b[0;34m,\u001b[0m \u001b[0;36m2018\u001b[0m\u001b[0;34m)\u001b[0m\u001b[0;34m)\u001b[0m\u001b[0;34m\u001b[0m\u001b[0;34m\u001b[0m\u001b[0m\n\u001b[0m",
      "\u001b[0;31mTypeError\u001b[0m: unhashable type: 'Date'"
     ]
    }
   ],
   "source": [
    "hash(Date(19, 4, 2018))"
   ]
  },
  {
   "cell_type": "markdown",
   "metadata": {},
   "source": [
    "Dies geht ganz einfach indem wir die  Methode ```__hash___``` implementieren."
   ]
  },
  {
   "cell_type": "code",
   "execution_count": 8,
   "metadata": {},
   "outputs": [],
   "source": [
    "class Date:\n",
    "    def __init__(self, day, month, year):\n",
    "        self.day = day\n",
    "        self.month = month\n",
    "        self.year = year\n",
    "    \n",
    "    def __eq__(self, that):\n",
    "        return self.year == that.year \\\n",
    "                and self.month == that.month \\\n",
    "                and self.day == that.day\n",
    "            \n",
    "    def __hash__(self):\n",
    "        return hash((self.day, self.month, self.year))\n",
    "    \n",
    "    def __str__(self):\n",
    "        return str((self.day, self.month, self.year))"
   ]
  },
  {
   "cell_type": "code",
   "execution_count": 89,
   "metadata": {},
   "outputs": [
    {
     "data": {
      "text/plain": [
       "6105194727903540"
      ]
     },
     "execution_count": 89,
     "metadata": {},
     "output_type": "execute_result"
    }
   ],
   "source": [
    "hash(Date(15,3,2011))"
   ]
  },
  {
   "cell_type": "markdown",
   "metadata": {},
   "source": [
    "### Modulares Hashing"
   ]
  },
  {
   "cell_type": "markdown",
   "metadata": {},
   "source": [
    "Für die Implementation von Hashtabellen interessiert uns nicht der wirkliche Hashwert, sondern wir wollen eine Zahl zwischen $0$ und $M$ (wobei $M$ die Tabellengrösse ist), die wir als Arrayindex verwenden können. Wir definieren uns die Funktion ```modHash```."
   ]
  },
  {
   "cell_type": "code",
   "execution_count": 9,
   "metadata": {},
   "outputs": [],
   "source": [
    "import sys\n",
    "def modHash(key, M):\n",
    "        positiveHash = hash(key) % ((sys.maxsize + 1) * 2) \n",
    "        return positiveHash % M"
   ]
  },
  {
   "cell_type": "markdown",
   "metadata": {},
   "source": [
    "Der Hashwert, der ja auch negativ sein kann, wird hier zuerst auf eine positiven Wert abgebildet und dann modulo $M$ gerechnet.  "
   ]
  },
  {
   "cell_type": "markdown",
   "metadata": {},
   "source": [
    "### Gleichverteilung von Hashwerten"
   ]
  },
  {
   "cell_type": "markdown",
   "metadata": {},
   "source": [
    "Eine gute Hashfunktion sollte die Werte etwa gleichverteilen. Wir können dies überpüfen, indem wir zufällige Objekte eines Typs generieren, und den modularen Hashwert plotten."
   ]
  },
  {
   "cell_type": "code",
   "execution_count": 10,
   "metadata": {},
   "outputs": [],
   "source": [
    "import random\n",
    "def randomDate():\n",
    "    return Date(random.randint(1, 31), random.randint(1, 12), random.randint(1900, 2018))"
   ]
  },
  {
   "cell_type": "code",
   "execution_count": 92,
   "metadata": {},
   "outputs": [],
   "source": [
    "import matplotlib.pyplot as plt\n"
   ]
  },
  {
   "cell_type": "code",
   "execution_count": 93,
   "metadata": {},
   "outputs": [
    {
     "data": {
      "image/png": "[encoded data removed]",
      "text/plain": [
       "<Figure size 432x288 with 1 Axes>"
      ]
     },
     "metadata": {
      "needs_background": "light"
     },
     "output_type": "display_data"
    }
   ],
   "source": [
    "M = 10\n",
    "hashes = [modHash(randomDate(), M) for _ in range(0, 10000)]\n",
    "n, bins, patches = plt.hist(hashes, M, facecolor='green', alpha=0.75)\n",
    "plt.show()"
   ]
  },
  {
   "cell_type": "markdown",
   "metadata": {},
   "source": [
    "Wir sehen, dass die Schlüssel in diesem Fall gleichverteilt sind. \n",
    "\n",
    "#### Übung: \n",
    "*Was passiert wenn sie zur Hashberechnung die Tage auslassen?*"
   ]
  },
  {
   "cell_type": "markdown",
   "metadata": {},
   "source": [
    "### Kollisionen"
   ]
  },
  {
   "cell_type": "markdown",
   "metadata": {
    "collapsed": true
   },
   "source": [
    "Bevor wir die Hashtabellen implementieren, schauen wir noch an, wie wahrscheinlich es ist, dass es zu Kollisionen kommt. "
   ]
  },
  {
   "cell_type": "markdown",
   "metadata": {
    "collapsed": true
   },
   "source": [
    "#### Geburtstagsparadoxon"
   ]
  },
  {
   "cell_type": "markdown",
   "metadata": {},
   "source": [
    "Das Geburtstagsparadoxon bezieht sich auf die Aussage, dass es auch bereits wenn die Anzahl Elemente $N$ im Vergleich zur Tabellengrösse $M$ noch klein ist, zu Kollisionen kommt. Beim klassischen Geburtstagsparadoxon ist $M=365$.\n",
    "Wir simulieren dies, indem wir hashWerte für unsere zufälligen Datumsobjekte generieren, bis wir eine erste Kollision haben."
   ]
  },
  {
   "cell_type": "code",
   "execution_count": 95,
   "metadata": {},
   "outputs": [
    {
     "data": {
      "image/png": "[encoded data removed]",
      "text/plain": [
       "<Figure size 432x288 with 1 Axes>"
      ]
     },
     "metadata": {
      "needs_background": "light"
     },
     "output_type": "display_data"
    }
   ],
   "source": [
    "M=100000\n",
    "\n",
    "numExperiments = 10000\n",
    "earliestCollisionList = []\n",
    "for i in range(0, numExperiments):\n",
    "    hashesSeen = set()\n",
    "    for numElements in range(0, M):\n",
    "        newHash = modHash(randomDate(), M)\n",
    "        if newHash in hashesSeen:\n",
    "            earliestCollisionList.append(numElements)\n",
    "            break\n",
    "        else:\n",
    "            hashesSeen.add(newHash)\n",
    "            \n",
    "n, bins, patches = plt.hist(earliestCollisionList, 10, facecolor='green', alpha=0.75)\n",
    "plt.show()        "
   ]
  },
  {
   "cell_type": "markdown",
   "metadata": {
    "collapsed": true
   },
   "source": [
    "### Sammelbilderproblem"
   ]
  },
  {
   "cell_type": "markdown",
   "metadata": {
    "collapsed": true
   },
   "source": [
    "Beim Sammelbildproblem geht es darum zu sehen, wieviele Hashwerte (Bilder) wir generieren müssen, bevor wir jedes Bild der Kollektion (also Werte $1$-$M$) einmal gesehen haben. Auch dies können wir einfach simulieren."
   ]
  },
  {
   "cell_type": "code",
   "execution_count": 97,
   "metadata": {},
   "outputs": [
    {
     "name": "stdout",
     "output_type": "stream",
     "text": [
      "Anzahl Elemente gehasht bevor wir alle gesehen haben  40898\n"
     ]
    }
   ],
   "source": [
    "M = 5000\n",
    "numberOfHashesGenerated = 0\n",
    "hashesSeen = set()\n",
    "while len(hashesSeen) < M:\n",
    "    r = random.randint(0, 1000000)\n",
    "    newHash = modHash(r, M)\n",
    "    if not newHash in hashesSeen:\n",
    "        hashesSeen.add(newHash)\n",
    "    numberOfHashesGenerated += 1\n",
    "    \n",
    "print(\"Anzahl Elemente gehasht bevor wir alle gesehen haben \", numberOfHashesGenerated)"
   ]
  },
  {
   "cell_type": "markdown",
   "metadata": {},
   "source": [
    "Interessant ist auch zu sehen, wie häufig wir jeden Hash sehen, bevor wir alle einmal gesehen haben. "
   ]
  },
  {
   "cell_type": "code",
   "execution_count": 98,
   "metadata": {},
   "outputs": [
    {
     "data": {
      "image/png": "[encoded data removed]",
      "text/plain": [
       "<Figure size 432x288 with 1 Axes>"
      ]
     },
     "metadata": {
      "needs_background": "light"
     },
     "output_type": "display_data"
    }
   ],
   "source": [
    "M = 50\n",
    "hashes = []\n",
    "hashesSeen = set()\n",
    "while len(hashesSeen) < M:\n",
    "    newHash = modHash(random.randint(0, 1000000), M)\n",
    "    if not newHash in hashesSeen:\n",
    "        hashesSeen.add(newHash)\n",
    "    hashes.append(newHash)\n",
    "\n",
    "            \n",
    "n, bins, patches = plt.hist(hashes, max(hashes), facecolor='green', alpha=0.75)\n",
    "plt.show()        "
   ]
  },
  {
   "cell_type": "markdown",
   "metadata": {},
   "source": [
    "#### Übung:\n",
    "* Implementieren Sie die ```delete``` Methode"
   ]
  }
 ],
 "metadata": {
  "anaconda-cloud": {},
  "kernelspec": {
   "display_name": "Python 3",
   "language": "python",
   "name": "python3"
  },
  "language_info": {
   "codemirror_mode": {
    "name": "ipython",
    "version": 3
   },
   "file_extension": ".py",
   "mimetype": "text/x-python",
   "name": "python",
   "nbconvert_exporter": "python",
   "pygments_lexer": "ipython3",
   "version": "3.7.4"
  },
  "nbpresent": {
   "slides": {},
   "themes": {}
  }
 },
 "nbformat": 4,
 "nbformat_minor": 1
}
