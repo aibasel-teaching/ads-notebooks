{
 "cells": [
  {
   "cell_type": "markdown",
   "metadata": {},
   "source": [
    "# Hashfunktionen"
   ]
  },
  {
   "cell_type": "markdown",
   "metadata": {},
   "source": [
    "Die wichtigste Komponente um einen Hashtabelle bauen zu können ist die Hashfunktion, welche uns für jedes Objekt einen Ganzzahligen Wert (den Hashwert) liefert. In Python berechnen wir dies mit der Funktion ```hash```. Für alle Standardtypen in Python ist die Hashfunktion bereits definiert."
   ]
  },
  {
   "cell_type": "code",
   "execution_count": 38,
   "metadata": {},
   "outputs": [
    {
     "name": "stdout",
     "output_type": "stream",
     "text": [
      "Hashwert für String abc -4287999079374954157\n",
      "Hashwert für Integer 7 7\n",
      "Hashwert für Tuple (\"abc\", 7) 423007572669296105\n"
     ]
    }
   ],
   "source": [
    "print(\"Hashwert für String abc\", hash(\"abc\"))\n",
    "print(\"Hashwert für Integer 7\", hash(7))\n",
    "print(\"Hashwert für Tuple (\\\"abc\\\", 7)\", hash((\"abc\",7)))"
   ]
  },
  {
   "cell_type": "markdown",
   "metadata": {},
   "source": [
    "Sobald wir benutzerdefinierte Typen definieren, bei denen wir auch Gleichheit via der __eq__ Methode definieren, müssen wir auch eine eigene Hashfunktion definieren. Wir schauen uns dies an einem Beispiel an. Wir implementieren eine Klasse ```Date```:"
   ]
  },
  {
   "cell_type": "code",
   "execution_count": 39,
   "metadata": {},
   "outputs": [],
   "source": [
    "class Date:\n",
    "    def __init__(self, day, month, year):\n",
    "        self.day = day\n",
    "        self.month = month\n",
    "        self.year = year\n",
    "    \n",
    "    def __eq__(self, that):\n",
    "        return self.year == that.year \\\n",
    "                and self.month == that.month \\\n",
    "                and self.day == that.day"
   ]
  },
  {
   "cell_type": "markdown",
   "metadata": {},
   "source": [
    "Wenn wir nun die Funktion ```hash``` aufrufen, bekommen wir eine Fehlermeldung"
   ]
  },
  {
   "cell_type": "code",
   "execution_count": 40,
   "metadata": {},
   "outputs": [
    {
     "ename": "TypeError",
     "evalue": "unhashable type: 'Date'",
     "output_type": "error",
     "traceback": [
      "\u001b[1;31m---------------------------------------------------------------------------\u001b[0m",
      "\u001b[1;31mTypeError\u001b[0m                                 Traceback (most recent call last)",
      "\u001b[1;32m<ipython-input-40-a35ad1207381>\u001b[0m in \u001b[0;36m<module>\u001b[1;34m\u001b[0m\n\u001b[1;32m----> 1\u001b[1;33m \u001b[0mhash\u001b[0m\u001b[1;33m(\u001b[0m\u001b[0mDate\u001b[0m\u001b[1;33m(\u001b[0m\u001b[1;36m19\u001b[0m\u001b[1;33m,\u001b[0m \u001b[1;36m4\u001b[0m\u001b[1;33m,\u001b[0m \u001b[1;36m2018\u001b[0m\u001b[1;33m)\u001b[0m\u001b[1;33m)\u001b[0m\u001b[1;33m\u001b[0m\u001b[1;33m\u001b[0m\u001b[0m\n\u001b[0m",
      "\u001b[1;31mTypeError\u001b[0m: unhashable type: 'Date'"
     ]
    }
   ],
   "source": [
    "hash(Date(19, 4, 2018))"
   ]
  },
  {
   "cell_type": "markdown",
   "metadata": {},
   "source": [
    "Damit unsere Klasse Hashing unterstützt, und damit als Schlüssel für eine Hashtabelle benutzt werden kann, müssen wir die Methode ```___hash___``` implementieren:"
   ]
  },
  {
   "cell_type": "code",
   "execution_count": 62,
   "metadata": {},
   "outputs": [],
   "source": [
    "class Date:\n",
    "    def __init__(self, day, month, year):\n",
    "        self.day = day\n",
    "        self.month = month\n",
    "        self.year = year\n",
    "    \n",
    "    def __eq__(self, that):\n",
    "        return self.year == that.year \\\n",
    "                and self.month == that.month \\\n",
    "                and self.day == that.day\n",
    "            \n",
    "    def __hash__(self):\n",
    "        return hash((self.day, self.month, self.year))\n",
    "    \n",
    "    def __str__(self):\n",
    "        return str((self.day, self.month, self.year))"
   ]
  },
  {
   "cell_type": "markdown",
   "metadata": {},
   "source": [
    "Nun gibt uns die Funktion ```hash``` den von der ```__hash___``` Methode berechnete Wert zurück: "
   ]
  },
  {
   "cell_type": "code",
   "execution_count": 63,
   "metadata": {},
   "outputs": [
    {
     "data": {
      "text/plain": [
       "3318443661633308972"
      ]
     },
     "execution_count": 63,
     "metadata": {},
     "output_type": "execute_result"
    }
   ],
   "source": [
    "hash(Date(19, 4, 2018))"
   ]
  },
  {
   "cell_type": "markdown",
   "metadata": {},
   "source": [
    "Die Strategie, die wir bei der Implementation der ```___hash__``` Methode verfolgt haben ist ganz einfach. Wir haben aus den Feldern ein Tupel erstellt, und dann ausgenutzt, dass ein Tupel von Standardtypen in Python bereits die hash Funktion unterstützt. Dies ist nicht einfach ein billiger Trick, sondern die von Python empfohlene Strategie. "
   ]
  },
  {
   "cell_type": "markdown",
   "metadata": {},
   "source": [
    ">Called by built-in function hash() and for operations on members\n",
    "of hashed collections including set, frozenset, and dict. ```__hash__()```\n",
    "should return an integer. The only required property is that objects\n",
    "which compare equal have the same hash value; it is advised to\n",
    "mix together the hash values of the components of the object that\n",
    "also play a part in comparison of objects by packing them into a\n",
    "tuple and hashing the tuple.\n",
    "\n",
    "> Python Language Reference - Section 3: Data Model"
   ]
  },
  {
   "cell_type": "markdown",
   "metadata": {},
   "source": [
    "### Modulares Hashing"
   ]
  },
  {
   "cell_type": "markdown",
   "metadata": {},
   "source": [
    "Für die Implementation von Hashtabellen interessiert uns nicht der wirkliche Hashwert, sondern wir wollen eine Zahl zwischen $0$ und $M$ (wobei $M$ die Tabellengrösse ist), die wir als Arrayindex verwenden können. Wir definieren uns die Funktion ```modHash```."
   ]
  },
  {
   "cell_type": "code",
   "execution_count": 64,
   "metadata": {},
   "outputs": [],
   "source": [
    "import sys\n",
    "def modHash(key, M):\n",
    "        positiveHash = hash(key) % ((sys.maxsize + 1) * 2) \n",
    "        return positiveHash % M\n",
    "\n"
   ]
  },
  {
   "cell_type": "markdown",
   "metadata": {},
   "source": [
    "Der Hashwert, der ja auch negativ sein kann, wird hier zuerst auf eine positiven Wert abgebildet und dann modulo $M$ gerechnet."
   ]
  },
  {
   "cell_type": "markdown",
   "metadata": {},
   "source": [
    "### Gleichverteilung von Hashwerten"
   ]
  },
  {
   "cell_type": "markdown",
   "metadata": {},
   "source": [
    "Eine gute Hashfunktion sollte die Werte etwa gleichverteilen. Wir können dies überpüfen, indem wir zufällige Objekte eines Typs generieren, und den modularen Hashwert plotten."
   ]
  },
  {
   "cell_type": "code",
   "execution_count": 65,
   "metadata": {},
   "outputs": [],
   "source": [
    "import random\n",
    "def randomDate():\n",
    "    return Date(random.randint(1, 31), random.randint(1, 12), random.randint(1900, 2018))"
   ]
  },
  {
   "cell_type": "code",
   "execution_count": 66,
   "metadata": {},
   "outputs": [
    {
     "data": {
      "image/png": "[encoded data removed]",
      "text/plain": [
       "<Figure size 432x288 with 1 Axes>"
      ]
     },
     "metadata": {
      "needs_background": "light"
     },
     "output_type": "display_data"
    }
   ],
   "source": [
    "import matplotlib.pyplot as plt\n",
    "\n",
    "M = 10\n",
    "hashes = [modHash(randomDate(), M) for _ in range(0, 10000)]\n",
    "n, bins, patches = plt.hist(hashes, M, facecolor='green', alpha=0.75)\n",
    "plt.show()\n",
    "\n"
   ]
  },
  {
   "cell_type": "markdown",
   "metadata": {},
   "source": [
    "Wir sehen, dass die Schlüssel in diesem Fall gleichverteilt sind.\n",
    "\n",
    "### Übung:\n",
    "\n",
    "* Was passiert wenn sie zur Hashberechnung die Tage auslassen?\n"
   ]
  },
  {
   "cell_type": "markdown",
   "metadata": {},
   "source": [
    "### Kollisionen"
   ]
  },
  {
   "cell_type": "markdown",
   "metadata": {},
   "source": [
    "Wie besprochen, kommt es beim Hashing mit grosser Wahrscheinlichkeit zu Kollisionen. Die Kollisionswahrscheinlichkeit kann mit der Formel für das Geburtstagsparadox abgeschätzt werden. Wir simulieren dies hier, indem wir Hashwerte für zufälligen Datumsobjekte generieren, bis wir eine erste Kollision haben."
   ]
  },
  {
   "cell_type": "code",
   "execution_count": 60,
   "metadata": {},
   "outputs": [
    {
     "data": {
      "image/png": "[encoded data removed]",
      "text/plain": [
       "<Figure size 432x288 with 1 Axes>"
      ]
     },
     "metadata": {
      "needs_background": "light"
     },
     "output_type": "display_data"
    }
   ],
   "source": [
    "M=365 # Grösse der Tabelle\n",
    "\n",
    "numExperiments = 1000\n",
    "earliestCollisionList = []\n",
    "for i in range(0, numExperiments):\n",
    "    hashesSeen = set()\n",
    "    for numElements in range(0, M):\n",
    "        newHash = modHash(randomDate(), M)\n",
    "        if newHash in hashesSeen:\n",
    "            earliestCollisionList.append(numElements)\n",
    "            break\n",
    "        else:\n",
    "            hashesSeen.add(newHash)\n",
    "            \n",
    "n, bins, patches = plt.hist(earliestCollisionList, 10, facecolor='green', alpha=0.75)\n",
    "plt.show()"
   ]
  },
  {
   "cell_type": "markdown",
   "metadata": {},
   "source": [
    "Der Plot Zeigt die Verteilung der ersten Kollision. Wir sehen, dass wir auch bei 1000 Experimenten, nie mehr als 68 Hashwerte generieren können, ohne dass es zu einer Kollision kommt. In den meisten Fällen entsteht die erste Kollistion bereits nach etwa 20 Werten. "
   ]
  },
  {
   "cell_type": "markdown",
   "metadata": {},
   "source": [
    "### Übung\n",
    "\n",
    "* Wie verändert sich der Wert, wenn der Hashwert nicht mehr von allen Feldern abhängt?\n",
    "* Was passiert wenn die Tabelle sehr gross wird?"
   ]
  },
  {
   "cell_type": "code",
   "execution_count": null,
   "metadata": {},
   "outputs": [],
   "source": []
  }
 ],
 "metadata": {
  "anaconda-cloud": {},
  "kernelspec": {
   "display_name": "Python 3",
   "language": "python",
   "name": "python3"
  },
  "language_info": {
   "codemirror_mode": {
    "name": "ipython",
    "version": 3
   },
   "file_extension": ".py",
   "mimetype": "text/x-python",
   "name": "python",
   "nbconvert_exporter": "python",
   "pygments_lexer": "ipython3",
   "version": "3.7.4"
  },
  "nbpresent": {
   "slides": {},
   "themes": {}
  }
 },
 "nbformat": 4,
 "nbformat_minor": 1
}
